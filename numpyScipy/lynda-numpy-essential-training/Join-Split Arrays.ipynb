{
 "cells": [
  {
   "cell_type": "markdown",
   "metadata": {},
   "source": [
    "### Joining arrays"
   ]
  },
  {
   "cell_type": "code",
   "execution_count": 1,
   "metadata": {},
   "outputs": [],
   "source": [
    "import numpy as np"
   ]
  },
  {
   "cell_type": "code",
   "execution_count": 2,
   "metadata": {},
   "outputs": [],
   "source": [
    "a = np.array([[1,2],[3,4]])"
   ]
  },
  {
   "cell_type": "code",
   "execution_count": 16,
   "metadata": {},
   "outputs": [],
   "source": [
    "b = np.array([[5,6]])"
   ]
  },
  {
   "cell_type": "code",
   "execution_count": 17,
   "metadata": {},
   "outputs": [
    {
     "name": "stdout",
     "output_type": "stream",
     "text": [
      "[[1 2]\n",
      " [3 4]] [[5 6]]\n"
     ]
    }
   ],
   "source": [
    "print (a,b)"
   ]
  },
  {
   "cell_type": "code",
   "execution_count": 18,
   "metadata": {},
   "outputs": [
    {
     "name": "stdout",
     "output_type": "stream",
     "text": [
      "[[1 2]\n",
      " [3 4]\n",
      " [5 6]]\n"
     ]
    }
   ],
   "source": [
    "# a and b must have same number of dimensions\n",
    "print (np.concatenate((a,b),axis=0))"
   ]
  },
  {
   "cell_type": "code",
   "execution_count": 20,
   "metadata": {},
   "outputs": [
    {
     "name": "stdout",
     "output_type": "stream",
     "text": [
      "[[1 2 5]\n",
      " [3 4 6]]\n"
     ]
    }
   ],
   "source": [
    "# a and b must have same number of dimensions\n",
    "print (np.concatenate((a,np.transpose(b)),axis=1))"
   ]
  },
  {
   "cell_type": "markdown",
   "metadata": {},
   "source": [
    "### Split arrays"
   ]
  },
  {
   "cell_type": "code",
   "execution_count": 23,
   "metadata": {},
   "outputs": [],
   "source": [
    "asd = np.random.rand(5,3,4)"
   ]
  },
  {
   "cell_type": "code",
   "execution_count": 24,
   "metadata": {},
   "outputs": [
    {
     "name": "stdout",
     "output_type": "stream",
     "text": [
      "[[[0.61075269 0.80042889 0.2767181  0.16687219]\n",
      "  [0.97486178 0.37867358 0.22769131 0.63876584]\n",
      "  [0.55096412 0.21752153 0.65496944 0.61841462]]\n",
      "\n",
      " [[0.64232649 0.60514485 0.36476673 0.92897845]\n",
      "  [0.22613093 0.07259844 0.78406556 0.30495108]\n",
      "  [0.88770519 0.21585426 0.72284245 0.41081143]]\n",
      "\n",
      " [[0.21882728 0.80702457 0.14366117 0.69747161]\n",
      "  [0.05043215 0.43875884 0.47904258 0.71692004]\n",
      "  [0.94505698 0.40632352 0.60304002 0.61858829]]\n",
      "\n",
      " [[0.25585692 0.80261645 0.42973455 0.99359422]\n",
      "  [0.4113702  0.28629624 0.85361556 0.63564603]\n",
      "  [0.13299261 0.43568376 0.45448585 0.49269536]]\n",
      "\n",
      " [[0.01155461 0.94826245 0.80541192 0.77861574]\n",
      "  [0.80324033 0.2120087  0.32551079 0.46635679]\n",
      "  [0.8061555  0.27284158 0.07398847 0.67617713]]]\n"
     ]
    }
   ],
   "source": [
    "print (asd)"
   ]
  },
  {
   "cell_type": "code",
   "execution_count": 33,
   "metadata": {},
   "outputs": [
    {
     "name": "stdout",
     "output_type": "stream",
     "text": [
      "[array([[[0.61075269, 0.80042889, 0.2767181 , 0.16687219],\n",
      "        [0.97486178, 0.37867358, 0.22769131, 0.63876584],\n",
      "        [0.55096412, 0.21752153, 0.65496944, 0.61841462]]]), array([[[0.64232649, 0.60514485, 0.36476673, 0.92897845],\n",
      "        [0.22613093, 0.07259844, 0.78406556, 0.30495108],\n",
      "        [0.88770519, 0.21585426, 0.72284245, 0.41081143]]]), array([[[0.21882728, 0.80702457, 0.14366117, 0.69747161],\n",
      "        [0.05043215, 0.43875884, 0.47904258, 0.71692004],\n",
      "        [0.94505698, 0.40632352, 0.60304002, 0.61858829]]]), array([[[0.25585692, 0.80261645, 0.42973455, 0.99359422],\n",
      "        [0.4113702 , 0.28629624, 0.85361556, 0.63564603],\n",
      "        [0.13299261, 0.43568376, 0.45448585, 0.49269536]]]), array([[[0.01155461, 0.94826245, 0.80541192, 0.77861574],\n",
      "        [0.80324033, 0.2120087 , 0.32551079, 0.46635679],\n",
      "        [0.8061555 , 0.27284158, 0.07398847, 0.67617713]]])]\n",
      "5 (1, 3, 4)\n"
     ]
    }
   ],
   "source": [
    "bsd = np.split(asd,5,axis=0)\n",
    "\n",
    "print (bsd)\n",
    "\n",
    "print (len(bsd), bsd[0].shape)"
   ]
  },
  {
   "cell_type": "code",
   "execution_count": 34,
   "metadata": {},
   "outputs": [],
   "source": [
    "csd = np.split(asd,2,axis=2)"
   ]
  },
  {
   "cell_type": "code",
   "execution_count": 35,
   "metadata": {},
   "outputs": [
    {
     "name": "stdout",
     "output_type": "stream",
     "text": [
      "2 (5, 3, 2)\n"
     ]
    }
   ],
   "source": [
    "print (len(csd), csd[0].shape)"
   ]
  },
  {
   "cell_type": "code",
   "execution_count": null,
   "metadata": {},
   "outputs": [],
   "source": []
  }
 ],
 "metadata": {
  "kernelspec": {
   "display_name": "Python 3",
   "language": "python",
   "name": "python3"
  },
  "language_info": {
   "codemirror_mode": {
    "name": "ipython",
    "version": 3
   },
   "file_extension": ".py",
   "mimetype": "text/x-python",
   "name": "python",
   "nbconvert_exporter": "python",
   "pygments_lexer": "ipython3",
   "version": "3.5.2"
  }
 },
 "nbformat": 4,
 "nbformat_minor": 2
}
