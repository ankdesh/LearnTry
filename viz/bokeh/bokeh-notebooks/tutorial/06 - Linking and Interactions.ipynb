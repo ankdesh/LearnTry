{
 "cells": [
  {
   "cell_type": "markdown",
   "metadata": {},
   "source": [
    "<table style=\"float:left; border:none\">\n",
    "   <tr style=\"border:none; background-color: #ffffff\">\n",
    "       <td style=\"border:none\">\n",
    "           <a href=\"http://bokeh.pydata.org/\">     \n",
    "           <img \n",
    "               src=\"assets/bokeh-transparent.png\" \n",
    "               style=\"width:50px\"\n",
    "           >\n",
    "           </a>    \n",
    "       </td>\n",
    "       <td style=\"border:none\">\n",
    "           <h1>Bokeh Tutorial</h1>\n",
    "       </td>\n",
    "   </tr>\n",
    "</table>\n",
    "\n",
    "<div style=\"float:right;\"><h2>06. Linking and Interactions</h2></div>"
   ]
  },
  {
   "cell_type": "code",
   "execution_count": 1,
   "metadata": {},
   "outputs": [
    {
     "data": {
      "text/html": [
       "\n",
       "    <div class=\"bk-root\">\n",
       "        <a href=\"https://bokeh.pydata.org\" target=\"_blank\" class=\"bk-logo bk-logo-small bk-logo-notebook\"></a>\n",
       "        <span id=\"8423b6b4-82d4-4c55-91a4-d7a54b9ad551\">Loading BokehJS ...</span>\n",
       "    </div>"
      ]
     },
     "metadata": {},
     "output_type": "display_data"
    },
    {
     "data": {
      "application/javascript": [
       "\n",
       "(function(root) {\n",
       "  function now() {\n",
       "    return new Date();\n",
       "  }\n",
       "\n",
       "  var force = true;\n",
       "\n",
       "  if (typeof (root._bokeh_onload_callbacks) === \"undefined\" || force === true) {\n",
       "    root._bokeh_onload_callbacks = [];\n",
       "    root._bokeh_is_loading = undefined;\n",
       "  }\n",
       "\n",
       "  var JS_MIME_TYPE = 'application/javascript';\n",
       "  var HTML_MIME_TYPE = 'text/html';\n",
       "  var EXEC_MIME_TYPE = 'application/vnd.bokehjs_exec.v0+json';\n",
       "  var CLASS_NAME = 'output_bokeh rendered_html';\n",
       "\n",
       "  /**\n",
       "   * Render data to the DOM node\n",
       "   */\n",
       "  function render(props, node) {\n",
       "    var script = document.createElement(\"script\");\n",
       "    node.appendChild(script);\n",
       "  }\n",
       "\n",
       "  /**\n",
       "   * Handle when an output is cleared or removed\n",
       "   */\n",
       "  function handleClearOutput(event, handle) {\n",
       "    var cell = handle.cell;\n",
       "\n",
       "    var id = cell.output_area._bokeh_element_id;\n",
       "    var server_id = cell.output_area._bokeh_server_id;\n",
       "    // Clean up Bokeh references\n",
       "    if (id !== undefined) {\n",
       "      Bokeh.index[id].model.document.clear();\n",
       "      delete Bokeh.index[id];\n",
       "    }\n",
       "\n",
       "    if (server_id !== undefined) {\n",
       "      // Clean up Bokeh references\n",
       "      var cmd = \"from bokeh.io.state import curstate; print(curstate().uuid_to_server['\" + server_id + \"'].get_sessions()[0].document.roots[0]._id)\";\n",
       "      cell.notebook.kernel.execute(cmd, {\n",
       "        iopub: {\n",
       "          output: function(msg) {\n",
       "            var element_id = msg.content.text.trim();\n",
       "            Bokeh.index[element_id].model.document.clear();\n",
       "            delete Bokeh.index[element_id];\n",
       "          }\n",
       "        }\n",
       "      });\n",
       "      // Destroy server and session\n",
       "      var cmd = \"import bokeh.io.notebook as ion; ion.destroy_server('\" + server_id + \"')\";\n",
       "      cell.notebook.kernel.execute(cmd);\n",
       "    }\n",
       "  }\n",
       "\n",
       "  /**\n",
       "   * Handle when a new output is added\n",
       "   */\n",
       "  function handleAddOutput(event, handle) {\n",
       "    var output_area = handle.output_area;\n",
       "    var output = handle.output;\n",
       "\n",
       "    // limit handleAddOutput to display_data with EXEC_MIME_TYPE content only\n",
       "    if ((output.output_type != \"display_data\") || (!output.data.hasOwnProperty(EXEC_MIME_TYPE))) {\n",
       "      return\n",
       "    }\n",
       "\n",
       "    var toinsert = output_area.element.find(`.${CLASS_NAME.split(' ')[0]}`);\n",
       "\n",
       "    if (output.metadata[EXEC_MIME_TYPE][\"id\"] !== undefined) {\n",
       "      toinsert[0].firstChild.textContent = output.data[JS_MIME_TYPE];\n",
       "      // store reference to embed id on output_area\n",
       "      output_area._bokeh_element_id = output.metadata[EXEC_MIME_TYPE][\"id\"];\n",
       "    }\n",
       "    if (output.metadata[EXEC_MIME_TYPE][\"server_id\"] !== undefined) {\n",
       "      var bk_div = document.createElement(\"div\");\n",
       "      bk_div.innerHTML = output.data[HTML_MIME_TYPE];\n",
       "      var script_attrs = bk_div.children[0].attributes;\n",
       "      for (var i = 0; i < script_attrs.length; i++) {\n",
       "        toinsert[0].firstChild.setAttribute(script_attrs[i].name, script_attrs[i].value);\n",
       "      }\n",
       "      // store reference to server id on output_area\n",
       "      output_area._bokeh_server_id = output.metadata[EXEC_MIME_TYPE][\"server_id\"];\n",
       "    }\n",
       "  }\n",
       "\n",
       "  function register_renderer(events, OutputArea) {\n",
       "\n",
       "    function append_mime(data, metadata, element) {\n",
       "      // create a DOM node to render to\n",
       "      var toinsert = this.create_output_subarea(\n",
       "        metadata,\n",
       "        CLASS_NAME,\n",
       "        EXEC_MIME_TYPE\n",
       "      );\n",
       "      this.keyboard_manager.register_events(toinsert);\n",
       "      // Render to node\n",
       "      var props = {data: data, metadata: metadata[EXEC_MIME_TYPE]};\n",
       "      render(props, toinsert[0]);\n",
       "      element.append(toinsert);\n",
       "      return toinsert\n",
       "    }\n",
       "\n",
       "    /* Handle when an output is cleared or removed */\n",
       "    events.on('clear_output.CodeCell', handleClearOutput);\n",
       "    events.on('delete.Cell', handleClearOutput);\n",
       "\n",
       "    /* Handle when a new output is added */\n",
       "    events.on('output_added.OutputArea', handleAddOutput);\n",
       "\n",
       "    /**\n",
       "     * Register the mime type and append_mime function with output_area\n",
       "     */\n",
       "    OutputArea.prototype.register_mime_type(EXEC_MIME_TYPE, append_mime, {\n",
       "      /* Is output safe? */\n",
       "      safe: true,\n",
       "      /* Index of renderer in `output_area.display_order` */\n",
       "      index: 0\n",
       "    });\n",
       "  }\n",
       "\n",
       "  // register the mime type if in Jupyter Notebook environment and previously unregistered\n",
       "  if (root.Jupyter !== undefined) {\n",
       "    var events = require('base/js/events');\n",
       "    var OutputArea = require('notebook/js/outputarea').OutputArea;\n",
       "\n",
       "    if (OutputArea.prototype.mime_types().indexOf(EXEC_MIME_TYPE) == -1) {\n",
       "      register_renderer(events, OutputArea);\n",
       "    }\n",
       "  }\n",
       "\n",
       "  \n",
       "  if (typeof (root._bokeh_timeout) === \"undefined\" || force === true) {\n",
       "    root._bokeh_timeout = Date.now() + 5000;\n",
       "    root._bokeh_failed_load = false;\n",
       "  }\n",
       "\n",
       "  var NB_LOAD_WARNING = {'data': {'text/html':\n",
       "     \"<div style='background-color: #fdd'>\\n\"+\n",
       "     \"<p>\\n\"+\n",
       "     \"BokehJS does not appear to have successfully loaded. If loading BokehJS from CDN, this \\n\"+\n",
       "     \"may be due to a slow or bad network connection. Possible fixes:\\n\"+\n",
       "     \"</p>\\n\"+\n",
       "     \"<ul>\\n\"+\n",
       "     \"<li>re-rerun `output_notebook()` to attempt to load from CDN again, or</li>\\n\"+\n",
       "     \"<li>use INLINE resources instead, as so:</li>\\n\"+\n",
       "     \"</ul>\\n\"+\n",
       "     \"<code>\\n\"+\n",
       "     \"from bokeh.resources import INLINE\\n\"+\n",
       "     \"output_notebook(resources=INLINE)\\n\"+\n",
       "     \"</code>\\n\"+\n",
       "     \"</div>\"}};\n",
       "\n",
       "  function display_loaded() {\n",
       "    var el = document.getElementById(\"8423b6b4-82d4-4c55-91a4-d7a54b9ad551\");\n",
       "    if (el != null) {\n",
       "      el.textContent = \"BokehJS is loading...\";\n",
       "    }\n",
       "    if (root.Bokeh !== undefined) {\n",
       "      if (el != null) {\n",
       "        el.textContent = \"BokehJS \" + root.Bokeh.version + \" successfully loaded.\";\n",
       "      }\n",
       "    } else if (Date.now() < root._bokeh_timeout) {\n",
       "      setTimeout(display_loaded, 100)\n",
       "    }\n",
       "  }\n",
       "\n",
       "\n",
       "  function run_callbacks() {\n",
       "    try {\n",
       "      root._bokeh_onload_callbacks.forEach(function(callback) { callback() });\n",
       "    }\n",
       "    finally {\n",
       "      delete root._bokeh_onload_callbacks\n",
       "    }\n",
       "    console.info(\"Bokeh: all callbacks have finished\");\n",
       "  }\n",
       "\n",
       "  function load_libs(js_urls, callback) {\n",
       "    root._bokeh_onload_callbacks.push(callback);\n",
       "    if (root._bokeh_is_loading > 0) {\n",
       "      console.log(\"Bokeh: BokehJS is being loaded, scheduling callback at\", now());\n",
       "      return null;\n",
       "    }\n",
       "    if (js_urls == null || js_urls.length === 0) {\n",
       "      run_callbacks();\n",
       "      return null;\n",
       "    }\n",
       "    console.log(\"Bokeh: BokehJS not loaded, scheduling load and callback at\", now());\n",
       "    root._bokeh_is_loading = js_urls.length;\n",
       "    for (var i = 0; i < js_urls.length; i++) {\n",
       "      var url = js_urls[i];\n",
       "      var s = document.createElement('script');\n",
       "      s.src = url;\n",
       "      s.async = false;\n",
       "      s.onreadystatechange = s.onload = function() {\n",
       "        root._bokeh_is_loading--;\n",
       "        if (root._bokeh_is_loading === 0) {\n",
       "          console.log(\"Bokeh: all BokehJS libraries loaded\");\n",
       "          run_callbacks()\n",
       "        }\n",
       "      };\n",
       "      s.onerror = function() {\n",
       "        console.warn(\"failed to load library \" + url);\n",
       "      };\n",
       "      console.log(\"Bokeh: injecting script tag for BokehJS library: \", url);\n",
       "      document.getElementsByTagName(\"head\")[0].appendChild(s);\n",
       "    }\n",
       "  };var element = document.getElementById(\"8423b6b4-82d4-4c55-91a4-d7a54b9ad551\");\n",
       "  if (element == null) {\n",
       "    console.log(\"Bokeh: ERROR: autoload.js configured with elementid '8423b6b4-82d4-4c55-91a4-d7a54b9ad551' but no matching script tag was found. \")\n",
       "    return false;\n",
       "  }\n",
       "\n",
       "  var js_urls = [\"https://cdn.pydata.org/bokeh/release/bokeh-0.12.10.min.js\", \"https://cdn.pydata.org/bokeh/release/bokeh-widgets-0.12.10.min.js\", \"https://cdn.pydata.org/bokeh/release/bokeh-tables-0.12.10.min.js\", \"https://cdn.pydata.org/bokeh/release/bokeh-gl-0.12.10.min.js\"];\n",
       "\n",
       "  var inline_js = [\n",
       "    function(Bokeh) {\n",
       "      Bokeh.set_log_level(\"info\");\n",
       "    },\n",
       "    \n",
       "    function(Bokeh) {\n",
       "      \n",
       "    },\n",
       "    function(Bokeh) {\n",
       "      console.log(\"Bokeh: injecting CSS: https://cdn.pydata.org/bokeh/release/bokeh-0.12.10.min.css\");\n",
       "      Bokeh.embed.inject_css(\"https://cdn.pydata.org/bokeh/release/bokeh-0.12.10.min.css\");\n",
       "      console.log(\"Bokeh: injecting CSS: https://cdn.pydata.org/bokeh/release/bokeh-widgets-0.12.10.min.css\");\n",
       "      Bokeh.embed.inject_css(\"https://cdn.pydata.org/bokeh/release/bokeh-widgets-0.12.10.min.css\");\n",
       "      console.log(\"Bokeh: injecting CSS: https://cdn.pydata.org/bokeh/release/bokeh-tables-0.12.10.min.css\");\n",
       "      Bokeh.embed.inject_css(\"https://cdn.pydata.org/bokeh/release/bokeh-tables-0.12.10.min.css\");\n",
       "    }\n",
       "  ];\n",
       "\n",
       "  function run_inline_js() {\n",
       "    \n",
       "    if ((root.Bokeh !== undefined) || (force === true)) {\n",
       "      for (var i = 0; i < inline_js.length; i++) {\n",
       "        inline_js[i].call(root, root.Bokeh);\n",
       "      }if (force === true) {\n",
       "        display_loaded();\n",
       "      }} else if (Date.now() < root._bokeh_timeout) {\n",
       "      setTimeout(run_inline_js, 100);\n",
       "    } else if (!root._bokeh_failed_load) {\n",
       "      console.log(\"Bokeh: BokehJS failed to load within specified timeout.\");\n",
       "      root._bokeh_failed_load = true;\n",
       "    } else if (force !== true) {\n",
       "      var cell = $(document.getElementById(\"8423b6b4-82d4-4c55-91a4-d7a54b9ad551\")).parents('.cell').data().cell;\n",
       "      cell.output_area.append_execute_result(NB_LOAD_WARNING)\n",
       "    }\n",
       "\n",
       "  }\n",
       "\n",
       "  if (root._bokeh_is_loading === 0) {\n",
       "    console.log(\"Bokeh: BokehJS loaded, going straight to plotting\");\n",
       "    run_inline_js();\n",
       "  } else {\n",
       "    load_libs(js_urls, function() {\n",
       "      console.log(\"Bokeh: BokehJS plotting callback run at\", now());\n",
       "      run_inline_js();\n",
       "    });\n",
       "  }\n",
       "}(window));"
      ],
      "application/vnd.bokehjs_load.v0+json": "\n(function(root) {\n  function now() {\n    return new Date();\n  }\n\n  var force = true;\n\n  if (typeof (root._bokeh_onload_callbacks) === \"undefined\" || force === true) {\n    root._bokeh_onload_callbacks = [];\n    root._bokeh_is_loading = undefined;\n  }\n\n  \n\n  \n  if (typeof (root._bokeh_timeout) === \"undefined\" || force === true) {\n    root._bokeh_timeout = Date.now() + 5000;\n    root._bokeh_failed_load = false;\n  }\n\n  var NB_LOAD_WARNING = {'data': {'text/html':\n     \"<div style='background-color: #fdd'>\\n\"+\n     \"<p>\\n\"+\n     \"BokehJS does not appear to have successfully loaded. If loading BokehJS from CDN, this \\n\"+\n     \"may be due to a slow or bad network connection. Possible fixes:\\n\"+\n     \"</p>\\n\"+\n     \"<ul>\\n\"+\n     \"<li>re-rerun `output_notebook()` to attempt to load from CDN again, or</li>\\n\"+\n     \"<li>use INLINE resources instead, as so:</li>\\n\"+\n     \"</ul>\\n\"+\n     \"<code>\\n\"+\n     \"from bokeh.resources import INLINE\\n\"+\n     \"output_notebook(resources=INLINE)\\n\"+\n     \"</code>\\n\"+\n     \"</div>\"}};\n\n  function display_loaded() {\n    var el = document.getElementById(\"8423b6b4-82d4-4c55-91a4-d7a54b9ad551\");\n    if (el != null) {\n      el.textContent = \"BokehJS is loading...\";\n    }\n    if (root.Bokeh !== undefined) {\n      if (el != null) {\n        el.textContent = \"BokehJS \" + root.Bokeh.version + \" successfully loaded.\";\n      }\n    } else if (Date.now() < root._bokeh_timeout) {\n      setTimeout(display_loaded, 100)\n    }\n  }\n\n\n  function run_callbacks() {\n    try {\n      root._bokeh_onload_callbacks.forEach(function(callback) { callback() });\n    }\n    finally {\n      delete root._bokeh_onload_callbacks\n    }\n    console.info(\"Bokeh: all callbacks have finished\");\n  }\n\n  function load_libs(js_urls, callback) {\n    root._bokeh_onload_callbacks.push(callback);\n    if (root._bokeh_is_loading > 0) {\n      console.log(\"Bokeh: BokehJS is being loaded, scheduling callback at\", now());\n      return null;\n    }\n    if (js_urls == null || js_urls.length === 0) {\n      run_callbacks();\n      return null;\n    }\n    console.log(\"Bokeh: BokehJS not loaded, scheduling load and callback at\", now());\n    root._bokeh_is_loading = js_urls.length;\n    for (var i = 0; i < js_urls.length; i++) {\n      var url = js_urls[i];\n      var s = document.createElement('script');\n      s.src = url;\n      s.async = false;\n      s.onreadystatechange = s.onload = function() {\n        root._bokeh_is_loading--;\n        if (root._bokeh_is_loading === 0) {\n          console.log(\"Bokeh: all BokehJS libraries loaded\");\n          run_callbacks()\n        }\n      };\n      s.onerror = function() {\n        console.warn(\"failed to load library \" + url);\n      };\n      console.log(\"Bokeh: injecting script tag for BokehJS library: \", url);\n      document.getElementsByTagName(\"head\")[0].appendChild(s);\n    }\n  };var element = document.getElementById(\"8423b6b4-82d4-4c55-91a4-d7a54b9ad551\");\n  if (element == null) {\n    console.log(\"Bokeh: ERROR: autoload.js configured with elementid '8423b6b4-82d4-4c55-91a4-d7a54b9ad551' but no matching script tag was found. \")\n    return false;\n  }\n\n  var js_urls = [\"https://cdn.pydata.org/bokeh/release/bokeh-0.12.10.min.js\", \"https://cdn.pydata.org/bokeh/release/bokeh-widgets-0.12.10.min.js\", \"https://cdn.pydata.org/bokeh/release/bokeh-tables-0.12.10.min.js\", \"https://cdn.pydata.org/bokeh/release/bokeh-gl-0.12.10.min.js\"];\n\n  var inline_js = [\n    function(Bokeh) {\n      Bokeh.set_log_level(\"info\");\n    },\n    \n    function(Bokeh) {\n      \n    },\n    function(Bokeh) {\n      console.log(\"Bokeh: injecting CSS: https://cdn.pydata.org/bokeh/release/bokeh-0.12.10.min.css\");\n      Bokeh.embed.inject_css(\"https://cdn.pydata.org/bokeh/release/bokeh-0.12.10.min.css\");\n      console.log(\"Bokeh: injecting CSS: https://cdn.pydata.org/bokeh/release/bokeh-widgets-0.12.10.min.css\");\n      Bokeh.embed.inject_css(\"https://cdn.pydata.org/bokeh/release/bokeh-widgets-0.12.10.min.css\");\n      console.log(\"Bokeh: injecting CSS: https://cdn.pydata.org/bokeh/release/bokeh-tables-0.12.10.min.css\");\n      Bokeh.embed.inject_css(\"https://cdn.pydata.org/bokeh/release/bokeh-tables-0.12.10.min.css\");\n    }\n  ];\n\n  function run_inline_js() {\n    \n    if ((root.Bokeh !== undefined) || (force === true)) {\n      for (var i = 0; i < inline_js.length; i++) {\n        inline_js[i].call(root, root.Bokeh);\n      }if (force === true) {\n        display_loaded();\n      }} else if (Date.now() < root._bokeh_timeout) {\n      setTimeout(run_inline_js, 100);\n    } else if (!root._bokeh_failed_load) {\n      console.log(\"Bokeh: BokehJS failed to load within specified timeout.\");\n      root._bokeh_failed_load = true;\n    } else if (force !== true) {\n      var cell = $(document.getElementById(\"8423b6b4-82d4-4c55-91a4-d7a54b9ad551\")).parents('.cell').data().cell;\n      cell.output_area.append_execute_result(NB_LOAD_WARNING)\n    }\n\n  }\n\n  if (root._bokeh_is_loading === 0) {\n    console.log(\"Bokeh: BokehJS loaded, going straight to plotting\");\n    run_inline_js();\n  } else {\n    load_libs(js_urls, function() {\n      console.log(\"Bokeh: BokehJS plotting callback run at\", now());\n      run_inline_js();\n    });\n  }\n}(window));"
     },
     "metadata": {},
     "output_type": "display_data"
    }
   ],
   "source": [
    "from bokeh.io import output_notebook, show\n",
    "from bokeh.plotting import figure\n",
    "output_notebook()"
   ]
  },
  {
   "cell_type": "markdown",
   "metadata": {},
   "source": [
    "Now that we know from the previous chapter how multiple plots can be placed together in a layout, we can start to look at how different plots can be linked togeher, or how plots can be linked to widgets. "
   ]
  },
  {
   "cell_type": "markdown",
   "metadata": {
    "collapsed": true
   },
   "source": [
    "# Linked Interactions\n",
    "\n",
    "It is possible to link various interactions between different Bokeh plots. For instance, the ranges of two (or more) plots can be linked, so that when one of the plots is panned (or zoomed, or otherwise has its range changed) the other plots will update in unison. It is also possible to link selections between two plots, so that when items are selected on one plot, the corresponding items on the second plot also become selected. "
   ]
  },
  {
   "cell_type": "markdown",
   "metadata": {},
   "source": [
    "## Linked panning\n",
    "\n",
    "Linked panning (when multiple plots have ranges that stay in sync) is simple to spell with Bokeh. You simply share the appropriate range objects between two (or more) plots. The example below shows how to accomplish this by linking the ranges of three plots in various ways:"
   ]
  },
  {
   "cell_type": "code",
   "execution_count": 3,
   "metadata": {},
   "outputs": [
    {
     "data": {
      "text/html": [
       "\n",
       "<div class=\"bk-root\">\n",
       "    <div class=\"bk-plotdiv\" id=\"a0b8a3c4-be4b-41d3-baf9-34446b33bedb\"></div>\n",
       "</div>"
      ]
     },
     "metadata": {},
     "output_type": "display_data"
    },
    {
     "data": {
      "application/javascript": [
       "(function(root) {\n",
       "  function embed_document(root) {\n",
       "    var docs_json = {\"8f0b3301-0ce3-467b-b202-c8cdf72c2da9\":{\"roots\":{\"references\":[{\"attributes\":{\"plot\":{\"id\":\"9c4b5c27-c9a1-4aa8-9de4-34e65960668c\",\"subtype\":\"Figure\",\"type\":\"Plot\"},\"ticker\":{\"id\":\"7c81fae6-e6d4-46d5-b3f2-5e6c87834eca\",\"type\":\"BasicTicker\"}},\"id\":\"d027a41f-38f0-4aca-9b89-34d998360338\",\"type\":\"Grid\"},{\"attributes\":{},\"id\":\"9ccd0a31-250f-44c7-a121-06e9286456fa\",\"type\":\"BasicTicker\"},{\"attributes\":{},\"id\":\"5f98151a-e479-4541-ba18-b3e2f6fe7009\",\"type\":\"LinearScale\"},{\"attributes\":{\"active_drag\":\"auto\",\"active_inspect\":\"auto\",\"active_scroll\":\"auto\",\"active_tap\":\"auto\",\"tools\":[{\"id\":\"e53a57b4-ed69-4495-83c4-88c7c318daa6\",\"type\":\"PanTool\"},{\"id\":\"1ad063d7-0c8c-44c5-9752-c35ae1182fc9\",\"type\":\"WheelZoomTool\"}]},\"id\":\"6e0244c2-537f-4abb-b16b-98ffe04ea043\",\"type\":\"Toolbar\"},{\"attributes\":{},\"id\":\"1690fd0f-7f08-4335-a47e-4ba28a948d9a\",\"type\":\"BasicTicker\"},{\"attributes\":{\"active_drag\":\"auto\",\"active_inspect\":\"auto\",\"active_scroll\":\"auto\",\"active_tap\":\"auto\",\"tools\":[{\"id\":\"c7583f52-2426-4f8a-9710-513e3b5d9c84\",\"type\":\"PanTool\"},{\"id\":\"0c7edb17-174f-4798-94b1-019aae420fd3\",\"type\":\"WheelZoomTool\"}]},\"id\":\"bc5eaca3-ecba-44a0-abb2-70258c8a0409\",\"type\":\"Toolbar\"},{\"attributes\":{},\"id\":\"1e5462d4-33b0-40de-890c-ac0daf3916be\",\"type\":\"LinearScale\"},{\"attributes\":{},\"id\":\"7904e875-3994-47cd-b8d5-cf19190a73f2\",\"type\":\"LinearScale\"},{\"attributes\":{},\"id\":\"c7583f52-2426-4f8a-9710-513e3b5d9c84\",\"type\":\"PanTool\"},{\"attributes\":{},\"id\":\"5c2272f9-b491-4203-9e7b-7995f9f5c56b\",\"type\":\"BasicTicker\"},{\"attributes\":{},\"id\":\"26b4698e-00dd-4121-9ffb-5419df9834ec\",\"type\":\"BasicTickFormatter\"},{\"attributes\":{\"plot\":{\"id\":\"52bc0052-c316-44d0-af42-55e6bb995eda\",\"subtype\":\"Figure\",\"type\":\"Plot\"},\"ticker\":{\"id\":\"9ccd0a31-250f-44c7-a121-06e9286456fa\",\"type\":\"BasicTicker\"}},\"id\":\"7228bf1c-3ae3-416c-acde-6a700b44d568\",\"type\":\"Grid\"},{\"attributes\":{\"fill_alpha\":{\"value\":0.1},\"fill_color\":{\"value\":\"#1f77b4\"},\"line_alpha\":{\"value\":0.1},\"line_color\":{\"value\":\"#1f77b4\"},\"size\":{\"units\":\"screen\",\"value\":10},\"x\":{\"field\":\"x\"},\"y\":{\"field\":\"y\"}},\"id\":\"373ba119-4091-40c0-ae17-41a3588e7e46\",\"type\":\"Circle\"},{\"attributes\":{\"callback\":null,\"column_names\":[\"x\",\"y\"],\"data\":{\"x\":[0,1,2,3,4,5,6,7,8,9,10],\"y\":[10,9,8,7,6,5,4,3,2,1,0]}},\"id\":\"cbfddc4e-ac1f-4de1-a1aa-de239a728efb\",\"type\":\"ColumnDataSource\"},{\"attributes\":{\"formatter\":{\"id\":\"6405f1e3-2888-4e8d-a451-3a59e240d768\",\"type\":\"BasicTickFormatter\"},\"plot\":{\"id\":\"14fd3cd8-e5fd-4866-9e9e-a5460c613bbd\",\"subtype\":\"Figure\",\"type\":\"Plot\"},\"ticker\":{\"id\":\"1690fd0f-7f08-4335-a47e-4ba28a948d9a\",\"type\":\"BasicTicker\"}},\"id\":\"e5c03694-da22-4f0f-ba6b-c6e4f3e6685f\",\"type\":\"LinearAxis\"},{\"attributes\":{\"formatter\":{\"id\":\"74f7784a-d876-446e-bd0b-09a3d106fc3a\",\"type\":\"BasicTickFormatter\"},\"plot\":{\"id\":\"52bc0052-c316-44d0-af42-55e6bb995eda\",\"subtype\":\"Figure\",\"type\":\"Plot\"},\"ticker\":{\"id\":\"4bd62d64-6523-4d68-a870-66c1b59af09a\",\"type\":\"BasicTicker\"}},\"id\":\"ffa17bfc-8eee-405b-b105-e6b9834bf268\",\"type\":\"LinearAxis\"},{\"attributes\":{\"formatter\":{\"id\":\"939f34f3-a533-4584-aa97-d26f1e6ac90d\",\"type\":\"BasicTickFormatter\"},\"plot\":{\"id\":\"52bc0052-c316-44d0-af42-55e6bb995eda\",\"subtype\":\"Figure\",\"type\":\"Plot\"},\"ticker\":{\"id\":\"9ccd0a31-250f-44c7-a121-06e9286456fa\",\"type\":\"BasicTicker\"}},\"id\":\"dbd54741-66b8-4487-8150-69f8c1943e6f\",\"type\":\"LinearAxis\"},{\"attributes\":{\"plot\":null,\"text\":\"\"},\"id\":\"34eaf65a-bb1a-47bf-b013-34d421a24040\",\"type\":\"Title\"},{\"attributes\":{\"plot\":null,\"text\":\"\"},\"id\":\"36cc0199-75c7-4d0c-a10f-46c747bb1c3c\",\"type\":\"Title\"},{\"attributes\":{\"data_source\":{\"id\":\"cbfddc4e-ac1f-4de1-a1aa-de239a728efb\",\"type\":\"ColumnDataSource\"},\"glyph\":{\"id\":\"8a9e4013-c457-4dce-9db0-16b86ced4089\",\"type\":\"Triangle\"},\"hover_glyph\":null,\"muted_glyph\":null,\"nonselection_glyph\":{\"id\":\"996c6a59-dc72-4d47-bd46-e184609e2d0b\",\"type\":\"Triangle\"},\"selection_glyph\":null,\"view\":{\"id\":\"263261a0-8dfd-4732-abbf-3cf568a6c352\",\"type\":\"CDSView\"}},\"id\":\"15f8224c-3d5c-4bb5-a5ca-ec1f290558b2\",\"type\":\"GlyphRenderer\"},{\"attributes\":{},\"id\":\"9fb8a995-9227-47ee-91a2-cf499a5df160\",\"type\":\"LinearScale\"},{\"attributes\":{},\"id\":\"6405f1e3-2888-4e8d-a451-3a59e240d768\",\"type\":\"BasicTickFormatter\"},{\"attributes\":{\"source\":{\"id\":\"cbfddc4e-ac1f-4de1-a1aa-de239a728efb\",\"type\":\"ColumnDataSource\"}},\"id\":\"263261a0-8dfd-4732-abbf-3cf568a6c352\",\"type\":\"CDSView\"},{\"attributes\":{},\"id\":\"7c81fae6-e6d4-46d5-b3f2-5e6c87834eca\",\"type\":\"BasicTicker\"},{\"attributes\":{\"children\":[{\"id\":\"20a4c4eb-3b45-492e-91cb-ef3813d04d7c\",\"type\":\"Row\"}]},\"id\":\"ca619d38-8937-47a4-b46c-87fa73088c6d\",\"type\":\"Column\"},{\"attributes\":{\"callback\":null,\"column_names\":[\"x\",\"y\"],\"data\":{\"x\":[0,1,2,3,4,5,6,7,8,9,10],\"y\":[0,1,2,3,4,5,6,7,8,9,10]}},\"id\":\"a936983a-dd8e-499e-86e1-bacb94861a52\",\"type\":\"ColumnDataSource\"},{\"attributes\":{\"fill_color\":{\"value\":\"firebrick\"},\"line_color\":{\"value\":\"firebrick\"},\"size\":{\"units\":\"screen\",\"value\":10},\"x\":{\"field\":\"x\"},\"y\":{\"field\":\"y\"}},\"id\":\"8a9e4013-c457-4dce-9db0-16b86ced4089\",\"type\":\"Triangle\"},{\"attributes\":{\"fill_alpha\":{\"value\":0.1},\"fill_color\":{\"value\":\"#1f77b4\"},\"line_alpha\":{\"value\":0.1},\"line_color\":{\"value\":\"#1f77b4\"},\"size\":{\"units\":\"screen\",\"value\":10},\"x\":{\"field\":\"x\"},\"y\":{\"field\":\"y\"}},\"id\":\"2336d539-e386-4e16-b3e7-4c4c493159eb\",\"type\":\"Square\"},{\"attributes\":{\"callback\":null},\"id\":\"50dc9772-4f87-4dd9-b05e-3349d70eedcb\",\"type\":\"DataRange1d\"},{\"attributes\":{\"formatter\":{\"id\":\"a2292527-d89d-4eb0-a544-9b0fb9d1d65f\",\"type\":\"BasicTickFormatter\"},\"plot\":{\"id\":\"14fd3cd8-e5fd-4866-9e9e-a5460c613bbd\",\"subtype\":\"Figure\",\"type\":\"Plot\"},\"ticker\":{\"id\":\"3d67b441-377d-494c-a982-9bfb5b7c5a3c\",\"type\":\"BasicTicker\"}},\"id\":\"08f74985-7bed-441f-90f9-1e84f9f0f83c\",\"type\":\"LinearAxis\"},{\"attributes\":{},\"id\":\"f9b24875-8c31-41f2-aa85-ece5df687dd2\",\"type\":\"LinearScale\"},{\"attributes\":{\"below\":[{\"id\":\"e5c03694-da22-4f0f-ba6b-c6e4f3e6685f\",\"type\":\"LinearAxis\"}],\"left\":[{\"id\":\"08f74985-7bed-441f-90f9-1e84f9f0f83c\",\"type\":\"LinearAxis\"}],\"plot_height\":250,\"plot_width\":250,\"renderers\":[{\"id\":\"e5c03694-da22-4f0f-ba6b-c6e4f3e6685f\",\"type\":\"LinearAxis\"},{\"id\":\"cdc9052e-e74f-4eca-968c-5545388018f8\",\"type\":\"Grid\"},{\"id\":\"08f74985-7bed-441f-90f9-1e84f9f0f83c\",\"type\":\"LinearAxis\"},{\"id\":\"72f5e3dd-6c75-486b-a89c-caa7bacb1c7b\",\"type\":\"Grid\"},{\"id\":\"80bd2360-c5e8-4691-8731-3cbf32333c0e\",\"type\":\"GlyphRenderer\"}],\"title\":{\"id\":\"34eaf65a-bb1a-47bf-b013-34d421a24040\",\"type\":\"Title\"},\"toolbar\":{\"id\":\"6e0244c2-537f-4abb-b16b-98ffe04ea043\",\"type\":\"Toolbar\"},\"toolbar_location\":null,\"x_range\":{\"id\":\"50dc9772-4f87-4dd9-b05e-3349d70eedcb\",\"type\":\"DataRange1d\"},\"x_scale\":{\"id\":\"f9b24875-8c31-41f2-aa85-ece5df687dd2\",\"type\":\"LinearScale\"},\"y_range\":{\"id\":\"168489b7-7a0d-472f-bbc3-a5263f1f0632\",\"type\":\"DataRange1d\"},\"y_scale\":{\"id\":\"07b8a16f-2ee1-4326-830e-233563128303\",\"type\":\"LinearScale\"}},\"id\":\"14fd3cd8-e5fd-4866-9e9e-a5460c613bbd\",\"subtype\":\"Figure\",\"type\":\"Plot\"},{\"attributes\":{\"fill_alpha\":{\"value\":0.1},\"fill_color\":{\"value\":\"#1f77b4\"},\"line_alpha\":{\"value\":0.1},\"line_color\":{\"value\":\"#1f77b4\"},\"size\":{\"units\":\"screen\",\"value\":10},\"x\":{\"field\":\"x\"},\"y\":{\"field\":\"y\"}},\"id\":\"996c6a59-dc72-4d47-bd46-e184609e2d0b\",\"type\":\"Triangle\"},{\"attributes\":{},\"id\":\"07b8a16f-2ee1-4326-830e-233563128303\",\"type\":\"LinearScale\"},{\"attributes\":{\"plot\":null,\"text\":\"\"},\"id\":\"d7f74f86-b7c8-4637-a91f-9a48afa363ea\",\"type\":\"Title\"},{\"attributes\":{\"dimension\":1,\"plot\":{\"id\":\"9c4b5c27-c9a1-4aa8-9de4-34e65960668c\",\"subtype\":\"Figure\",\"type\":\"Plot\"},\"ticker\":{\"id\":\"5c2272f9-b491-4203-9e7b-7995f9f5c56b\",\"type\":\"BasicTicker\"}},\"id\":\"2150cada-d9d0-4630-962a-c3adf319e7ae\",\"type\":\"Grid\"},{\"attributes\":{\"plot\":{\"id\":\"14fd3cd8-e5fd-4866-9e9e-a5460c613bbd\",\"subtype\":\"Figure\",\"type\":\"Plot\"},\"ticker\":{\"id\":\"1690fd0f-7f08-4335-a47e-4ba28a948d9a\",\"type\":\"BasicTicker\"}},\"id\":\"cdc9052e-e74f-4eca-968c-5545388018f8\",\"type\":\"Grid\"},{\"attributes\":{\"dimension\":1,\"plot\":{\"id\":\"52bc0052-c316-44d0-af42-55e6bb995eda\",\"subtype\":\"Figure\",\"type\":\"Plot\"},\"ticker\":{\"id\":\"4bd62d64-6523-4d68-a870-66c1b59af09a\",\"type\":\"BasicTicker\"}},\"id\":\"4684cc65-b69f-4adb-bff7-7743e50582ea\",\"type\":\"Grid\"},{\"attributes\":{\"children\":[{\"id\":\"3fa0fee6-4d03-4dd0-87ef-c43804bf827f\",\"type\":\"ToolbarBox\"},{\"id\":\"ca619d38-8937-47a4-b46c-87fa73088c6d\",\"type\":\"Column\"}]},\"id\":\"d95ce227-05e1-4a72-bb14-2c59bf020e17\",\"type\":\"Column\"},{\"attributes\":{\"below\":[{\"id\":\"dbd54741-66b8-4487-8150-69f8c1943e6f\",\"type\":\"LinearAxis\"}],\"left\":[{\"id\":\"ffa17bfc-8eee-405b-b105-e6b9834bf268\",\"type\":\"LinearAxis\"}],\"plot_height\":250,\"plot_width\":250,\"renderers\":[{\"id\":\"dbd54741-66b8-4487-8150-69f8c1943e6f\",\"type\":\"LinearAxis\"},{\"id\":\"7228bf1c-3ae3-416c-acde-6a700b44d568\",\"type\":\"Grid\"},{\"id\":\"ffa17bfc-8eee-405b-b105-e6b9834bf268\",\"type\":\"LinearAxis\"},{\"id\":\"4684cc65-b69f-4adb-bff7-7743e50582ea\",\"type\":\"Grid\"},{\"id\":\"64a9db0a-dccb-49d7-aa27-4bbe7723016b\",\"type\":\"GlyphRenderer\"}],\"title\":{\"id\":\"36cc0199-75c7-4d0c-a10f-46c747bb1c3c\",\"type\":\"Title\"},\"toolbar\":{\"id\":\"bc5eaca3-ecba-44a0-abb2-70258c8a0409\",\"type\":\"Toolbar\"},\"toolbar_location\":null,\"x_range\":{\"id\":\"50dc9772-4f87-4dd9-b05e-3349d70eedcb\",\"type\":\"DataRange1d\"},\"x_scale\":{\"id\":\"7904e875-3994-47cd-b8d5-cf19190a73f2\",\"type\":\"LinearScale\"},\"y_range\":{\"id\":\"49598f3d-68c3-4b7e-93a7-ad0744829e99\",\"type\":\"DataRange1d\"},\"y_scale\":{\"id\":\"9fb8a995-9227-47ee-91a2-cf499a5df160\",\"type\":\"LinearScale\"}},\"id\":\"52bc0052-c316-44d0-af42-55e6bb995eda\",\"subtype\":\"Figure\",\"type\":\"Plot\"},{\"attributes\":{\"children\":[{\"id\":\"52bc0052-c316-44d0-af42-55e6bb995eda\",\"subtype\":\"Figure\",\"type\":\"Plot\"},{\"id\":\"9c4b5c27-c9a1-4aa8-9de4-34e65960668c\",\"subtype\":\"Figure\",\"type\":\"Plot\"},{\"id\":\"14fd3cd8-e5fd-4866-9e9e-a5460c613bbd\",\"subtype\":\"Figure\",\"type\":\"Plot\"}]},\"id\":\"20a4c4eb-3b45-492e-91cb-ef3813d04d7c\",\"type\":\"Row\"},{\"attributes\":{\"formatter\":{\"id\":\"26b4698e-00dd-4121-9ffb-5419df9834ec\",\"type\":\"BasicTickFormatter\"},\"plot\":{\"id\":\"9c4b5c27-c9a1-4aa8-9de4-34e65960668c\",\"subtype\":\"Figure\",\"type\":\"Plot\"},\"ticker\":{\"id\":\"7c81fae6-e6d4-46d5-b3f2-5e6c87834eca\",\"type\":\"BasicTicker\"}},\"id\":\"4f98c5ed-a972-4840-989e-a8b310049eb1\",\"type\":\"LinearAxis\"},{\"attributes\":{\"fill_color\":{\"value\":\"navy\"},\"line_color\":{\"value\":\"navy\"},\"size\":{\"units\":\"screen\",\"value\":10},\"x\":{\"field\":\"x\"},\"y\":{\"field\":\"y\"}},\"id\":\"ce24567e-2004-4ff3-a5b7-cf1f7e167b95\",\"type\":\"Circle\"},{\"attributes\":{\"data_source\":{\"id\":\"5dbf6f3c-c2aa-43b5-b544-669c086e7116\",\"type\":\"ColumnDataSource\"},\"glyph\":{\"id\":\"6c37de87-3c1f-46c5-8053-7b175d44ccf4\",\"type\":\"Square\"},\"hover_glyph\":null,\"muted_glyph\":null,\"nonselection_glyph\":{\"id\":\"2336d539-e386-4e16-b3e7-4c4c493159eb\",\"type\":\"Square\"},\"selection_glyph\":null,\"view\":{\"id\":\"d0b67085-503f-4250-812b-6a7533c8dad2\",\"type\":\"CDSView\"}},\"id\":\"80bd2360-c5e8-4691-8731-3cbf32333c0e\",\"type\":\"GlyphRenderer\"},{\"attributes\":{\"source\":{\"id\":\"5dbf6f3c-c2aa-43b5-b544-669c086e7116\",\"type\":\"ColumnDataSource\"}},\"id\":\"d0b67085-503f-4250-812b-6a7533c8dad2\",\"type\":\"CDSView\"},{\"attributes\":{\"active_drag\":\"auto\",\"active_inspect\":\"auto\",\"active_scroll\":\"auto\",\"active_tap\":\"auto\",\"tools\":[{\"id\":\"e54eb224-e09a-4bea-9145-25bbf07f1948\",\"type\":\"PanTool\"},{\"id\":\"2e6745a2-7565-4cfd-a3fd-bca038d466df\",\"type\":\"WheelZoomTool\"}]},\"id\":\"172236c4-bb42-46b7-b55b-5d6fef236fa4\",\"type\":\"Toolbar\"},{\"attributes\":{},\"id\":\"e54eb224-e09a-4bea-9145-25bbf07f1948\",\"type\":\"PanTool\"},{\"attributes\":{\"fill_color\":{\"value\":\"olive\"},\"line_color\":{\"value\":\"olive\"},\"size\":{\"units\":\"screen\",\"value\":10},\"x\":{\"field\":\"x\"},\"y\":{\"field\":\"y\"}},\"id\":\"6c37de87-3c1f-46c5-8053-7b175d44ccf4\",\"type\":\"Square\"},{\"attributes\":{},\"id\":\"0c7edb17-174f-4798-94b1-019aae420fd3\",\"type\":\"WheelZoomTool\"},{\"attributes\":{},\"id\":\"4bd62d64-6523-4d68-a870-66c1b59af09a\",\"type\":\"BasicTicker\"},{\"attributes\":{\"callback\":null},\"id\":\"168489b7-7a0d-472f-bbc3-a5263f1f0632\",\"type\":\"DataRange1d\"},{\"attributes\":{},\"id\":\"e53a57b4-ed69-4495-83c4-88c7c318daa6\",\"type\":\"PanTool\"},{\"attributes\":{\"data_source\":{\"id\":\"a936983a-dd8e-499e-86e1-bacb94861a52\",\"type\":\"ColumnDataSource\"},\"glyph\":{\"id\":\"ce24567e-2004-4ff3-a5b7-cf1f7e167b95\",\"type\":\"Circle\"},\"hover_glyph\":null,\"muted_glyph\":null,\"nonselection_glyph\":{\"id\":\"373ba119-4091-40c0-ae17-41a3588e7e46\",\"type\":\"Circle\"},\"selection_glyph\":null,\"view\":{\"id\":\"4c4a8582-3b21-435e-8040-d3ba2355da9f\",\"type\":\"CDSView\"}},\"id\":\"64a9db0a-dccb-49d7-aa27-4bbe7723016b\",\"type\":\"GlyphRenderer\"},{\"attributes\":{\"callback\":null},\"id\":\"49598f3d-68c3-4b7e-93a7-ad0744829e99\",\"type\":\"DataRange1d\"},{\"attributes\":{},\"id\":\"e014f34c-b9d4-4fd0-9602-ad03e4460084\",\"type\":\"BasicTickFormatter\"},{\"attributes\":{\"below\":[{\"id\":\"4f98c5ed-a972-4840-989e-a8b310049eb1\",\"type\":\"LinearAxis\"}],\"left\":[{\"id\":\"8a39ab9c-a443-48d4-9f77-4fdf21e482b3\",\"type\":\"LinearAxis\"}],\"plot_height\":250,\"plot_width\":250,\"renderers\":[{\"id\":\"4f98c5ed-a972-4840-989e-a8b310049eb1\",\"type\":\"LinearAxis\"},{\"id\":\"d027a41f-38f0-4aca-9b89-34d998360338\",\"type\":\"Grid\"},{\"id\":\"8a39ab9c-a443-48d4-9f77-4fdf21e482b3\",\"type\":\"LinearAxis\"},{\"id\":\"2150cada-d9d0-4630-962a-c3adf319e7ae\",\"type\":\"Grid\"},{\"id\":\"15f8224c-3d5c-4bb5-a5ca-ec1f290558b2\",\"type\":\"GlyphRenderer\"}],\"title\":{\"id\":\"d7f74f86-b7c8-4637-a91f-9a48afa363ea\",\"type\":\"Title\"},\"toolbar\":{\"id\":\"172236c4-bb42-46b7-b55b-5d6fef236fa4\",\"type\":\"Toolbar\"},\"toolbar_location\":null,\"x_range\":{\"id\":\"50dc9772-4f87-4dd9-b05e-3349d70eedcb\",\"type\":\"DataRange1d\"},\"x_scale\":{\"id\":\"5f98151a-e479-4541-ba18-b3e2f6fe7009\",\"type\":\"LinearScale\"},\"y_range\":{\"id\":\"49598f3d-68c3-4b7e-93a7-ad0744829e99\",\"type\":\"DataRange1d\"},\"y_scale\":{\"id\":\"1e5462d4-33b0-40de-890c-ac0daf3916be\",\"type\":\"LinearScale\"}},\"id\":\"9c4b5c27-c9a1-4aa8-9de4-34e65960668c\",\"subtype\":\"Figure\",\"type\":\"Plot\"},{\"attributes\":{},\"id\":\"1ad063d7-0c8c-44c5-9752-c35ae1182fc9\",\"type\":\"WheelZoomTool\"},{\"attributes\":{},\"id\":\"939f34f3-a533-4584-aa97-d26f1e6ac90d\",\"type\":\"BasicTickFormatter\"},{\"attributes\":{},\"id\":\"a2292527-d89d-4eb0-a544-9b0fb9d1d65f\",\"type\":\"BasicTickFormatter\"},{\"attributes\":{\"sizing_mode\":\"scale_width\",\"toolbar_location\":\"above\",\"tools\":[{\"id\":\"c7583f52-2426-4f8a-9710-513e3b5d9c84\",\"type\":\"PanTool\"},{\"id\":\"0c7edb17-174f-4798-94b1-019aae420fd3\",\"type\":\"WheelZoomTool\"},{\"id\":\"e54eb224-e09a-4bea-9145-25bbf07f1948\",\"type\":\"PanTool\"},{\"id\":\"2e6745a2-7565-4cfd-a3fd-bca038d466df\",\"type\":\"WheelZoomTool\"},{\"id\":\"e53a57b4-ed69-4495-83c4-88c7c318daa6\",\"type\":\"PanTool\"},{\"id\":\"1ad063d7-0c8c-44c5-9752-c35ae1182fc9\",\"type\":\"WheelZoomTool\"}]},\"id\":\"3fa0fee6-4d03-4dd0-87ef-c43804bf827f\",\"type\":\"ToolbarBox\"},{\"attributes\":{\"source\":{\"id\":\"a936983a-dd8e-499e-86e1-bacb94861a52\",\"type\":\"ColumnDataSource\"}},\"id\":\"4c4a8582-3b21-435e-8040-d3ba2355da9f\",\"type\":\"CDSView\"},{\"attributes\":{},\"id\":\"2e6745a2-7565-4cfd-a3fd-bca038d466df\",\"type\":\"WheelZoomTool\"},{\"attributes\":{\"callback\":null,\"column_names\":[\"x\",\"y\"],\"data\":{\"x\":[0,1,2,3,4,5,6,7,8,9,10],\"y\":[5,4,3,2,1,0,1,2,3,4,5]}},\"id\":\"5dbf6f3c-c2aa-43b5-b544-669c086e7116\",\"type\":\"ColumnDataSource\"},{\"attributes\":{\"formatter\":{\"id\":\"e014f34c-b9d4-4fd0-9602-ad03e4460084\",\"type\":\"BasicTickFormatter\"},\"plot\":{\"id\":\"9c4b5c27-c9a1-4aa8-9de4-34e65960668c\",\"subtype\":\"Figure\",\"type\":\"Plot\"},\"ticker\":{\"id\":\"5c2272f9-b491-4203-9e7b-7995f9f5c56b\",\"type\":\"BasicTicker\"}},\"id\":\"8a39ab9c-a443-48d4-9f77-4fdf21e482b3\",\"type\":\"LinearAxis\"},{\"attributes\":{},\"id\":\"3d67b441-377d-494c-a982-9bfb5b7c5a3c\",\"type\":\"BasicTicker\"},{\"attributes\":{\"dimension\":1,\"plot\":{\"id\":\"14fd3cd8-e5fd-4866-9e9e-a5460c613bbd\",\"subtype\":\"Figure\",\"type\":\"Plot\"},\"ticker\":{\"id\":\"3d67b441-377d-494c-a982-9bfb5b7c5a3c\",\"type\":\"BasicTicker\"}},\"id\":\"72f5e3dd-6c75-486b-a89c-caa7bacb1c7b\",\"type\":\"Grid\"},{\"attributes\":{},\"id\":\"74f7784a-d876-446e-bd0b-09a3d106fc3a\",\"type\":\"BasicTickFormatter\"}],\"root_ids\":[\"d95ce227-05e1-4a72-bb14-2c59bf020e17\"]},\"title\":\"Bokeh Application\",\"version\":\"0.12.10\"}};\n",
       "    var render_items = [{\"docid\":\"8f0b3301-0ce3-467b-b202-c8cdf72c2da9\",\"elementid\":\"a0b8a3c4-be4b-41d3-baf9-34446b33bedb\",\"modelid\":\"d95ce227-05e1-4a72-bb14-2c59bf020e17\"}];\n",
       "\n",
       "    root.Bokeh.embed.embed_items(docs_json, render_items);\n",
       "  }\n",
       "\n",
       "  if (root.Bokeh !== undefined) {\n",
       "    embed_document(root);\n",
       "  } else {\n",
       "    var attempts = 0;\n",
       "    var timer = setInterval(function(root) {\n",
       "      if (root.Bokeh !== undefined) {\n",
       "        embed_document(root);\n",
       "        clearInterval(timer);\n",
       "      }\n",
       "      attempts++;\n",
       "      if (attempts > 100) {\n",
       "        console.log(\"Bokeh: ERROR: Unable to embed document because BokehJS library is missing\")\n",
       "        clearInterval(timer);\n",
       "      }\n",
       "    }, 10, root)\n",
       "  }\n",
       "})(window);"
      ],
      "application/vnd.bokehjs_exec.v0+json": ""
     },
     "metadata": {
      "application/vnd.bokehjs_exec.v0+json": {
       "id": "d95ce227-05e1-4a72-bb14-2c59bf020e17"
      }
     },
     "output_type": "display_data"
    }
   ],
   "source": [
    "from bokeh.layouts import gridplot\n",
    "\n",
    "x = list(range(11))\n",
    "y0, y1, y2 = x, [10-i for i in x], [abs(i-5) for i in x]\n",
    "\n",
    "plot_options = dict(width=250, plot_height=250, tools='pan,wheel_zoom')\n",
    "\n",
    "# create a new plot\n",
    "s1 = figure(**plot_options)\n",
    "s1.circle(x, y0, size=10, color=\"navy\")\n",
    "\n",
    "# create a new plot and share both ranges\n",
    "s2 = figure(x_range=s1.x_range, y_range=s1.y_range, **plot_options)\n",
    "s2.triangle(x, y1, size=10, color=\"firebrick\")\n",
    "\n",
    "# create a new plot and share only one range\n",
    "s3 = figure(x_range=s1.x_range, **plot_options)\n",
    "s3.square(x, y2, size=10, color=\"olive\")\n",
    "\n",
    "p = gridplot([[s1, s2, s3]])\n",
    "\n",
    "# show the results\n",
    "show(p)"
   ]
  },
  {
   "cell_type": "code",
   "execution_count": 4,
   "metadata": {},
   "outputs": [],
   "source": [
    "# EXERCISE: create two plots in a gridplot, and link their ranges\n"
   ]
  },
  {
   "cell_type": "markdown",
   "metadata": {},
   "source": [
    "## Linked brushing\n",
    "\n",
    "Linking selections is accomplished in a similar way, by sharing data sources between plots. Note that normally with ``bokeh.plotting`` and ``bokeh.charts`` creating a default data source for simple plots is handled automatically. However to share a data source, we must create them by hand and pass them explicitly. This is illustrated in the example below:"
   ]
  },
  {
   "cell_type": "code",
   "execution_count": 6,
   "metadata": {},
   "outputs": [
    {
     "data": {
      "text/html": [
       "\n",
       "<div class=\"bk-root\">\n",
       "    <div class=\"bk-plotdiv\" id=\"10c7e2b2-ff43-4e8b-90f9-b95bf765d37d\"></div>\n",
       "</div>"
      ]
     },
     "metadata": {},
     "output_type": "display_data"
    },
    {
     "data": {
      "application/javascript": [
       "(function(root) {\n",
       "  function embed_document(root) {\n",
       "    var docs_json = {\"1c37d15a-c1ab-489f-850e-8005619d9b93\":{\"roots\":{\"references\":[{\"attributes\":{\"active_drag\":\"auto\",\"active_inspect\":\"auto\",\"active_scroll\":\"auto\",\"active_tap\":\"auto\",\"tools\":[{\"id\":\"79b6033f-58f0-4a21-9c26-0b4aa6abdb05\",\"type\":\"BoxSelectTool\"},{\"id\":\"70e0b10e-e60f-4d33-8735-b72d5864e55c\",\"type\":\"LassoSelectTool\"},{\"id\":\"07b570d4-2fd1-4894-996e-5788dcc56ea6\",\"type\":\"HelpTool\"}]},\"id\":\"8e547f3e-929d-4efe-8fdc-1f9e036e112b\",\"type\":\"Toolbar\"},{\"attributes\":{\"data_source\":{\"id\":\"b41ef31c-306b-4b5e-94f3-fc0df2caaebc\",\"type\":\"ColumnDataSource\"},\"glyph\":{\"id\":\"8cd17fc7-fcd7-43a5-8278-fcfd982a301f\",\"type\":\"Circle\"},\"hover_glyph\":null,\"muted_glyph\":null,\"nonselection_glyph\":{\"id\":\"6d9426bd-2c66-4b0b-b589-dd83a8865c56\",\"type\":\"Circle\"},\"selection_glyph\":null,\"view\":{\"id\":\"87bf8b08-d4d6-4904-adbc-997b42023b85\",\"type\":\"CDSView\"}},\"id\":\"e4d71785-17d1-4e4a-846b-6b2907a0eb4a\",\"type\":\"GlyphRenderer\"},{\"attributes\":{\"children\":[{\"id\":\"0b4b4835-d02e-462a-927e-bb8d54b3c52c\",\"type\":\"ToolbarBox\"},{\"id\":\"68a20002-3661-4c9e-a0d1-75616a828484\",\"type\":\"Column\"}]},\"id\":\"6c7feb1e-57c0-4a3c-a058-43ead6b96b40\",\"type\":\"Column\"},{\"attributes\":{\"fill_alpha\":{\"value\":0.5},\"fill_color\":{\"value\":\"lightgrey\"},\"level\":\"overlay\",\"line_alpha\":{\"value\":1.0},\"line_color\":{\"value\":\"black\"},\"line_dash\":[4,4],\"line_width\":{\"value\":2},\"plot\":null,\"xs_units\":\"screen\",\"ys_units\":\"screen\"},\"id\":\"c4cca610-3d68-4bd0-85a7-d8dc0a1e8364\",\"type\":\"PolyAnnotation\"},{\"attributes\":{\"fill_color\":{\"value\":\"#1f77b4\"},\"line_color\":{\"value\":\"#1f77b4\"},\"x\":{\"field\":\"x\"},\"y\":{\"field\":\"y0\"}},\"id\":\"8cd17fc7-fcd7-43a5-8278-fcfd982a301f\",\"type\":\"Circle\"},{\"attributes\":{\"callback\":null,\"overlay\":{\"id\":\"ec8115df-791f-4b9a-9541-0d10d59f45c4\",\"type\":\"PolyAnnotation\"}},\"id\":\"d1073e0e-9f77-4721-92b1-49c5e21f5588\",\"type\":\"LassoSelectTool\"},{\"attributes\":{\"plot\":{\"id\":\"49ed9f4a-c28a-4733-aa3e-63d0ea09d259\",\"subtype\":\"Figure\",\"type\":\"Plot\"},\"ticker\":{\"id\":\"02a807bd-6e76-410c-b7d3-2dcc9e3fc4ee\",\"type\":\"BasicTicker\"}},\"id\":\"12de4144-2cef-46d8-a2c5-6eda7330ae1a\",\"type\":\"Grid\"},{\"attributes\":{\"callback\":null,\"overlay\":{\"id\":\"c4cca610-3d68-4bd0-85a7-d8dc0a1e8364\",\"type\":\"PolyAnnotation\"}},\"id\":\"70e0b10e-e60f-4d33-8735-b72d5864e55c\",\"type\":\"LassoSelectTool\"},{\"attributes\":{\"formatter\":{\"id\":\"1c2cd79b-1654-4d08-8dd6-559ae2fd2b1c\",\"type\":\"BasicTickFormatter\"},\"plot\":{\"id\":\"fd81f0fc-6b1f-4e1c-94b9-d35a7c4ce504\",\"subtype\":\"Figure\",\"type\":\"Plot\"},\"ticker\":{\"id\":\"a2ab1af6-ef29-4d3c-8537-975b40741cae\",\"type\":\"BasicTicker\"}},\"id\":\"54256644-01dd-45dd-81c5-b5435110b3fe\",\"type\":\"LinearAxis\"},{\"attributes\":{\"formatter\":{\"id\":\"205b2aa8-416e-4117-948c-ccfe0e3a87e6\",\"type\":\"BasicTickFormatter\"},\"plot\":{\"id\":\"fd81f0fc-6b1f-4e1c-94b9-d35a7c4ce504\",\"subtype\":\"Figure\",\"type\":\"Plot\"},\"ticker\":{\"id\":\"25fbeaed-7d7d-4a15-8cae-813bb1264f2e\",\"type\":\"BasicTicker\"}},\"id\":\"273be99b-46f8-464d-9f54-6daa1362580d\",\"type\":\"LinearAxis\"},{\"attributes\":{\"callback\":null},\"id\":\"ce5a1bb1-7928-4bc1-9db7-2793c0874abf\",\"type\":\"DataRange1d\"},{\"attributes\":{\"sizing_mode\":\"scale_width\",\"toolbar_location\":\"above\",\"tools\":[{\"id\":\"79b6033f-58f0-4a21-9c26-0b4aa6abdb05\",\"type\":\"BoxSelectTool\"},{\"id\":\"70e0b10e-e60f-4d33-8735-b72d5864e55c\",\"type\":\"LassoSelectTool\"},{\"id\":\"07b570d4-2fd1-4894-996e-5788dcc56ea6\",\"type\":\"HelpTool\"},{\"id\":\"5e88f6df-2091-4b8c-be74-1d3bfb468a21\",\"type\":\"BoxSelectTool\"},{\"id\":\"d1073e0e-9f77-4721-92b1-49c5e21f5588\",\"type\":\"LassoSelectTool\"},{\"id\":\"bc0ed723-77d6-464f-a7b6-34d8f0ad8d3b\",\"type\":\"HelpTool\"}]},\"id\":\"0b4b4835-d02e-462a-927e-bb8d54b3c52c\",\"type\":\"ToolbarBox\"},{\"attributes\":{\"dimension\":1,\"plot\":{\"id\":\"fd81f0fc-6b1f-4e1c-94b9-d35a7c4ce504\",\"subtype\":\"Figure\",\"type\":\"Plot\"},\"ticker\":{\"id\":\"a2ab1af6-ef29-4d3c-8537-975b40741cae\",\"type\":\"BasicTicker\"}},\"id\":\"18f02c86-7f36-4036-b18e-0aee1227daa2\",\"type\":\"Grid\"},{\"attributes\":{\"bottom_units\":\"screen\",\"fill_alpha\":{\"value\":0.5},\"fill_color\":{\"value\":\"lightgrey\"},\"left_units\":\"screen\",\"level\":\"overlay\",\"line_alpha\":{\"value\":1.0},\"line_color\":{\"value\":\"black\"},\"line_dash\":[4,4],\"line_width\":{\"value\":2},\"plot\":null,\"render_mode\":\"css\",\"right_units\":\"screen\",\"top_units\":\"screen\"},\"id\":\"c0251957-2dd5-4e44-9668-bf0c16cce071\",\"type\":\"BoxAnnotation\"},{\"attributes\":{\"callback\":null,\"column_names\":[\"x\",\"y0\",\"y1\"],\"data\":{\"x\":[-20,-19,-18,-17,-16,-15,-14,-13,-12,-11,-10,-9,-8,-7,-6,-5,-4,-3,-2,-1,0,1,2,3,4,5,6,7,8,9,10,11,12,13,14,15,16,17,18,19,20],\"y0\":[20,19,18,17,16,15,14,13,12,11,10,9,8,7,6,5,4,3,2,1,0,1,2,3,4,5,6,7,8,9,10,11,12,13,14,15,16,17,18,19,20],\"y1\":[400,361,324,289,256,225,196,169,144,121,100,81,64,49,36,25,16,9,4,1,0,1,4,9,16,25,36,49,64,81,100,121,144,169,196,225,256,289,324,361,400]}},\"id\":\"b41ef31c-306b-4b5e-94f3-fc0df2caaebc\",\"type\":\"ColumnDataSource\"},{\"attributes\":{\"callback\":null},\"id\":\"c1a2fe01-c3a2-486e-b93b-4601da0847f8\",\"type\":\"DataRange1d\"},{\"attributes\":{\"plot\":null,\"text\":\"\"},\"id\":\"048cc1f1-0149-4909-b85a-4da2c1e529d2\",\"type\":\"Title\"},{\"attributes\":{\"formatter\":{\"id\":\"8f7183ee-30ae-417d-9138-39296f549037\",\"type\":\"BasicTickFormatter\"},\"plot\":{\"id\":\"49ed9f4a-c28a-4733-aa3e-63d0ea09d259\",\"subtype\":\"Figure\",\"type\":\"Plot\"},\"ticker\":{\"id\":\"d15a2575-1bb8-450f-9c9e-51a180cff59a\",\"type\":\"BasicTicker\"}},\"id\":\"6729d83a-7175-4945-9636-39ffdc67c978\",\"type\":\"LinearAxis\"},{\"attributes\":{},\"id\":\"bc0ed723-77d6-464f-a7b6-34d8f0ad8d3b\",\"type\":\"HelpTool\"},{\"attributes\":{\"fill_alpha\":{\"value\":0.1},\"fill_color\":{\"value\":\"#1f77b4\"},\"line_alpha\":{\"value\":0.1},\"line_color\":{\"value\":\"#1f77b4\"},\"x\":{\"field\":\"x\"},\"y\":{\"field\":\"y1\"}},\"id\":\"c9737a17-b073-472a-b00a-1a5f4e927f25\",\"type\":\"Circle\"},{\"attributes\":{},\"id\":\"205b2aa8-416e-4117-948c-ccfe0e3a87e6\",\"type\":\"BasicTickFormatter\"},{\"attributes\":{\"children\":[{\"id\":\"fd81f0fc-6b1f-4e1c-94b9-d35a7c4ce504\",\"subtype\":\"Figure\",\"type\":\"Plot\"},{\"id\":\"49ed9f4a-c28a-4733-aa3e-63d0ea09d259\",\"subtype\":\"Figure\",\"type\":\"Plot\"}]},\"id\":\"e0443acf-9625-4298-a0f3-01345e00aad1\",\"type\":\"Row\"},{\"attributes\":{\"bottom_units\":\"screen\",\"fill_alpha\":{\"value\":0.5},\"fill_color\":{\"value\":\"lightgrey\"},\"left_units\":\"screen\",\"level\":\"overlay\",\"line_alpha\":{\"value\":1.0},\"line_color\":{\"value\":\"black\"},\"line_dash\":[4,4],\"line_width\":{\"value\":2},\"plot\":null,\"render_mode\":\"css\",\"right_units\":\"screen\",\"top_units\":\"screen\"},\"id\":\"08dbf115-4509-4a48-b8dd-f89c6eabbd31\",\"type\":\"BoxAnnotation\"},{\"attributes\":{\"dimension\":1,\"plot\":{\"id\":\"49ed9f4a-c28a-4733-aa3e-63d0ea09d259\",\"subtype\":\"Figure\",\"type\":\"Plot\"},\"ticker\":{\"id\":\"d15a2575-1bb8-450f-9c9e-51a180cff59a\",\"type\":\"BasicTicker\"}},\"id\":\"8e03264e-346f-452f-a4ec-39e1b33462e0\",\"type\":\"Grid\"},{\"attributes\":{\"callback\":null,\"overlay\":{\"id\":\"08dbf115-4509-4a48-b8dd-f89c6eabbd31\",\"type\":\"BoxAnnotation\"},\"renderers\":[{\"id\":\"8e3419bd-123f-4f8a-b93a-fb318600f6b1\",\"type\":\"GlyphRenderer\"}]},\"id\":\"5e88f6df-2091-4b8c-be74-1d3bfb468a21\",\"type\":\"BoxSelectTool\"},{\"attributes\":{\"plot\":{\"id\":\"fd81f0fc-6b1f-4e1c-94b9-d35a7c4ce504\",\"subtype\":\"Figure\",\"type\":\"Plot\"},\"ticker\":{\"id\":\"25fbeaed-7d7d-4a15-8cae-813bb1264f2e\",\"type\":\"BasicTicker\"}},\"id\":\"07d89251-0f69-4cbf-8964-4f9516b9c1f8\",\"type\":\"Grid\"},{\"attributes\":{\"plot\":null,\"text\":\"\"},\"id\":\"b62ff257-c15b-4265-8b2b-978505117056\",\"type\":\"Title\"},{\"attributes\":{},\"id\":\"86010ba4-3671-476d-8b1d-9c3a3818bb18\",\"type\":\"BasicTickFormatter\"},{\"attributes\":{\"callback\":null},\"id\":\"619d369c-3cd4-444d-a6e0-4f8d9b5ac410\",\"type\":\"DataRange1d\"},{\"attributes\":{\"below\":[{\"id\":\"273be99b-46f8-464d-9f54-6daa1362580d\",\"type\":\"LinearAxis\"}],\"left\":[{\"id\":\"54256644-01dd-45dd-81c5-b5435110b3fe\",\"type\":\"LinearAxis\"}],\"plot_height\":300,\"plot_width\":300,\"renderers\":[{\"id\":\"273be99b-46f8-464d-9f54-6daa1362580d\",\"type\":\"LinearAxis\"},{\"id\":\"07d89251-0f69-4cbf-8964-4f9516b9c1f8\",\"type\":\"Grid\"},{\"id\":\"54256644-01dd-45dd-81c5-b5435110b3fe\",\"type\":\"LinearAxis\"},{\"id\":\"18f02c86-7f36-4036-b18e-0aee1227daa2\",\"type\":\"Grid\"},{\"id\":\"c0251957-2dd5-4e44-9668-bf0c16cce071\",\"type\":\"BoxAnnotation\"},{\"id\":\"c4cca610-3d68-4bd0-85a7-d8dc0a1e8364\",\"type\":\"PolyAnnotation\"},{\"id\":\"e4d71785-17d1-4e4a-846b-6b2907a0eb4a\",\"type\":\"GlyphRenderer\"}],\"title\":{\"id\":\"048cc1f1-0149-4909-b85a-4da2c1e529d2\",\"type\":\"Title\"},\"toolbar\":{\"id\":\"8e547f3e-929d-4efe-8fdc-1f9e036e112b\",\"type\":\"Toolbar\"},\"toolbar_location\":null,\"x_range\":{\"id\":\"c1a2fe01-c3a2-486e-b93b-4601da0847f8\",\"type\":\"DataRange1d\"},\"x_scale\":{\"id\":\"57904d13-a8d9-42e3-b69a-95970f5084c4\",\"type\":\"LinearScale\"},\"y_range\":{\"id\":\"619d369c-3cd4-444d-a6e0-4f8d9b5ac410\",\"type\":\"DataRange1d\"},\"y_scale\":{\"id\":\"caad4d21-fc85-41e3-a137-b2c9b61899a0\",\"type\":\"LinearScale\"}},\"id\":\"fd81f0fc-6b1f-4e1c-94b9-d35a7c4ce504\",\"subtype\":\"Figure\",\"type\":\"Plot\"},{\"attributes\":{},\"id\":\"caad4d21-fc85-41e3-a137-b2c9b61899a0\",\"type\":\"LinearScale\"},{\"attributes\":{},\"id\":\"92be307d-36e0-4273-8a7e-a8f84dbffc1e\",\"type\":\"LinearScale\"},{\"attributes\":{},\"id\":\"94ec9ff4-9065-4069-9219-74145a65c250\",\"type\":\"LinearScale\"},{\"attributes\":{\"source\":{\"id\":\"b41ef31c-306b-4b5e-94f3-fc0df2caaebc\",\"type\":\"ColumnDataSource\"}},\"id\":\"6e2144da-e0c0-4e22-8d9e-c0ff64390828\",\"type\":\"CDSView\"},{\"attributes\":{\"active_drag\":\"auto\",\"active_inspect\":\"auto\",\"active_scroll\":\"auto\",\"active_tap\":\"auto\",\"tools\":[{\"id\":\"5e88f6df-2091-4b8c-be74-1d3bfb468a21\",\"type\":\"BoxSelectTool\"},{\"id\":\"d1073e0e-9f77-4721-92b1-49c5e21f5588\",\"type\":\"LassoSelectTool\"},{\"id\":\"bc0ed723-77d6-464f-a7b6-34d8f0ad8d3b\",\"type\":\"HelpTool\"}]},\"id\":\"3790be1f-cc23-4ff2-9abc-d9a9c588b92b\",\"type\":\"Toolbar\"},{\"attributes\":{\"fill_alpha\":{\"value\":0.5},\"fill_color\":{\"value\":\"lightgrey\"},\"level\":\"overlay\",\"line_alpha\":{\"value\":1.0},\"line_color\":{\"value\":\"black\"},\"line_dash\":[4,4],\"line_width\":{\"value\":2},\"plot\":null,\"xs_units\":\"screen\",\"ys_units\":\"screen\"},\"id\":\"ec8115df-791f-4b9a-9541-0d10d59f45c4\",\"type\":\"PolyAnnotation\"},{\"attributes\":{\"source\":{\"id\":\"b41ef31c-306b-4b5e-94f3-fc0df2caaebc\",\"type\":\"ColumnDataSource\"}},\"id\":\"87bf8b08-d4d6-4904-adbc-997b42023b85\",\"type\":\"CDSView\"},{\"attributes\":{},\"id\":\"57904d13-a8d9-42e3-b69a-95970f5084c4\",\"type\":\"LinearScale\"},{\"attributes\":{},\"id\":\"1c2cd79b-1654-4d08-8dd6-559ae2fd2b1c\",\"type\":\"BasicTickFormatter\"},{\"attributes\":{\"data_source\":{\"id\":\"b41ef31c-306b-4b5e-94f3-fc0df2caaebc\",\"type\":\"ColumnDataSource\"},\"glyph\":{\"id\":\"0864af12-34a0-40c2-9662-d5b0ac71761a\",\"type\":\"Circle\"},\"hover_glyph\":null,\"muted_glyph\":null,\"nonselection_glyph\":{\"id\":\"c9737a17-b073-472a-b00a-1a5f4e927f25\",\"type\":\"Circle\"},\"selection_glyph\":null,\"view\":{\"id\":\"6e2144da-e0c0-4e22-8d9e-c0ff64390828\",\"type\":\"CDSView\"}},\"id\":\"8e3419bd-123f-4f8a-b93a-fb318600f6b1\",\"type\":\"GlyphRenderer\"},{\"attributes\":{\"formatter\":{\"id\":\"86010ba4-3671-476d-8b1d-9c3a3818bb18\",\"type\":\"BasicTickFormatter\"},\"plot\":{\"id\":\"49ed9f4a-c28a-4733-aa3e-63d0ea09d259\",\"subtype\":\"Figure\",\"type\":\"Plot\"},\"ticker\":{\"id\":\"02a807bd-6e76-410c-b7d3-2dcc9e3fc4ee\",\"type\":\"BasicTicker\"}},\"id\":\"5fcff3b7-a930-4b1a-89be-73f01f20448a\",\"type\":\"LinearAxis\"},{\"attributes\":{},\"id\":\"02a807bd-6e76-410c-b7d3-2dcc9e3fc4ee\",\"type\":\"BasicTicker\"},{\"attributes\":{\"below\":[{\"id\":\"5fcff3b7-a930-4b1a-89be-73f01f20448a\",\"type\":\"LinearAxis\"}],\"left\":[{\"id\":\"6729d83a-7175-4945-9636-39ffdc67c978\",\"type\":\"LinearAxis\"}],\"plot_height\":300,\"plot_width\":300,\"renderers\":[{\"id\":\"5fcff3b7-a930-4b1a-89be-73f01f20448a\",\"type\":\"LinearAxis\"},{\"id\":\"12de4144-2cef-46d8-a2c5-6eda7330ae1a\",\"type\":\"Grid\"},{\"id\":\"6729d83a-7175-4945-9636-39ffdc67c978\",\"type\":\"LinearAxis\"},{\"id\":\"8e03264e-346f-452f-a4ec-39e1b33462e0\",\"type\":\"Grid\"},{\"id\":\"08dbf115-4509-4a48-b8dd-f89c6eabbd31\",\"type\":\"BoxAnnotation\"},{\"id\":\"ec8115df-791f-4b9a-9541-0d10d59f45c4\",\"type\":\"PolyAnnotation\"},{\"id\":\"8e3419bd-123f-4f8a-b93a-fb318600f6b1\",\"type\":\"GlyphRenderer\"}],\"title\":{\"id\":\"b62ff257-c15b-4265-8b2b-978505117056\",\"type\":\"Title\"},\"toolbar\":{\"id\":\"3790be1f-cc23-4ff2-9abc-d9a9c588b92b\",\"type\":\"Toolbar\"},\"toolbar_location\":null,\"x_range\":{\"id\":\"0d846139-cd67-423e-9053-810e1a4be8ad\",\"type\":\"DataRange1d\"},\"x_scale\":{\"id\":\"92be307d-36e0-4273-8a7e-a8f84dbffc1e\",\"type\":\"LinearScale\"},\"y_range\":{\"id\":\"ce5a1bb1-7928-4bc1-9db7-2793c0874abf\",\"type\":\"DataRange1d\"},\"y_scale\":{\"id\":\"94ec9ff4-9065-4069-9219-74145a65c250\",\"type\":\"LinearScale\"}},\"id\":\"49ed9f4a-c28a-4733-aa3e-63d0ea09d259\",\"subtype\":\"Figure\",\"type\":\"Plot\"},{\"attributes\":{},\"id\":\"8f7183ee-30ae-417d-9138-39296f549037\",\"type\":\"BasicTickFormatter\"},{\"attributes\":{\"children\":[{\"id\":\"e0443acf-9625-4298-a0f3-01345e00aad1\",\"type\":\"Row\"}]},\"id\":\"68a20002-3661-4c9e-a0d1-75616a828484\",\"type\":\"Column\"},{\"attributes\":{\"callback\":null,\"overlay\":{\"id\":\"c0251957-2dd5-4e44-9668-bf0c16cce071\",\"type\":\"BoxAnnotation\"},\"renderers\":[{\"id\":\"e4d71785-17d1-4e4a-846b-6b2907a0eb4a\",\"type\":\"GlyphRenderer\"}]},\"id\":\"79b6033f-58f0-4a21-9c26-0b4aa6abdb05\",\"type\":\"BoxSelectTool\"},{\"attributes\":{},\"id\":\"07b570d4-2fd1-4894-996e-5788dcc56ea6\",\"type\":\"HelpTool\"},{\"attributes\":{},\"id\":\"a2ab1af6-ef29-4d3c-8537-975b40741cae\",\"type\":\"BasicTicker\"},{\"attributes\":{\"fill_color\":{\"value\":\"#1f77b4\"},\"line_color\":{\"value\":\"#1f77b4\"},\"x\":{\"field\":\"x\"},\"y\":{\"field\":\"y1\"}},\"id\":\"0864af12-34a0-40c2-9662-d5b0ac71761a\",\"type\":\"Circle\"},{\"attributes\":{\"callback\":null},\"id\":\"0d846139-cd67-423e-9053-810e1a4be8ad\",\"type\":\"DataRange1d\"},{\"attributes\":{},\"id\":\"d15a2575-1bb8-450f-9c9e-51a180cff59a\",\"type\":\"BasicTicker\"},{\"attributes\":{},\"id\":\"25fbeaed-7d7d-4a15-8cae-813bb1264f2e\",\"type\":\"BasicTicker\"},{\"attributes\":{\"fill_alpha\":{\"value\":0.1},\"fill_color\":{\"value\":\"#1f77b4\"},\"line_alpha\":{\"value\":0.1},\"line_color\":{\"value\":\"#1f77b4\"},\"x\":{\"field\":\"x\"},\"y\":{\"field\":\"y0\"}},\"id\":\"6d9426bd-2c66-4b0b-b589-dd83a8865c56\",\"type\":\"Circle\"}],\"root_ids\":[\"6c7feb1e-57c0-4a3c-a058-43ead6b96b40\"]},\"title\":\"Bokeh Application\",\"version\":\"0.12.10\"}};\n",
       "    var render_items = [{\"docid\":\"1c37d15a-c1ab-489f-850e-8005619d9b93\",\"elementid\":\"10c7e2b2-ff43-4e8b-90f9-b95bf765d37d\",\"modelid\":\"6c7feb1e-57c0-4a3c-a058-43ead6b96b40\"}];\n",
       "\n",
       "    root.Bokeh.embed.embed_items(docs_json, render_items);\n",
       "  }\n",
       "\n",
       "  if (root.Bokeh !== undefined) {\n",
       "    embed_document(root);\n",
       "  } else {\n",
       "    var attempts = 0;\n",
       "    var timer = setInterval(function(root) {\n",
       "      if (root.Bokeh !== undefined) {\n",
       "        embed_document(root);\n",
       "        clearInterval(timer);\n",
       "      }\n",
       "      attempts++;\n",
       "      if (attempts > 100) {\n",
       "        console.log(\"Bokeh: ERROR: Unable to embed document because BokehJS library is missing\")\n",
       "        clearInterval(timer);\n",
       "      }\n",
       "    }, 10, root)\n",
       "  }\n",
       "})(window);"
      ],
      "application/vnd.bokehjs_exec.v0+json": ""
     },
     "metadata": {
      "application/vnd.bokehjs_exec.v0+json": {
       "id": "6c7feb1e-57c0-4a3c-a058-43ead6b96b40"
      }
     },
     "output_type": "display_data"
    }
   ],
   "source": [
    "from bokeh.models import ColumnDataSource\n",
    "\n",
    "x = list(range(-20, 21))\n",
    "y0, y1 = [abs(xx) for xx in x], [xx**2 for xx in x]\n",
    "\n",
    "# create a column data source for the plots to share\n",
    "source = ColumnDataSource(data=dict(x=x, y0=y0, y1=y1))\n",
    "\n",
    "TOOLS = \"box_select,lasso_select,help\"\n",
    "\n",
    "# create a new plot and add a renderer\n",
    "left = figure(tools=TOOLS, width=300, height=300)\n",
    "left.circle('x', 'y0', source=source)\n",
    "\n",
    "# create another new plot and add a renderer\n",
    "right = figure(tools=TOOLS, width=300, height=300)\n",
    "right.circle('x', 'y1', source=source)\n",
    "\n",
    "p = gridplot([[left, right]])\n",
    "\n",
    "show(p)"
   ]
  },
  {
   "cell_type": "code",
   "execution_count": 7,
   "metadata": {},
   "outputs": [],
   "source": [
    "# EXERCISE: create two plots in a gridplot, and link their data sources\n",
    "\n"
   ]
  },
  {
   "cell_type": "markdown",
   "metadata": {},
   "source": [
    "# Hover Tools\n",
    "\n",
    "Bokeh has a Hover Tool that allows additional information to be displayed in a popup whenever the user hovers over a specific glyph. Basic hover tool configuration amounts to providing a list of ``(name, format)`` tuples. The full details can be found in the User's Guide [here](http://bokeh.pydata.org/en/latest/docs/user_guide/tools.html#hovertool).\n",
    "\n",
    "The example below shows some basic usage of the Hover tool with a circle glyph, using hover information defined in utils.py:"
   ]
  },
  {
   "cell_type": "code",
   "execution_count": 8,
   "metadata": {},
   "outputs": [
    {
     "data": {
      "text/html": [
       "\n",
       "<div class=\"bk-root\">\n",
       "    <div class=\"bk-plotdiv\" id=\"4800a40e-8064-48ca-8dd0-fad8357faecb\"></div>\n",
       "</div>"
      ]
     },
     "metadata": {},
     "output_type": "display_data"
    },
    {
     "data": {
      "application/javascript": [
       "(function(root) {\n",
       "  function embed_document(root) {\n",
       "    var docs_json = {\"b0f37c38-ea7a-4561-bac9-f15a3bd65234\":{\"roots\":{\"references\":[{\"attributes\":{},\"id\":\"3e26e34b-6aad-4ea5-ba5b-842d77a1bc84\",\"type\":\"BasicTicker\"},{\"attributes\":{\"formatter\":{\"id\":\"d6011840-65d2-4342-a264-f5c37d64412c\",\"type\":\"BasicTickFormatter\"},\"plot\":{\"id\":\"e12ed9e0-7ff2-4998-97dc-d12aa0a3ff00\",\"subtype\":\"Figure\",\"type\":\"Plot\"},\"ticker\":{\"id\":\"189d363e-e8a9-4856-95e9-45815030629e\",\"type\":\"BasicTicker\"}},\"id\":\"6544f0d7-5bd0-427e-a7aa-698fac5f39dd\",\"type\":\"LinearAxis\"},{\"attributes\":{\"plot\":null,\"text\":\"Mouse over the dots\"},\"id\":\"4b21a1f4-125e-4565-a345-090bdd8a2641\",\"type\":\"Title\"},{\"attributes\":{\"source\":{\"id\":\"582ed97d-a21f-4223-9660-de4a903fa3d6\",\"type\":\"ColumnDataSource\"}},\"id\":\"ff600a33-e41d-46a8-a979-9da43da2c3b8\",\"type\":\"CDSView\"},{\"attributes\":{\"callback\":null},\"id\":\"d26fcead-6820-413b-acf2-919b88f74e76\",\"type\":\"DataRange1d\"},{\"attributes\":{\"callback\":null},\"id\":\"36cd23ce-b595-4d6d-b44f-4027ac4c0a46\",\"type\":\"DataRange1d\"},{\"attributes\":{\"plot\":{\"id\":\"e12ed9e0-7ff2-4998-97dc-d12aa0a3ff00\",\"subtype\":\"Figure\",\"type\":\"Plot\"},\"ticker\":{\"id\":\"189d363e-e8a9-4856-95e9-45815030629e\",\"type\":\"BasicTicker\"}},\"id\":\"12ccb45a-ced4-4106-ade9-fc5969a0b860\",\"type\":\"Grid\"},{\"attributes\":{\"dimension\":1,\"plot\":{\"id\":\"e12ed9e0-7ff2-4998-97dc-d12aa0a3ff00\",\"subtype\":\"Figure\",\"type\":\"Plot\"},\"ticker\":{\"id\":\"3e26e34b-6aad-4ea5-ba5b-842d77a1bc84\",\"type\":\"BasicTicker\"}},\"id\":\"3870b83f-67c7-4de7-952b-474cceb2c8ff\",\"type\":\"Grid\"},{\"attributes\":{},\"id\":\"30bdc971-f0c1-437f-b9d9-e30e5562128b\",\"type\":\"LinearScale\"},{\"attributes\":{},\"id\":\"189d363e-e8a9-4856-95e9-45815030629e\",\"type\":\"BasicTicker\"},{\"attributes\":{\"callback\":null,\"column_names\":[\"x\",\"y\",\"desc\"],\"data\":{\"desc\":[\"A\",\"b\",\"C\",\"d\",\"E\"],\"x\":[1,2,3,4,5],\"y\":[2,5,8,2,7]}},\"id\":\"582ed97d-a21f-4223-9660-de4a903fa3d6\",\"type\":\"ColumnDataSource\"},{\"attributes\":{\"active_drag\":\"auto\",\"active_inspect\":\"auto\",\"active_scroll\":\"auto\",\"active_tap\":\"auto\",\"tools\":[{\"id\":\"7176877f-8226-4615-b5b0-12a0070dc531\",\"type\":\"HoverTool\"}]},\"id\":\"d4131dba-c544-4564-b7eb-bcf4ff4e5e57\",\"type\":\"Toolbar\"},{\"attributes\":{\"fill_alpha\":{\"value\":0.1},\"fill_color\":{\"value\":\"#1f77b4\"},\"line_alpha\":{\"value\":0.1},\"line_color\":{\"value\":\"#1f77b4\"},\"size\":{\"units\":\"screen\",\"value\":20},\"x\":{\"field\":\"x\"},\"y\":{\"field\":\"y\"}},\"id\":\"07b02a31-ceef-49e1-98eb-065ba9bcf051\",\"type\":\"Circle\"},{\"attributes\":{},\"id\":\"a64df16c-9493-460a-b343-ac0f7a704446\",\"type\":\"BasicTickFormatter\"},{\"attributes\":{\"fill_color\":{\"value\":\"#1f77b4\"},\"line_color\":{\"value\":\"#1f77b4\"},\"size\":{\"units\":\"screen\",\"value\":20},\"x\":{\"field\":\"x\"},\"y\":{\"field\":\"y\"}},\"id\":\"61998b86-e8e1-49d0-b0ae-92363a534e0c\",\"type\":\"Circle\"},{\"attributes\":{},\"id\":\"d6011840-65d2-4342-a264-f5c37d64412c\",\"type\":\"BasicTickFormatter\"},{\"attributes\":{\"callback\":null,\"tooltips\":[[\"index\",\"$index\"],[\"(x,y)\",\"($x, $y)\"],[\"desc\",\"@desc\"]]},\"id\":\"7176877f-8226-4615-b5b0-12a0070dc531\",\"type\":\"HoverTool\"},{\"attributes\":{},\"id\":\"8280ee0a-05f8-49a3-b4cf-331545f75735\",\"type\":\"LinearScale\"},{\"attributes\":{\"data_source\":{\"id\":\"582ed97d-a21f-4223-9660-de4a903fa3d6\",\"type\":\"ColumnDataSource\"},\"glyph\":{\"id\":\"61998b86-e8e1-49d0-b0ae-92363a534e0c\",\"type\":\"Circle\"},\"hover_glyph\":null,\"muted_glyph\":null,\"nonselection_glyph\":{\"id\":\"07b02a31-ceef-49e1-98eb-065ba9bcf051\",\"type\":\"Circle\"},\"selection_glyph\":null,\"view\":{\"id\":\"ff600a33-e41d-46a8-a979-9da43da2c3b8\",\"type\":\"CDSView\"}},\"id\":\"0b50a567-1ae1-4625-8b19-62cc8b6a3ca5\",\"type\":\"GlyphRenderer\"},{\"attributes\":{\"formatter\":{\"id\":\"a64df16c-9493-460a-b343-ac0f7a704446\",\"type\":\"BasicTickFormatter\"},\"plot\":{\"id\":\"e12ed9e0-7ff2-4998-97dc-d12aa0a3ff00\",\"subtype\":\"Figure\",\"type\":\"Plot\"},\"ticker\":{\"id\":\"3e26e34b-6aad-4ea5-ba5b-842d77a1bc84\",\"type\":\"BasicTicker\"}},\"id\":\"0c5e7693-dd2f-4359-b917-d964e0d5fb32\",\"type\":\"LinearAxis\"},{\"attributes\":{\"below\":[{\"id\":\"6544f0d7-5bd0-427e-a7aa-698fac5f39dd\",\"type\":\"LinearAxis\"}],\"left\":[{\"id\":\"0c5e7693-dd2f-4359-b917-d964e0d5fb32\",\"type\":\"LinearAxis\"}],\"plot_height\":300,\"plot_width\":300,\"renderers\":[{\"id\":\"6544f0d7-5bd0-427e-a7aa-698fac5f39dd\",\"type\":\"LinearAxis\"},{\"id\":\"12ccb45a-ced4-4106-ade9-fc5969a0b860\",\"type\":\"Grid\"},{\"id\":\"0c5e7693-dd2f-4359-b917-d964e0d5fb32\",\"type\":\"LinearAxis\"},{\"id\":\"3870b83f-67c7-4de7-952b-474cceb2c8ff\",\"type\":\"Grid\"},{\"id\":\"0b50a567-1ae1-4625-8b19-62cc8b6a3ca5\",\"type\":\"GlyphRenderer\"}],\"title\":{\"id\":\"4b21a1f4-125e-4565-a345-090bdd8a2641\",\"type\":\"Title\"},\"toolbar\":{\"id\":\"d4131dba-c544-4564-b7eb-bcf4ff4e5e57\",\"type\":\"Toolbar\"},\"x_range\":{\"id\":\"36cd23ce-b595-4d6d-b44f-4027ac4c0a46\",\"type\":\"DataRange1d\"},\"x_scale\":{\"id\":\"8280ee0a-05f8-49a3-b4cf-331545f75735\",\"type\":\"LinearScale\"},\"y_range\":{\"id\":\"d26fcead-6820-413b-acf2-919b88f74e76\",\"type\":\"DataRange1d\"},\"y_scale\":{\"id\":\"30bdc971-f0c1-437f-b9d9-e30e5562128b\",\"type\":\"LinearScale\"}},\"id\":\"e12ed9e0-7ff2-4998-97dc-d12aa0a3ff00\",\"subtype\":\"Figure\",\"type\":\"Plot\"}],\"root_ids\":[\"e12ed9e0-7ff2-4998-97dc-d12aa0a3ff00\"]},\"title\":\"Bokeh Application\",\"version\":\"0.12.10\"}};\n",
       "    var render_items = [{\"docid\":\"b0f37c38-ea7a-4561-bac9-f15a3bd65234\",\"elementid\":\"4800a40e-8064-48ca-8dd0-fad8357faecb\",\"modelid\":\"e12ed9e0-7ff2-4998-97dc-d12aa0a3ff00\"}];\n",
       "\n",
       "    root.Bokeh.embed.embed_items(docs_json, render_items);\n",
       "  }\n",
       "\n",
       "  if (root.Bokeh !== undefined) {\n",
       "    embed_document(root);\n",
       "  } else {\n",
       "    var attempts = 0;\n",
       "    var timer = setInterval(function(root) {\n",
       "      if (root.Bokeh !== undefined) {\n",
       "        embed_document(root);\n",
       "        clearInterval(timer);\n",
       "      }\n",
       "      attempts++;\n",
       "      if (attempts > 100) {\n",
       "        console.log(\"Bokeh: ERROR: Unable to embed document because BokehJS library is missing\")\n",
       "        clearInterval(timer);\n",
       "      }\n",
       "    }, 10, root)\n",
       "  }\n",
       "})(window);"
      ],
      "application/vnd.bokehjs_exec.v0+json": ""
     },
     "metadata": {
      "application/vnd.bokehjs_exec.v0+json": {
       "id": "e12ed9e0-7ff2-4998-97dc-d12aa0a3ff00"
      }
     },
     "output_type": "display_data"
    }
   ],
   "source": [
    "from bokeh.models import HoverTool\n",
    "\n",
    "source = ColumnDataSource(\n",
    "        data=dict(\n",
    "            x=[1, 2, 3, 4, 5],\n",
    "            y=[2, 5, 8, 2, 7],\n",
    "            desc=['A', 'b', 'C', 'd', 'E'],\n",
    "        )\n",
    "    )\n",
    "\n",
    "hover = HoverTool(\n",
    "        tooltips=[\n",
    "            (\"index\", \"$index\"),\n",
    "            (\"(x,y)\", \"($x, $y)\"),\n",
    "            (\"desc\", \"@desc\"),\n",
    "        ]\n",
    "    )\n",
    "\n",
    "p = figure(plot_width=300, plot_height=300, tools=[hover], title=\"Mouse over the dots\")\n",
    "\n",
    "p.circle('x', 'y', size=20, source=source)\n",
    "\n",
    "show(p)"
   ]
  },
  {
   "cell_type": "markdown",
   "metadata": {},
   "source": [
    "# Widgets"
   ]
  },
  {
   "cell_type": "markdown",
   "metadata": {},
   "source": [
    "Bokeh supports direct integration with a small basic widget set. Thse can be used in conjunction with a Bokeh Server, or with ``CustomJS`` models to add more interactive capability to your documents. You can see a complete list, with example code in the [Adding Widgets](http://bokeh.pydata.org/en/latest/docs/user_guide/interaction.html#adding-widgets) section of the User's Guide. \n",
    "\n",
    "To use the widgets, include them in a layout like you would a plot object:"
   ]
  },
  {
   "cell_type": "code",
   "execution_count": 10,
   "metadata": {},
   "outputs": [
    {
     "data": {
      "text/html": [
       "\n",
       "<div class=\"bk-root\">\n",
       "    <div class=\"bk-plotdiv\" id=\"4086ec70-0de3-497d-8a57-075cd702b866\"></div>\n",
       "</div>"
      ]
     },
     "metadata": {},
     "output_type": "display_data"
    },
    {
     "data": {
      "application/javascript": [
       "(function(root) {\n",
       "  function embed_document(root) {\n",
       "    var docs_json = {\"95801397-084f-43e1-8db1-dd09c1f9e1a5\":{\"roots\":{\"references\":[{\"attributes\":{\"callback\":null,\"end\":10,\"start\":0,\"step\":0.1,\"title\":\"foo\",\"value\":1},\"id\":\"9d69e96a-eca6-4a71-9025-28c3e3cb83c3\",\"type\":\"Slider\"},{\"attributes\":{\"children\":[{\"id\":\"9d69e96a-eca6-4a71-9025-28c3e3cb83c3\",\"type\":\"Slider\"}]},\"id\":\"c8f6a96a-c226-4af6-854a-5c70f772f1b4\",\"type\":\"WidgetBox\"}],\"root_ids\":[\"c8f6a96a-c226-4af6-854a-5c70f772f1b4\"]},\"title\":\"Bokeh Application\",\"version\":\"0.12.10\"}};\n",
       "    var render_items = [{\"docid\":\"95801397-084f-43e1-8db1-dd09c1f9e1a5\",\"elementid\":\"4086ec70-0de3-497d-8a57-075cd702b866\",\"modelid\":\"c8f6a96a-c226-4af6-854a-5c70f772f1b4\"}];\n",
       "\n",
       "    root.Bokeh.embed.embed_items(docs_json, render_items);\n",
       "  }\n",
       "\n",
       "  if (root.Bokeh !== undefined) {\n",
       "    embed_document(root);\n",
       "  } else {\n",
       "    var attempts = 0;\n",
       "    var timer = setInterval(function(root) {\n",
       "      if (root.Bokeh !== undefined) {\n",
       "        embed_document(root);\n",
       "        clearInterval(timer);\n",
       "      }\n",
       "      attempts++;\n",
       "      if (attempts > 100) {\n",
       "        console.log(\"Bokeh: ERROR: Unable to embed document because BokehJS library is missing\")\n",
       "        clearInterval(timer);\n",
       "      }\n",
       "    }, 10, root)\n",
       "  }\n",
       "})(window);"
      ],
      "application/vnd.bokehjs_exec.v0+json": ""
     },
     "metadata": {
      "application/vnd.bokehjs_exec.v0+json": {
       "id": "c8f6a96a-c226-4af6-854a-5c70f772f1b4"
      }
     },
     "output_type": "display_data"
    }
   ],
   "source": [
    "from bokeh.layouts import widgetbox\n",
    "from bokeh.models.widgets import Slider\n",
    "\n",
    "\n",
    "slider = Slider(start=0, end=10, value=1, step=.1, title=\"foo\")\n",
    "\n",
    "show(widgetbox(slider))"
   ]
  },
  {
   "cell_type": "code",
   "execution_count": 11,
   "metadata": {},
   "outputs": [],
   "source": [
    "# EXERCISE: create and show a Select widget \n"
   ]
  },
  {
   "cell_type": "markdown",
   "metadata": {},
   "source": [
    "# CustomJS Callbacks"
   ]
  },
  {
   "cell_type": "code",
   "execution_count": 13,
   "metadata": {},
   "outputs": [
    {
     "data": {
      "text/html": [
       "\n",
       "<div class=\"bk-root\">\n",
       "    <div class=\"bk-plotdiv\" id=\"6fb87c1c-4118-4331-bf2d-b5963911c877\"></div>\n",
       "</div>"
      ]
     },
     "metadata": {},
     "output_type": "display_data"
    },
    {
     "data": {
      "application/javascript": [
       "(function(root) {\n",
       "  function embed_document(root) {\n",
       "    var docs_json = {\"2baf83cc-0d98-47a5-b29b-61d89e1536a3\":{\"roots\":{\"references\":[{\"attributes\":{\"dimension\":1,\"plot\":{\"id\":\"20379f70-b58f-4f21-a824-3077992d6ee8\",\"subtype\":\"Figure\",\"type\":\"Plot\"},\"ticker\":{\"id\":\"05e8ea52-b840-4643-81b0-83c453e45e60\",\"type\":\"BasicTicker\"}},\"id\":\"9afdfc48-d3b2-44b2-8945-9de0f9128505\",\"type\":\"Grid\"},{\"attributes\":{\"data_source\":{\"id\":\"bdc9265f-1198-40ad-9438-00a7d94a27e1\",\"type\":\"ColumnDataSource\"},\"glyph\":{\"id\":\"90c142fb-464c-4c8d-88f0-b6550535df1b\",\"type\":\"Circle\"},\"hover_glyph\":null,\"muted_glyph\":null,\"nonselection_glyph\":{\"id\":\"c5e17895-6116-4641-b956-812b3f5aa183\",\"type\":\"Circle\"},\"selection_glyph\":null,\"view\":{\"id\":\"f70cb69a-f6bc-4c2d-b780-e9ff2ec1d0fe\",\"type\":\"CDSView\"}},\"id\":\"1ecec030-dc2f-4384-aebd-fecaefabf696\",\"type\":\"GlyphRenderer\"},{\"attributes\":{\"source\":{\"id\":\"bdc9265f-1198-40ad-9438-00a7d94a27e1\",\"type\":\"ColumnDataSource\"}},\"id\":\"f70cb69a-f6bc-4c2d-b780-e9ff2ec1d0fe\",\"type\":\"CDSView\"},{\"attributes\":{},\"id\":\"6536184c-959f-4ed1-ba1b-4e746ec887d4\",\"type\":\"LinearScale\"},{\"attributes\":{\"callback\":{\"id\":\"9d3d18b2-b428-47d1-9fe1-49a9e4a3e157\",\"type\":\"CustomJS\"}},\"id\":\"2bcce6cd-f332-494c-af59-6839487b6b9a\",\"type\":\"TapTool\"},{\"attributes\":{\"formatter\":{\"id\":\"68ea9530-03a1-41d3-b514-7b4a13585795\",\"type\":\"BasicTickFormatter\"},\"plot\":{\"id\":\"20379f70-b58f-4f21-a824-3077992d6ee8\",\"subtype\":\"Figure\",\"type\":\"Plot\"},\"ticker\":{\"id\":\"3668d039-e78d-4f96-878a-4c3e8989a867\",\"type\":\"BasicTicker\"}},\"id\":\"b763b460-40f2-4152-bdce-d5a844c1fc47\",\"type\":\"LinearAxis\"},{\"attributes\":{\"formatter\":{\"id\":\"666a5b33-cdb3-46a1-a026-953bfc05de2f\",\"type\":\"BasicTickFormatter\"},\"plot\":{\"id\":\"20379f70-b58f-4f21-a824-3077992d6ee8\",\"subtype\":\"Figure\",\"type\":\"Plot\"},\"ticker\":{\"id\":\"05e8ea52-b840-4643-81b0-83c453e45e60\",\"type\":\"BasicTicker\"}},\"id\":\"503afe75-d7ef-4a12-bc26-1c536ce570fd\",\"type\":\"LinearAxis\"},{\"attributes\":{\"fill_color\":{\"value\":\"#1f77b4\"},\"line_color\":{\"value\":\"#1f77b4\"},\"size\":{\"units\":\"screen\",\"value\":20},\"x\":{\"field\":\"x\"},\"y\":{\"field\":\"y\"}},\"id\":\"90c142fb-464c-4c8d-88f0-b6550535df1b\",\"type\":\"Circle\"},{\"attributes\":{},\"id\":\"05e8ea52-b840-4643-81b0-83c453e45e60\",\"type\":\"BasicTicker\"},{\"attributes\":{\"active_drag\":\"auto\",\"active_inspect\":\"auto\",\"active_scroll\":\"auto\",\"active_tap\":\"auto\",\"tools\":[{\"id\":\"2bcce6cd-f332-494c-af59-6839487b6b9a\",\"type\":\"TapTool\"}]},\"id\":\"79942a6e-845d-47fa-8ea6-828ff3c073de\",\"type\":\"Toolbar\"},{\"attributes\":{\"plot\":null,\"text\":\"\"},\"id\":\"a25444e1-f1bd-4e70-bd12-1534ec827019\",\"type\":\"Title\"},{\"attributes\":{\"callback\":null,\"column_names\":[\"x\",\"y\"],\"data\":{\"x\":[1,2,3,4,5],\"y\":[2,5,8,2,7]}},\"id\":\"bdc9265f-1198-40ad-9438-00a7d94a27e1\",\"type\":\"ColumnDataSource\"},{\"attributes\":{\"code\":\"alert('hello world')\"},\"id\":\"9d3d18b2-b428-47d1-9fe1-49a9e4a3e157\",\"type\":\"CustomJS\"},{\"attributes\":{},\"id\":\"3668d039-e78d-4f96-878a-4c3e8989a867\",\"type\":\"BasicTicker\"},{\"attributes\":{},\"id\":\"666a5b33-cdb3-46a1-a026-953bfc05de2f\",\"type\":\"BasicTickFormatter\"},{\"attributes\":{\"callback\":null},\"id\":\"f4e18af0-37fe-4637-984a-e6e4b2f27598\",\"type\":\"DataRange1d\"},{\"attributes\":{},\"id\":\"857c1311-e261-48e9-b2e7-7952bda9475e\",\"type\":\"LinearScale\"},{\"attributes\":{\"callback\":null},\"id\":\"2a199a21-efef-4b60-b2dd-c32b54cf7965\",\"type\":\"DataRange1d\"},{\"attributes\":{\"below\":[{\"id\":\"b763b460-40f2-4152-bdce-d5a844c1fc47\",\"type\":\"LinearAxis\"}],\"left\":[{\"id\":\"503afe75-d7ef-4a12-bc26-1c536ce570fd\",\"type\":\"LinearAxis\"}],\"plot_height\":300,\"renderers\":[{\"id\":\"b763b460-40f2-4152-bdce-d5a844c1fc47\",\"type\":\"LinearAxis\"},{\"id\":\"6080ef65-0b12-49af-88b3-bb32723b12d0\",\"type\":\"Grid\"},{\"id\":\"503afe75-d7ef-4a12-bc26-1c536ce570fd\",\"type\":\"LinearAxis\"},{\"id\":\"9afdfc48-d3b2-44b2-8945-9de0f9128505\",\"type\":\"Grid\"},{\"id\":\"1ecec030-dc2f-4384-aebd-fecaefabf696\",\"type\":\"GlyphRenderer\"}],\"title\":{\"id\":\"a25444e1-f1bd-4e70-bd12-1534ec827019\",\"type\":\"Title\"},\"toolbar\":{\"id\":\"79942a6e-845d-47fa-8ea6-828ff3c073de\",\"type\":\"Toolbar\"},\"x_range\":{\"id\":\"f4e18af0-37fe-4637-984a-e6e4b2f27598\",\"type\":\"DataRange1d\"},\"x_scale\":{\"id\":\"6536184c-959f-4ed1-ba1b-4e746ec887d4\",\"type\":\"LinearScale\"},\"y_range\":{\"id\":\"2a199a21-efef-4b60-b2dd-c32b54cf7965\",\"type\":\"DataRange1d\"},\"y_scale\":{\"id\":\"857c1311-e261-48e9-b2e7-7952bda9475e\",\"type\":\"LinearScale\"}},\"id\":\"20379f70-b58f-4f21-a824-3077992d6ee8\",\"subtype\":\"Figure\",\"type\":\"Plot\"},{\"attributes\":{},\"id\":\"68ea9530-03a1-41d3-b514-7b4a13585795\",\"type\":\"BasicTickFormatter\"},{\"attributes\":{\"fill_alpha\":{\"value\":0.1},\"fill_color\":{\"value\":\"#1f77b4\"},\"line_alpha\":{\"value\":0.1},\"line_color\":{\"value\":\"#1f77b4\"},\"size\":{\"units\":\"screen\",\"value\":20},\"x\":{\"field\":\"x\"},\"y\":{\"field\":\"y\"}},\"id\":\"c5e17895-6116-4641-b956-812b3f5aa183\",\"type\":\"Circle\"},{\"attributes\":{\"plot\":{\"id\":\"20379f70-b58f-4f21-a824-3077992d6ee8\",\"subtype\":\"Figure\",\"type\":\"Plot\"},\"ticker\":{\"id\":\"3668d039-e78d-4f96-878a-4c3e8989a867\",\"type\":\"BasicTicker\"}},\"id\":\"6080ef65-0b12-49af-88b3-bb32723b12d0\",\"type\":\"Grid\"}],\"root_ids\":[\"20379f70-b58f-4f21-a824-3077992d6ee8\"]},\"title\":\"Bokeh Application\",\"version\":\"0.12.10\"}};\n",
       "    var render_items = [{\"docid\":\"2baf83cc-0d98-47a5-b29b-61d89e1536a3\",\"elementid\":\"6fb87c1c-4118-4331-bf2d-b5963911c877\",\"modelid\":\"20379f70-b58f-4f21-a824-3077992d6ee8\"}];\n",
       "\n",
       "    root.Bokeh.embed.embed_items(docs_json, render_items);\n",
       "  }\n",
       "\n",
       "  if (root.Bokeh !== undefined) {\n",
       "    embed_document(root);\n",
       "  } else {\n",
       "    var attempts = 0;\n",
       "    var timer = setInterval(function(root) {\n",
       "      if (root.Bokeh !== undefined) {\n",
       "        embed_document(root);\n",
       "        clearInterval(timer);\n",
       "      }\n",
       "      attempts++;\n",
       "      if (attempts > 100) {\n",
       "        console.log(\"Bokeh: ERROR: Unable to embed document because BokehJS library is missing\")\n",
       "        clearInterval(timer);\n",
       "      }\n",
       "    }, 10, root)\n",
       "  }\n",
       "})(window);"
      ],
      "application/vnd.bokehjs_exec.v0+json": ""
     },
     "metadata": {
      "application/vnd.bokehjs_exec.v0+json": {
       "id": "20379f70-b58f-4f21-a824-3077992d6ee8"
      }
     },
     "output_type": "display_data"
    }
   ],
   "source": [
    "from bokeh.models import TapTool, CustomJS, ColumnDataSource\n",
    "\n",
    "callback = CustomJS(code=\"alert('hello world')\")\n",
    "tap = TapTool(callback=callback)\n",
    "\n",
    "p = figure(plot_width=600, plot_height=300, tools=[tap])\n",
    "\n",
    "p.circle(x=[1, 2, 3, 4, 5], y=[2, 5, 8, 2, 7], size=20)\n",
    "\n",
    "show(p)"
   ]
  },
  {
   "cell_type": "markdown",
   "metadata": {},
   "source": [
    "## Lots of places to add callbacks\n",
    "\n",
    "* Widgets - Button, Toggle, Dropdown, TextInput, AutocompleteInput, Select, Multiselect, Slider, (DateRangeSlider), DatePicker,\n",
    "* Tools - TapTool, BoxSelectTool, HoverTool,\n",
    "* Selection - ColumnDataSource, AjaxDataSource, BlazeDataSource, ServerDataSource\n",
    "* Ranges - Range1d, DataRange1d, FactorRange\n"
   ]
  },
  {
   "cell_type": "markdown",
   "metadata": {},
   "source": [
    "## Callbacks for widgets\n",
    "\n",
    "Widgets that have values associated can have small JavaScript actions attached to them. These actions (also referred to as \"callbacks\") are executed whenever the widget's value is changed. In order to make it easier to refer to specific Bokeh models (e.g., a data source, or a glyhph) from JavaScript, the ``CustomJS`` obejct also accepts a dictionary of \"args\" that map names to Python Bokeh models. The corresponding JavaScript models are made available automaticaly to the ``CustomJS`` code. \n",
    "\n",
    "And example below shows an action attached to a slider that updates a data source whenever the slider is moved:"
   ]
  },
  {
   "cell_type": "code",
   "execution_count": 14,
   "metadata": {},
   "outputs": [
    {
     "data": {
      "text/html": [
       "\n",
       "<div class=\"bk-root\">\n",
       "    <div class=\"bk-plotdiv\" id=\"18d2d237-c923-4382-9dc0-1f5a2320faf1\"></div>\n",
       "</div>"
      ]
     },
     "metadata": {},
     "output_type": "display_data"
    },
    {
     "data": {
      "application/javascript": [
       "(function(root) {\n",
       "  function embed_document(root) {\n",
       "    var docs_json = {\"b21477b0-a93b-437d-988d-3f746aeae508\":{\"roots\":{\"references\":[{\"attributes\":{},\"id\":\"5a838d05-f81c-46ad-8ec6-6fdba5045452\",\"type\":\"SaveTool\"},{\"attributes\":{\"plot\":null,\"text\":\"\"},\"id\":\"329394ec-8b47-4795-b206-0f0da4a2358c\",\"type\":\"Title\"},{\"attributes\":{\"callback\":null,\"column_names\":[\"x\",\"y\"],\"data\":{\"x\":[0.0,0.005,0.01,0.015,0.02,0.025,0.03,0.035,0.04,0.045,0.05,0.055,0.06,0.065,0.07,0.075,0.08,0.085,0.09,0.095,0.1,0.105,0.11,0.115,0.12,0.125,0.13,0.135,0.14,0.145,0.15,0.155,0.16,0.165,0.17,0.17500000000000002,0.18,0.185,0.19,0.195,0.2,0.20500000000000002,0.21,0.215,0.22,0.225,0.23,0.23500000000000001,0.24,0.245,0.25,0.255,0.26,0.265,0.27,0.275,0.28,0.28500000000000003,0.29,0.295,0.3,0.305,0.31,0.315,0.32,0.325,0.33,0.335,0.34,0.34500000000000003,0.35000000000000003,0.355,0.36,0.365,0.37,0.375,0.38,0.385,0.39,0.395,0.4,0.405,0.41000000000000003,0.41500000000000004,0.42,0.425,0.43,0.435,0.44,0.445,0.45,0.455,0.46,0.465,0.47000000000000003,0.47500000000000003,0.48,0.485,0.49,0.495,0.5,0.505,0.51,0.515,0.52,0.525,0.53,0.535,0.54,0.545,0.55,0.555,0.56,0.5650000000000001,0.5700000000000001,0.5750000000000001,0.58,0.585,0.59,0.595,0.6,0.605,0.61,0.615,0.62,0.625,0.63,0.635,0.64,0.645,0.65,0.655,0.66,0.665,0.67,0.675,0.68,0.685,0.6900000000000001,0.6950000000000001,0.7000000000000001,0.705,0.71,0.715,0.72,0.725,0.73,0.735,0.74,0.745,0.75,0.755,0.76,0.765,0.77,0.775,0.78,0.785,0.79,0.795,0.8,0.805,0.81,0.8150000000000001,0.8200000000000001,0.8250000000000001,0.8300000000000001,0.835,0.84,0.845,0.85,0.855,0.86,0.865,0.87,0.875,0.88,0.885,0.89,0.895,0.9,0.905,0.91,0.915,0.92,0.925,0.93,0.935,0.9400000000000001,0.9450000000000001,0.9500000000000001,0.9550000000000001,0.96,0.965,0.97,0.975,0.98,0.985,0.99,0.995,1.0],\"y\":[0.0,0.005,0.01,0.015,0.02,0.025,0.03,0.035,0.04,0.045,0.05,0.055,0.06,0.065,0.07,0.075,0.08,0.085,0.09,0.095,0.1,0.105,0.11,0.115,0.12,0.125,0.13,0.135,0.14,0.145,0.15,0.155,0.16,0.165,0.17,0.17500000000000002,0.18,0.185,0.19,0.195,0.2,0.20500000000000002,0.21,0.215,0.22,0.225,0.23,0.23500000000000001,0.24,0.245,0.25,0.255,0.26,0.265,0.27,0.275,0.28,0.28500000000000003,0.29,0.295,0.3,0.305,0.31,0.315,0.32,0.325,0.33,0.335,0.34,0.34500000000000003,0.35000000000000003,0.355,0.36,0.365,0.37,0.375,0.38,0.385,0.39,0.395,0.4,0.405,0.41000000000000003,0.41500000000000004,0.42,0.425,0.43,0.435,0.44,0.445,0.45,0.455,0.46,0.465,0.47000000000000003,0.47500000000000003,0.48,0.485,0.49,0.495,0.5,0.505,0.51,0.515,0.52,0.525,0.53,0.535,0.54,0.545,0.55,0.555,0.56,0.5650000000000001,0.5700000000000001,0.5750000000000001,0.58,0.585,0.59,0.595,0.6,0.605,0.61,0.615,0.62,0.625,0.63,0.635,0.64,0.645,0.65,0.655,0.66,0.665,0.67,0.675,0.68,0.685,0.6900000000000001,0.6950000000000001,0.7000000000000001,0.705,0.71,0.715,0.72,0.725,0.73,0.735,0.74,0.745,0.75,0.755,0.76,0.765,0.77,0.775,0.78,0.785,0.79,0.795,0.8,0.805,0.81,0.8150000000000001,0.8200000000000001,0.8250000000000001,0.8300000000000001,0.835,0.84,0.845,0.85,0.855,0.86,0.865,0.87,0.875,0.88,0.885,0.89,0.895,0.9,0.905,0.91,0.915,0.92,0.925,0.93,0.935,0.9400000000000001,0.9450000000000001,0.9500000000000001,0.9550000000000001,0.96,0.965,0.97,0.975,0.98,0.985,0.99,0.995,1.0]}},\"id\":\"820d5445-5ccc-44bc-94d7-19287c648cfc\",\"type\":\"ColumnDataSource\"},{\"attributes\":{},\"id\":\"f6d01e66-9544-42aa-8e98-cc4bdb9821d1\",\"type\":\"BasicTicker\"},{\"attributes\":{\"dimension\":1,\"plot\":{\"id\":\"14295180-bbf2-4294-a0d6-20edbe102e98\",\"subtype\":\"Figure\",\"type\":\"Plot\"},\"ticker\":{\"id\":\"f6d01e66-9544-42aa-8e98-cc4bdb9821d1\",\"type\":\"BasicTicker\"}},\"id\":\"736f26d5-21f2-48bf-aa97-84a0e13817b5\",\"type\":\"Grid\"},{\"attributes\":{\"callback\":null,\"end\":6,\"js_property_callbacks\":{\"change:value\":[{\"id\":\"518e9d0e-dec5-4f1d-949f-2bd3cbe1b710\",\"type\":\"CustomJS\"}]},\"start\":0.1,\"step\":0.1,\"title\":\"power\",\"value\":1},\"id\":\"70c98b49-4bc3-4614-af3d-87cfb826221d\",\"type\":\"Slider\"},{\"attributes\":{\"active_drag\":\"auto\",\"active_inspect\":\"auto\",\"active_scroll\":\"auto\",\"active_tap\":\"auto\",\"tools\":[{\"id\":\"8381c421-717c-4b8a-a612-4457bc7c4ccf\",\"type\":\"PanTool\"},{\"id\":\"0d6e3f10-2885-4a54-b9c5-9bb1d6ca0454\",\"type\":\"WheelZoomTool\"},{\"id\":\"7ecb350c-6e9d-486d-8d7c-1ad23f6420c7\",\"type\":\"BoxZoomTool\"},{\"id\":\"5a838d05-f81c-46ad-8ec6-6fdba5045452\",\"type\":\"SaveTool\"},{\"id\":\"6430afa0-056e-42bf-ada9-2849eb9a166c\",\"type\":\"ResetTool\"},{\"id\":\"f565ef9e-f0e0-481d-bb06-3e1d79ec58f6\",\"type\":\"HelpTool\"}]},\"id\":\"3f69b6ac-19c7-436d-9ef5-699e9dcaedd9\",\"type\":\"Toolbar\"},{\"attributes\":{\"bottom_units\":\"screen\",\"fill_alpha\":{\"value\":0.5},\"fill_color\":{\"value\":\"lightgrey\"},\"left_units\":\"screen\",\"level\":\"overlay\",\"line_alpha\":{\"value\":1.0},\"line_color\":{\"value\":\"black\"},\"line_dash\":[4,4],\"line_width\":{\"value\":2},\"plot\":null,\"render_mode\":\"css\",\"right_units\":\"screen\",\"top_units\":\"screen\"},\"id\":\"65fe9399-7484-483f-aa0e-0fb5b4678d4a\",\"type\":\"BoxAnnotation\"},{\"attributes\":{},\"id\":\"bda639c2-b442-40ab-b09b-29f302be0f22\",\"type\":\"LinearScale\"},{\"attributes\":{\"children\":[{\"id\":\"4ee5a85d-e56d-421d-8046-16b77d15a33f\",\"type\":\"WidgetBox\"},{\"id\":\"14295180-bbf2-4294-a0d6-20edbe102e98\",\"subtype\":\"Figure\",\"type\":\"Plot\"}]},\"id\":\"2935a4a8-0a6a-41ef-9cf5-aa85101e0f7e\",\"type\":\"Column\"},{\"attributes\":{\"line_alpha\":{\"value\":0.6},\"line_color\":{\"value\":\"#1f77b4\"},\"line_width\":{\"value\":3},\"x\":{\"field\":\"x\"},\"y\":{\"field\":\"y\"}},\"id\":\"fd4f1491-ae0f-46f4-8bf7-f1c73b36dd1d\",\"type\":\"Line\"},{\"attributes\":{\"formatter\":{\"id\":\"bd098314-59b2-4c5f-bc6c-9fe155ea6af8\",\"type\":\"BasicTickFormatter\"},\"plot\":{\"id\":\"14295180-bbf2-4294-a0d6-20edbe102e98\",\"subtype\":\"Figure\",\"type\":\"Plot\"},\"ticker\":{\"id\":\"f6d01e66-9544-42aa-8e98-cc4bdb9821d1\",\"type\":\"BasicTicker\"}},\"id\":\"a466df79-a4ee-4a15-9ddb-593a1c798ed8\",\"type\":\"LinearAxis\"},{\"attributes\":{\"callback\":null},\"id\":\"8d09a754-ac0f-4f3b-9024-3623eefe8267\",\"type\":\"DataRange1d\"},{\"attributes\":{\"source\":{\"id\":\"820d5445-5ccc-44bc-94d7-19287c648cfc\",\"type\":\"ColumnDataSource\"}},\"id\":\"5a45a00c-2c90-46ed-8a8c-0a86339bb32b\",\"type\":\"CDSView\"},{\"attributes\":{},\"id\":\"420fd1ba-70b1-4f2f-b3b9-be21f4b4a5a6\",\"type\":\"BasicTicker\"},{\"attributes\":{},\"id\":\"bd098314-59b2-4c5f-bc6c-9fe155ea6af8\",\"type\":\"BasicTickFormatter\"},{\"attributes\":{},\"id\":\"6f39c666-6630-4cda-be01-ca6ff587d1d0\",\"type\":\"BasicTickFormatter\"},{\"attributes\":{\"line_alpha\":{\"value\":0.1},\"line_color\":{\"value\":\"#1f77b4\"},\"line_width\":{\"value\":3},\"x\":{\"field\":\"x\"},\"y\":{\"field\":\"y\"}},\"id\":\"2937f456-e47c-4e78-b00a-65ebb396b217\",\"type\":\"Line\"},{\"attributes\":{\"callback\":null},\"id\":\"73bd8ab4-775d-4446-a8e4-99edcd08f414\",\"type\":\"DataRange1d\"},{\"attributes\":{\"formatter\":{\"id\":\"6f39c666-6630-4cda-be01-ca6ff587d1d0\",\"type\":\"BasicTickFormatter\"},\"plot\":{\"id\":\"14295180-bbf2-4294-a0d6-20edbe102e98\",\"subtype\":\"Figure\",\"type\":\"Plot\"},\"ticker\":{\"id\":\"420fd1ba-70b1-4f2f-b3b9-be21f4b4a5a6\",\"type\":\"BasicTicker\"}},\"id\":\"a88b0b7f-9df6-4495-9db7-4d9812eae08a\",\"type\":\"LinearAxis\"},{\"attributes\":{\"args\":{\"slider\":{\"id\":\"70c98b49-4bc3-4614-af3d-87cfb826221d\",\"type\":\"Slider\"},\"source\":{\"id\":\"820d5445-5ccc-44bc-94d7-19287c648cfc\",\"type\":\"ColumnDataSource\"}},\"code\":\"\\n    var data = source.get('data');\\n    var f = slider.value;\\n    x = data['x']\\n    y = data['y']\\n    for (i = 0; i < x.length; i++) {\\n        y[i] = Math.pow(x[i], f)\\n    }\\n    source.change.emit();\\n\"},\"id\":\"518e9d0e-dec5-4f1d-949f-2bd3cbe1b710\",\"type\":\"CustomJS\"},{\"attributes\":{\"data_source\":{\"id\":\"820d5445-5ccc-44bc-94d7-19287c648cfc\",\"type\":\"ColumnDataSource\"},\"glyph\":{\"id\":\"fd4f1491-ae0f-46f4-8bf7-f1c73b36dd1d\",\"type\":\"Line\"},\"hover_glyph\":null,\"muted_glyph\":null,\"nonselection_glyph\":{\"id\":\"2937f456-e47c-4e78-b00a-65ebb396b217\",\"type\":\"Line\"},\"selection_glyph\":null,\"view\":{\"id\":\"5a45a00c-2c90-46ed-8a8c-0a86339bb32b\",\"type\":\"CDSView\"}},\"id\":\"75d79f1c-c1fc-437d-8106-c9135e9fdb21\",\"type\":\"GlyphRenderer\"},{\"attributes\":{},\"id\":\"0d6e3f10-2885-4a54-b9c5-9bb1d6ca0454\",\"type\":\"WheelZoomTool\"},{\"attributes\":{\"overlay\":{\"id\":\"65fe9399-7484-483f-aa0e-0fb5b4678d4a\",\"type\":\"BoxAnnotation\"}},\"id\":\"7ecb350c-6e9d-486d-8d7c-1ad23f6420c7\",\"type\":\"BoxZoomTool\"},{\"attributes\":{\"below\":[{\"id\":\"a88b0b7f-9df6-4495-9db7-4d9812eae08a\",\"type\":\"LinearAxis\"}],\"left\":[{\"id\":\"a466df79-a4ee-4a15-9ddb-593a1c798ed8\",\"type\":\"LinearAxis\"}],\"plot_height\":400,\"plot_width\":400,\"renderers\":[{\"id\":\"a88b0b7f-9df6-4495-9db7-4d9812eae08a\",\"type\":\"LinearAxis\"},{\"id\":\"c5516f73-5d69-4230-b148-cbfc29afa103\",\"type\":\"Grid\"},{\"id\":\"a466df79-a4ee-4a15-9ddb-593a1c798ed8\",\"type\":\"LinearAxis\"},{\"id\":\"736f26d5-21f2-48bf-aa97-84a0e13817b5\",\"type\":\"Grid\"},{\"id\":\"65fe9399-7484-483f-aa0e-0fb5b4678d4a\",\"type\":\"BoxAnnotation\"},{\"id\":\"75d79f1c-c1fc-437d-8106-c9135e9fdb21\",\"type\":\"GlyphRenderer\"}],\"title\":{\"id\":\"329394ec-8b47-4795-b206-0f0da4a2358c\",\"type\":\"Title\"},\"toolbar\":{\"id\":\"3f69b6ac-19c7-436d-9ef5-699e9dcaedd9\",\"type\":\"Toolbar\"},\"x_range\":{\"id\":\"73bd8ab4-775d-4446-a8e4-99edcd08f414\",\"type\":\"DataRange1d\"},\"x_scale\":{\"id\":\"bfb2622c-de33-4c31-ab9b-125c3f8514aa\",\"type\":\"LinearScale\"},\"y_range\":{\"id\":\"8d09a754-ac0f-4f3b-9024-3623eefe8267\",\"type\":\"DataRange1d\"},\"y_scale\":{\"id\":\"bda639c2-b442-40ab-b09b-29f302be0f22\",\"type\":\"LinearScale\"}},\"id\":\"14295180-bbf2-4294-a0d6-20edbe102e98\",\"subtype\":\"Figure\",\"type\":\"Plot\"},{\"attributes\":{},\"id\":\"f565ef9e-f0e0-481d-bb06-3e1d79ec58f6\",\"type\":\"HelpTool\"},{\"attributes\":{\"children\":[{\"id\":\"70c98b49-4bc3-4614-af3d-87cfb826221d\",\"type\":\"Slider\"}]},\"id\":\"4ee5a85d-e56d-421d-8046-16b77d15a33f\",\"type\":\"WidgetBox\"},{\"attributes\":{},\"id\":\"bfb2622c-de33-4c31-ab9b-125c3f8514aa\",\"type\":\"LinearScale\"},{\"attributes\":{},\"id\":\"8381c421-717c-4b8a-a612-4457bc7c4ccf\",\"type\":\"PanTool\"},{\"attributes\":{\"plot\":{\"id\":\"14295180-bbf2-4294-a0d6-20edbe102e98\",\"subtype\":\"Figure\",\"type\":\"Plot\"},\"ticker\":{\"id\":\"420fd1ba-70b1-4f2f-b3b9-be21f4b4a5a6\",\"type\":\"BasicTicker\"}},\"id\":\"c5516f73-5d69-4230-b148-cbfc29afa103\",\"type\":\"Grid\"},{\"attributes\":{},\"id\":\"6430afa0-056e-42bf-ada9-2849eb9a166c\",\"type\":\"ResetTool\"}],\"root_ids\":[\"2935a4a8-0a6a-41ef-9cf5-aa85101e0f7e\"]},\"title\":\"Bokeh Application\",\"version\":\"0.12.10\"}};\n",
       "    var render_items = [{\"docid\":\"b21477b0-a93b-437d-988d-3f746aeae508\",\"elementid\":\"18d2d237-c923-4382-9dc0-1f5a2320faf1\",\"modelid\":\"2935a4a8-0a6a-41ef-9cf5-aa85101e0f7e\"}];\n",
       "\n",
       "    root.Bokeh.embed.embed_items(docs_json, render_items);\n",
       "  }\n",
       "\n",
       "  if (root.Bokeh !== undefined) {\n",
       "    embed_document(root);\n",
       "  } else {\n",
       "    var attempts = 0;\n",
       "    var timer = setInterval(function(root) {\n",
       "      if (root.Bokeh !== undefined) {\n",
       "        embed_document(root);\n",
       "        clearInterval(timer);\n",
       "      }\n",
       "      attempts++;\n",
       "      if (attempts > 100) {\n",
       "        console.log(\"Bokeh: ERROR: Unable to embed document because BokehJS library is missing\")\n",
       "        clearInterval(timer);\n",
       "      }\n",
       "    }, 10, root)\n",
       "  }\n",
       "})(window);"
      ],
      "application/vnd.bokehjs_exec.v0+json": ""
     },
     "metadata": {
      "application/vnd.bokehjs_exec.v0+json": {
       "id": "2935a4a8-0a6a-41ef-9cf5-aa85101e0f7e"
      }
     },
     "output_type": "display_data"
    }
   ],
   "source": [
    "from bokeh.layouts import column\n",
    "from bokeh.models import CustomJS, ColumnDataSource, Slider\n",
    "\n",
    "x = [x*0.005 for x in range(0, 201)]\n",
    "\n",
    "source = ColumnDataSource(data=dict(x=x, y=x))\n",
    "\n",
    "plot = figure(plot_width=400, plot_height=400)\n",
    "plot.line('x', 'y', source=source, line_width=3, line_alpha=0.6)\n",
    "\n",
    "slider = Slider(start=0.1, end=6, value=1, step=.1, title=\"power\")\n",
    "\n",
    "update_curve = CustomJS(args=dict(source=source, slider=slider), code=\"\"\"\n",
    "    var data = source.get('data');\n",
    "    var f = slider.value;\n",
    "    x = data['x']\n",
    "    y = data['y']\n",
    "    for (i = 0; i < x.length; i++) {\n",
    "        y[i] = Math.pow(x[i], f)\n",
    "    }\n",
    "    source.change.emit();\n",
    "\"\"\")\n",
    "slider.js_on_change('value', update_curve)\n",
    "\n",
    "\n",
    "show(column(slider, plot))"
   ]
  },
  {
   "cell_type": "markdown",
   "metadata": {},
   "source": [
    "## Calbacks for selections\n",
    "\n",
    "It's also possible to make JavaScript actions that execute whenever a user selection (e.g., box, point, lasso) changes. This is done by attaching the same kind of CustomJS object to whatever data source the selection is made on.\n",
    "\n",
    "The example below is a bit more sophisticated, and demonstrates updating one glyph's data source in response to another glyph's selection: "
   ]
  },
  {
   "cell_type": "code",
   "execution_count": 15,
   "metadata": {},
   "outputs": [
    {
     "data": {
      "text/html": [
       "\n",
       "<div class=\"bk-root\">\n",
       "    <div class=\"bk-plotdiv\" id=\"332a6667-2751-474d-899d-17d33ebaab2a\"></div>\n",
       "</div>"
      ]
     },
     "metadata": {},
     "output_type": "display_data"
    },
    {
     "data": {
      "application/javascript": [
       "(function(root) {\n",
       "  function embed_document(root) {\n",
       "    var docs_json = {\"5d9d115a-018a-4a4c-aa09-041acbe935cc\":{\"roots\":{\"references\":[{\"attributes\":{\"source\":{\"id\":\"220e68e7-7bc7-4bef-a802-d03c9f714aef\",\"type\":\"ColumnDataSource\"}},\"id\":\"eb1e5b1b-78a5-496b-8285-c68e8b1997ab\",\"type\":\"CDSView\"},{\"attributes\":{},\"id\":\"e8a02f90-4d55-455d-871a-ce67d36bf8d1\",\"type\":\"BasicTicker\"},{\"attributes\":{\"line_alpha\":{\"value\":0.1},\"line_color\":{\"value\":\"#1f77b4\"},\"line_width\":{\"value\":5},\"x\":{\"field\":\"xm\"},\"y\":{\"field\":\"ym\"}},\"id\":\"4608e673-400b-44c7-bf8c-127cc15d973a\",\"type\":\"Line\"},{\"attributes\":{},\"id\":\"c678ec8d-fe45-4b3f-8c7a-78ac720a7909\",\"type\":\"BasicTickFormatter\"},{\"attributes\":{},\"id\":\"5b8ca01e-87c4-41eb-82bf-e28fffef700c\",\"type\":\"BasicTicker\"},{\"attributes\":{\"plot\":null,\"text\":\"Select Here\"},\"id\":\"b56098a1-3cba-4fff-bdbf-501477a172ec\",\"type\":\"Title\"},{\"attributes\":{\"fill_alpha\":{\"value\":0.1},\"fill_color\":{\"value\":\"#1f77b4\"},\"line_alpha\":{\"value\":0.1},\"line_color\":{\"value\":\"#1f77b4\"},\"size\":{\"units\":\"screen\",\"value\":8},\"x\":{\"field\":\"x\"},\"y\":{\"field\":\"y\"}},\"id\":\"4bdc28f9-6eb3-42b8-a6f0-a7ca8c363ba9\",\"type\":\"Circle\"},{\"attributes\":{\"line_alpha\":{\"value\":0.6},\"line_color\":{\"value\":\"orange\"},\"line_width\":{\"value\":5},\"x\":{\"field\":\"xm\"},\"y\":{\"field\":\"ym\"}},\"id\":\"2a9e9a9c-4830-4f1b-b370-586917010995\",\"type\":\"Line\"},{\"attributes\":{\"plot\":{\"id\":\"27bbdccd-722a-40c7-96c5-324cbe5450a8\",\"subtype\":\"Figure\",\"type\":\"Plot\"},\"ticker\":{\"id\":\"e8a02f90-4d55-455d-871a-ce67d36bf8d1\",\"type\":\"BasicTicker\"}},\"id\":\"e033ca27-fde6-412e-94d4-9614d7b40dda\",\"type\":\"Grid\"},{\"attributes\":{\"below\":[{\"id\":\"4b8b8c2e-e2d7-4e01-8496-23864b65c8f5\",\"type\":\"LinearAxis\"}],\"left\":[{\"id\":\"5fdbf4be-c837-4b66-83dd-8095d98bec0a\",\"type\":\"LinearAxis\"}],\"plot_height\":400,\"plot_width\":400,\"renderers\":[{\"id\":\"4b8b8c2e-e2d7-4e01-8496-23864b65c8f5\",\"type\":\"LinearAxis\"},{\"id\":\"e033ca27-fde6-412e-94d4-9614d7b40dda\",\"type\":\"Grid\"},{\"id\":\"5fdbf4be-c837-4b66-83dd-8095d98bec0a\",\"type\":\"LinearAxis\"},{\"id\":\"6c402dd6-3653-4869-97bb-15bc2484637e\",\"type\":\"Grid\"},{\"id\":\"1bdbec4c-541e-4438-9f46-efad30f0c6fe\",\"type\":\"PolyAnnotation\"},{\"id\":\"0c68c2cc-3801-46b3-8376-945e651d9fe1\",\"type\":\"GlyphRenderer\"},{\"id\":\"ca75a805-a170-410a-a18c-076d4646ecc0\",\"type\":\"GlyphRenderer\"}],\"title\":{\"id\":\"b56098a1-3cba-4fff-bdbf-501477a172ec\",\"type\":\"Title\"},\"toolbar\":{\"id\":\"db349dd2-a62f-4645-8214-937865dff399\",\"type\":\"Toolbar\"},\"x_range\":{\"id\":\"283c7ab6-270d-47cc-9f40-9c808532f057\",\"type\":\"DataRange1d\"},\"x_scale\":{\"id\":\"27793186-40dc-4130-ba3f-1fd69d8c88e0\",\"type\":\"LinearScale\"},\"y_range\":{\"id\":\"25294d27-31dc-4d8e-b6f7-1694b72c39df\",\"type\":\"DataRange1d\"},\"y_scale\":{\"id\":\"c9aef24c-0b19-44d0-afc4-a3c6f203f59f\",\"type\":\"LinearScale\"}},\"id\":\"27bbdccd-722a-40c7-96c5-324cbe5450a8\",\"subtype\":\"Figure\",\"type\":\"Plot\"},{\"attributes\":{\"callback\":null,\"overlay\":{\"id\":\"1bdbec4c-541e-4438-9f46-efad30f0c6fe\",\"type\":\"PolyAnnotation\"}},\"id\":\"87780ef1-c741-4fb1-89d1-dd3b3ad97894\",\"type\":\"LassoSelectTool\"},{\"attributes\":{\"args\":{\"s2\":{\"id\":\"f97bd793-6399-45aa-b85c-80085971ad59\",\"type\":\"ColumnDataSource\"}},\"code\":\"\\n    var inds = cb_obj.get('selected')['1d'].indices;\\n    var d = cb_obj.get('data');\\n    var ym = 0\\n    \\n    if (inds.length == 0) { return; }\\n    \\n    for (i = 0; i < d['color'].length; i++) {\\n        d['color'][i] = \\\"navy\\\"\\n    }\\n    for (i = 0; i < inds.length; i++) {\\n        d['color'][inds[i]] = \\\"firebrick\\\"\\n        ym += d['y'][inds[i]]\\n    }\\n    \\n    ym /= inds.length\\n    s2.get('data')['ym'] = [ym, ym]\\n    \\n    cb_obj.trigger('change');\\n    s2.trigger('change');\\n\"},\"id\":\"b4f5cefa-7e99-42e8-915b-774d056d9c38\",\"type\":\"CustomJS\"},{\"attributes\":{\"active_drag\":\"auto\",\"active_inspect\":\"auto\",\"active_scroll\":\"auto\",\"active_tap\":\"auto\",\"tools\":[{\"id\":\"87780ef1-c741-4fb1-89d1-dd3b3ad97894\",\"type\":\"LassoSelectTool\"}]},\"id\":\"db349dd2-a62f-4645-8214-937865dff399\",\"type\":\"Toolbar\"},{\"attributes\":{\"fill_alpha\":{\"value\":0.4},\"fill_color\":{\"field\":\"color\"},\"line_alpha\":{\"value\":0.4},\"line_color\":{\"field\":\"color\"},\"size\":{\"units\":\"screen\",\"value\":8},\"x\":{\"field\":\"x\"},\"y\":{\"field\":\"y\"}},\"id\":\"fd880e38-a43e-4403-bc6d-c633b0137af0\",\"type\":\"Circle\"},{\"attributes\":{\"data_source\":{\"id\":\"220e68e7-7bc7-4bef-a802-d03c9f714aef\",\"type\":\"ColumnDataSource\"},\"glyph\":{\"id\":\"fd880e38-a43e-4403-bc6d-c633b0137af0\",\"type\":\"Circle\"},\"hover_glyph\":null,\"muted_glyph\":null,\"nonselection_glyph\":{\"id\":\"4bdc28f9-6eb3-42b8-a6f0-a7ca8c363ba9\",\"type\":\"Circle\"},\"selection_glyph\":null,\"view\":{\"id\":\"eb1e5b1b-78a5-496b-8285-c68e8b1997ab\",\"type\":\"CDSView\"}},\"id\":\"0c68c2cc-3801-46b3-8376-945e651d9fe1\",\"type\":\"GlyphRenderer\"},{\"attributes\":{\"fill_alpha\":{\"value\":0.5},\"fill_color\":{\"value\":\"lightgrey\"},\"level\":\"overlay\",\"line_alpha\":{\"value\":1.0},\"line_color\":{\"value\":\"black\"},\"line_dash\":[4,4],\"line_width\":{\"value\":2},\"plot\":null,\"xs_units\":\"screen\",\"ys_units\":\"screen\"},\"id\":\"1bdbec4c-541e-4438-9f46-efad30f0c6fe\",\"type\":\"PolyAnnotation\"},{\"attributes\":{},\"id\":\"54afb683-581c-4e40-bb26-8b9f06f3aa27\",\"type\":\"BasicTickFormatter\"},{\"attributes\":{},\"id\":\"27793186-40dc-4130-ba3f-1fd69d8c88e0\",\"type\":\"LinearScale\"},{\"attributes\":{},\"id\":\"c9aef24c-0b19-44d0-afc4-a3c6f203f59f\",\"type\":\"LinearScale\"},{\"attributes\":{\"callback\":null},\"id\":\"283c7ab6-270d-47cc-9f40-9c808532f057\",\"type\":\"DataRange1d\"},{\"attributes\":{\"formatter\":{\"id\":\"c678ec8d-fe45-4b3f-8c7a-78ac720a7909\",\"type\":\"BasicTickFormatter\"},\"plot\":{\"id\":\"27bbdccd-722a-40c7-96c5-324cbe5450a8\",\"subtype\":\"Figure\",\"type\":\"Plot\"},\"ticker\":{\"id\":\"e8a02f90-4d55-455d-871a-ce67d36bf8d1\",\"type\":\"BasicTicker\"}},\"id\":\"4b8b8c2e-e2d7-4e01-8496-23864b65c8f5\",\"type\":\"LinearAxis\"},{\"attributes\":{\"callback\":null,\"column_names\":[\"xm\",\"ym\"],\"data\":{\"xm\":[0,1],\"ym\":[0.5,0.5]}},\"id\":\"f97bd793-6399-45aa-b85c-80085971ad59\",\"type\":\"ColumnDataSource\"},{\"attributes\":{\"formatter\":{\"id\":\"54afb683-581c-4e40-bb26-8b9f06f3aa27\",\"type\":\"BasicTickFormatter\"},\"plot\":{\"id\":\"27bbdccd-722a-40c7-96c5-324cbe5450a8\",\"subtype\":\"Figure\",\"type\":\"Plot\"},\"ticker\":{\"id\":\"5b8ca01e-87c4-41eb-82bf-e28fffef700c\",\"type\":\"BasicTicker\"}},\"id\":\"5fdbf4be-c837-4b66-83dd-8095d98bec0a\",\"type\":\"LinearAxis\"},{\"attributes\":{\"callback\":null},\"id\":\"25294d27-31dc-4d8e-b6f7-1694b72c39df\",\"type\":\"DataRange1d\"},{\"attributes\":{\"data_source\":{\"id\":\"f97bd793-6399-45aa-b85c-80085971ad59\",\"type\":\"ColumnDataSource\"},\"glyph\":{\"id\":\"2a9e9a9c-4830-4f1b-b370-586917010995\",\"type\":\"Line\"},\"hover_glyph\":null,\"muted_glyph\":null,\"nonselection_glyph\":{\"id\":\"4608e673-400b-44c7-bf8c-127cc15d973a\",\"type\":\"Line\"},\"selection_glyph\":null,\"view\":{\"id\":\"0c4c4130-37f3-4027-8f2e-001321e1b90d\",\"type\":\"CDSView\"}},\"id\":\"ca75a805-a170-410a-a18c-076d4646ecc0\",\"type\":\"GlyphRenderer\"},{\"attributes\":{\"source\":{\"id\":\"f97bd793-6399-45aa-b85c-80085971ad59\",\"type\":\"ColumnDataSource\"}},\"id\":\"0c4c4130-37f3-4027-8f2e-001321e1b90d\",\"type\":\"CDSView\"},{\"attributes\":{\"callback\":{\"id\":\"b4f5cefa-7e99-42e8-915b-774d056d9c38\",\"type\":\"CustomJS\"},\"column_names\":[\"color\",\"x\",\"y\"],\"data\":{\"color\":[\"navy\",\"navy\",\"navy\",\"navy\",\"navy\",\"navy\",\"navy\",\"navy\",\"navy\",\"navy\",\"navy\",\"navy\",\"navy\",\"navy\",\"navy\",\"navy\",\"navy\",\"navy\",\"navy\",\"navy\",\"navy\",\"navy\",\"navy\",\"navy\",\"navy\",\"navy\",\"navy\",\"navy\",\"navy\",\"navy\",\"navy\",\"navy\",\"navy\",\"navy\",\"navy\",\"navy\",\"navy\",\"navy\",\"navy\",\"navy\",\"navy\",\"navy\",\"navy\",\"navy\",\"navy\",\"navy\",\"navy\",\"navy\",\"navy\",\"navy\",\"navy\",\"navy\",\"navy\",\"navy\",\"navy\",\"navy\",\"navy\",\"navy\",\"navy\",\"navy\",\"navy\",\"navy\",\"navy\",\"navy\",\"navy\",\"navy\",\"navy\",\"navy\",\"navy\",\"navy\",\"navy\",\"navy\",\"navy\",\"navy\",\"navy\",\"navy\",\"navy\",\"navy\",\"navy\",\"navy\",\"navy\",\"navy\",\"navy\",\"navy\",\"navy\",\"navy\",\"navy\",\"navy\",\"navy\",\"navy\",\"navy\",\"navy\",\"navy\",\"navy\",\"navy\",\"navy\",\"navy\",\"navy\",\"navy\",\"navy\",\"navy\",\"navy\",\"navy\",\"navy\",\"navy\",\"navy\",\"navy\",\"navy\",\"navy\",\"navy\",\"navy\",\"navy\",\"navy\",\"navy\",\"navy\",\"navy\",\"navy\",\"navy\",\"navy\",\"navy\",\"navy\",\"navy\",\"navy\",\"navy\",\"navy\",\"navy\",\"navy\",\"navy\",\"navy\",\"navy\",\"navy\",\"navy\",\"navy\",\"navy\",\"navy\",\"navy\",\"navy\",\"navy\",\"navy\",\"navy\",\"navy\",\"navy\",\"navy\",\"navy\",\"navy\",\"navy\",\"navy\",\"navy\",\"navy\",\"navy\",\"navy\",\"navy\",\"navy\",\"navy\",\"navy\",\"navy\",\"navy\",\"navy\",\"navy\",\"navy\",\"navy\",\"navy\",\"navy\",\"navy\",\"navy\",\"navy\",\"navy\",\"navy\",\"navy\",\"navy\",\"navy\",\"navy\",\"navy\",\"navy\",\"navy\",\"navy\",\"navy\",\"navy\",\"navy\",\"navy\",\"navy\",\"navy\",\"navy\",\"navy\",\"navy\",\"navy\",\"navy\",\"navy\",\"navy\",\"navy\",\"navy\",\"navy\",\"navy\",\"navy\",\"navy\",\"navy\",\"navy\",\"navy\",\"navy\",\"navy\",\"navy\",\"navy\",\"navy\",\"navy\",\"navy\",\"navy\",\"navy\",\"navy\",\"navy\",\"navy\",\"navy\",\"navy\",\"navy\",\"navy\",\"navy\",\"navy\",\"navy\",\"navy\",\"navy\",\"navy\",\"navy\",\"navy\",\"navy\",\"navy\",\"navy\",\"navy\",\"navy\",\"navy\",\"navy\",\"navy\",\"navy\",\"navy\",\"navy\",\"navy\",\"navy\",\"navy\",\"navy\",\"navy\",\"navy\",\"navy\",\"navy\",\"navy\",\"navy\",\"navy\",\"navy\",\"navy\",\"navy\",\"navy\",\"navy\",\"navy\",\"navy\",\"navy\",\"navy\",\"navy\",\"navy\",\"navy\",\"navy\",\"navy\",\"navy\",\"navy\",\"navy\",\"navy\",\"navy\",\"navy\",\"navy\",\"navy\",\"navy\",\"navy\",\"navy\",\"navy\",\"navy\",\"navy\",\"navy\",\"navy\",\"navy\",\"navy\",\"navy\",\"navy\",\"navy\",\"navy\",\"navy\",\"navy\",\"navy\",\"navy\",\"navy\",\"navy\",\"navy\",\"navy\",\"navy\",\"navy\",\"navy\",\"navy\",\"navy\",\"navy\",\"navy\",\"navy\",\"navy\",\"navy\",\"navy\",\"navy\",\"navy\",\"navy\",\"navy\",\"navy\",\"navy\",\"navy\",\"navy\",\"navy\",\"navy\",\"navy\",\"navy\",\"navy\",\"navy\",\"navy\",\"navy\",\"navy\",\"navy\",\"navy\",\"navy\",\"navy\",\"navy\",\"navy\",\"navy\",\"navy\",\"navy\",\"navy\",\"navy\",\"navy\",\"navy\",\"navy\",\"navy\",\"navy\",\"navy\",\"navy\",\"navy\",\"navy\",\"navy\",\"navy\",\"navy\",\"navy\",\"navy\",\"navy\",\"navy\",\"navy\",\"navy\",\"navy\",\"navy\",\"navy\",\"navy\",\"navy\",\"navy\",\"navy\",\"navy\",\"navy\",\"navy\",\"navy\",\"navy\",\"navy\",\"navy\",\"navy\",\"navy\",\"navy\",\"navy\",\"navy\",\"navy\",\"navy\",\"navy\",\"navy\",\"navy\",\"navy\",\"navy\",\"navy\",\"navy\",\"navy\",\"navy\",\"navy\",\"navy\",\"navy\",\"navy\",\"navy\",\"navy\",\"navy\",\"navy\",\"navy\",\"navy\",\"navy\",\"navy\",\"navy\",\"navy\",\"navy\",\"navy\",\"navy\",\"navy\",\"navy\",\"navy\",\"navy\",\"navy\",\"navy\",\"navy\",\"navy\",\"navy\",\"navy\",\"navy\",\"navy\",\"navy\",\"navy\",\"navy\",\"navy\",\"navy\",\"navy\",\"navy\",\"navy\",\"navy\",\"navy\",\"navy\",\"navy\",\"navy\",\"navy\",\"navy\",\"navy\",\"navy\",\"navy\",\"navy\",\"navy\",\"navy\",\"navy\",\"navy\",\"navy\",\"navy\",\"navy\",\"navy\",\"navy\",\"navy\",\"navy\",\"navy\",\"navy\",\"navy\",\"navy\",\"navy\",\"navy\",\"navy\",\"navy\",\"navy\",\"navy\",\"navy\",\"navy\",\"navy\",\"navy\",\"navy\",\"navy\",\"navy\",\"navy\",\"navy\",\"navy\",\"navy\",\"navy\",\"navy\",\"navy\",\"navy\",\"navy\",\"navy\",\"navy\",\"navy\",\"navy\",\"navy\",\"navy\",\"navy\",\"navy\",\"navy\",\"navy\",\"navy\",\"navy\",\"navy\",\"navy\",\"navy\",\"navy\",\"navy\",\"navy\",\"navy\",\"navy\",\"navy\",\"navy\",\"navy\",\"navy\",\"navy\",\"navy\",\"navy\",\"navy\",\"navy\",\"navy\",\"navy\",\"navy\",\"navy\",\"navy\",\"navy\",\"navy\",\"navy\",\"navy\",\"navy\",\"navy\"],\"x\":[0.5405170126427395,0.3374017330916801,0.12802644635134253,0.8533000073418308,0.009345220684093047,0.7412776121760829,0.7811163733078542,0.4483195418192307,0.8305550764066479,0.8565730057796962,0.6837470159852674,0.9826615496556652,0.7353157123567434,0.6611503174575557,0.2013208692865338,0.9336875205087328,0.1789125790274586,0.15631006107881074,0.7680567495488347,0.5152443946978021,0.658310012404915,0.2519967785269349,0.3923116781955671,0.1834157683572405,0.595234653997044,0.37968628668018034,0.8215688625271582,0.699979890287797,0.45081742953120396,0.5507624228006646,0.31949604276739785,0.35524948397546685,0.5181482445854915,0.9221490673617773,0.07209877045699631,0.9539863237601697,0.3293090935345544,0.4466410812363276,0.2180103729399886,0.6845862834005176,0.8582955375894646,0.9529468235638617,0.03447161962244294,0.9251084939158825,0.8889060197578245,0.5048416597284826,0.11015625290301068,0.26286575768864706,0.7186088120333052,0.7397024204103483,0.8300436822611447,0.13089241814149244,0.7221921932810405,0.2764958304318127,0.9743886993152162,0.6229052638033545,0.2111236094904042,0.6964332531252896,0.02598073608439866,0.963517167630082,0.29378460573868936,0.18042379219224658,0.18090305540718832,0.039067634853472866,0.4425988833781406,0.008119676993068481,0.43120426083948293,0.31748861262487504,0.8345791648160729,0.7664395531956644,0.3862186688882502,0.3754773689428549,0.8929895642818318,0.07858945495004466,0.9133269175288715,0.4615698549468714,0.5450887239887887,0.06053400045233259,0.8372599915999357,0.4502643970190777,0.19732614150078842,0.8251017671762177,0.7985039589686896,0.7350547541576506,0.6922438977133659,0.36174895624003256,0.27508531583636686,0.9080603542325341,0.17906531298177808,0.2707076488399559,0.5941118013006526,0.6089462434737059,0.2882882240656286,0.9226744147122677,0.8387527607789061,0.8675865598109676,0.5211189215597095,0.8760137971699051,0.7646303409858493,0.7781965393423039,0.6877650239092614,0.21821965854060876,0.33182843180595434,0.8957118370916569,0.33415796549657617,0.49548379619648875,0.27289280906082514,0.20434743351795281,0.4521570766503419,0.18213931584643772,0.9558706410487597,0.3593452612347189,0.7334956961592755,0.5326486307105374,0.5834348188713723,0.7637149541663213,0.9185489253947416,0.18654504023305907,0.954176036813038,0.369549119894106,0.7232931592336451,0.03865936010136917,0.5505933214791823,0.2247423092811598,0.863632213168228,0.19590849279460087,0.9563352576390323,0.8929210882346262,0.6137406769181326,0.8356764426521238,0.5455170270389224,0.8911364317298215,0.7980053859509001,0.44656384231385404,0.11057520766928153,0.5181907329226368,0.3854915966646536,0.7558841217366528,0.5262244825079291,0.23405204497457,0.3930011247619398,0.506166411430989,0.35128197513678305,0.6905877491450729,0.827746980046159,0.808934404488535,0.38860529448639625,0.036451899900502016,0.12509823240502116,0.7448421321754574,0.7622209549267518,0.6681145925833731,0.44523879507736597,0.0651940921995372,0.9324005340695867,0.1848120599051537,0.4287580219124062,0.6789499314236623,0.7905607229800705,0.17749971148405475,0.1320694956400824,0.34912662425599506,0.10590463478425627,0.518687234884732,0.5756284608237293,0.07336466978169054,0.8455017653016735,0.8077144263349338,0.060283052408793614,0.22663681773913424,0.32272561348923,0.7492761030218863,0.9696851783728535,0.5962495577135887,0.8669963624931163,0.6508473941840538,0.727860444055915,0.10486824566880681,0.33334497253715323,0.7621886934074007,0.7997019471754424,0.36256921996149405,0.9189061877977304,0.1430496210686938,0.13622614377020914,0.0784344060125789,0.6153081893202574,0.30662909831869023,0.4045626699901752,0.3864951821525625,0.8483086899198171,0.6330674857960745,0.08274387790635185,0.8487584794787507,0.4308184368022189,0.5361771624234044,0.6066623000698481,0.49817285224388297,0.2509702785788669,0.09230979749378443,0.20217950382803407,0.4920467645808626,0.5729807286994512,0.04127241362615586,0.36174844848331444,0.7711290110129969,0.8865864758872989,0.846563536507929,0.18493514696077828,0.6076612693772344,0.4251731543662821,0.23128282020642565,0.6666008682784637,0.4447192389832326,0.7650679365011621,0.928952652603784,0.24943565600232143,0.9158558914660072,0.8176460483237389,0.13876494822350582,0.9095620019434988,0.9233061684483953,0.5489386413507089,0.34487695901034643,0.36899399431125457,0.3367437380007057,0.033469069967406284,0.9750150357065798,0.6997115511427925,0.9792292492103793,0.7793906467779501,0.858872262780104,0.565630731643777,0.29100247680487235,0.16063330064888015,0.489584303084166,0.19867634429940628,0.6790296381311989,0.7050891587347924,0.8019515792452041,0.062067014094336126,0.18421763182650508,0.7229780780525317,0.7209644242903683,0.25923538546383273,0.5077487851837852,0.9550088996992999,0.686742599809864,0.8187328035136158,0.5561472715889522,0.4803000223303302,0.008831363831919292,0.14910038569098938,0.871524092367543,0.8866850565857272,0.848774146748305,0.6886828576416694,0.8550931251829957,0.08817050787020331,0.701208035742305,0.3356596144418236,0.745278546403939,0.9255480319656233,0.12857047739575056,0.40076519007566536,0.9256760328141438,0.5284174628961303,0.17627402912758483,0.8187208820742382,0.9937681022620285,0.13754238183203127,0.7958675877054018,0.1397845286457543,0.7938887186872757,0.7374539528426521,0.6723882374936753,0.0359812311615495,0.7247465266147664,0.6644306838338312,0.3842066972377368,0.7409678466073858,0.06513129929297345,0.705326678251292,0.8117336452325217,0.7450201707577259,0.684291612088128,0.09506764842819415,0.9042648644792013,0.5002334322780994,0.9835503127641706,0.9779874950377049,0.8328205256658601,0.6655373407289507,0.06984646320884891,0.9702315249589211,0.5120235361313322,0.31670426661762874,0.147709971214944,0.9415866521379179,0.2735672453174468,0.159051408815592,0.008484006318474346,0.6506313382871594,0.8811074337555401,0.004147385363890033,0.5596400352481518,0.2599761648907791,0.226530382555432,0.021891599428538355,0.5575433842520451,0.23212978735029455,0.8008973843129755,0.48023116397683496,0.6959023330263631,0.8778654604962008,0.9567528527729838,0.16436437961434158,0.4810217855340083,0.7979146933140884,0.4347823650317908,0.0098737353296795,0.6803795779545624,0.9218014598184313,0.43807258070892663,0.7736160251211528,0.1738599460457162,0.0688758727096459,0.18685434933554712,0.7326042209855748,0.1358125890247337,0.8698892555271568,0.5063990905983363,0.9675768439163476,0.5032986686705373,0.08179081455343495,0.13624626031169063,0.4432145489472008,0.20786551109567242,0.2557712887078931,0.6111438201976733,0.9175409818566852,0.3746288986692917,0.09796861147506986,0.813616660353505,0.004772824081626159,0.7660336378940275,0.841387564936258,0.19839313022934968,0.11712751336705673,0.9038599516122398,0.834246181677205,0.30551190435748077,0.6206693075195354,0.9609343590113251,0.4780419384957332,0.18316316970975033,0.24243243323634356,0.14006622145925307,0.5203126321317955,0.7275361908717732,0.1381398952621321,0.8539406139682084,0.8172152867808317,0.14865786910084444,0.8754435466350505,0.6984790489382454,0.5051445198676932,0.8252961091642745,0.80289205567002,0.8258172012290715,0.2748944194095023,0.15911057940164752,0.3868547036580321,0.9682170607404871,0.08276039727928908,0.7324058942913422,0.5596826359582774,0.9734919504075034,0.30778750487478046,0.6386377733612919,0.939045080733654,0.5940441103160733,0.04354017431069612,0.7914672567194244,0.7185388612610661,0.3589403161074528,0.8638346196318111,0.22627749187857404,0.7243143278969508,0.10232218192613529,0.43493880566236187,0.21904557144048953,0.4777457367723148,0.9754324171340478,0.823787479408761,0.09143093883615738,0.9607994515870989,0.7413055218855386,0.7546817147983615,0.5962425140075714,0.013282589111126564,0.010093546942178677,0.6993079817872285,0.0005557307117273202,0.34081502760269766,0.6450556682018027,0.8808862561428759,0.8525766237723429,0.6915284888326771,0.7470247932832533,0.3968157041337318,0.634158877790186,0.1743875496488596,0.36691928332570767,0.42781510908799525,0.8391011894740436,0.9170006630736086,0.9455538725481905,0.08306521000357225,0.04422818551441987,0.3018103224895643,0.46413396340008206,0.08567396330687516,0.48670793890172015,0.042995151315149416,0.9754792163661925,0.1017556245452843,0.34592026632146955,0.421471166349107,0.46576791555848374,0.3316196083178179,0.8592209057931411,0.1316596697369311,0.3136670147683699,0.2375453057704865,0.7966210833029591,0.24669997098902396,0.280365831938592,0.5131219581815862,0.1927154268509178,0.0685320968638462,0.16894771007702536,0.6258565834985031,0.4282653708984612,0.1059044973497425,0.9069126675882303,0.9938635406992957,0.413081546805001,0.9550907865435362,0.2042586113022855,0.10448402362698439,0.1533802746982258,0.7754681186467381,0.3715493852465338,0.4373589441503589,0.3582529464162688,0.3278408911056524,0.2827003621762284,0.5316205502176478,0.9062462830238485,0.6517499675697835,0.010415168465209956,0.7640138713918018,0.9485008542672199,0.8772541962056091,0.9556864899976838,0.2723063237832454,0.956258056413925,0.242217568267745,0.8255103259607275,0.05834440189781909,0.7540193763953442,0.05699971855155128,0.489913474273574,0.8639491454595541,0.30767073760131525,0.8980352632191166,0.2009186629718448,0.48424471741142827,0.12159093192458692,0.7126441200656509,0.9854268389147801,0.2437075491140751,0.35068799878245804,0.13985807230053704,0.7596489319294728,0.8396681496901929,0.30055744739559687,0.07265454799323623,0.9473605282774934,0.5395812647108517,0.7719166568437081,0.25029372733345345,0.8608378264669405,0.09776388646313139,0.9040194806305235,0.055504695859650455,0.3767930923204461,0.09732452214958842,0.9666646507062973],\"y\":[0.08897396379216893,0.7025376874014595,0.9756959071681611,0.4809362329770843,0.8888932296598065,0.6627220629876045,0.8438507725339436,0.8420579031776096,0.5345713567779947,0.713357811972996,0.8860947295330458,0.7882230042496673,0.8020371168244649,0.32966417397113,0.808151818790391,0.006580686243775724,0.7444861501938751,0.704906337788761,0.7021841372968355,0.18527794542895715,0.9347062130475016,0.39696445487070653,0.2900828397092833,0.8487813090561418,0.9944095549375735,0.6457450700460056,0.011565363768144543,0.3575652027335704,0.8801399742634104,0.9334231878862097,0.2039154509621548,0.45858285559225787,0.32129866769859905,0.6510070623586782,0.1563557272832925,0.8748593515288842,0.8554539681387286,0.2385504371322149,0.7831189819896534,0.14734731256647093,0.6125161538362411,0.688935941778111,0.08769496018018119,0.4959720471212653,0.7159303900324562,0.7831858294411457,0.22304509559285057,0.28115947149413956,0.15378545527691334,0.06828114297329779,0.7773791067940143,0.7093331133088695,0.12053147985018475,0.012438072855115223,0.9318720998463605,0.5824468298433757,0.4118735599396073,0.40261859503725717,0.5487253641121973,0.6693705259508236,0.6547507462154349,0.7641899880737681,0.6187982900745993,0.36812995962211226,0.181715181499028,0.7256226782143467,0.5131841090463862,0.04094805531321166,0.9104315608832615,0.43417370664868615,0.8832541109670958,0.4597167928510051,0.529220898136309,0.2624472923497999,0.8674066853671334,0.8528173640837986,0.26236139474575193,0.42080021037494675,0.23002694696092008,0.17917772566177814,0.3188764463181939,0.2738701520727068,0.5318679043209034,0.9407313795530502,0.04389845429529837,0.22018003060953895,0.33304946020979176,0.8613112211339792,0.6804895778392767,0.10501838456050383,0.3263339231198463,0.599650872437154,0.7951362079703723,0.03020865420652019,0.33675464052094584,0.7574467388376712,0.5637764090021294,0.4705036573138536,0.626132348006104,0.9982787333485625,0.7928548616558491,0.43125018540894666,0.029877468515130623,0.5004934065641365,0.677497091321957,0.40336670634975846,0.5229297002828773,0.19590090947261307,0.9987666000037817,0.03501147817550054,0.7473535600169356,0.7467555462694929,0.5604370448785039,0.92466425075091,0.22112497407911114,0.13512654550144598,0.49318884017044096,0.09181211283539281,0.4021556035931172,0.7319402916230703,0.38663065896556525,0.34112555351900076,0.705367885323905,0.7187995109310777,0.17352264372741277,0.3689415691396347,0.1898656120729202,0.9192544616261974,0.4128553206997285,0.003172873013751465,0.45640503626480555,0.3986851898737028,0.054136507555444524,0.3438063127836799,0.23814281314702268,0.4422614237063395,0.8969045833352237,0.7590047921086056,0.06709765592965788,0.49154894247448844,0.35344455439027045,0.8667480234754108,0.9311189828150167,0.2507199884831538,0.7580408702347394,0.2631591027738789,0.6192075548984735,0.8667237214354402,0.8947489507085152,0.6520012586556624,0.7147978017746276,0.803476888311593,0.5205954021559318,0.8396683124859747,0.1347062626587704,0.47902033586928316,0.9197849397728838,0.8719326121194872,0.3871390952055245,0.22810910651159044,0.44761185126158687,0.815618424983387,0.034003960676071365,0.5557942505433073,0.24516327875655786,0.6561997655550628,0.8790177693840135,0.9195706186259325,0.9166840147670593,0.24316595984103462,0.9840766585463889,0.3303394409121033,0.17623710492183475,0.22913860815042064,0.5843697648605438,0.6955973390348292,0.746492535268162,0.2639441162921802,0.6330368310426918,0.16018567612579893,0.26065964637868366,0.6585363944479191,0.7117043086050565,0.0374089606388448,0.6806932057808047,0.6327399177681681,0.08872983994301065,0.88682670629563,0.9376166732909716,0.34748181618223717,0.7093250281172772,0.32508710998247814,0.666759902349691,0.43690520120170173,0.6512844219331674,0.34618861571010817,0.8767998570096363,0.41530997738887554,0.17093324172935664,0.4192231154933612,0.7872126159466576,0.6632032547919468,0.4105436096528907,0.0573373528371528,0.4424675065236312,0.4334656961793628,0.6909226584856103,0.2800918092136848,0.1352533771975335,0.03866799247635955,0.5850623156046483,0.5735186275968748,0.969310801272536,0.5311445281446182,0.3873813746497401,0.8687982300818963,0.7364947677169861,0.12475413150190273,0.6152804745004269,0.6691362837704493,0.37256070902421,0.47581293950435266,0.44683547816127955,0.8798515122995094,0.07817493342181003,0.4748253025649183,0.021545317019286192,0.6142438391583417,0.1333652369705538,0.4957543686437089,0.3595685315677991,0.4514483454390067,0.9683815764439978,0.6795140434336572,0.9031911163618997,0.04507188137176221,0.12171247184254941,0.9413249342536272,0.7355693364635705,0.509728596831578,0.14088894382989747,0.0393155492549323,0.2808560142684914,0.1385370388931273,0.516437533723701,0.5178134670029096,0.997366815192163,0.7901218271015934,0.18194503721264976,0.0866361037940575,0.12438203294833305,0.9237419906235839,0.42861271038590354,0.17105095705425066,0.7209915706159907,0.00971861683237163,0.935647680774886,0.49767191963937596,0.696522420111551,0.1420795184146444,0.23484027950033226,0.20502641999844384,0.4647638516294652,0.15117364071475403,0.6285745035852155,0.7067421182625722,0.41045926063363725,0.017475052072431385,0.4686164545568102,0.8200517861946449,0.4677846867123082,0.8554947310112683,0.18556645040556052,0.28551918779190477,0.1505388744145173,0.18866969007262935,0.02665535993698731,0.29856890167090344,0.49071605541078445,0.9402469069282177,0.91086936307953,0.031164168640392953,0.2741275839335674,0.13470259585630695,0.07985059388786031,0.3640909928717607,0.8079833856790529,0.7930408704464135,0.771612170900495,0.1661569126989343,0.6135354648434334,0.18938559454453596,0.8989839772160397,0.5109221394034237,0.47170547123145856,0.9233940690548953,0.939323692098168,0.4589697572562209,0.7181608825062962,0.5895125477799078,0.17666774025246257,0.09585127130744908,0.08552420894283608,0.5339926715578959,0.9463219071804262,0.054615261630385215,0.4063058334795072,0.7089228919499817,0.28119083218286856,0.2714484890932283,0.4860795822958762,0.7146307468423373,0.15077935983823532,0.299641570463415,0.6778531773778308,0.17320360226238274,0.49725970293105326,0.9972936157311071,0.6153201989365288,0.6572584247156791,0.1761225527791488,0.5266998786942511,0.42459559304747707,0.737178148108426,0.1685845647400286,0.11173468444309309,0.40736663778399085,0.21155276023130887,0.33431689588317026,0.23056918450243447,0.6904881167482178,0.28811127014878846,0.7983325764516478,0.1615986219439336,0.5558003085389274,0.016236533949926746,0.7255993044322423,0.7371459443263165,0.7003159876508439,0.105662440678151,0.49915820100031916,0.3484644590619064,0.7932755404768767,0.6244341086554205,0.07308213949449638,0.2280305456725885,0.5009126588066158,0.4819851723917834,0.34030528891779843,0.40510584257668625,0.6344089078232639,0.958558059297196,0.6091072663193511,0.030202264432333426,0.3744616812041217,0.4871315739015959,0.3800502956107784,0.8805441986333649,0.022112411840036983,0.5602382040083784,0.8966434569012649,0.06768429806618703,0.8987397428991368,0.6691093041124139,0.3178251180590763,0.21774466970819273,0.22629520653139823,0.05257108897752061,0.2606688862732601,0.8566338773182484,0.9037363287038975,0.4562192339186574,0.06158962648855815,0.7836891409484689,0.9161215350998667,0.877706241404094,0.28893485288725396,0.999273145260808,0.24066959298226054,0.8679131605666677,0.6938184820851723,0.4361013423614115,0.10006717680242572,0.6042545399614068,0.06924430507599655,0.8267135638789481,0.5895431229898477,0.46013385897183723,0.9083940882415524,0.39121997284282095,0.7278825904112944,0.6497697020374907,0.9705891954564962,0.15940568361312046,0.69904116736245,0.5885684079145386,0.706946303240393,0.5317014836857773,0.4522483079397235,0.37001854577694804,0.6203615468915213,0.768700458966218,0.24349337760157264,0.07998011949703399,0.04076019469304126,0.7167760531714297,0.9703284389035369,0.28452492086868475,0.7055036281012974,0.7291120179576016,0.5204158645620384,0.2058830377100781,0.39415233084111967,0.36805312690518743,0.6743123083399417,0.6725962427230978,0.691077158942966,0.609184929058193,0.02681375302366129,0.19157588518596147,0.19966997787534568,0.991084193966545,0.7856374297790772,0.2947611038040291,0.0965090097289788,0.49496319046407966,0.010570424570123249,0.23113294526618178,0.549550600705362,0.31239806348248167,0.4949811804919668,0.21901170275822912,0.01812487507597149,0.08680794825863136,0.16869350303701425,0.801044840060989,0.867525345734371,0.29320042759875364,0.7352471226965234,0.3808682137632182,0.31245763021695705,0.8505442964286994,0.36263004872324,0.6366117218757462,0.5239689924357356,0.5399671917561096,0.5249125991694931,0.5490476686473161,0.8193856629576898,0.6500866946512308,0.49985373458175864,0.012987961983769725,0.02003891079963993,0.47744954396325934,0.4934233083108587,0.41030475477655837,0.6473415311071056,0.8236694660482826,0.6118118073564082,0.44384033830175895,0.9372445885566634,0.6536883961277309,0.35804663411006865,0.9315918677472537,0.1933422694327197,0.3192059791733114,0.24720341240636468,0.6246840151984753,0.7465563938177388,0.7097093800561063,0.0595337015290931,0.6823616981235544,0.5591337615731833,0.4479960912128955,0.17354765719083298,0.529049820923358,0.37880966837078844,0.25918934259635273,0.15725399736057277,0.8249689039957919,0.4974172210791483,0.269196218303571,0.7036273375285377,0.21782178765869487,0.6366941383020127,0.7924354154813417,0.13049825549372673,0.44921488217648164,0.49488699169545636,0.8349409792065902,0.6602067160649931,0.7225352642644052,0.9659609177617857,0.2548945984902645,0.6694301596438083,0.2725565090035512,0.09719258270697473,0.027432046868017923,0.25409976717011384,0.4036533757055272]}},\"id\":\"220e68e7-7bc7-4bef-a802-d03c9f714aef\",\"type\":\"ColumnDataSource\"},{\"attributes\":{\"dimension\":1,\"plot\":{\"id\":\"27bbdccd-722a-40c7-96c5-324cbe5450a8\",\"subtype\":\"Figure\",\"type\":\"Plot\"},\"ticker\":{\"id\":\"5b8ca01e-87c4-41eb-82bf-e28fffef700c\",\"type\":\"BasicTicker\"}},\"id\":\"6c402dd6-3653-4869-97bb-15bc2484637e\",\"type\":\"Grid\"}],\"root_ids\":[\"27bbdccd-722a-40c7-96c5-324cbe5450a8\"]},\"title\":\"Bokeh Application\",\"version\":\"0.12.10\"}};\n",
       "    var render_items = [{\"docid\":\"5d9d115a-018a-4a4c-aa09-041acbe935cc\",\"elementid\":\"332a6667-2751-474d-899d-17d33ebaab2a\",\"modelid\":\"27bbdccd-722a-40c7-96c5-324cbe5450a8\"}];\n",
       "\n",
       "    root.Bokeh.embed.embed_items(docs_json, render_items);\n",
       "  }\n",
       "\n",
       "  if (root.Bokeh !== undefined) {\n",
       "    embed_document(root);\n",
       "  } else {\n",
       "    var attempts = 0;\n",
       "    var timer = setInterval(function(root) {\n",
       "      if (root.Bokeh !== undefined) {\n",
       "        embed_document(root);\n",
       "        clearInterval(timer);\n",
       "      }\n",
       "      attempts++;\n",
       "      if (attempts > 100) {\n",
       "        console.log(\"Bokeh: ERROR: Unable to embed document because BokehJS library is missing\")\n",
       "        clearInterval(timer);\n",
       "      }\n",
       "    }, 10, root)\n",
       "  }\n",
       "})(window);"
      ],
      "application/vnd.bokehjs_exec.v0+json": ""
     },
     "metadata": {
      "application/vnd.bokehjs_exec.v0+json": {
       "id": "27bbdccd-722a-40c7-96c5-324cbe5450a8"
      }
     },
     "output_type": "display_data"
    }
   ],
   "source": [
    "from random import random\n",
    "\n",
    "x = [random() for x in range(500)]\n",
    "y = [random() for y in range(500)]\n",
    "color = [\"navy\"] * len(x)\n",
    "\n",
    "s = ColumnDataSource(data=dict(x=x, y=y, color=color))\n",
    "p = figure(plot_width=400, plot_height=400, tools=\"lasso_select\", title=\"Select Here\")\n",
    "p.circle('x', 'y', color='color', size=8, source=s, alpha=0.4)\n",
    "\n",
    "s2 = ColumnDataSource(data=dict(xm=[0,1],ym=[0.5, 0.5]))\n",
    "p.line(x='xm', y='ym', color=\"orange\", line_width=5, alpha=0.6, source=s2)\n",
    "\n",
    "s.callback = CustomJS(args=dict(s2=s2), code=\"\"\"\n",
    "    var inds = cb_obj.get('selected')['1d'].indices;\n",
    "    var d = cb_obj.get('data');\n",
    "    var ym = 0\n",
    "    \n",
    "    if (inds.length == 0) { return; }\n",
    "    \n",
    "    for (i = 0; i < d['color'].length; i++) {\n",
    "        d['color'][i] = \"navy\"\n",
    "    }\n",
    "    for (i = 0; i < inds.length; i++) {\n",
    "        d['color'][inds[i]] = \"firebrick\"\n",
    "        ym += d['y'][inds[i]]\n",
    "    }\n",
    "    \n",
    "    ym /= inds.length\n",
    "    s2.get('data')['ym'] = [ym, ym]\n",
    "    \n",
    "    cb_obj.trigger('change');\n",
    "    s2.trigger('change');\n",
    "\"\"\")\n",
    "\n",
    "show(p)"
   ]
  },
  {
   "cell_type": "markdown",
   "metadata": {
    "collapsed": true
   },
   "source": [
    "# More\n",
    "For more interactions, see the User Guide - http://bokeh.pydata.org/en/latest/docs/user_guide/interaction.html"
   ]
  },
  {
   "cell_type": "code",
   "execution_count": null,
   "metadata": {
    "collapsed": true
   },
   "outputs": [],
   "source": []
  }
 ],
 "metadata": {
  "anaconda-cloud": {},
  "kernelspec": {
   "display_name": "Python 3",
   "language": "python",
   "name": "python3"
  },
  "language_info": {
   "codemirror_mode": {
    "name": "ipython",
    "version": 3
   },
   "file_extension": ".py",
   "mimetype": "text/x-python",
   "name": "python",
   "nbconvert_exporter": "python",
   "pygments_lexer": "ipython3",
   "version": "3.5.2"
  },
  "widgets": {
   "state": {
    "335ae2c8ff80469e9adac668c2924989": {
     "views": [
      {
       "cell_index": 19
      }
     ]
    }
   },
   "version": "1.2.0"
  }
 },
 "nbformat": 4,
 "nbformat_minor": 1
}
