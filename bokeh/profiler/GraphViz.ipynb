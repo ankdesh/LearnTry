{
 "cells": [
  {
   "cell_type": "code",
   "execution_count": 1,
   "metadata": {},
   "outputs": [
    {
     "data": {
      "text/html": [
       "\n",
       "    <div class=\"bk-root\">\n",
       "        <a href=\"https://bokeh.pydata.org\" target=\"_blank\" class=\"bk-logo bk-logo-small bk-logo-notebook\"></a>\n",
       "        <span id=\"ce8bf0b9-73d5-4e46-950e-cfd38eef73b9\">Loading BokehJS ...</span>\n",
       "    </div>"
      ]
     },
     "metadata": {},
     "output_type": "display_data"
    },
    {
     "data": {
      "application/javascript": [
       "\n",
       "(function(root) {\n",
       "  function now() {\n",
       "    return new Date();\n",
       "  }\n",
       "\n",
       "  var force = true;\n",
       "\n",
       "  if (typeof (root._bokeh_onload_callbacks) === \"undefined\" || force === true) {\n",
       "    root._bokeh_onload_callbacks = [];\n",
       "    root._bokeh_is_loading = undefined;\n",
       "  }\n",
       "\n",
       "  var JS_MIME_TYPE = 'application/javascript';\n",
       "  var HTML_MIME_TYPE = 'text/html';\n",
       "  var EXEC_MIME_TYPE = 'application/vnd.bokehjs_exec.v0+json';\n",
       "  var CLASS_NAME = 'output_bokeh rendered_html';\n",
       "\n",
       "  /**\n",
       "   * Render data to the DOM node\n",
       "   */\n",
       "  function render(props, node) {\n",
       "    var script = document.createElement(\"script\");\n",
       "    node.appendChild(script);\n",
       "  }\n",
       "\n",
       "  /**\n",
       "   * Handle when an output is cleared or removed\n",
       "   */\n",
       "  function handleClearOutput(event, handle) {\n",
       "    var cell = handle.cell;\n",
       "\n",
       "    var id = cell.output_area._bokeh_element_id;\n",
       "    var server_id = cell.output_area._bokeh_server_id;\n",
       "    // Clean up Bokeh references\n",
       "    if (id !== undefined) {\n",
       "      Bokeh.index[id].model.document.clear();\n",
       "      delete Bokeh.index[id];\n",
       "    }\n",
       "\n",
       "    if (server_id !== undefined) {\n",
       "      // Clean up Bokeh references\n",
       "      var cmd = \"from bokeh.io.state import curstate; print(curstate().uuid_to_server['\" + server_id + \"'].get_sessions()[0].document.roots[0]._id)\";\n",
       "      cell.notebook.kernel.execute(cmd, {\n",
       "        iopub: {\n",
       "          output: function(msg) {\n",
       "            var element_id = msg.content.text.trim();\n",
       "            Bokeh.index[element_id].model.document.clear();\n",
       "            delete Bokeh.index[element_id];\n",
       "          }\n",
       "        }\n",
       "      });\n",
       "      // Destroy server and session\n",
       "      var cmd = \"import bokeh.io.notebook as ion; ion.destroy_server('\" + server_id + \"')\";\n",
       "      cell.notebook.kernel.execute(cmd);\n",
       "    }\n",
       "  }\n",
       "\n",
       "  /**\n",
       "   * Handle when a new output is added\n",
       "   */\n",
       "  function handleAddOutput(event, handle) {\n",
       "    var output_area = handle.output_area;\n",
       "    var output = handle.output;\n",
       "\n",
       "    // limit handleAddOutput to display_data with EXEC_MIME_TYPE content only\n",
       "    if ((output.output_type != \"display_data\") || (!output.data.hasOwnProperty(EXEC_MIME_TYPE))) {\n",
       "      return\n",
       "    }\n",
       "\n",
       "    var toinsert = output_area.element.find(`.${CLASS_NAME.split(' ')[0]}`);\n",
       "\n",
       "    if (output.metadata[EXEC_MIME_TYPE][\"id\"] !== undefined) {\n",
       "      toinsert[0].firstChild.textContent = output.data[JS_MIME_TYPE];\n",
       "      // store reference to embed id on output_area\n",
       "      output_area._bokeh_element_id = output.metadata[EXEC_MIME_TYPE][\"id\"];\n",
       "    }\n",
       "    if (output.metadata[EXEC_MIME_TYPE][\"server_id\"] !== undefined) {\n",
       "      var bk_div = document.createElement(\"div\");\n",
       "      bk_div.innerHTML = output.data[HTML_MIME_TYPE];\n",
       "      var script_attrs = bk_div.children[0].attributes;\n",
       "      for (var i = 0; i < script_attrs.length; i++) {\n",
       "        toinsert[0].firstChild.setAttribute(script_attrs[i].name, script_attrs[i].value);\n",
       "      }\n",
       "      // store reference to server id on output_area\n",
       "      output_area._bokeh_server_id = output.metadata[EXEC_MIME_TYPE][\"server_id\"];\n",
       "    }\n",
       "  }\n",
       "\n",
       "  function register_renderer(events, OutputArea) {\n",
       "\n",
       "    function append_mime(data, metadata, element) {\n",
       "      // create a DOM node to render to\n",
       "      var toinsert = this.create_output_subarea(\n",
       "        metadata,\n",
       "        CLASS_NAME,\n",
       "        EXEC_MIME_TYPE\n",
       "      );\n",
       "      this.keyboard_manager.register_events(toinsert);\n",
       "      // Render to node\n",
       "      var props = {data: data, metadata: metadata[EXEC_MIME_TYPE]};\n",
       "      render(props, toinsert[0]);\n",
       "      element.append(toinsert);\n",
       "      return toinsert\n",
       "    }\n",
       "\n",
       "    /* Handle when an output is cleared or removed */\n",
       "    events.on('clear_output.CodeCell', handleClearOutput);\n",
       "    events.on('delete.Cell', handleClearOutput);\n",
       "\n",
       "    /* Handle when a new output is added */\n",
       "    events.on('output_added.OutputArea', handleAddOutput);\n",
       "\n",
       "    /**\n",
       "     * Register the mime type and append_mime function with output_area\n",
       "     */\n",
       "    OutputArea.prototype.register_mime_type(EXEC_MIME_TYPE, append_mime, {\n",
       "      /* Is output safe? */\n",
       "      safe: true,\n",
       "      /* Index of renderer in `output_area.display_order` */\n",
       "      index: 0\n",
       "    });\n",
       "  }\n",
       "\n",
       "  // register the mime type if in Jupyter Notebook environment and previously unregistered\n",
       "  if (root.Jupyter !== undefined) {\n",
       "    var events = require('base/js/events');\n",
       "    var OutputArea = require('notebook/js/outputarea').OutputArea;\n",
       "\n",
       "    if (OutputArea.prototype.mime_types().indexOf(EXEC_MIME_TYPE) == -1) {\n",
       "      register_renderer(events, OutputArea);\n",
       "    }\n",
       "  }\n",
       "\n",
       "  \n",
       "  if (typeof (root._bokeh_timeout) === \"undefined\" || force === true) {\n",
       "    root._bokeh_timeout = Date.now() + 5000;\n",
       "    root._bokeh_failed_load = false;\n",
       "  }\n",
       "\n",
       "  var NB_LOAD_WARNING = {'data': {'text/html':\n",
       "     \"<div style='background-color: #fdd'>\\n\"+\n",
       "     \"<p>\\n\"+\n",
       "     \"BokehJS does not appear to have successfully loaded. If loading BokehJS from CDN, this \\n\"+\n",
       "     \"may be due to a slow or bad network connection. Possible fixes:\\n\"+\n",
       "     \"</p>\\n\"+\n",
       "     \"<ul>\\n\"+\n",
       "     \"<li>re-rerun `output_notebook()` to attempt to load from CDN again, or</li>\\n\"+\n",
       "     \"<li>use INLINE resources instead, as so:</li>\\n\"+\n",
       "     \"</ul>\\n\"+\n",
       "     \"<code>\\n\"+\n",
       "     \"from bokeh.resources import INLINE\\n\"+\n",
       "     \"output_notebook(resources=INLINE)\\n\"+\n",
       "     \"</code>\\n\"+\n",
       "     \"</div>\"}};\n",
       "\n",
       "  function display_loaded() {\n",
       "    var el = document.getElementById(\"ce8bf0b9-73d5-4e46-950e-cfd38eef73b9\");\n",
       "    if (el != null) {\n",
       "      el.textContent = \"BokehJS is loading...\";\n",
       "    }\n",
       "    if (root.Bokeh !== undefined) {\n",
       "      if (el != null) {\n",
       "        el.textContent = \"BokehJS \" + root.Bokeh.version + \" successfully loaded.\";\n",
       "      }\n",
       "    } else if (Date.now() < root._bokeh_timeout) {\n",
       "      setTimeout(display_loaded, 100)\n",
       "    }\n",
       "  }\n",
       "\n",
       "\n",
       "  function run_callbacks() {\n",
       "    try {\n",
       "      root._bokeh_onload_callbacks.forEach(function(callback) { callback() });\n",
       "    }\n",
       "    finally {\n",
       "      delete root._bokeh_onload_callbacks\n",
       "    }\n",
       "    console.info(\"Bokeh: all callbacks have finished\");\n",
       "  }\n",
       "\n",
       "  function load_libs(js_urls, callback) {\n",
       "    root._bokeh_onload_callbacks.push(callback);\n",
       "    if (root._bokeh_is_loading > 0) {\n",
       "      console.log(\"Bokeh: BokehJS is being loaded, scheduling callback at\", now());\n",
       "      return null;\n",
       "    }\n",
       "    if (js_urls == null || js_urls.length === 0) {\n",
       "      run_callbacks();\n",
       "      return null;\n",
       "    }\n",
       "    console.log(\"Bokeh: BokehJS not loaded, scheduling load and callback at\", now());\n",
       "    root._bokeh_is_loading = js_urls.length;\n",
       "    for (var i = 0; i < js_urls.length; i++) {\n",
       "      var url = js_urls[i];\n",
       "      var s = document.createElement('script');\n",
       "      s.src = url;\n",
       "      s.async = false;\n",
       "      s.onreadystatechange = s.onload = function() {\n",
       "        root._bokeh_is_loading--;\n",
       "        if (root._bokeh_is_loading === 0) {\n",
       "          console.log(\"Bokeh: all BokehJS libraries loaded\");\n",
       "          run_callbacks()\n",
       "        }\n",
       "      };\n",
       "      s.onerror = function() {\n",
       "        console.warn(\"failed to load library \" + url);\n",
       "      };\n",
       "      console.log(\"Bokeh: injecting script tag for BokehJS library: \", url);\n",
       "      document.getElementsByTagName(\"head\")[0].appendChild(s);\n",
       "    }\n",
       "  };var element = document.getElementById(\"ce8bf0b9-73d5-4e46-950e-cfd38eef73b9\");\n",
       "  if (element == null) {\n",
       "    console.log(\"Bokeh: ERROR: autoload.js configured with elementid 'ce8bf0b9-73d5-4e46-950e-cfd38eef73b9' but no matching script tag was found. \")\n",
       "    return false;\n",
       "  }\n",
       "\n",
       "  var js_urls = [\"https://cdn.pydata.org/bokeh/release/bokeh-0.12.10.min.js\", \"https://cdn.pydata.org/bokeh/release/bokeh-widgets-0.12.10.min.js\", \"https://cdn.pydata.org/bokeh/release/bokeh-tables-0.12.10.min.js\", \"https://cdn.pydata.org/bokeh/release/bokeh-gl-0.12.10.min.js\"];\n",
       "\n",
       "  var inline_js = [\n",
       "    function(Bokeh) {\n",
       "      Bokeh.set_log_level(\"info\");\n",
       "    },\n",
       "    \n",
       "    function(Bokeh) {\n",
       "      \n",
       "    },\n",
       "    function(Bokeh) {\n",
       "      console.log(\"Bokeh: injecting CSS: https://cdn.pydata.org/bokeh/release/bokeh-0.12.10.min.css\");\n",
       "      Bokeh.embed.inject_css(\"https://cdn.pydata.org/bokeh/release/bokeh-0.12.10.min.css\");\n",
       "      console.log(\"Bokeh: injecting CSS: https://cdn.pydata.org/bokeh/release/bokeh-widgets-0.12.10.min.css\");\n",
       "      Bokeh.embed.inject_css(\"https://cdn.pydata.org/bokeh/release/bokeh-widgets-0.12.10.min.css\");\n",
       "      console.log(\"Bokeh: injecting CSS: https://cdn.pydata.org/bokeh/release/bokeh-tables-0.12.10.min.css\");\n",
       "      Bokeh.embed.inject_css(\"https://cdn.pydata.org/bokeh/release/bokeh-tables-0.12.10.min.css\");\n",
       "    }\n",
       "  ];\n",
       "\n",
       "  function run_inline_js() {\n",
       "    \n",
       "    if ((root.Bokeh !== undefined) || (force === true)) {\n",
       "      for (var i = 0; i < inline_js.length; i++) {\n",
       "        inline_js[i].call(root, root.Bokeh);\n",
       "      }if (force === true) {\n",
       "        display_loaded();\n",
       "      }} else if (Date.now() < root._bokeh_timeout) {\n",
       "      setTimeout(run_inline_js, 100);\n",
       "    } else if (!root._bokeh_failed_load) {\n",
       "      console.log(\"Bokeh: BokehJS failed to load within specified timeout.\");\n",
       "      root._bokeh_failed_load = true;\n",
       "    } else if (force !== true) {\n",
       "      var cell = $(document.getElementById(\"ce8bf0b9-73d5-4e46-950e-cfd38eef73b9\")).parents('.cell').data().cell;\n",
       "      cell.output_area.append_execute_result(NB_LOAD_WARNING)\n",
       "    }\n",
       "\n",
       "  }\n",
       "\n",
       "  if (root._bokeh_is_loading === 0) {\n",
       "    console.log(\"Bokeh: BokehJS loaded, going straight to plotting\");\n",
       "    run_inline_js();\n",
       "  } else {\n",
       "    load_libs(js_urls, function() {\n",
       "      console.log(\"Bokeh: BokehJS plotting callback run at\", now());\n",
       "      run_inline_js();\n",
       "    });\n",
       "  }\n",
       "}(window));"
      ],
      "application/vnd.bokehjs_load.v0+json": "\n(function(root) {\n  function now() {\n    return new Date();\n  }\n\n  var force = true;\n\n  if (typeof (root._bokeh_onload_callbacks) === \"undefined\" || force === true) {\n    root._bokeh_onload_callbacks = [];\n    root._bokeh_is_loading = undefined;\n  }\n\n  \n\n  \n  if (typeof (root._bokeh_timeout) === \"undefined\" || force === true) {\n    root._bokeh_timeout = Date.now() + 5000;\n    root._bokeh_failed_load = false;\n  }\n\n  var NB_LOAD_WARNING = {'data': {'text/html':\n     \"<div style='background-color: #fdd'>\\n\"+\n     \"<p>\\n\"+\n     \"BokehJS does not appear to have successfully loaded. If loading BokehJS from CDN, this \\n\"+\n     \"may be due to a slow or bad network connection. Possible fixes:\\n\"+\n     \"</p>\\n\"+\n     \"<ul>\\n\"+\n     \"<li>re-rerun `output_notebook()` to attempt to load from CDN again, or</li>\\n\"+\n     \"<li>use INLINE resources instead, as so:</li>\\n\"+\n     \"</ul>\\n\"+\n     \"<code>\\n\"+\n     \"from bokeh.resources import INLINE\\n\"+\n     \"output_notebook(resources=INLINE)\\n\"+\n     \"</code>\\n\"+\n     \"</div>\"}};\n\n  function display_loaded() {\n    var el = document.getElementById(\"ce8bf0b9-73d5-4e46-950e-cfd38eef73b9\");\n    if (el != null) {\n      el.textContent = \"BokehJS is loading...\";\n    }\n    if (root.Bokeh !== undefined) {\n      if (el != null) {\n        el.textContent = \"BokehJS \" + root.Bokeh.version + \" successfully loaded.\";\n      }\n    } else if (Date.now() < root._bokeh_timeout) {\n      setTimeout(display_loaded, 100)\n    }\n  }\n\n\n  function run_callbacks() {\n    try {\n      root._bokeh_onload_callbacks.forEach(function(callback) { callback() });\n    }\n    finally {\n      delete root._bokeh_onload_callbacks\n    }\n    console.info(\"Bokeh: all callbacks have finished\");\n  }\n\n  function load_libs(js_urls, callback) {\n    root._bokeh_onload_callbacks.push(callback);\n    if (root._bokeh_is_loading > 0) {\n      console.log(\"Bokeh: BokehJS is being loaded, scheduling callback at\", now());\n      return null;\n    }\n    if (js_urls == null || js_urls.length === 0) {\n      run_callbacks();\n      return null;\n    }\n    console.log(\"Bokeh: BokehJS not loaded, scheduling load and callback at\", now());\n    root._bokeh_is_loading = js_urls.length;\n    for (var i = 0; i < js_urls.length; i++) {\n      var url = js_urls[i];\n      var s = document.createElement('script');\n      s.src = url;\n      s.async = false;\n      s.onreadystatechange = s.onload = function() {\n        root._bokeh_is_loading--;\n        if (root._bokeh_is_loading === 0) {\n          console.log(\"Bokeh: all BokehJS libraries loaded\");\n          run_callbacks()\n        }\n      };\n      s.onerror = function() {\n        console.warn(\"failed to load library \" + url);\n      };\n      console.log(\"Bokeh: injecting script tag for BokehJS library: \", url);\n      document.getElementsByTagName(\"head\")[0].appendChild(s);\n    }\n  };var element = document.getElementById(\"ce8bf0b9-73d5-4e46-950e-cfd38eef73b9\");\n  if (element == null) {\n    console.log(\"Bokeh: ERROR: autoload.js configured with elementid 'ce8bf0b9-73d5-4e46-950e-cfd38eef73b9' but no matching script tag was found. \")\n    return false;\n  }\n\n  var js_urls = [\"https://cdn.pydata.org/bokeh/release/bokeh-0.12.10.min.js\", \"https://cdn.pydata.org/bokeh/release/bokeh-widgets-0.12.10.min.js\", \"https://cdn.pydata.org/bokeh/release/bokeh-tables-0.12.10.min.js\", \"https://cdn.pydata.org/bokeh/release/bokeh-gl-0.12.10.min.js\"];\n\n  var inline_js = [\n    function(Bokeh) {\n      Bokeh.set_log_level(\"info\");\n    },\n    \n    function(Bokeh) {\n      \n    },\n    function(Bokeh) {\n      console.log(\"Bokeh: injecting CSS: https://cdn.pydata.org/bokeh/release/bokeh-0.12.10.min.css\");\n      Bokeh.embed.inject_css(\"https://cdn.pydata.org/bokeh/release/bokeh-0.12.10.min.css\");\n      console.log(\"Bokeh: injecting CSS: https://cdn.pydata.org/bokeh/release/bokeh-widgets-0.12.10.min.css\");\n      Bokeh.embed.inject_css(\"https://cdn.pydata.org/bokeh/release/bokeh-widgets-0.12.10.min.css\");\n      console.log(\"Bokeh: injecting CSS: https://cdn.pydata.org/bokeh/release/bokeh-tables-0.12.10.min.css\");\n      Bokeh.embed.inject_css(\"https://cdn.pydata.org/bokeh/release/bokeh-tables-0.12.10.min.css\");\n    }\n  ];\n\n  function run_inline_js() {\n    \n    if ((root.Bokeh !== undefined) || (force === true)) {\n      for (var i = 0; i < inline_js.length; i++) {\n        inline_js[i].call(root, root.Bokeh);\n      }if (force === true) {\n        display_loaded();\n      }} else if (Date.now() < root._bokeh_timeout) {\n      setTimeout(run_inline_js, 100);\n    } else if (!root._bokeh_failed_load) {\n      console.log(\"Bokeh: BokehJS failed to load within specified timeout.\");\n      root._bokeh_failed_load = true;\n    } else if (force !== true) {\n      var cell = $(document.getElementById(\"ce8bf0b9-73d5-4e46-950e-cfd38eef73b9\")).parents('.cell').data().cell;\n      cell.output_area.append_execute_result(NB_LOAD_WARNING)\n    }\n\n  }\n\n  if (root._bokeh_is_loading === 0) {\n    console.log(\"Bokeh: BokehJS loaded, going straight to plotting\");\n    run_inline_js();\n  } else {\n    load_libs(js_urls, function() {\n      console.log(\"Bokeh: BokehJS plotting callback run at\", now());\n      run_inline_js();\n    });\n  }\n}(window));"
     },
     "metadata": {},
     "output_type": "display_data"
    }
   ],
   "source": [
    "import networkx as nx\n",
    "\n",
    "from bokeh.io import show, output_file, output_notebook\n",
    "from bokeh.plotting import figure\n",
    "from bokeh.models import Plot, Range1d, MultiLine, Circle, HoverTool, TapTool, BoxSelectTool\n",
    "from bokeh.models.graphs import from_networkx, NodesAndLinkedEdges, EdgesAndLinkedNodes\n",
    "from bokeh.palettes import Spectral4\n",
    "\n",
    "output_notebook()"
   ]
  },
  {
   "cell_type": "code",
   "execution_count": 2,
   "metadata": {},
   "outputs": [
    {
     "data": {
      "text/html": [
       "\n",
       "<div class=\"bk-root\">\n",
       "    <div class=\"bk-plotdiv\" id=\"3a3df66b-f2b5-40ce-b629-2639d4592379\"></div>\n",
       "</div>"
      ]
     },
     "metadata": {},
     "output_type": "display_data"
    },
    {
     "data": {
      "application/javascript": [
       "(function(root) {\n",
       "  function embed_document(root) {\n",
       "    var docs_json = {\"fecb811e-cf34-413e-bebd-a88130e560fa\":{\"roots\":{\"references\":[{\"attributes\":{\"fill_color\":{\"value\":\"#fdae61\"},\"size\":{\"units\":\"screen\",\"value\":15}},\"id\":\"dcd89532-ac8f-4cc7-b0b4-3d04afeab7df\",\"type\":\"Circle\"},{\"attributes\":{\"callback\":null,\"tooltips\":null},\"id\":\"4a5e71e6-e0fd-42f9-a995-d03d76b2f605\",\"type\":\"HoverTool\"},{\"attributes\":{},\"id\":\"8b2725fe-3658-4336-879e-2b25f6e4ceb5\",\"type\":\"EdgesAndLinkedNodes\"},{\"attributes\":{},\"id\":\"9ba9aa64-a623-41d6-a400-1b4494d6ca16\",\"type\":\"NodesAndLinkedEdges\"},{\"attributes\":{\"source\":{\"id\":\"733b44b5-e9c7-420b-be97-9aaafaf38de9\",\"type\":\"ColumnDataSource\"}},\"id\":\"50aeaa1c-b785-4bb0-8bc4-36c550cca288\",\"type\":\"CDSView\"},{\"attributes\":{\"data_source\":{\"id\":\"86156e6b-9f22-490c-91a8-82e8366296f1\",\"type\":\"ColumnDataSource\"},\"glyph\":{\"id\":\"ad3a0f1e-1a0c-4a7a-a2bd-b0c07b23edcb\",\"type\":\"Circle\"},\"hover_glyph\":{\"id\":\"eb8b05bf-148c-4d6e-92c2-fb36cc1d0612\",\"type\":\"Circle\"},\"muted_glyph\":null,\"selection_glyph\":{\"id\":\"dcd89532-ac8f-4cc7-b0b4-3d04afeab7df\",\"type\":\"Circle\"},\"view\":{\"id\":\"e1d3b484-ee1d-4c18-a908-47b4cc38cfed\",\"type\":\"CDSView\"}},\"id\":\"38df6d21-e759-4afe-bd7b-a90e0d106936\",\"type\":\"GlyphRenderer\"},{\"attributes\":{\"active_drag\":\"auto\",\"active_inspect\":\"auto\",\"active_scroll\":\"auto\",\"active_tap\":\"auto\",\"tools\":[{\"id\":\"4a5e71e6-e0fd-42f9-a995-d03d76b2f605\",\"type\":\"HoverTool\"},{\"id\":\"caf374ff-4992-4a08-b57e-050c52473ab7\",\"type\":\"TapTool\"},{\"id\":\"33355b87-8d52-4b25-ae32-0900fffa5b61\",\"type\":\"BoxSelectTool\"}]},\"id\":\"e79ca309-e030-4474-bd12-262ecce5a310\",\"type\":\"Toolbar\"},{\"attributes\":{\"line_color\":{\"value\":\"#abdda4\"},\"line_width\":{\"value\":5}},\"id\":\"61cae497-a15c-472f-baea-da0739f3658a\",\"type\":\"MultiLine\"},{\"attributes\":{\"callback\":null,\"end\":1.1,\"start\":-1.1},\"id\":\"caf0539e-f2bc-4bdc-8301-b555ce93f6a0\",\"type\":\"Range1d\"},{\"attributes\":{\"callback\":null,\"column_names\":[\"start\",\"end\"],\"data\":{\"end\":[1,2,3,4,5,6,8,7,10,9,11,12,13,14,16,15,17,18,20,19,21,22,24,23,25,26,27,28,30,29,32,31,33,34,35,36,37,38,40,39,42,41,43,44,45,46,48,47,49,50,52,51,53,54,56,55,57,58,59,60,62,61],\"start\":[0,0,1,1,2,2,3,3,4,4,5,5,6,6,7,7,8,8,9,9,10,10,11,11,12,12,13,13,14,14,15,15,16,16,17,17,18,18,19,19,20,20,21,21,22,22,23,23,24,24,25,25,26,26,27,27,28,28,29,29,30,30]}},\"id\":\"733b44b5-e9c7-420b-be97-9aaafaf38de9\",\"type\":\"ColumnDataSource\"},{\"attributes\":{},\"id\":\"ea6405bc-2a1f-4ee9-92f2-f282f34db2b1\",\"type\":\"LinearScale\"},{\"attributes\":{\"edge_renderer\":{\"id\":\"8fd1f00b-c724-4f7f-b33d-f3096c463a17\",\"type\":\"GlyphRenderer\"},\"inspection_policy\":{\"id\":\"8b2725fe-3658-4336-879e-2b25f6e4ceb5\",\"type\":\"EdgesAndLinkedNodes\"},\"layout_provider\":{\"id\":\"b7b414c7-de19-430f-964f-43c04bb6fc6a\",\"type\":\"StaticLayoutProvider\"},\"node_renderer\":{\"id\":\"38df6d21-e759-4afe-bd7b-a90e0d106936\",\"type\":\"GlyphRenderer\"},\"selection_policy\":{\"id\":\"9ba9aa64-a623-41d6-a400-1b4494d6ca16\",\"type\":\"NodesAndLinkedEdges\"}},\"id\":\"7245acad-7f4c-4614-b097-d47761717486\",\"type\":\"GraphRenderer\"},{\"attributes\":{\"callback\":null,\"overlay\":{\"id\":\"946c30b6-e495-4ccc-a1fd-1d6d1806eb70\",\"type\":\"BoxAnnotation\"}},\"id\":\"33355b87-8d52-4b25-ae32-0900fffa5b61\",\"type\":\"BoxSelectTool\"},{\"attributes\":{\"data_source\":{\"id\":\"733b44b5-e9c7-420b-be97-9aaafaf38de9\",\"type\":\"ColumnDataSource\"},\"glyph\":{\"id\":\"af780c03-38cc-44e7-aa1d-16e667595b6e\",\"type\":\"MultiLine\"},\"hover_glyph\":{\"id\":\"61cae497-a15c-472f-baea-da0739f3658a\",\"type\":\"MultiLine\"},\"muted_glyph\":null,\"selection_glyph\":{\"id\":\"5dcbfb66-f48a-4b13-b15d-285e2cfa8b81\",\"type\":\"MultiLine\"},\"view\":{\"id\":\"50aeaa1c-b785-4bb0-8bc4-36c550cca288\",\"type\":\"CDSView\"}},\"id\":\"8fd1f00b-c724-4f7f-b33d-f3096c463a17\",\"type\":\"GlyphRenderer\"},{\"attributes\":{},\"id\":\"ee380f06-3599-4ebd-90a7-07d4a6e562a5\",\"type\":\"LinearScale\"},{\"attributes\":{\"bottom_units\":\"screen\",\"fill_alpha\":{\"value\":0.5},\"fill_color\":{\"value\":\"lightgrey\"},\"left_units\":\"screen\",\"level\":\"overlay\",\"line_alpha\":{\"value\":1.0},\"line_color\":{\"value\":\"black\"},\"line_dash\":[4,4],\"line_width\":{\"value\":2},\"plot\":null,\"render_mode\":\"css\",\"right_units\":\"screen\",\"top_units\":\"screen\"},\"id\":\"946c30b6-e495-4ccc-a1fd-1d6d1806eb70\",\"type\":\"BoxAnnotation\"},{\"attributes\":{\"line_alpha\":{\"value\":0.8},\"line_color\":{\"value\":\"#CCCCCC\"},\"line_width\":{\"value\":5}},\"id\":\"af780c03-38cc-44e7-aa1d-16e667595b6e\",\"type\":\"MultiLine\"},{\"attributes\":{\"fill_color\":{\"value\":\"#abdda4\"},\"size\":{\"units\":\"screen\",\"value\":15}},\"id\":\"eb8b05bf-148c-4d6e-92c2-fb36cc1d0612\",\"type\":\"Circle\"},{\"attributes\":{\"line_color\":{\"value\":\"#fdae61\"},\"line_width\":{\"value\":5}},\"id\":\"5dcbfb66-f48a-4b13-b15d-285e2cfa8b81\",\"type\":\"MultiLine\"},{\"attributes\":{\"plot\":null,\"text\":\"Graph Interaction Demonstration\"},\"id\":\"7fc51005-2df0-4e8f-9bff-100c88cb2a78\",\"type\":\"Title\"},{\"attributes\":{\"callback\":null,\"column_names\":[\"index\"],\"data\":{\"index\":[0,1,2,3,4,5,6,7,8,9,10,11,12,13,14,15,16,17,18,19,20,21,22,23,24,25,26,27,28,29,30,31,32,33,34,35,36,37,38,39,40,41,42,43,44,45,46,47,48,49,50,51,52,53,54,55,56,57,58,59,60,61,62]}},\"id\":\"86156e6b-9f22-490c-91a8-82e8366296f1\",\"type\":\"ColumnDataSource\"},{\"attributes\":{\"callback\":null,\"end\":1.1,\"start\":-1.1},\"id\":\"549a07c4-66a4-4971-8793-3702f2df2197\",\"type\":\"Range1d\"},{\"attributes\":{\"callback\":null},\"id\":\"caf374ff-4992-4a08-b57e-050c52473ab7\",\"type\":\"TapTool\"},{\"attributes\":{\"plot_height\":400,\"plot_width\":400,\"renderers\":[{\"id\":\"946c30b6-e495-4ccc-a1fd-1d6d1806eb70\",\"type\":\"BoxAnnotation\"},{\"id\":\"7245acad-7f4c-4614-b097-d47761717486\",\"type\":\"GraphRenderer\"}],\"title\":{\"id\":\"7fc51005-2df0-4e8f-9bff-100c88cb2a78\",\"type\":\"Title\"},\"toolbar\":{\"id\":\"e79ca309-e030-4474-bd12-262ecce5a310\",\"type\":\"Toolbar\"},\"x_range\":{\"id\":\"549a07c4-66a4-4971-8793-3702f2df2197\",\"type\":\"Range1d\"},\"x_scale\":{\"id\":\"ea6405bc-2a1f-4ee9-92f2-f282f34db2b1\",\"type\":\"LinearScale\"},\"y_range\":{\"id\":\"caf0539e-f2bc-4bdc-8301-b555ce93f6a0\",\"type\":\"Range1d\"},\"y_scale\":{\"id\":\"ee380f06-3599-4ebd-90a7-07d4a6e562a5\",\"type\":\"LinearScale\"}},\"id\":\"d8cb2781-1c86-43d0-932a-49a89f600bdd\",\"type\":\"Plot\"},{\"attributes\":{\"graph_layout\":{\"0\":[1.0,4.080079846836197e-09],\"1\":[0.9950307607697773,0.09956784944963092],\"10\":[0.5425462727106316,0.840025964684405],\"11\":[0.45621061376521455,0.8898718389467855],\"12\":[0.3653409785076352,0.9308737548396949],\"13\":[0.270840526316998,0.9626242550118346],\"14\":[0.17364822406272262,0.9848077328694173],\"15\":[0.07473012147467277,0.9972037704362721],\"16\":[-0.02493067920096273,0.9996891649117648],\"17\":[-0.12434370709379164,0.9922391803683372],\"18\":[-0.22252094629972613,0.9749279053793749],\"19\":[-0.3184866892738128,0.9479273589495371],\"2\":[0.9801725149342253,0.1981461385075572],\"20\":[-0.41128712759009706,0.9115058215847036],\"21\":[-0.5000000581854865,0.8660253915015427],\"22\":[-0.5837437495506531,0.8119379911163137],\"23\":[-0.6616858824267408,0.7497811351150926],\"24\":[-0.7330519540602707,0.6801726852450365],\"25\":[-0.7971325499697975,0.6038042938034646],\"26\":[-0.8532907945264987,0.5214353239640969],\"27\":[-0.9009688478604491,0.4338838196733794],\"28\":[-0.9396926146275537,0.34202021736046606],\"29\":[-0.9690772872415069,0.24675746646735644],\"3\":[0.9555727839890239,0.29475519441209597],\"30\":[-0.9888308029431854,0.14904232717076718],\"31\":[-0.9987569432421743,0.04984592677123403],\"32\":[-0.9987569432421743,-0.049845855281139315],\"33\":[-0.9888308029431854,-0.14904224450480158],\"34\":[-0.9690772872415069,-0.24675739870255203],\"35\":[-0.9396926146275537,-0.3420201495956617],\"36\":[-0.9009688478604491,-0.4338837519085751],\"37\":[-0.8532908541311434,-0.5214352561992925],\"38\":[-0.7971324903651528,-0.603804464457239],\"39\":[-0.7330518348509812,-0.6801727962941663],\"4\":[0.9214761853960998,0.38843480123798546],\"40\":[-0.6616857632174513,-0.7497812461642224],\"41\":[-0.5837438091552978,-0.8119379233515094],\"42\":[-0.49999990917387477,-0.8660254429460278],\"43\":[-0.4112871871947418,-0.911505813424544],\"44\":[-0.31848651045987864,-0.9479274103940221],\"45\":[-0.22252100590437085,-0.9749278972192152],\"46\":[-0.12434352827985748,-0.9922392318128223],\"47\":[-0.02493074253089774,-0.9996891567516052],\"48\":[0.07473029283802633,-0.9972037622761124],\"49\":[0.17364814955691674,-0.9848077247092576],\"5\":[0.8782215715606805,0.47825399403935953],\"50\":[0.27084067532860984,-0.9626241872470302],\"51\":[0.3653410381122799,-0.9308737466795353],\"52\":[0.4562104647536028,-0.8898718903912705],\"53\":[0.5425462727106316,-0.8400258969196007],\"54\":[0.623489678262255,-0.7818316173039433],\"55\":[0.6982368829721148,-0.7158667993655595],\"56\":[0.7660443188973417,-0.6427877498474502],\"57\":[0.8262388111804793,-0.5633199764851351],\"58\":[0.8782215119560357,-0.47825410508848937],\"59\":[0.9214762450007445,-0.38843467386853636],\"6\":[0.8262387515758346,0.5633201038545842],\"60\":[0.9555727839890239,-0.2947552756589034],\"61\":[0.9801725149342253,-0.19814599623694684],\"62\":[0.9950307607697773,-0.0995679232458577],\"7\":[0.7660444381066311,0.6427875791936758],\"8\":[0.6982368233674701,0.7158668671303638],\"9\":[0.6234897974715444,0.7818315062548136]}},\"id\":\"b7b414c7-de19-430f-964f-43c04bb6fc6a\",\"type\":\"StaticLayoutProvider\"},{\"attributes\":{\"source\":{\"id\":\"86156e6b-9f22-490c-91a8-82e8366296f1\",\"type\":\"ColumnDataSource\"}},\"id\":\"e1d3b484-ee1d-4c18-a908-47b4cc38cfed\",\"type\":\"CDSView\"},{\"attributes\":{\"fill_color\":{\"value\":\"#2b83ba\"},\"size\":{\"units\":\"screen\",\"value\":15}},\"id\":\"ad3a0f1e-1a0c-4a7a-a2bd-b0c07b23edcb\",\"type\":\"Circle\"}],\"root_ids\":[\"d8cb2781-1c86-43d0-932a-49a89f600bdd\"]},\"title\":\"Bokeh Application\",\"version\":\"0.12.10\"}};\n",
       "    var render_items = [{\"docid\":\"fecb811e-cf34-413e-bebd-a88130e560fa\",\"elementid\":\"3a3df66b-f2b5-40ce-b629-2639d4592379\",\"modelid\":\"d8cb2781-1c86-43d0-932a-49a89f600bdd\"}];\n",
       "\n",
       "    root.Bokeh.embed.embed_items(docs_json, render_items);\n",
       "  }\n",
       "\n",
       "  if (root.Bokeh !== undefined) {\n",
       "    embed_document(root);\n",
       "  } else {\n",
       "    var attempts = 0;\n",
       "    var timer = setInterval(function(root) {\n",
       "      if (root.Bokeh !== undefined) {\n",
       "        embed_document(root);\n",
       "        clearInterval(timer);\n",
       "      }\n",
       "      attempts++;\n",
       "      if (attempts > 100) {\n",
       "        console.log(\"Bokeh: ERROR: Unable to embed document because BokehJS library is missing\")\n",
       "        clearInterval(timer);\n",
       "      }\n",
       "    }, 10, root)\n",
       "  }\n",
       "})(window);"
      ],
      "application/vnd.bokehjs_exec.v0+json": ""
     },
     "metadata": {
      "application/vnd.bokehjs_exec.v0+json": {
       "id": "d8cb2781-1c86-43d0-932a-49a89f600bdd"
      }
     },
     "output_type": "display_data"
    }
   ],
   "source": [
    "\n",
    "G=nx.balanced_tree(2, 5)\n",
    "\n",
    "plot = Plot(plot_width=400, plot_height=400,\n",
    "            x_range=Range1d(-1.1,1.1), y_range=Range1d(-1.1,1.1))\n",
    "plot.title.text = \"Graph Interaction Demonstration\"\n",
    "\n",
    "plot.add_tools(HoverTool(tooltips=None), TapTool(), BoxSelectTool())\n",
    "\n",
    "graph_renderer = from_networkx(G, nx.circular_layout)#, scale=1, center=(0,0))\n",
    "\n",
    "graph_renderer.node_renderer.glyph = Circle(size=15, fill_color=Spectral4[0])\n",
    "graph_renderer.node_renderer.selection_glyph = Circle(size=15, fill_color=Spectral4[2])\n",
    "graph_renderer.node_renderer.hover_glyph = Circle(size=15, fill_color=Spectral4[1])\n",
    "\n",
    "graph_renderer.edge_renderer.glyph = MultiLine(line_color=\"#CCCCCC\", line_alpha=0.8, line_width=5)\n",
    "graph_renderer.edge_renderer.selection_glyph = MultiLine(line_color=Spectral4[2], line_width=5)\n",
    "graph_renderer.edge_renderer.hover_glyph = MultiLine(line_color=Spectral4[1], line_width=5)\n",
    "\n",
    "graph_renderer.selection_policy = NodesAndLinkedEdges()\n",
    "graph_renderer.inspection_policy = EdgesAndLinkedNodes()\n",
    "\n",
    "plot.renderers.append(graph_renderer)\n",
    "\n",
    "\n",
    "show(plot)\n"
   ]
  },
  {
   "cell_type": "code",
   "execution_count": 13,
   "metadata": {},
   "outputs": [
    {
     "name": "stderr",
     "output_type": "stream",
     "text": [
      "E-1001 (BAD_COLUMN_NAME): Glyph refers to nonexistent column name: fill_color [renderer: GlyphRenderer(id='570282a3-81b5-404d-9996-3be8b188af28', ...)]\n"
     ]
    },
    {
     "name": "stdout",
     "output_type": "stream",
     "text": [
      "{0: (1.0, 0.0), 1: (0.7071067811865476, 0.7071067811865475), 2: (6.123233995736766e-17, 1.0), 3: (-0.7071067811865475, 0.7071067811865476), 4: (-1.0, 1.2246467991473532e-16), 5: (-0.7071067811865477, -0.7071067811865475), 6: (-1.8369701987210297e-16, -1.0), 7: (0.7071067811865474, -0.7071067811865477)}\n"
     ]
    },
    {
     "data": {
      "text/html": [
       "\n",
       "<div class=\"bk-root\">\n",
       "    <div class=\"bk-plotdiv\" id=\"49baead1-04ff-4d2e-a89f-178c3f472d6d\"></div>\n",
       "</div>"
      ]
     },
     "metadata": {},
     "output_type": "display_data"
    },
    {
     "data": {
      "application/javascript": [
       "(function(root) {\n",
       "  function embed_document(root) {\n",
       "    var docs_json = {\"3dbd72c2-da39-4aa8-9c3b-80413bd12682\":{\"roots\":{\"references\":[{\"attributes\":{\"data_source\":{\"id\":\"30c795a8-a445-4134-9e0c-2ad9a417a4dd\",\"type\":\"ColumnDataSource\"},\"glyph\":{\"id\":\"195e903f-2b7e-4b2d-8bf6-9c0738752f52\",\"type\":\"Oval\"},\"hover_glyph\":null,\"muted_glyph\":null,\"view\":{\"id\":\"1b478fb9-261d-4e0f-a53d-afc96d9f65c2\",\"type\":\"CDSView\"}},\"id\":\"570282a3-81b5-404d-9996-3be8b188af28\",\"type\":\"GlyphRenderer\"},{\"attributes\":{},\"id\":\"e8fe36bb-32a9-4ce5-b970-1ecb37ca81bb\",\"type\":\"MultiLine\"},{\"attributes\":{\"callback\":null,\"end\":1.1,\"start\":-1.1},\"id\":\"1ec21e73-2218-49f3-b2a0-ee7560ec1530\",\"type\":\"Range1d\"},{\"attributes\":{},\"id\":\"db19aeb6-74fa-414b-97ea-00e8cc41b035\",\"type\":\"NodesOnly\"},{\"attributes\":{},\"id\":\"f43c06bc-6dc6-4b98-aac5-1c92d6c6a215\",\"type\":\"BasicTicker\"},{\"attributes\":{\"plot\":null,\"text\":\"Graph Layout Demonstration\"},\"id\":\"e1c603f1-6375-4d83-b380-dae9dfccf2c0\",\"type\":\"Title\"},{\"attributes\":{\"graph_layout\":{\"0\":[1.0,0.0],\"1\":[0.7071067811865476,0.7071067811865475],\"2\":[6.123233995736766e-17,1.0],\"3\":[-0.7071067811865475,0.7071067811865476],\"4\":[-1.0,1.2246467991473532e-16],\"5\":[-0.7071067811865477,-0.7071067811865475],\"6\":[-1.8369701987210297e-16,-1.0],\"7\":[0.7071067811865474,-0.7071067811865477]}},\"id\":\"f8e789f0-a1b6-4eef-9b2b-24c08c6048ca\",\"type\":\"StaticLayoutProvider\"},{\"attributes\":{\"formatter\":{\"id\":\"a2677a46-129d-4429-b84b-f8217567ef05\",\"type\":\"BasicTickFormatter\"},\"plot\":{\"id\":\"20dfcb20-e6e3-4696-863e-2d0ab0d5d57d\",\"subtype\":\"Figure\",\"type\":\"Plot\"},\"ticker\":{\"id\":\"7e9778df-f7d2-4e0b-a49c-47df9678fdc8\",\"type\":\"BasicTicker\"}},\"id\":\"11bab4b1-08fd-422f-b9b8-b392b2b9ef51\",\"type\":\"LinearAxis\"},{\"attributes\":{},\"id\":\"a2677a46-129d-4429-b84b-f8217567ef05\",\"type\":\"BasicTickFormatter\"},{\"attributes\":{\"active_drag\":\"auto\",\"active_inspect\":\"auto\",\"active_scroll\":\"auto\",\"active_tap\":\"auto\"},\"id\":\"a3212c31-687c-43b3-82dd-365488a4f8d5\",\"type\":\"Toolbar\"},{\"attributes\":{},\"id\":\"3f92c2ea-fc89-4963-bfbc-5d85a8c0dc9c\",\"type\":\"BasicTickFormatter\"},{\"attributes\":{},\"id\":\"7dc2eac7-4113-46c7-98d5-6d349068f885\",\"type\":\"LinearScale\"},{\"attributes\":{\"below\":[{\"id\":\"11bab4b1-08fd-422f-b9b8-b392b2b9ef51\",\"type\":\"LinearAxis\"}],\"left\":[{\"id\":\"e17dc915-6b29-4fa0-9bdf-afa3c38fa4e3\",\"type\":\"LinearAxis\"}],\"renderers\":[{\"id\":\"11bab4b1-08fd-422f-b9b8-b392b2b9ef51\",\"type\":\"LinearAxis\"},{\"id\":\"4b9e3f4c-d483-4719-813e-897b43cbf766\",\"type\":\"Grid\"},{\"id\":\"e17dc915-6b29-4fa0-9bdf-afa3c38fa4e3\",\"type\":\"LinearAxis\"},{\"id\":\"d5cdc842-df5a-4cb9-baf8-7101e5dc8f09\",\"type\":\"Grid\"},{\"id\":\"65dd3da3-8191-456c-a594-8537dbb967c3\",\"type\":\"GraphRenderer\"}],\"title\":{\"id\":\"e1c603f1-6375-4d83-b380-dae9dfccf2c0\",\"type\":\"Title\"},\"toolbar\":{\"id\":\"a3212c31-687c-43b3-82dd-365488a4f8d5\",\"type\":\"Toolbar\"},\"toolbar_location\":null,\"x_range\":{\"id\":\"6879c0a2-8ece-4d56-a845-15c687e912b4\",\"type\":\"Range1d\"},\"x_scale\":{\"id\":\"7dc2eac7-4113-46c7-98d5-6d349068f885\",\"type\":\"LinearScale\"},\"y_range\":{\"id\":\"1ec21e73-2218-49f3-b2a0-ee7560ec1530\",\"type\":\"Range1d\"},\"y_scale\":{\"id\":\"05956014-8942-4292-88ac-c4e03ed191ea\",\"type\":\"LinearScale\"}},\"id\":\"20dfcb20-e6e3-4696-863e-2d0ab0d5d57d\",\"subtype\":\"Figure\",\"type\":\"Plot\"},{\"attributes\":{\"formatter\":{\"id\":\"3f92c2ea-fc89-4963-bfbc-5d85a8c0dc9c\",\"type\":\"BasicTickFormatter\"},\"plot\":{\"id\":\"20dfcb20-e6e3-4696-863e-2d0ab0d5d57d\",\"subtype\":\"Figure\",\"type\":\"Plot\"},\"ticker\":{\"id\":\"f43c06bc-6dc6-4b98-aac5-1c92d6c6a215\",\"type\":\"BasicTicker\"}},\"id\":\"e17dc915-6b29-4fa0-9bdf-afa3c38fa4e3\",\"type\":\"LinearAxis\"},{\"attributes\":{},\"id\":\"4229de92-612d-40be-8d14-cefd91fd1bf5\",\"type\":\"NodesOnly\"},{\"attributes\":{\"source\":{\"id\":\"30c795a8-a445-4134-9e0c-2ad9a417a4dd\",\"type\":\"ColumnDataSource\"}},\"id\":\"1b478fb9-261d-4e0f-a53d-afc96d9f65c2\",\"type\":\"CDSView\"},{\"attributes\":{\"callback\":null,\"column_names\":[\"index\"],\"data\":{\"fill_color\":[\"#3288bd\",\"#66c2a5\",\"#abdda4\",\"#e6f598\",\"#fee08b\",\"#fdae61\",\"#f46d43\",\"#d53e4f\"],\"index\":[0,1,2,3,4,5,6,7]}},\"id\":\"30c795a8-a445-4134-9e0c-2ad9a417a4dd\",\"type\":\"ColumnDataSource\"},{\"attributes\":{\"plot\":{\"id\":\"20dfcb20-e6e3-4696-863e-2d0ab0d5d57d\",\"subtype\":\"Figure\",\"type\":\"Plot\"},\"ticker\":{\"id\":\"7e9778df-f7d2-4e0b-a49c-47df9678fdc8\",\"type\":\"BasicTicker\"}},\"id\":\"4b9e3f4c-d483-4719-813e-897b43cbf766\",\"type\":\"Grid\"},{\"attributes\":{\"data_source\":{\"id\":\"abf13f08-e146-4b7f-bb0f-dd86aee2272c\",\"type\":\"ColumnDataSource\"},\"glyph\":{\"id\":\"e8fe36bb-32a9-4ce5-b970-1ecb37ca81bb\",\"type\":\"MultiLine\"},\"hover_glyph\":null,\"muted_glyph\":null,\"view\":{\"id\":\"0ac2d3e4-a8d5-4537-91a8-2a178757ab82\",\"type\":\"CDSView\"}},\"id\":\"2c848cf8-d7ce-457f-b374-d833ff1f6ec1\",\"type\":\"GlyphRenderer\"},{\"attributes\":{},\"id\":\"05956014-8942-4292-88ac-c4e03ed191ea\",\"type\":\"LinearScale\"},{\"attributes\":{\"dimension\":1,\"plot\":{\"id\":\"20dfcb20-e6e3-4696-863e-2d0ab0d5d57d\",\"subtype\":\"Figure\",\"type\":\"Plot\"},\"ticker\":{\"id\":\"f43c06bc-6dc6-4b98-aac5-1c92d6c6a215\",\"type\":\"BasicTicker\"}},\"id\":\"d5cdc842-df5a-4cb9-baf8-7101e5dc8f09\",\"type\":\"Grid\"},{\"attributes\":{\"edge_renderer\":{\"id\":\"2c848cf8-d7ce-457f-b374-d833ff1f6ec1\",\"type\":\"GlyphRenderer\"},\"inspection_policy\":{\"id\":\"db19aeb6-74fa-414b-97ea-00e8cc41b035\",\"type\":\"NodesOnly\"},\"layout_provider\":{\"id\":\"f8e789f0-a1b6-4eef-9b2b-24c08c6048ca\",\"type\":\"StaticLayoutProvider\"},\"node_renderer\":{\"id\":\"570282a3-81b5-404d-9996-3be8b188af28\",\"type\":\"GlyphRenderer\"},\"selection_policy\":{\"id\":\"4229de92-612d-40be-8d14-cefd91fd1bf5\",\"type\":\"NodesOnly\"}},\"id\":\"65dd3da3-8191-456c-a594-8537dbb967c3\",\"type\":\"GraphRenderer\"},{\"attributes\":{},\"id\":\"7e9778df-f7d2-4e0b-a49c-47df9678fdc8\",\"type\":\"BasicTicker\"},{\"attributes\":{\"source\":{\"id\":\"abf13f08-e146-4b7f-bb0f-dd86aee2272c\",\"type\":\"ColumnDataSource\"}},\"id\":\"0ac2d3e4-a8d5-4537-91a8-2a178757ab82\",\"type\":\"CDSView\"},{\"attributes\":{\"callback\":null,\"end\":1.1,\"start\":-1.1},\"id\":\"6879c0a2-8ece-4d56-a845-15c687e912b4\",\"type\":\"Range1d\"},{\"attributes\":{\"callback\":null,\"column_names\":[\"start\",\"end\"],\"data\":{\"end\":[0,1,2,3,4,5,6,7],\"start\":[0,0,0,0,0,0,0,0]}},\"id\":\"abf13f08-e146-4b7f-bb0f-dd86aee2272c\",\"type\":\"ColumnDataSource\"},{\"attributes\":{\"fill_color\":{\"field\":\"fill_color\"},\"height\":{\"units\":\"data\",\"value\":0.1},\"width\":{\"units\":\"data\",\"value\":0.2}},\"id\":\"195e903f-2b7e-4b2d-8bf6-9c0738752f52\",\"type\":\"Oval\"}],\"root_ids\":[\"20dfcb20-e6e3-4696-863e-2d0ab0d5d57d\"]},\"title\":\"Bokeh Application\",\"version\":\"0.12.10\"}};\n",
       "    var render_items = [{\"docid\":\"3dbd72c2-da39-4aa8-9c3b-80413bd12682\",\"elementid\":\"49baead1-04ff-4d2e-a89f-178c3f472d6d\",\"modelid\":\"20dfcb20-e6e3-4696-863e-2d0ab0d5d57d\"}];\n",
       "\n",
       "    root.Bokeh.embed.embed_items(docs_json, render_items);\n",
       "  }\n",
       "\n",
       "  if (root.Bokeh !== undefined) {\n",
       "    embed_document(root);\n",
       "  } else {\n",
       "    var attempts = 0;\n",
       "    var timer = setInterval(function(root) {\n",
       "      if (root.Bokeh !== undefined) {\n",
       "        embed_document(root);\n",
       "        clearInterval(timer);\n",
       "      }\n",
       "      attempts++;\n",
       "      if (attempts > 100) {\n",
       "        console.log(\"Bokeh: ERROR: Unable to embed document because BokehJS library is missing\")\n",
       "        clearInterval(timer);\n",
       "      }\n",
       "    }, 10, root)\n",
       "  }\n",
       "})(window);"
      ],
      "application/vnd.bokehjs_exec.v0+json": ""
     },
     "metadata": {
      "application/vnd.bokehjs_exec.v0+json": {
       "id": "20dfcb20-e6e3-4696-863e-2d0ab0d5d57d"
      }
     },
     "output_type": "display_data"
    }
   ],
   "source": [
    "import math\n",
    "\n",
    "from bokeh.io import show, output_file\n",
    "from bokeh.plotting import figure\n",
    "from bokeh.models import GraphRenderer, StaticLayoutProvider, Oval\n",
    "from bokeh.palettes import Spectral8\n",
    "\n",
    "N = 8\n",
    "node_indices = list(range(N))\n",
    "\n",
    "plot = figure(title=\"Graph Layout Demonstration\", x_range=(-1.1,1.1), y_range=(-1.1,1.1),\n",
    "              tools=\"\", toolbar_location=None)\n",
    "\n",
    "graph = GraphRenderer()\n",
    "\n",
    "graph.node_renderer.glyph = Oval(height=0.1, width=0.2, fill_color=\"fill_color\")\n",
    "graph.node_renderer.data_source.data = dict(\n",
    "    index=node_indices,\n",
    "    fill_color=Spectral8)\n",
    "\n",
    "graph.edge_renderer.data_source.data = dict(\n",
    "    start=[0]*N,\n",
    "    end=node_indices)\n",
    "\n",
    "### start of layout code\n",
    "circ = [i*2*math.pi/8 for i in node_indices]\n",
    "x = [math.cos(i) for i in circ]\n",
    "y = [math.sin(i) for i in circ]\n",
    "\n",
    "graph_layout = dict(zip(node_indices, zip(x, y)))\n",
    "print (graph_layout)\n",
    "graph.layout_provider = StaticLayoutProvider(graph_layout=graph_layout)\n",
    "\n",
    "plot.renderers.append(graph)\n",
    "show(plot)"
   ]
  },
  {
   "cell_type": "code",
   "execution_count": 17,
   "metadata": {},
   "outputs": [
    {
     "name": "stdout",
     "output_type": "stream",
     "text": [
      "{0: (73.0, 234.0), 1: (73.0, 162.0), 2: (27.0, 90.0), 3: (82.0, 18.0)}\n"
     ]
    }
   ],
   "source": [
    "G = nx.complete_graph(4)\n",
    "pos = nx.nx_pydot.graphviz_layout(G, prog='dot')\n",
    "print (pos)"
   ]
  },
  {
   "cell_type": "code",
   "execution_count": 44,
   "metadata": {},
   "outputs": [],
   "source": [
    "G=nx.complete_graph(8)\n",
    "#G=nx.gn_graph(8)"
   ]
  },
  {
   "cell_type": "code",
   "execution_count": 45,
   "metadata": {},
   "outputs": [],
   "source": [
    "node_indices = list(G.nodes)"
   ]
  },
  {
   "cell_type": "code",
   "execution_count": 46,
   "metadata": {},
   "outputs": [
    {
     "name": "stdout",
     "output_type": "stream",
     "text": [
      "[0, 1, 2, 3, 4, 5, 6, 7]\n"
     ]
    }
   ],
   "source": [
    "print (node_indices)"
   ]
  },
  {
   "cell_type": "code",
   "execution_count": 47,
   "metadata": {},
   "outputs": [],
   "source": [
    "edge_start = [x[0] for x in G.edges]\n",
    "edge_end = [x[1] for x in G.edges]"
   ]
  },
  {
   "cell_type": "code",
   "execution_count": 48,
   "metadata": {},
   "outputs": [],
   "source": [
    "pos = nx.nx_pydot.graphviz_layout(G,prog='neato')"
   ]
  },
  {
   "cell_type": "code",
   "execution_count": 49,
   "metadata": {},
   "outputs": [
    {
     "name": "stdout",
     "output_type": "stream",
     "text": [
      "{0: (-47.78, 11.146), 1: (47.226, 8.3794), 2: (0.20235, -47.976), 3: (-19.424, 45.041), 4: (23.607, 42.348), 5: (-3.0396, 2.4611), 6: (-37.485, -30.783), 7: (36.694, -30.616)}\n"
     ]
    }
   ],
   "source": [
    "print (pos)"
   ]
  },
  {
   "cell_type": "code",
   "execution_count": 52,
   "metadata": {
    "scrolled": false
   },
   "outputs": [
    {
     "name": "stderr",
     "output_type": "stream",
     "text": [
      "ERROR:/home/ankdesh/virtualenvs/bokeh/lib/python3.5/site-packages/bokeh/core/validation/check.py:E-1001 (BAD_COLUMN_NAME): Glyph refers to nonexistent column name: fill_color [renderer: GlyphRenderer(id='e3b1ef64-0123-4308-a708-e929f7d821b0', ...)]\n"
     ]
    },
    {
     "data": {
      "text/html": [
       "\n",
       "<div class=\"bk-root\">\n",
       "    <div class=\"bk-plotdiv\" id=\"66974da2-8e1b-45f4-8909-2aaeee2be7b4\"></div>\n",
       "</div>"
      ]
     },
     "metadata": {},
     "output_type": "display_data"
    },
    {
     "data": {
      "application/javascript": [
       "(function(root) {\n",
       "  function embed_document(root) {\n",
       "    var docs_json = {\"2391d615-1b0a-4d03-99d4-429c950432d1\":{\"roots\":{\"references\":[{\"attributes\":{\"data_source\":{\"id\":\"db771106-1950-44be-8d01-96bbc452a149\",\"type\":\"ColumnDataSource\"},\"glyph\":{\"id\":\"47770121-7ef5-4060-9085-ebf0d999d54e\",\"type\":\"MultiLine\"},\"hover_glyph\":null,\"muted_glyph\":null,\"view\":{\"id\":\"27b07b3e-8054-44cb-8fa6-d4d7aab18efc\",\"type\":\"CDSView\"}},\"id\":\"ae91ce7a-782f-49f7-b039-b7efc8de64dc\",\"type\":\"GlyphRenderer\"},{\"attributes\":{\"overlay\":{\"id\":\"650a43a7-7447-4796-9b0c-0167a400abcd\",\"type\":\"BoxAnnotation\"}},\"id\":\"3efa1bbb-9090-45e1-a7c3-d25dd6cebd21\",\"type\":\"BoxZoomTool\"},{\"attributes\":{\"source\":{\"id\":\"d5a1f873-d4e1-400d-8645-9715f11dba8f\",\"type\":\"ColumnDataSource\"}},\"id\":\"caa6ceac-9f7d-42a4-9b20-c2e6513dee2c\",\"type\":\"CDSView\"},{\"attributes\":{},\"id\":\"f83650bc-1037-4755-8326-f0a16276e023\",\"type\":\"NodesOnly\"},{\"attributes\":{\"graph_layout\":{\"0\":[-47.78,11.146],\"1\":[47.226,8.3794],\"2\":[0.20235,-47.976],\"3\":[-19.424,45.041],\"4\":[23.607,42.348],\"5\":[-3.0396,2.4611],\"6\":[-37.485,-30.783],\"7\":[36.694,-30.616]}},\"id\":\"c0e5d62a-faf9-47d3-83db-67c7e21e72d0\",\"type\":\"StaticLayoutProvider\"},{\"attributes\":{\"callback\":null,\"column_names\":[\"index\"],\"data\":{\"fill_color\":[\"#440154\",\"#46317E\",\"#365A8C\",\"#277E8E\",\"#1EA087\",\"#49C16D\",\"#9DD93A\",\"#FDE724\"],\"index\":[0,1,2,3,4,5,6,7]}},\"id\":\"d5a1f873-d4e1-400d-8645-9715f11dba8f\",\"type\":\"ColumnDataSource\"},{\"attributes\":{\"callback\":null,\"end\":57.226,\"start\":-57.78},\"id\":\"af56d9ab-50b6-4819-b840-63ea26cd6670\",\"type\":\"Range1d\"},{\"attributes\":{},\"id\":\"48ab50f2-ec97-4f77-bc3a-1fb7c703fe62\",\"type\":\"NodesOnly\"},{\"attributes\":{},\"id\":\"1433dd3b-16cf-438a-bb09-e69fece2dc18\",\"type\":\"SaveTool\"},{\"attributes\":{\"edge_renderer\":{\"id\":\"ae91ce7a-782f-49f7-b039-b7efc8de64dc\",\"type\":\"GlyphRenderer\"},\"inspection_policy\":{\"id\":\"48ab50f2-ec97-4f77-bc3a-1fb7c703fe62\",\"type\":\"NodesOnly\"},\"layout_provider\":{\"id\":\"c0e5d62a-faf9-47d3-83db-67c7e21e72d0\",\"type\":\"StaticLayoutProvider\"},\"node_renderer\":{\"id\":\"e3b1ef64-0123-4308-a708-e929f7d821b0\",\"type\":\"GlyphRenderer\"},\"selection_policy\":{\"id\":\"f83650bc-1037-4755-8326-f0a16276e023\",\"type\":\"NodesOnly\"}},\"id\":\"1c44b057-bd89-40fd-84c8-630b9f50ece8\",\"type\":\"GraphRenderer\"},{\"attributes\":{},\"id\":\"1aa24843-dbe5-48ef-ad62-2ecc7746e9dc\",\"type\":\"LinearScale\"},{\"attributes\":{\"plot\":null,\"text\":\"Graph Layout Demonstration\"},\"id\":\"f34b2bee-1a17-40e1-8ad6-d98757602818\",\"type\":\"Title\"},{\"attributes\":{\"below\":[{\"id\":\"db65ffe2-cb9b-4356-b5e0-748529094ee0\",\"type\":\"LinearAxis\"}],\"left\":[{\"id\":\"13900d8b-6c72-4ac5-9980-39f231364e8f\",\"type\":\"LinearAxis\"}],\"plot_height\":500,\"renderers\":[{\"id\":\"db65ffe2-cb9b-4356-b5e0-748529094ee0\",\"type\":\"LinearAxis\"},{\"id\":\"2ff9369e-3452-4c5e-8d1b-a6c5d796b9a7\",\"type\":\"Grid\"},{\"id\":\"13900d8b-6c72-4ac5-9980-39f231364e8f\",\"type\":\"LinearAxis\"},{\"id\":\"69a14fcf-9769-45f9-891a-c9bd0eecd31e\",\"type\":\"Grid\"},{\"id\":\"650a43a7-7447-4796-9b0c-0167a400abcd\",\"type\":\"BoxAnnotation\"},{\"id\":\"1c44b057-bd89-40fd-84c8-630b9f50ece8\",\"type\":\"GraphRenderer\"}],\"title\":{\"id\":\"f34b2bee-1a17-40e1-8ad6-d98757602818\",\"type\":\"Title\"},\"toolbar\":{\"id\":\"eeebc176-8563-4659-b663-9ea39c9b08fe\",\"type\":\"Toolbar\"},\"x_range\":{\"id\":\"af56d9ab-50b6-4819-b840-63ea26cd6670\",\"type\":\"Range1d\"},\"x_scale\":{\"id\":\"1aa24843-dbe5-48ef-ad62-2ecc7746e9dc\",\"type\":\"LinearScale\"},\"y_range\":{\"id\":\"4f76b6b7-4b9d-4a3b-bd5e-c053db9050d2\",\"type\":\"Range1d\"},\"y_scale\":{\"id\":\"7f6f679d-f3fc-4220-9c24-9053f8feab1e\",\"type\":\"LinearScale\"}},\"id\":\"5770dfe0-7d55-4ac9-8d8e-5f582f9b17c2\",\"subtype\":\"Figure\",\"type\":\"Plot\"},{\"attributes\":{},\"id\":\"5ce06c42-7e80-458e-b907-67f8c5d226b9\",\"type\":\"BasicTickFormatter\"},{\"attributes\":{\"source\":{\"id\":\"db771106-1950-44be-8d01-96bbc452a149\",\"type\":\"ColumnDataSource\"}},\"id\":\"27b07b3e-8054-44cb-8fa6-d4d7aab18efc\",\"type\":\"CDSView\"},{\"attributes\":{\"formatter\":{\"id\":\"5ce06c42-7e80-458e-b907-67f8c5d226b9\",\"type\":\"BasicTickFormatter\"},\"plot\":{\"id\":\"5770dfe0-7d55-4ac9-8d8e-5f582f9b17c2\",\"subtype\":\"Figure\",\"type\":\"Plot\"},\"ticker\":{\"id\":\"ce7151a6-a526-4982-9c8b-37172d8b399b\",\"type\":\"BasicTicker\"}},\"id\":\"13900d8b-6c72-4ac5-9980-39f231364e8f\",\"type\":\"LinearAxis\"},{\"attributes\":{\"data_source\":{\"id\":\"d5a1f873-d4e1-400d-8645-9715f11dba8f\",\"type\":\"ColumnDataSource\"},\"glyph\":{\"id\":\"42843979-0fbb-4794-b1c4-93dedf55117e\",\"type\":\"Rect\"},\"hover_glyph\":null,\"muted_glyph\":null,\"view\":{\"id\":\"caa6ceac-9f7d-42a4-9b20-c2e6513dee2c\",\"type\":\"CDSView\"}},\"id\":\"e3b1ef64-0123-4308-a708-e929f7d821b0\",\"type\":\"GlyphRenderer\"},{\"attributes\":{},\"id\":\"ce7151a6-a526-4982-9c8b-37172d8b399b\",\"type\":\"BasicTicker\"},{\"attributes\":{},\"id\":\"47770121-7ef5-4060-9085-ebf0d999d54e\",\"type\":\"MultiLine\"},{\"attributes\":{\"bottom_units\":\"screen\",\"fill_alpha\":{\"value\":0.5},\"fill_color\":{\"value\":\"lightgrey\"},\"left_units\":\"screen\",\"level\":\"overlay\",\"line_alpha\":{\"value\":1.0},\"line_color\":{\"value\":\"black\"},\"line_dash\":[4,4],\"line_width\":{\"value\":2},\"plot\":null,\"render_mode\":\"css\",\"right_units\":\"screen\",\"top_units\":\"screen\"},\"id\":\"650a43a7-7447-4796-9b0c-0167a400abcd\",\"type\":\"BoxAnnotation\"},{\"attributes\":{},\"id\":\"7f6f679d-f3fc-4220-9c24-9053f8feab1e\",\"type\":\"LinearScale\"},{\"attributes\":{},\"id\":\"9a45f8dd-f539-4c3d-8541-ea79ca78dc7a\",\"type\":\"BasicTickFormatter\"},{\"attributes\":{\"dimension\":1,\"plot\":{\"id\":\"5770dfe0-7d55-4ac9-8d8e-5f582f9b17c2\",\"subtype\":\"Figure\",\"type\":\"Plot\"},\"ticker\":{\"id\":\"ce7151a6-a526-4982-9c8b-37172d8b399b\",\"type\":\"BasicTicker\"}},\"id\":\"69a14fcf-9769-45f9-891a-c9bd0eecd31e\",\"type\":\"Grid\"},{\"attributes\":{},\"id\":\"8e9b8c52-1f14-47b2-b286-3f50a4e30808\",\"type\":\"ResetTool\"},{\"attributes\":{\"plot\":{\"id\":\"5770dfe0-7d55-4ac9-8d8e-5f582f9b17c2\",\"subtype\":\"Figure\",\"type\":\"Plot\"},\"ticker\":{\"id\":\"c3e78a29-c434-49dd-bee5-775c499dfcdf\",\"type\":\"BasicTicker\"}},\"id\":\"2ff9369e-3452-4c5e-8d1b-a6c5d796b9a7\",\"type\":\"Grid\"},{\"attributes\":{\"callback\":null,\"end\":55.041,\"start\":-57.976},\"id\":\"4f76b6b7-4b9d-4a3b-bd5e-c053db9050d2\",\"type\":\"Range1d\"},{\"attributes\":{\"callback\":null,\"column_names\":[\"start\",\"end\"],\"data\":{\"end\":[1,2,3,4,5,6,7,2,3,4,5,6,7,3,4,5,6,7,4,5,6,7,5,6,7,6,7,7],\"start\":[0,0,0,0,0,0,0,1,1,1,1,1,1,2,2,2,2,2,3,3,3,3,4,4,4,5,5,6]}},\"id\":\"db771106-1950-44be-8d01-96bbc452a149\",\"type\":\"ColumnDataSource\"},{\"attributes\":{\"active_drag\":\"auto\",\"active_inspect\":\"auto\",\"active_scroll\":\"auto\",\"active_tap\":\"auto\",\"tools\":[{\"id\":\"c2b26e51-d821-40d5-9c36-06a1a46f613d\",\"type\":\"WheelZoomTool\"},{\"id\":\"3efa1bbb-9090-45e1-a7c3-d25dd6cebd21\",\"type\":\"BoxZoomTool\"},{\"id\":\"1433dd3b-16cf-438a-bb09-e69fece2dc18\",\"type\":\"SaveTool\"},{\"id\":\"8e9b8c52-1f14-47b2-b286-3f50a4e30808\",\"type\":\"ResetTool\"}]},\"id\":\"eeebc176-8563-4659-b663-9ea39c9b08fe\",\"type\":\"Toolbar\"},{\"attributes\":{\"fill_color\":{\"field\":\"fill_color\"},\"height\":{\"units\":\"data\",\"value\":10},\"width\":{\"units\":\"data\",\"value\":10}},\"id\":\"42843979-0fbb-4794-b1c4-93dedf55117e\",\"type\":\"Rect\"},{\"attributes\":{\"formatter\":{\"id\":\"9a45f8dd-f539-4c3d-8541-ea79ca78dc7a\",\"type\":\"BasicTickFormatter\"},\"plot\":{\"id\":\"5770dfe0-7d55-4ac9-8d8e-5f582f9b17c2\",\"subtype\":\"Figure\",\"type\":\"Plot\"},\"ticker\":{\"id\":\"c3e78a29-c434-49dd-bee5-775c499dfcdf\",\"type\":\"BasicTicker\"}},\"id\":\"db65ffe2-cb9b-4356-b5e0-748529094ee0\",\"type\":\"LinearAxis\"},{\"attributes\":{},\"id\":\"c2b26e51-d821-40d5-9c36-06a1a46f613d\",\"type\":\"WheelZoomTool\"},{\"attributes\":{},\"id\":\"c3e78a29-c434-49dd-bee5-775c499dfcdf\",\"type\":\"BasicTicker\"}],\"root_ids\":[\"5770dfe0-7d55-4ac9-8d8e-5f582f9b17c2\"]},\"title\":\"Bokeh Application\",\"version\":\"0.12.10\"}};\n",
       "    var render_items = [{\"docid\":\"2391d615-1b0a-4d03-99d4-429c950432d1\",\"elementid\":\"66974da2-8e1b-45f4-8909-2aaeee2be7b4\",\"modelid\":\"5770dfe0-7d55-4ac9-8d8e-5f582f9b17c2\"}];\n",
       "\n",
       "    root.Bokeh.embed.embed_items(docs_json, render_items);\n",
       "  }\n",
       "\n",
       "  if (root.Bokeh !== undefined) {\n",
       "    embed_document(root);\n",
       "  } else {\n",
       "    var attempts = 0;\n",
       "    var timer = setInterval(function(root) {\n",
       "      if (root.Bokeh !== undefined) {\n",
       "        embed_document(root);\n",
       "        clearInterval(timer);\n",
       "      }\n",
       "      attempts++;\n",
       "      if (attempts > 100) {\n",
       "        console.log(\"Bokeh: ERROR: Unable to embed document because BokehJS library is missing\")\n",
       "        clearInterval(timer);\n",
       "      }\n",
       "    }, 10, root)\n",
       "  }\n",
       "})(window);"
      ],
      "application/vnd.bokehjs_exec.v0+json": ""
     },
     "metadata": {
      "application/vnd.bokehjs_exec.v0+json": {
       "id": "5770dfe0-7d55-4ac9-8d8e-5f582f9b17c2"
      }
     },
     "output_type": "display_data"
    }
   ],
   "source": [
    "import math\n",
    "\n",
    "from bokeh.io import show, output_file\n",
    "from bokeh.plotting import figure\n",
    "from bokeh.models import GraphRenderer, StaticLayoutProvider, Oval, Rect\n",
    "from bokeh.palettes import viridis\n",
    "\n",
    "#N = 8\n",
    "#node_indices = list(range(N))\n",
    "x_coords = [x[0] for x in pos.values()]\n",
    "y_coords = [x[1] for x in pos.values()]\n",
    "\n",
    "plot = figure(title=\"Graph Layout Demonstration\", \n",
    "              x_range=(min(x_coords)-10,max(x_coords)+10), y_range=(min(y_coords)-10,max(y_coords)+10),\n",
    "              tools=\"wheel_zoom,box_zoom,save,reset\", plot_height=500)\n",
    "\n",
    "graph = GraphRenderer()\n",
    "\n",
    "graph.node_renderer.data_source.data = dict(\n",
    "    index=node_indices,\n",
    "    fill_color = viridis(len(node_indices)))\n",
    "graph.node_renderer.glyph = Rect(height=10, width=10, fill_color=\"fill_color\")\n",
    "\n",
    "graph.edge_renderer.data_source.data = dict(\n",
    "    start=edge_start,\n",
    "    end=edge_end)\n",
    "\n",
    "graph_layout = pos\n",
    "graph.layout_provider = StaticLayoutProvider(graph_layout=graph_layout)\n",
    "\n",
    "plot.renderers.append(graph)\n",
    "\n",
    "show(plot)"
   ]
  },
  {
   "cell_type": "code",
   "execution_count": 67,
   "metadata": {},
   "outputs": [],
   "source": [
    "import math\n",
    "\n",
    "from bokeh.io import show, output_file\n",
    "from bokeh.plotting import figure\n",
    "from bokeh.models import GraphRenderer, StaticLayoutProvider, Oval, Rect\n",
    "from bokeh.palettes import viridis\n",
    "\n",
    "def createGraphViz(G, title, plot_height=500, layout_prog='dot', tools=None, colorPallete=None):\n",
    "    '''Creates bokeh figure for Graph with given nodes and attributes\n",
    "    G = networkX graph\n",
    "    title = Graph Title\n",
    "    plot_height = height of plot (default = 500)\n",
    "    layout_prog = Layout program from Graphviz (default = dot)\n",
    "    tools = Set of tools to display along with plot (Defalt = All Bokeh tools)\n",
    "    colorPallette = a list of colors to use for Nodes (Default = sample from viridis)'''\n",
    "\n",
    "    #Nodes and edges\n",
    "    node_indices = list(G.nodes)\n",
    "    edge_start = [x[0] for x in G.edges]\n",
    "    edge_end = [x[1] for x in G.edges]\n",
    "    \n",
    "    #Assign location using layout program\n",
    "    pos = nx.nx_pydot.graphviz_layout(G, prog=layout_prog)\n",
    "    x_coords = [x[0] for x in pos.values()]\n",
    "    y_coords = [x[1] for x in pos.values()]\n",
    "  \n",
    "    plot = figure(title=\"Graph Layout Demonstration\", \n",
    "              x_range=(min(x_coords)-10,max(x_coords)+10), y_range=(min(y_coords)-10,max(y_coords)+10),\n",
    "              tools=tools, plot_height=plot_height)\n",
    "\n",
    "    graph = GraphRenderer()\n",
    "\n",
    "    graph.node_renderer.data_source.data = dict(\n",
    "        index=node_indices,\n",
    "        fill_color = viridis(len(node_indices)))\n",
    "    graph.node_renderer.glyph = Rect(height=10, width=10, fill_color=\"fill_color\")\n",
    "\n",
    "    graph.edge_renderer.data_source.data = dict(\n",
    "        start=edge_start,\n",
    "        end=edge_end)\n",
    "\n",
    "    graph_layout = pos\n",
    "    graph.layout_provider = StaticLayoutProvider(graph_layout=graph_layout)\n",
    "    \n",
    "    plot.renderers.append(graph)\n",
    "    \n",
    "    return plot"
   ]
  },
  {
   "cell_type": "code",
   "execution_count": 70,
   "metadata": {},
   "outputs": [
    {
     "name": "stderr",
     "output_type": "stream",
     "text": [
      "ERROR:/home/ankdesh/virtualenvs/bokeh/lib/python3.5/site-packages/bokeh/core/validation/check.py:E-1001 (BAD_COLUMN_NAME): Glyph refers to nonexistent column name: fill_color [renderer: GlyphRenderer(id='cc8e7863-c331-44e3-b21a-c0ad493289ea', ...)]\n"
     ]
    },
    {
     "data": {
      "text/html": [
       "\n",
       "<div class=\"bk-root\">\n",
       "    <div class=\"bk-plotdiv\" id=\"08219378-02c9-4662-b75e-0421d11dab3d\"></div>\n",
       "</div>"
      ]
     },
     "metadata": {},
     "output_type": "display_data"
    },
    {
     "data": {
      "application/javascript": [
       "(function(root) {\n",
       "  function embed_document(root) {\n",
       "    var docs_json = {\"bb7d0f2c-658e-4adb-a879-73a950fca854\":{\"roots\":{\"references\":[{\"attributes\":{\"formatter\":{\"id\":\"348ab5ae-e3b2-43fc-a21c-5614da9b949b\",\"type\":\"BasicTickFormatter\"},\"plot\":{\"id\":\"2ccacf6b-576c-4aeb-b5e1-397e4c200d37\",\"subtype\":\"Figure\",\"type\":\"Plot\"},\"ticker\":{\"id\":\"283f8b31-b23e-49cb-a84e-f82ad0227a28\",\"type\":\"BasicTicker\"}},\"id\":\"d65bddfc-1a91-4b0f-85a6-b443519a876b\",\"type\":\"LinearAxis\"},{\"attributes\":{},\"id\":\"fb010c30-0dfd-47b8-a41b-a6e110ced8a3\",\"type\":\"MultiLine\"},{\"attributes\":{},\"id\":\"cfa1180a-6984-4e17-9ffd-5aefd3e3c6f5\",\"type\":\"WheelZoomTool\"},{\"attributes\":{\"fill_color\":{\"field\":\"fill_color\"},\"height\":{\"units\":\"data\",\"value\":10},\"width\":{\"units\":\"data\",\"value\":10}},\"id\":\"73a33ed5-60a0-47ed-9fca-e4651418c685\",\"type\":\"Rect\"},{\"attributes\":{\"source\":{\"id\":\"0903deae-3765-40fb-b05d-2209b0e61d87\",\"type\":\"ColumnDataSource\"}},\"id\":\"79f71a04-8412-4eae-a823-c2e261f1ebc1\",\"type\":\"CDSView\"},{\"attributes\":{\"active_drag\":\"auto\",\"active_inspect\":\"auto\",\"active_scroll\":\"auto\",\"active_tap\":\"auto\",\"tools\":[{\"id\":\"cfa1180a-6984-4e17-9ffd-5aefd3e3c6f5\",\"type\":\"WheelZoomTool\"},{\"id\":\"62ed318b-58f5-4131-9aca-3dbf8d168dd8\",\"type\":\"BoxZoomTool\"},{\"id\":\"c20f4515-af23-43fd-8447-aa30fe1d22cf\",\"type\":\"SaveTool\"},{\"id\":\"6078c589-d469-4b1e-9cb1-295bc561e940\",\"type\":\"ResetTool\"}]},\"id\":\"bf399318-c87f-40b0-9040-4abd7140e709\",\"type\":\"Toolbar\"},{\"attributes\":{\"overlay\":{\"id\":\"5e19b6f2-a318-4962-9843-a9abfc2495ae\",\"type\":\"BoxAnnotation\"}},\"id\":\"62ed318b-58f5-4131-9aca-3dbf8d168dd8\",\"type\":\"BoxZoomTool\"},{\"attributes\":{},\"id\":\"5be01a2e-320c-4724-a394-fc0cfa7db04f\",\"type\":\"NodesOnly\"},{\"attributes\":{},\"id\":\"dc4ed996-2c81-4898-ac17-5aeb8f3d1674\",\"type\":\"NodesOnly\"},{\"attributes\":{\"callback\":null,\"end\":532.0,\"start\":8.0},\"id\":\"86fc9b13-37a7-4b1f-9d96-596693e4e63e\",\"type\":\"Range1d\"},{\"attributes\":{},\"id\":\"4ffd4380-099d-4d44-a939-82927dca6323\",\"type\":\"LinearScale\"},{\"attributes\":{\"plot\":null,\"text\":\"Graph Layout Demonstration\"},\"id\":\"574d32b0-2a83-48a7-bd7a-c70930c8607f\",\"type\":\"Title\"},{\"attributes\":{},\"id\":\"3b68b9d7-848e-4c6a-936a-5297f7987e6d\",\"type\":\"BasicTicker\"},{\"attributes\":{\"data_source\":{\"id\":\"9767f141-107c-436a-b4e1-7b460965397c\",\"type\":\"ColumnDataSource\"},\"glyph\":{\"id\":\"73a33ed5-60a0-47ed-9fca-e4651418c685\",\"type\":\"Rect\"},\"hover_glyph\":null,\"muted_glyph\":null,\"view\":{\"id\":\"e9d2e5cf-3f31-40d2-9f3a-2990d8a072d1\",\"type\":\"CDSView\"}},\"id\":\"cc8e7863-c331-44e3-b21a-c0ad493289ea\",\"type\":\"GlyphRenderer\"},{\"attributes\":{\"callback\":null,\"end\":365.0,\"start\":159.0},\"id\":\"4b7b6eec-f83f-4d6f-a30e-df43d4805887\",\"type\":\"Range1d\"},{\"attributes\":{\"formatter\":{\"id\":\"b4ce6ff0-73d4-4703-b8df-70f28c149b7b\",\"type\":\"BasicTickFormatter\"},\"plot\":{\"id\":\"2ccacf6b-576c-4aeb-b5e1-397e4c200d37\",\"subtype\":\"Figure\",\"type\":\"Plot\"},\"ticker\":{\"id\":\"3b68b9d7-848e-4c6a-936a-5297f7987e6d\",\"type\":\"BasicTicker\"}},\"id\":\"e6e1c19e-b1fc-451f-ad1f-b88cc0344243\",\"type\":\"LinearAxis\"},{\"attributes\":{\"plot\":{\"id\":\"2ccacf6b-576c-4aeb-b5e1-397e4c200d37\",\"subtype\":\"Figure\",\"type\":\"Plot\"},\"ticker\":{\"id\":\"283f8b31-b23e-49cb-a84e-f82ad0227a28\",\"type\":\"BasicTicker\"}},\"id\":\"9d0b6550-fb4b-4fae-928f-69ac04908fa0\",\"type\":\"Grid\"},{\"attributes\":{},\"id\":\"6078c589-d469-4b1e-9cb1-295bc561e940\",\"type\":\"ResetTool\"},{\"attributes\":{},\"id\":\"204b62e0-447f-46b1-ae87-68ae4e4a8c18\",\"type\":\"LinearScale\"},{\"attributes\":{},\"id\":\"283f8b31-b23e-49cb-a84e-f82ad0227a28\",\"type\":\"BasicTicker\"},{\"attributes\":{},\"id\":\"b4ce6ff0-73d4-4703-b8df-70f28c149b7b\",\"type\":\"BasicTickFormatter\"},{\"attributes\":{\"callback\":null,\"column_names\":[\"start\",\"end\"],\"data\":{\"end\":[1,2,3,4,5,6,7,2,3,4,5,6,7,3,4,5,6,7,4,5,6,7,5,6,7,6,7,7],\"start\":[0,0,0,0,0,0,0,1,1,1,1,1,1,2,2,2,2,2,3,3,3,3,4,4,4,5,5,6]}},\"id\":\"0903deae-3765-40fb-b05d-2209b0e61d87\",\"type\":\"ColumnDataSource\"},{\"attributes\":{\"below\":[{\"id\":\"d65bddfc-1a91-4b0f-85a6-b443519a876b\",\"type\":\"LinearAxis\"}],\"left\":[{\"id\":\"e6e1c19e-b1fc-451f-ad1f-b88cc0344243\",\"type\":\"LinearAxis\"}],\"plot_height\":500,\"renderers\":[{\"id\":\"d65bddfc-1a91-4b0f-85a6-b443519a876b\",\"type\":\"LinearAxis\"},{\"id\":\"9d0b6550-fb4b-4fae-928f-69ac04908fa0\",\"type\":\"Grid\"},{\"id\":\"e6e1c19e-b1fc-451f-ad1f-b88cc0344243\",\"type\":\"LinearAxis\"},{\"id\":\"9c738dd2-c9f6-4d13-9783-c6e0c7c2bacb\",\"type\":\"Grid\"},{\"id\":\"5e19b6f2-a318-4962-9843-a9abfc2495ae\",\"type\":\"BoxAnnotation\"},{\"id\":\"e5ad7868-5036-4383-9a6d-600039928f28\",\"type\":\"GraphRenderer\"}],\"title\":{\"id\":\"574d32b0-2a83-48a7-bd7a-c70930c8607f\",\"type\":\"Title\"},\"toolbar\":{\"id\":\"bf399318-c87f-40b0-9040-4abd7140e709\",\"type\":\"Toolbar\"},\"x_range\":{\"id\":\"4b7b6eec-f83f-4d6f-a30e-df43d4805887\",\"type\":\"Range1d\"},\"x_scale\":{\"id\":\"4ffd4380-099d-4d44-a939-82927dca6323\",\"type\":\"LinearScale\"},\"y_range\":{\"id\":\"86fc9b13-37a7-4b1f-9d96-596693e4e63e\",\"type\":\"Range1d\"},\"y_scale\":{\"id\":\"204b62e0-447f-46b1-ae87-68ae4e4a8c18\",\"type\":\"LinearScale\"}},\"id\":\"2ccacf6b-576c-4aeb-b5e1-397e4c200d37\",\"subtype\":\"Figure\",\"type\":\"Plot\"},{\"attributes\":{},\"id\":\"c20f4515-af23-43fd-8447-aa30fe1d22cf\",\"type\":\"SaveTool\"},{\"attributes\":{\"dimension\":1,\"plot\":{\"id\":\"2ccacf6b-576c-4aeb-b5e1-397e4c200d37\",\"subtype\":\"Figure\",\"type\":\"Plot\"},\"ticker\":{\"id\":\"3b68b9d7-848e-4c6a-936a-5297f7987e6d\",\"type\":\"BasicTicker\"}},\"id\":\"9c738dd2-c9f6-4d13-9783-c6e0c7c2bacb\",\"type\":\"Grid\"},{\"attributes\":{\"data_source\":{\"id\":\"0903deae-3765-40fb-b05d-2209b0e61d87\",\"type\":\"ColumnDataSource\"},\"glyph\":{\"id\":\"fb010c30-0dfd-47b8-a41b-a6e110ced8a3\",\"type\":\"MultiLine\"},\"hover_glyph\":null,\"muted_glyph\":null,\"view\":{\"id\":\"79f71a04-8412-4eae-a823-c2e261f1ebc1\",\"type\":\"CDSView\"}},\"id\":\"ab124c27-136f-443b-8205-b67c9a3e0fe9\",\"type\":\"GlyphRenderer\"},{\"attributes\":{\"edge_renderer\":{\"id\":\"ab124c27-136f-443b-8205-b67c9a3e0fe9\",\"type\":\"GlyphRenderer\"},\"inspection_policy\":{\"id\":\"dc4ed996-2c81-4898-ac17-5aeb8f3d1674\",\"type\":\"NodesOnly\"},\"layout_provider\":{\"id\":\"e8f155c5-d3e9-4974-97b3-3cea1d2c1c41\",\"type\":\"StaticLayoutProvider\"},\"node_renderer\":{\"id\":\"cc8e7863-c331-44e3-b21a-c0ad493289ea\",\"type\":\"GlyphRenderer\"},\"selection_policy\":{\"id\":\"5be01a2e-320c-4724-a394-fc0cfa7db04f\",\"type\":\"NodesOnly\"}},\"id\":\"e5ad7868-5036-4383-9a6d-600039928f28\",\"type\":\"GraphRenderer\"},{\"attributes\":{\"source\":{\"id\":\"9767f141-107c-436a-b4e1-7b460965397c\",\"type\":\"ColumnDataSource\"}},\"id\":\"e9d2e5cf-3f31-40d2-9f3a-2990d8a072d1\",\"type\":\"CDSView\"},{\"attributes\":{\"callback\":null,\"column_names\":[\"index\"],\"data\":{\"fill_color\":[\"#440154\",\"#46317E\",\"#365A8C\",\"#277E8E\",\"#1EA087\",\"#49C16D\",\"#9DD93A\",\"#FDE724\"],\"index\":[0,1,2,3,4,5,6,7]}},\"id\":\"9767f141-107c-436a-b4e1-7b460965397c\",\"type\":\"ColumnDataSource\"},{\"attributes\":{\"graph_layout\":{\"0\":[224.0,522.0],\"1\":[279.0,450.0],\"2\":[355.0,378.0],\"3\":[169.0,306.0],\"4\":[245.0,234.0],\"5\":[300.0,162.0],\"6\":[190.0,90.0],\"7\":[245.0,18.0]}},\"id\":\"e8f155c5-d3e9-4974-97b3-3cea1d2c1c41\",\"type\":\"StaticLayoutProvider\"},{\"attributes\":{\"bottom_units\":\"screen\",\"fill_alpha\":{\"value\":0.5},\"fill_color\":{\"value\":\"lightgrey\"},\"left_units\":\"screen\",\"level\":\"overlay\",\"line_alpha\":{\"value\":1.0},\"line_color\":{\"value\":\"black\"},\"line_dash\":[4,4],\"line_width\":{\"value\":2},\"plot\":null,\"render_mode\":\"css\",\"right_units\":\"screen\",\"top_units\":\"screen\"},\"id\":\"5e19b6f2-a318-4962-9843-a9abfc2495ae\",\"type\":\"BoxAnnotation\"},{\"attributes\":{},\"id\":\"348ab5ae-e3b2-43fc-a21c-5614da9b949b\",\"type\":\"BasicTickFormatter\"}],\"root_ids\":[\"2ccacf6b-576c-4aeb-b5e1-397e4c200d37\"]},\"title\":\"Bokeh Application\",\"version\":\"0.12.10\"}};\n",
       "    var render_items = [{\"docid\":\"bb7d0f2c-658e-4adb-a879-73a950fca854\",\"elementid\":\"08219378-02c9-4662-b75e-0421d11dab3d\",\"modelid\":\"2ccacf6b-576c-4aeb-b5e1-397e4c200d37\"}];\n",
       "\n",
       "    root.Bokeh.embed.embed_items(docs_json, render_items);\n",
       "  }\n",
       "\n",
       "  if (root.Bokeh !== undefined) {\n",
       "    embed_document(root);\n",
       "  } else {\n",
       "    var attempts = 0;\n",
       "    var timer = setInterval(function(root) {\n",
       "      if (root.Bokeh !== undefined) {\n",
       "        embed_document(root);\n",
       "        clearInterval(timer);\n",
       "      }\n",
       "      attempts++;\n",
       "      if (attempts > 100) {\n",
       "        console.log(\"Bokeh: ERROR: Unable to embed document because BokehJS library is missing\")\n",
       "        clearInterval(timer);\n",
       "      }\n",
       "    }, 10, root)\n",
       "  }\n",
       "})(window);"
      ],
      "application/vnd.bokehjs_exec.v0+json": ""
     },
     "metadata": {
      "application/vnd.bokehjs_exec.v0+json": {
       "id": "2ccacf6b-576c-4aeb-b5e1-397e4c200d37"
      }
     },
     "output_type": "display_data"
    }
   ],
   "source": [
    "# Test Code\n",
    "G=nx.complete_graph(8)\n",
    "\n",
    "plot = createGraphViz(G, 'Complete Graph(8)', layout_prog='dot', tools=\"wheel_zoom,box_zoom,save,reset\")\n",
    "\n",
    "show(plot)"
   ]
  },
  {
   "cell_type": "code",
   "execution_count": null,
   "metadata": {},
   "outputs": [],
   "source": []
  }
 ],
 "metadata": {
  "kernelspec": {
   "display_name": "Python 3",
   "language": "python",
   "name": "python3"
  },
  "language_info": {
   "codemirror_mode": {
    "name": "ipython",
    "version": 3
   },
   "file_extension": ".py",
   "mimetype": "text/x-python",
   "name": "python",
   "nbconvert_exporter": "python",
   "pygments_lexer": "ipython3",
   "version": "3.5.2"
  }
 },
 "nbformat": 4,
 "nbformat_minor": 2
}
