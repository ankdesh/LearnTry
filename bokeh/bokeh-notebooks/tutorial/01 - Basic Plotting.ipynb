{
 "cells": [
  {
   "cell_type": "markdown",
   "metadata": {
    "collapsed": true
   },
   "source": [
    "<table style=\"float:left; border:none\">\n",
    "   <tr style=\"border:none; background-color: #ffffff\">\n",
    "       <td style=\"border:none\">\n",
    "           <a href=\"http://bokeh.pydata.org/\">     \n",
    "           <img \n",
    "               src=\"assets/bokeh-transparent.png\" \n",
    "               style=\"width:50px\"\n",
    "           >\n",
    "           </a>    \n",
    "       </td>\n",
    "       <td style=\"border:none\">\n",
    "           <h1>Bokeh Tutorial</h1>\n",
    "       </td>\n",
    "   </tr>\n",
    "</table>\n",
    "\n",
    "<div style=\"float:right;\"><h2>01. Basic Plotting</h2></div>"
   ]
  },
  {
   "cell_type": "markdown",
   "metadata": {},
   "source": [
    "This section of the tutorial covers the [`bokeh.plotting`](http://bokeh.pydata.org/en/latest/docs/user_guide/plotting.html) \n",
    "interface. This interface is a \"mid-level\" interface, and the main idea can be described by the statement:\n",
    "\n",
    "**Starting from simple default figures (with sensible default tools, grids and axes), add markers and other shapes whose visual attributes are tied to directly data.**\n",
    "\n",
    "We will see that it is possible to customize and change all of the defaults, but having them means that it is possible to get up and running very quickly. "
   ]
  },
  {
   "cell_type": "markdown",
   "metadata": {},
   "source": [
    "# Imports and Setup\n",
    "\n",
    "When using the [`bokeh.plotting`](http://bokeh.pydata.org/en/latest/docs/user_guide/plotting.html) interface, there are a few common imports:\n",
    "* Use the [`figure`](http://bokeh.pydata.org/en/latest/docs/reference/plotting.html#bokeh.plotting.figure) function to  create new plot objects to work with. \n",
    "* Call the functions [`output_file`](http://bokeh.pydata.org/en/latest/docs/reference/resources_embedding.html#bokeh.io.output_file), [`output_notebook`](http://bokeh.pydata.org/en/latest/docs/reference/resources_embedding.html#bokeh.io.output_notebook), and [`output_server`](http://bokeh.pydata.org/en/latest/docs/reference/resources_embedding.html#bokeh.io.output_server) (possibly in combination) to tell Bokeh how to display or save output. \n",
    "* Execute [`show`](http://bokeh.pydata.org/en/latest/docs/reference/resources_embedding.html#bokeh.io.show) and  [`save`](http://bokeh.pydata.org/en/latest/docs/reference/resources_embedding.html#bokeh.io.save) to display or save plots and layouts."
   ]
  },
  {
   "cell_type": "code",
   "execution_count": 1,
   "metadata": {},
   "outputs": [],
   "source": [
    "from bokeh.io import output_notebook, show\n",
    "from bokeh.plotting import figure"
   ]
  },
  {
   "cell_type": "markdown",
   "metadata": {},
   "source": [
    "In this case, we are in the Jupyter notebook, so call `output_notebook()`. We only need to call this once, and all subsequent calls to `show()` will display inline in the notebook."
   ]
  },
  {
   "cell_type": "code",
   "execution_count": 2,
   "metadata": {},
   "outputs": [
    {
     "data": {
      "text/html": [
       "\n",
       "    <div class=\"bk-root\">\n",
       "        <a href=\"https://bokeh.pydata.org\" target=\"_blank\" class=\"bk-logo bk-logo-small bk-logo-notebook\"></a>\n",
       "        <span id=\"38010e81-729d-450f-baae-6c0d59cb4b8b\">Loading BokehJS ...</span>\n",
       "    </div>"
      ]
     },
     "metadata": {},
     "output_type": "display_data"
    },
    {
     "data": {
      "application/javascript": [
       "\n",
       "(function(root) {\n",
       "  function now() {\n",
       "    return new Date();\n",
       "  }\n",
       "\n",
       "  var force = true;\n",
       "\n",
       "  if (typeof (root._bokeh_onload_callbacks) === \"undefined\" || force === true) {\n",
       "    root._bokeh_onload_callbacks = [];\n",
       "    root._bokeh_is_loading = undefined;\n",
       "  }\n",
       "\n",
       "  var JS_MIME_TYPE = 'application/javascript';\n",
       "  var HTML_MIME_TYPE = 'text/html';\n",
       "  var EXEC_MIME_TYPE = 'application/vnd.bokehjs_exec.v0+json';\n",
       "  var CLASS_NAME = 'output_bokeh rendered_html';\n",
       "\n",
       "  /**\n",
       "   * Render data to the DOM node\n",
       "   */\n",
       "  function render(props, node) {\n",
       "    var script = document.createElement(\"script\");\n",
       "    node.appendChild(script);\n",
       "  }\n",
       "\n",
       "  /**\n",
       "   * Handle when an output is cleared or removed\n",
       "   */\n",
       "  function handleClearOutput(event, handle) {\n",
       "    var cell = handle.cell;\n",
       "\n",
       "    var id = cell.output_area._bokeh_element_id;\n",
       "    var server_id = cell.output_area._bokeh_server_id;\n",
       "    // Clean up Bokeh references\n",
       "    if (id !== undefined) {\n",
       "      Bokeh.index[id].model.document.clear();\n",
       "      delete Bokeh.index[id];\n",
       "    }\n",
       "\n",
       "    if (server_id !== undefined) {\n",
       "      // Clean up Bokeh references\n",
       "      var cmd = \"from bokeh.io.state import curstate; print(curstate().uuid_to_server['\" + server_id + \"'].get_sessions()[0].document.roots[0]._id)\";\n",
       "      cell.notebook.kernel.execute(cmd, {\n",
       "        iopub: {\n",
       "          output: function(msg) {\n",
       "            var element_id = msg.content.text.trim();\n",
       "            Bokeh.index[element_id].model.document.clear();\n",
       "            delete Bokeh.index[element_id];\n",
       "          }\n",
       "        }\n",
       "      });\n",
       "      // Destroy server and session\n",
       "      var cmd = \"import bokeh.io.notebook as ion; ion.destroy_server('\" + server_id + \"')\";\n",
       "      cell.notebook.kernel.execute(cmd);\n",
       "    }\n",
       "  }\n",
       "\n",
       "  /**\n",
       "   * Handle when a new output is added\n",
       "   */\n",
       "  function handleAddOutput(event, handle) {\n",
       "    var output_area = handle.output_area;\n",
       "    var output = handle.output;\n",
       "\n",
       "    // limit handleAddOutput to display_data with EXEC_MIME_TYPE content only\n",
       "    if ((output.output_type != \"display_data\") || (!output.data.hasOwnProperty(EXEC_MIME_TYPE))) {\n",
       "      return\n",
       "    }\n",
       "\n",
       "    var toinsert = output_area.element.find(`.${CLASS_NAME.split(' ')[0]}`);\n",
       "\n",
       "    if (output.metadata[EXEC_MIME_TYPE][\"id\"] !== undefined) {\n",
       "      toinsert[0].firstChild.textContent = output.data[JS_MIME_TYPE];\n",
       "      // store reference to embed id on output_area\n",
       "      output_area._bokeh_element_id = output.metadata[EXEC_MIME_TYPE][\"id\"];\n",
       "    }\n",
       "    if (output.metadata[EXEC_MIME_TYPE][\"server_id\"] !== undefined) {\n",
       "      var bk_div = document.createElement(\"div\");\n",
       "      bk_div.innerHTML = output.data[HTML_MIME_TYPE];\n",
       "      var script_attrs = bk_div.children[0].attributes;\n",
       "      for (var i = 0; i < script_attrs.length; i++) {\n",
       "        toinsert[0].firstChild.setAttribute(script_attrs[i].name, script_attrs[i].value);\n",
       "      }\n",
       "      // store reference to server id on output_area\n",
       "      output_area._bokeh_server_id = output.metadata[EXEC_MIME_TYPE][\"server_id\"];\n",
       "    }\n",
       "  }\n",
       "\n",
       "  function register_renderer(events, OutputArea) {\n",
       "\n",
       "    function append_mime(data, metadata, element) {\n",
       "      // create a DOM node to render to\n",
       "      var toinsert = this.create_output_subarea(\n",
       "        metadata,\n",
       "        CLASS_NAME,\n",
       "        EXEC_MIME_TYPE\n",
       "      );\n",
       "      this.keyboard_manager.register_events(toinsert);\n",
       "      // Render to node\n",
       "      var props = {data: data, metadata: metadata[EXEC_MIME_TYPE]};\n",
       "      render(props, toinsert[0]);\n",
       "      element.append(toinsert);\n",
       "      return toinsert\n",
       "    }\n",
       "\n",
       "    /* Handle when an output is cleared or removed */\n",
       "    events.on('clear_output.CodeCell', handleClearOutput);\n",
       "    events.on('delete.Cell', handleClearOutput);\n",
       "\n",
       "    /* Handle when a new output is added */\n",
       "    events.on('output_added.OutputArea', handleAddOutput);\n",
       "\n",
       "    /**\n",
       "     * Register the mime type and append_mime function with output_area\n",
       "     */\n",
       "    OutputArea.prototype.register_mime_type(EXEC_MIME_TYPE, append_mime, {\n",
       "      /* Is output safe? */\n",
       "      safe: true,\n",
       "      /* Index of renderer in `output_area.display_order` */\n",
       "      index: 0\n",
       "    });\n",
       "  }\n",
       "\n",
       "  // register the mime type if in Jupyter Notebook environment and previously unregistered\n",
       "  if (root.Jupyter !== undefined) {\n",
       "    var events = require('base/js/events');\n",
       "    var OutputArea = require('notebook/js/outputarea').OutputArea;\n",
       "\n",
       "    if (OutputArea.prototype.mime_types().indexOf(EXEC_MIME_TYPE) == -1) {\n",
       "      register_renderer(events, OutputArea);\n",
       "    }\n",
       "  }\n",
       "\n",
       "  \n",
       "  if (typeof (root._bokeh_timeout) === \"undefined\" || force === true) {\n",
       "    root._bokeh_timeout = Date.now() + 5000;\n",
       "    root._bokeh_failed_load = false;\n",
       "  }\n",
       "\n",
       "  var NB_LOAD_WARNING = {'data': {'text/html':\n",
       "     \"<div style='background-color: #fdd'>\\n\"+\n",
       "     \"<p>\\n\"+\n",
       "     \"BokehJS does not appear to have successfully loaded. If loading BokehJS from CDN, this \\n\"+\n",
       "     \"may be due to a slow or bad network connection. Possible fixes:\\n\"+\n",
       "     \"</p>\\n\"+\n",
       "     \"<ul>\\n\"+\n",
       "     \"<li>re-rerun `output_notebook()` to attempt to load from CDN again, or</li>\\n\"+\n",
       "     \"<li>use INLINE resources instead, as so:</li>\\n\"+\n",
       "     \"</ul>\\n\"+\n",
       "     \"<code>\\n\"+\n",
       "     \"from bokeh.resources import INLINE\\n\"+\n",
       "     \"output_notebook(resources=INLINE)\\n\"+\n",
       "     \"</code>\\n\"+\n",
       "     \"</div>\"}};\n",
       "\n",
       "  function display_loaded() {\n",
       "    var el = document.getElementById(\"38010e81-729d-450f-baae-6c0d59cb4b8b\");\n",
       "    if (el != null) {\n",
       "      el.textContent = \"BokehJS is loading...\";\n",
       "    }\n",
       "    if (root.Bokeh !== undefined) {\n",
       "      if (el != null) {\n",
       "        el.textContent = \"BokehJS \" + root.Bokeh.version + \" successfully loaded.\";\n",
       "      }\n",
       "    } else if (Date.now() < root._bokeh_timeout) {\n",
       "      setTimeout(display_loaded, 100)\n",
       "    }\n",
       "  }\n",
       "\n",
       "\n",
       "  function run_callbacks() {\n",
       "    try {\n",
       "      root._bokeh_onload_callbacks.forEach(function(callback) { callback() });\n",
       "    }\n",
       "    finally {\n",
       "      delete root._bokeh_onload_callbacks\n",
       "    }\n",
       "    console.info(\"Bokeh: all callbacks have finished\");\n",
       "  }\n",
       "\n",
       "  function load_libs(js_urls, callback) {\n",
       "    root._bokeh_onload_callbacks.push(callback);\n",
       "    if (root._bokeh_is_loading > 0) {\n",
       "      console.log(\"Bokeh: BokehJS is being loaded, scheduling callback at\", now());\n",
       "      return null;\n",
       "    }\n",
       "    if (js_urls == null || js_urls.length === 0) {\n",
       "      run_callbacks();\n",
       "      return null;\n",
       "    }\n",
       "    console.log(\"Bokeh: BokehJS not loaded, scheduling load and callback at\", now());\n",
       "    root._bokeh_is_loading = js_urls.length;\n",
       "    for (var i = 0; i < js_urls.length; i++) {\n",
       "      var url = js_urls[i];\n",
       "      var s = document.createElement('script');\n",
       "      s.src = url;\n",
       "      s.async = false;\n",
       "      s.onreadystatechange = s.onload = function() {\n",
       "        root._bokeh_is_loading--;\n",
       "        if (root._bokeh_is_loading === 0) {\n",
       "          console.log(\"Bokeh: all BokehJS libraries loaded\");\n",
       "          run_callbacks()\n",
       "        }\n",
       "      };\n",
       "      s.onerror = function() {\n",
       "        console.warn(\"failed to load library \" + url);\n",
       "      };\n",
       "      console.log(\"Bokeh: injecting script tag for BokehJS library: \", url);\n",
       "      document.getElementsByTagName(\"head\")[0].appendChild(s);\n",
       "    }\n",
       "  };var element = document.getElementById(\"38010e81-729d-450f-baae-6c0d59cb4b8b\");\n",
       "  if (element == null) {\n",
       "    console.log(\"Bokeh: ERROR: autoload.js configured with elementid '38010e81-729d-450f-baae-6c0d59cb4b8b' but no matching script tag was found. \")\n",
       "    return false;\n",
       "  }\n",
       "\n",
       "  var js_urls = [\"https://cdn.pydata.org/bokeh/release/bokeh-0.12.10.min.js\", \"https://cdn.pydata.org/bokeh/release/bokeh-widgets-0.12.10.min.js\", \"https://cdn.pydata.org/bokeh/release/bokeh-tables-0.12.10.min.js\", \"https://cdn.pydata.org/bokeh/release/bokeh-gl-0.12.10.min.js\"];\n",
       "\n",
       "  var inline_js = [\n",
       "    function(Bokeh) {\n",
       "      Bokeh.set_log_level(\"info\");\n",
       "    },\n",
       "    \n",
       "    function(Bokeh) {\n",
       "      \n",
       "    },\n",
       "    function(Bokeh) {\n",
       "      console.log(\"Bokeh: injecting CSS: https://cdn.pydata.org/bokeh/release/bokeh-0.12.10.min.css\");\n",
       "      Bokeh.embed.inject_css(\"https://cdn.pydata.org/bokeh/release/bokeh-0.12.10.min.css\");\n",
       "      console.log(\"Bokeh: injecting CSS: https://cdn.pydata.org/bokeh/release/bokeh-widgets-0.12.10.min.css\");\n",
       "      Bokeh.embed.inject_css(\"https://cdn.pydata.org/bokeh/release/bokeh-widgets-0.12.10.min.css\");\n",
       "      console.log(\"Bokeh: injecting CSS: https://cdn.pydata.org/bokeh/release/bokeh-tables-0.12.10.min.css\");\n",
       "      Bokeh.embed.inject_css(\"https://cdn.pydata.org/bokeh/release/bokeh-tables-0.12.10.min.css\");\n",
       "    }\n",
       "  ];\n",
       "\n",
       "  function run_inline_js() {\n",
       "    \n",
       "    if ((root.Bokeh !== undefined) || (force === true)) {\n",
       "      for (var i = 0; i < inline_js.length; i++) {\n",
       "        inline_js[i].call(root, root.Bokeh);\n",
       "      }if (force === true) {\n",
       "        display_loaded();\n",
       "      }} else if (Date.now() < root._bokeh_timeout) {\n",
       "      setTimeout(run_inline_js, 100);\n",
       "    } else if (!root._bokeh_failed_load) {\n",
       "      console.log(\"Bokeh: BokehJS failed to load within specified timeout.\");\n",
       "      root._bokeh_failed_load = true;\n",
       "    } else if (force !== true) {\n",
       "      var cell = $(document.getElementById(\"38010e81-729d-450f-baae-6c0d59cb4b8b\")).parents('.cell').data().cell;\n",
       "      cell.output_area.append_execute_result(NB_LOAD_WARNING)\n",
       "    }\n",
       "\n",
       "  }\n",
       "\n",
       "  if (root._bokeh_is_loading === 0) {\n",
       "    console.log(\"Bokeh: BokehJS loaded, going straight to plotting\");\n",
       "    run_inline_js();\n",
       "  } else {\n",
       "    load_libs(js_urls, function() {\n",
       "      console.log(\"Bokeh: BokehJS plotting callback run at\", now());\n",
       "      run_inline_js();\n",
       "    });\n",
       "  }\n",
       "}(window));"
      ],
      "application/vnd.bokehjs_load.v0+json": "\n(function(root) {\n  function now() {\n    return new Date();\n  }\n\n  var force = true;\n\n  if (typeof (root._bokeh_onload_callbacks) === \"undefined\" || force === true) {\n    root._bokeh_onload_callbacks = [];\n    root._bokeh_is_loading = undefined;\n  }\n\n  \n\n  \n  if (typeof (root._bokeh_timeout) === \"undefined\" || force === true) {\n    root._bokeh_timeout = Date.now() + 5000;\n    root._bokeh_failed_load = false;\n  }\n\n  var NB_LOAD_WARNING = {'data': {'text/html':\n     \"<div style='background-color: #fdd'>\\n\"+\n     \"<p>\\n\"+\n     \"BokehJS does not appear to have successfully loaded. If loading BokehJS from CDN, this \\n\"+\n     \"may be due to a slow or bad network connection. Possible fixes:\\n\"+\n     \"</p>\\n\"+\n     \"<ul>\\n\"+\n     \"<li>re-rerun `output_notebook()` to attempt to load from CDN again, or</li>\\n\"+\n     \"<li>use INLINE resources instead, as so:</li>\\n\"+\n     \"</ul>\\n\"+\n     \"<code>\\n\"+\n     \"from bokeh.resources import INLINE\\n\"+\n     \"output_notebook(resources=INLINE)\\n\"+\n     \"</code>\\n\"+\n     \"</div>\"}};\n\n  function display_loaded() {\n    var el = document.getElementById(\"38010e81-729d-450f-baae-6c0d59cb4b8b\");\n    if (el != null) {\n      el.textContent = \"BokehJS is loading...\";\n    }\n    if (root.Bokeh !== undefined) {\n      if (el != null) {\n        el.textContent = \"BokehJS \" + root.Bokeh.version + \" successfully loaded.\";\n      }\n    } else if (Date.now() < root._bokeh_timeout) {\n      setTimeout(display_loaded, 100)\n    }\n  }\n\n\n  function run_callbacks() {\n    try {\n      root._bokeh_onload_callbacks.forEach(function(callback) { callback() });\n    }\n    finally {\n      delete root._bokeh_onload_callbacks\n    }\n    console.info(\"Bokeh: all callbacks have finished\");\n  }\n\n  function load_libs(js_urls, callback) {\n    root._bokeh_onload_callbacks.push(callback);\n    if (root._bokeh_is_loading > 0) {\n      console.log(\"Bokeh: BokehJS is being loaded, scheduling callback at\", now());\n      return null;\n    }\n    if (js_urls == null || js_urls.length === 0) {\n      run_callbacks();\n      return null;\n    }\n    console.log(\"Bokeh: BokehJS not loaded, scheduling load and callback at\", now());\n    root._bokeh_is_loading = js_urls.length;\n    for (var i = 0; i < js_urls.length; i++) {\n      var url = js_urls[i];\n      var s = document.createElement('script');\n      s.src = url;\n      s.async = false;\n      s.onreadystatechange = s.onload = function() {\n        root._bokeh_is_loading--;\n        if (root._bokeh_is_loading === 0) {\n          console.log(\"Bokeh: all BokehJS libraries loaded\");\n          run_callbacks()\n        }\n      };\n      s.onerror = function() {\n        console.warn(\"failed to load library \" + url);\n      };\n      console.log(\"Bokeh: injecting script tag for BokehJS library: \", url);\n      document.getElementsByTagName(\"head\")[0].appendChild(s);\n    }\n  };var element = document.getElementById(\"38010e81-729d-450f-baae-6c0d59cb4b8b\");\n  if (element == null) {\n    console.log(\"Bokeh: ERROR: autoload.js configured with elementid '38010e81-729d-450f-baae-6c0d59cb4b8b' but no matching script tag was found. \")\n    return false;\n  }\n\n  var js_urls = [\"https://cdn.pydata.org/bokeh/release/bokeh-0.12.10.min.js\", \"https://cdn.pydata.org/bokeh/release/bokeh-widgets-0.12.10.min.js\", \"https://cdn.pydata.org/bokeh/release/bokeh-tables-0.12.10.min.js\", \"https://cdn.pydata.org/bokeh/release/bokeh-gl-0.12.10.min.js\"];\n\n  var inline_js = [\n    function(Bokeh) {\n      Bokeh.set_log_level(\"info\");\n    },\n    \n    function(Bokeh) {\n      \n    },\n    function(Bokeh) {\n      console.log(\"Bokeh: injecting CSS: https://cdn.pydata.org/bokeh/release/bokeh-0.12.10.min.css\");\n      Bokeh.embed.inject_css(\"https://cdn.pydata.org/bokeh/release/bokeh-0.12.10.min.css\");\n      console.log(\"Bokeh: injecting CSS: https://cdn.pydata.org/bokeh/release/bokeh-widgets-0.12.10.min.css\");\n      Bokeh.embed.inject_css(\"https://cdn.pydata.org/bokeh/release/bokeh-widgets-0.12.10.min.css\");\n      console.log(\"Bokeh: injecting CSS: https://cdn.pydata.org/bokeh/release/bokeh-tables-0.12.10.min.css\");\n      Bokeh.embed.inject_css(\"https://cdn.pydata.org/bokeh/release/bokeh-tables-0.12.10.min.css\");\n    }\n  ];\n\n  function run_inline_js() {\n    \n    if ((root.Bokeh !== undefined) || (force === true)) {\n      for (var i = 0; i < inline_js.length; i++) {\n        inline_js[i].call(root, root.Bokeh);\n      }if (force === true) {\n        display_loaded();\n      }} else if (Date.now() < root._bokeh_timeout) {\n      setTimeout(run_inline_js, 100);\n    } else if (!root._bokeh_failed_load) {\n      console.log(\"Bokeh: BokehJS failed to load within specified timeout.\");\n      root._bokeh_failed_load = true;\n    } else if (force !== true) {\n      var cell = $(document.getElementById(\"38010e81-729d-450f-baae-6c0d59cb4b8b\")).parents('.cell').data().cell;\n      cell.output_area.append_execute_result(NB_LOAD_WARNING)\n    }\n\n  }\n\n  if (root._bokeh_is_loading === 0) {\n    console.log(\"Bokeh: BokehJS loaded, going straight to plotting\");\n    run_inline_js();\n  } else {\n    load_libs(js_urls, function() {\n      console.log(\"Bokeh: BokehJS plotting callback run at\", now());\n      run_inline_js();\n    });\n  }\n}(window));"
     },
     "metadata": {},
     "output_type": "display_data"
    }
   ],
   "source": [
    "output_notebook()"
   ]
  },
  {
   "cell_type": "markdown",
   "metadata": {},
   "source": [
    "# Some Basic Scatter Plots\n",
    "\n",
    "In this section you will see how to use Bokeh's various marker types to create simple scatter plots. "
   ]
  },
  {
   "cell_type": "code",
   "execution_count": 3,
   "metadata": {},
   "outputs": [
    {
     "data": {
      "text/html": [
       "\n",
       "<div class=\"bk-root\">\n",
       "    <div class=\"bk-plotdiv\" id=\"06906957-9f24-4e5f-a7dc-c0450ac03f3e\"></div>\n",
       "</div>"
      ]
     },
     "metadata": {},
     "output_type": "display_data"
    },
    {
     "data": {
      "application/javascript": [
       "(function(root) {\n",
       "  function embed_document(root) {\n",
       "    var docs_json = {\"f6d8ea4d-ddb6-4232-9a8e-f3594a517d39\":{\"roots\":{\"references\":[{\"attributes\":{},\"id\":\"b4cf3a08-382e-451e-bb44-7ebf28062ae0\",\"type\":\"SaveTool\"},{\"attributes\":{\"callback\":null,\"column_names\":[\"x\",\"y\"],\"data\":{\"x\":[1,2,3,4,5],\"y\":[6,7,2,4,5]}},\"id\":\"b2349f87-dd17-49c2-85fd-dac0ca993e29\",\"type\":\"ColumnDataSource\"},{\"attributes\":{},\"id\":\"2ace57fe-11a5-43b4-9e51-20739391fc8a\",\"type\":\"PanTool\"},{\"attributes\":{\"fill_alpha\":{\"value\":0.5},\"fill_color\":{\"value\":\"orange\"},\"line_color\":{\"value\":\"navy\"},\"size\":{\"units\":\"screen\",\"value\":15},\"x\":{\"field\":\"x\"},\"y\":{\"field\":\"y\"}},\"id\":\"8cbe5eb8-42b9-4727-8d5e-97cd677c0174\",\"type\":\"Circle\"},{\"attributes\":{\"source\":{\"id\":\"b2349f87-dd17-49c2-85fd-dac0ca993e29\",\"type\":\"ColumnDataSource\"}},\"id\":\"68bc0e5c-3450-4b9f-93d8-ddb38577e65e\",\"type\":\"CDSView\"},{\"attributes\":{\"bottom_units\":\"screen\",\"fill_alpha\":{\"value\":0.5},\"fill_color\":{\"value\":\"lightgrey\"},\"left_units\":\"screen\",\"level\":\"overlay\",\"line_alpha\":{\"value\":1.0},\"line_color\":{\"value\":\"black\"},\"line_dash\":[4,4],\"line_width\":{\"value\":2},\"plot\":null,\"render_mode\":\"css\",\"right_units\":\"screen\",\"top_units\":\"screen\"},\"id\":\"f602839c-f022-4b77-bf82-059cfac5627a\",\"type\":\"BoxAnnotation\"},{\"attributes\":{},\"id\":\"42693e76-0bd4-400d-aa09-4a5c74318c82\",\"type\":\"ResetTool\"},{\"attributes\":{},\"id\":\"77ba6eb8-8e0f-45c4-98fa-b9075226d519\",\"type\":\"HelpTool\"},{\"attributes\":{\"overlay\":{\"id\":\"f602839c-f022-4b77-bf82-059cfac5627a\",\"type\":\"BoxAnnotation\"}},\"id\":\"d81b3d6b-96c0-438f-b0b8-ebdb5cc83e2c\",\"type\":\"BoxZoomTool\"},{\"attributes\":{},\"id\":\"7f149ff5-2e65-419d-9e29-2534c237b0c5\",\"type\":\"WheelZoomTool\"},{\"attributes\":{\"fill_alpha\":{\"value\":0.1},\"fill_color\":{\"value\":\"#1f77b4\"},\"line_alpha\":{\"value\":0.1},\"line_color\":{\"value\":\"#1f77b4\"},\"size\":{\"units\":\"screen\",\"value\":15},\"x\":{\"field\":\"x\"},\"y\":{\"field\":\"y\"}},\"id\":\"3496c45b-8f0e-4749-b64a-3300f6d02415\",\"type\":\"Circle\"},{\"attributes\":{\"active_drag\":\"auto\",\"active_inspect\":\"auto\",\"active_scroll\":\"auto\",\"active_tap\":\"auto\",\"tools\":[{\"id\":\"2ace57fe-11a5-43b4-9e51-20739391fc8a\",\"type\":\"PanTool\"},{\"id\":\"7f149ff5-2e65-419d-9e29-2534c237b0c5\",\"type\":\"WheelZoomTool\"},{\"id\":\"d81b3d6b-96c0-438f-b0b8-ebdb5cc83e2c\",\"type\":\"BoxZoomTool\"},{\"id\":\"b4cf3a08-382e-451e-bb44-7ebf28062ae0\",\"type\":\"SaveTool\"},{\"id\":\"42693e76-0bd4-400d-aa09-4a5c74318c82\",\"type\":\"ResetTool\"},{\"id\":\"77ba6eb8-8e0f-45c4-98fa-b9075226d519\",\"type\":\"HelpTool\"}]},\"id\":\"08ce3353-287a-4960-ba95-1abfc23599e1\",\"type\":\"Toolbar\"},{\"attributes\":{\"callback\":null},\"id\":\"c5e2b205-4edd-491a-8d9c-b040e9cff921\",\"type\":\"DataRange1d\"},{\"attributes\":{},\"id\":\"a947e6ff-ec05-4ba4-94b7-ec6dc1e041bb\",\"type\":\"LinearScale\"},{\"attributes\":{},\"id\":\"e85ed727-5baa-42f3-b7ac-445b2fffc020\",\"type\":\"BasicTickFormatter\"},{\"attributes\":{\"dimension\":1,\"plot\":{\"id\":\"92537ea6-bc53-4829-bb43-79ba2aaf722c\",\"subtype\":\"Figure\",\"type\":\"Plot\"},\"ticker\":{\"id\":\"4ac5625a-f609-4c5a-a46a-85ef9b3c142e\",\"type\":\"BasicTicker\"}},\"id\":\"ccb5e4ed-a531-4338-b939-47534e874b78\",\"type\":\"Grid\"},{\"attributes\":{\"callback\":null},\"id\":\"3b13469e-5975-4336-85e3-0cf48cfcc9aa\",\"type\":\"DataRange1d\"},{\"attributes\":{},\"id\":\"8bef3999-f932-4150-95bf-077c39a59b44\",\"type\":\"LinearScale\"},{\"attributes\":{\"plot\":{\"id\":\"92537ea6-bc53-4829-bb43-79ba2aaf722c\",\"subtype\":\"Figure\",\"type\":\"Plot\"},\"ticker\":{\"id\":\"e088c382-610d-404c-a89f-7ff4739f049c\",\"type\":\"BasicTicker\"}},\"id\":\"2d9f2612-efbd-4434-9cf6-faa603a1e33c\",\"type\":\"Grid\"},{\"attributes\":{},\"id\":\"4ac5625a-f609-4c5a-a46a-85ef9b3c142e\",\"type\":\"BasicTicker\"},{\"attributes\":{},\"id\":\"e088c382-610d-404c-a89f-7ff4739f049c\",\"type\":\"BasicTicker\"},{\"attributes\":{},\"id\":\"20a4693c-2378-473c-901f-c3be2bbf7569\",\"type\":\"BasicTickFormatter\"},{\"attributes\":{\"formatter\":{\"id\":\"e85ed727-5baa-42f3-b7ac-445b2fffc020\",\"type\":\"BasicTickFormatter\"},\"plot\":{\"id\":\"92537ea6-bc53-4829-bb43-79ba2aaf722c\",\"subtype\":\"Figure\",\"type\":\"Plot\"},\"ticker\":{\"id\":\"4ac5625a-f609-4c5a-a46a-85ef9b3c142e\",\"type\":\"BasicTicker\"}},\"id\":\"ceb062a9-40f5-4a75-bc4c-adc7aa19cb77\",\"type\":\"LinearAxis\"},{\"attributes\":{\"below\":[{\"id\":\"c0a6b3ca-d149-4043-9669-a3313aafe3d4\",\"type\":\"LinearAxis\"}],\"left\":[{\"id\":\"ceb062a9-40f5-4a75-bc4c-adc7aa19cb77\",\"type\":\"LinearAxis\"}],\"plot_height\":400,\"plot_width\":400,\"renderers\":[{\"id\":\"c0a6b3ca-d149-4043-9669-a3313aafe3d4\",\"type\":\"LinearAxis\"},{\"id\":\"2d9f2612-efbd-4434-9cf6-faa603a1e33c\",\"type\":\"Grid\"},{\"id\":\"ceb062a9-40f5-4a75-bc4c-adc7aa19cb77\",\"type\":\"LinearAxis\"},{\"id\":\"ccb5e4ed-a531-4338-b939-47534e874b78\",\"type\":\"Grid\"},{\"id\":\"f602839c-f022-4b77-bf82-059cfac5627a\",\"type\":\"BoxAnnotation\"},{\"id\":\"874106d1-9f5b-454f-87e9-8c5e8790241f\",\"type\":\"GlyphRenderer\"}],\"title\":{\"id\":\"70ec830b-b390-40cd-a17d-8428131dc709\",\"type\":\"Title\"},\"toolbar\":{\"id\":\"08ce3353-287a-4960-ba95-1abfc23599e1\",\"type\":\"Toolbar\"},\"x_range\":{\"id\":\"3b13469e-5975-4336-85e3-0cf48cfcc9aa\",\"type\":\"DataRange1d\"},\"x_scale\":{\"id\":\"a947e6ff-ec05-4ba4-94b7-ec6dc1e041bb\",\"type\":\"LinearScale\"},\"y_range\":{\"id\":\"c5e2b205-4edd-491a-8d9c-b040e9cff921\",\"type\":\"DataRange1d\"},\"y_scale\":{\"id\":\"8bef3999-f932-4150-95bf-077c39a59b44\",\"type\":\"LinearScale\"}},\"id\":\"92537ea6-bc53-4829-bb43-79ba2aaf722c\",\"subtype\":\"Figure\",\"type\":\"Plot\"},{\"attributes\":{\"formatter\":{\"id\":\"20a4693c-2378-473c-901f-c3be2bbf7569\",\"type\":\"BasicTickFormatter\"},\"plot\":{\"id\":\"92537ea6-bc53-4829-bb43-79ba2aaf722c\",\"subtype\":\"Figure\",\"type\":\"Plot\"},\"ticker\":{\"id\":\"e088c382-610d-404c-a89f-7ff4739f049c\",\"type\":\"BasicTicker\"}},\"id\":\"c0a6b3ca-d149-4043-9669-a3313aafe3d4\",\"type\":\"LinearAxis\"},{\"attributes\":{\"plot\":null,\"text\":\"\"},\"id\":\"70ec830b-b390-40cd-a17d-8428131dc709\",\"type\":\"Title\"},{\"attributes\":{\"data_source\":{\"id\":\"b2349f87-dd17-49c2-85fd-dac0ca993e29\",\"type\":\"ColumnDataSource\"},\"glyph\":{\"id\":\"8cbe5eb8-42b9-4727-8d5e-97cd677c0174\",\"type\":\"Circle\"},\"hover_glyph\":null,\"muted_glyph\":null,\"nonselection_glyph\":{\"id\":\"3496c45b-8f0e-4749-b64a-3300f6d02415\",\"type\":\"Circle\"},\"selection_glyph\":null,\"view\":{\"id\":\"68bc0e5c-3450-4b9f-93d8-ddb38577e65e\",\"type\":\"CDSView\"}},\"id\":\"874106d1-9f5b-454f-87e9-8c5e8790241f\",\"type\":\"GlyphRenderer\"}],\"root_ids\":[\"92537ea6-bc53-4829-bb43-79ba2aaf722c\"]},\"title\":\"Bokeh Application\",\"version\":\"0.12.10\"}};\n",
       "    var render_items = [{\"docid\":\"f6d8ea4d-ddb6-4232-9a8e-f3594a517d39\",\"elementid\":\"06906957-9f24-4e5f-a7dc-c0450ac03f3e\",\"modelid\":\"92537ea6-bc53-4829-bb43-79ba2aaf722c\"}];\n",
       "\n",
       "    root.Bokeh.embed.embed_items(docs_json, render_items);\n",
       "  }\n",
       "\n",
       "  if (root.Bokeh !== undefined) {\n",
       "    embed_document(root);\n",
       "  } else {\n",
       "    var attempts = 0;\n",
       "    var timer = setInterval(function(root) {\n",
       "      if (root.Bokeh !== undefined) {\n",
       "        embed_document(root);\n",
       "        clearInterval(timer);\n",
       "      }\n",
       "      attempts++;\n",
       "      if (attempts > 100) {\n",
       "        console.log(\"Bokeh: ERROR: Unable to embed document because BokehJS library is missing\")\n",
       "        clearInterval(timer);\n",
       "      }\n",
       "    }, 10, root)\n",
       "  }\n",
       "})(window);"
      ],
      "application/vnd.bokehjs_exec.v0+json": ""
     },
     "metadata": {
      "application/vnd.bokehjs_exec.v0+json": {
       "id": "92537ea6-bc53-4829-bb43-79ba2aaf722c"
      }
     },
     "output_type": "display_data"
    }
   ],
   "source": [
    "# create a new plot with default tools, using figure\n",
    "p = figure(plot_width=400, plot_height=400)\n",
    "\n",
    "# add a circle renderer with a size, color, and alpha\n",
    "p.circle([1, 2, 3, 4, 5], [6, 7, 2, 4, 5], size=15, line_color=\"navy\", fill_color=\"orange\", fill_alpha=0.5)\n",
    "\n",
    "show(p) # show the results"
   ]
  },
  {
   "cell_type": "markdown",
   "metadata": {},
   "source": [
    "All Bokeh markers accept `size` (measured in screen space units) as a property. Circles also have `radius` (measured in \"data\" space units). "
   ]
  },
  {
   "cell_type": "code",
   "execution_count": 8,
   "metadata": {},
   "outputs": [
    {
     "data": {
      "text/html": [
       "\n",
       "<div class=\"bk-root\">\n",
       "    <div class=\"bk-plotdiv\" id=\"fc8d0874-6f0a-4805-9d11-cb98b2de835a\"></div>\n",
       "</div>"
      ]
     },
     "metadata": {},
     "output_type": "display_data"
    },
    {
     "data": {
      "application/javascript": [
       "(function(root) {\n",
       "  function embed_document(root) {\n",
       "    var docs_json = {\"bb51273b-a30d-451c-ac3b-2a4180276d01\":{\"roots\":{\"references\":[{\"attributes\":{\"callback\":null},\"id\":\"afbe86c5-bc7b-40b2-af55-4cbd1514c209\",\"type\":\"DataRange1d\"},{\"attributes\":{\"below\":[{\"id\":\"2572c009-1eab-404a-b5fa-f8e26de463e7\",\"type\":\"LinearAxis\"}],\"left\":[{\"id\":\"4cc674a3-a3b5-40d8-8701-cfc25e60a1df\",\"type\":\"LinearAxis\"}],\"plot_height\":400,\"plot_width\":400,\"renderers\":[{\"id\":\"2572c009-1eab-404a-b5fa-f8e26de463e7\",\"type\":\"LinearAxis\"},{\"id\":\"bc0f7b4c-7ea0-4b00-928b-cd8db9bb5ca7\",\"type\":\"Grid\"},{\"id\":\"4cc674a3-a3b5-40d8-8701-cfc25e60a1df\",\"type\":\"LinearAxis\"},{\"id\":\"0234f893-3a27-4736-bfe5-f30e01f91239\",\"type\":\"Grid\"},{\"id\":\"399c2d5c-1b27-4907-b616-6fb83d80ba7f\",\"type\":\"BoxAnnotation\"},{\"id\":\"6c7bf905-0e68-447a-87e7-bd36ddd0667c\",\"type\":\"GlyphRenderer\"}],\"title\":{\"id\":\"22561aa3-8a27-403b-9fc4-219a9e5619c5\",\"type\":\"Title\"},\"toolbar\":{\"id\":\"6731470a-e3d1-498f-82c4-61c99eb5df63\",\"type\":\"Toolbar\"},\"x_range\":{\"id\":\"afbe86c5-bc7b-40b2-af55-4cbd1514c209\",\"type\":\"DataRange1d\"},\"x_scale\":{\"id\":\"3b649593-4bd0-4759-a666-6302770a9c7f\",\"type\":\"LinearScale\"},\"y_range\":{\"id\":\"8a95445a-afa2-4291-ba76-8ceae37c9f92\",\"type\":\"DataRange1d\"},\"y_scale\":{\"id\":\"83c12d10-0536-491f-b141-7dfa4ff4d378\",\"type\":\"LinearScale\"}},\"id\":\"fb326a25-6686-4c65-97ac-c1f3188d9c92\",\"subtype\":\"Figure\",\"type\":\"Plot\"},{\"attributes\":{},\"id\":\"0b108391-0273-43da-aee7-e056b7169094\",\"type\":\"BasicTicker\"},{\"attributes\":{\"formatter\":{\"id\":\"14762843-0662-43ce-a854-82282435ae07\",\"type\":\"BasicTickFormatter\"},\"plot\":{\"id\":\"fb326a25-6686-4c65-97ac-c1f3188d9c92\",\"subtype\":\"Figure\",\"type\":\"Plot\"},\"ticker\":{\"id\":\"0b108391-0273-43da-aee7-e056b7169094\",\"type\":\"BasicTicker\"}},\"id\":\"2572c009-1eab-404a-b5fa-f8e26de463e7\",\"type\":\"LinearAxis\"},{\"attributes\":{},\"id\":\"60763323-3e77-473f-b24b-dee4125a6746\",\"type\":\"BasicTicker\"},{\"attributes\":{},\"id\":\"fffdd605-b07b-4290-a210-329aca87a76e\",\"type\":\"ResetTool\"},{\"attributes\":{},\"id\":\"14762843-0662-43ce-a854-82282435ae07\",\"type\":\"BasicTickFormatter\"},{\"attributes\":{\"active_drag\":\"auto\",\"active_inspect\":\"auto\",\"active_scroll\":\"auto\",\"active_tap\":\"auto\",\"tools\":[{\"id\":\"c37dc8dc-e199-427e-8d10-b507af03949b\",\"type\":\"PanTool\"},{\"id\":\"bbb57c81-8635-47f1-a26d-ccd80f33bb37\",\"type\":\"WheelZoomTool\"},{\"id\":\"b5fa0442-2b3b-4d2f-a5f3-571c46680274\",\"type\":\"BoxZoomTool\"},{\"id\":\"d0ae6ee9-abe3-4831-ad88-a92c9df265cf\",\"type\":\"SaveTool\"},{\"id\":\"fffdd605-b07b-4290-a210-329aca87a76e\",\"type\":\"ResetTool\"},{\"id\":\"3faf3df0-00de-4f1c-954f-81361f853fdf\",\"type\":\"HelpTool\"}]},\"id\":\"6731470a-e3d1-498f-82c4-61c99eb5df63\",\"type\":\"Toolbar\"},{\"attributes\":{\"callback\":null},\"id\":\"8a95445a-afa2-4291-ba76-8ceae37c9f92\",\"type\":\"DataRange1d\"},{\"attributes\":{\"fill_alpha\":{\"value\":0.5},\"fill_color\":{\"value\":\"orange\"},\"line_color\":{\"value\":\"navy\"},\"size\":{\"units\":\"screen\",\"value\":15},\"x\":{\"field\":\"x\"},\"y\":{\"field\":\"y\"}},\"id\":\"5928f3e7-baa8-4ed6-a0a9-d52cf40774a5\",\"type\":\"Square\"},{\"attributes\":{},\"id\":\"bbb57c81-8635-47f1-a26d-ccd80f33bb37\",\"type\":\"WheelZoomTool\"},{\"attributes\":{},\"id\":\"d0ae6ee9-abe3-4831-ad88-a92c9df265cf\",\"type\":\"SaveTool\"},{\"attributes\":{\"plot\":null,\"text\":\"\"},\"id\":\"22561aa3-8a27-403b-9fc4-219a9e5619c5\",\"type\":\"Title\"},{\"attributes\":{\"source\":{\"id\":\"fd31d6a2-fc17-4b8e-b6bb-0546042ec94b\",\"type\":\"ColumnDataSource\"}},\"id\":\"c1144974-467c-4c89-8db6-f35a46241f43\",\"type\":\"CDSView\"},{\"attributes\":{\"dimension\":1,\"plot\":{\"id\":\"fb326a25-6686-4c65-97ac-c1f3188d9c92\",\"subtype\":\"Figure\",\"type\":\"Plot\"},\"ticker\":{\"id\":\"60763323-3e77-473f-b24b-dee4125a6746\",\"type\":\"BasicTicker\"}},\"id\":\"0234f893-3a27-4736-bfe5-f30e01f91239\",\"type\":\"Grid\"},{\"attributes\":{\"bottom_units\":\"screen\",\"fill_alpha\":{\"value\":0.5},\"fill_color\":{\"value\":\"lightgrey\"},\"left_units\":\"screen\",\"level\":\"overlay\",\"line_alpha\":{\"value\":1.0},\"line_color\":{\"value\":\"black\"},\"line_dash\":[4,4],\"line_width\":{\"value\":2},\"plot\":null,\"render_mode\":\"css\",\"right_units\":\"screen\",\"top_units\":\"screen\"},\"id\":\"399c2d5c-1b27-4907-b616-6fb83d80ba7f\",\"type\":\"BoxAnnotation\"},{\"attributes\":{},\"id\":\"628da56b-247b-4323-a569-908f0018fd88\",\"type\":\"BasicTickFormatter\"},{\"attributes\":{},\"id\":\"3faf3df0-00de-4f1c-954f-81361f853fdf\",\"type\":\"HelpTool\"},{\"attributes\":{\"formatter\":{\"id\":\"628da56b-247b-4323-a569-908f0018fd88\",\"type\":\"BasicTickFormatter\"},\"plot\":{\"id\":\"fb326a25-6686-4c65-97ac-c1f3188d9c92\",\"subtype\":\"Figure\",\"type\":\"Plot\"},\"ticker\":{\"id\":\"60763323-3e77-473f-b24b-dee4125a6746\",\"type\":\"BasicTicker\"}},\"id\":\"4cc674a3-a3b5-40d8-8701-cfc25e60a1df\",\"type\":\"LinearAxis\"},{\"attributes\":{\"overlay\":{\"id\":\"399c2d5c-1b27-4907-b616-6fb83d80ba7f\",\"type\":\"BoxAnnotation\"}},\"id\":\"b5fa0442-2b3b-4d2f-a5f3-571c46680274\",\"type\":\"BoxZoomTool\"},{\"attributes\":{\"data_source\":{\"id\":\"fd31d6a2-fc17-4b8e-b6bb-0546042ec94b\",\"type\":\"ColumnDataSource\"},\"glyph\":{\"id\":\"5928f3e7-baa8-4ed6-a0a9-d52cf40774a5\",\"type\":\"Square\"},\"hover_glyph\":null,\"muted_glyph\":null,\"nonselection_glyph\":{\"id\":\"ffaecb49-9e97-4639-8fb1-a68b10277273\",\"type\":\"Square\"},\"selection_glyph\":null,\"view\":{\"id\":\"c1144974-467c-4c89-8db6-f35a46241f43\",\"type\":\"CDSView\"}},\"id\":\"6c7bf905-0e68-447a-87e7-bd36ddd0667c\",\"type\":\"GlyphRenderer\"},{\"attributes\":{},\"id\":\"83c12d10-0536-491f-b141-7dfa4ff4d378\",\"type\":\"LinearScale\"},{\"attributes\":{\"fill_alpha\":{\"value\":0.1},\"fill_color\":{\"value\":\"#1f77b4\"},\"line_alpha\":{\"value\":0.1},\"line_color\":{\"value\":\"#1f77b4\"},\"size\":{\"units\":\"screen\",\"value\":15},\"x\":{\"field\":\"x\"},\"y\":{\"field\":\"y\"}},\"id\":\"ffaecb49-9e97-4639-8fb1-a68b10277273\",\"type\":\"Square\"},{\"attributes\":{},\"id\":\"3b649593-4bd0-4759-a666-6302770a9c7f\",\"type\":\"LinearScale\"},{\"attributes\":{\"plot\":{\"id\":\"fb326a25-6686-4c65-97ac-c1f3188d9c92\",\"subtype\":\"Figure\",\"type\":\"Plot\"},\"ticker\":{\"id\":\"0b108391-0273-43da-aee7-e056b7169094\",\"type\":\"BasicTicker\"}},\"id\":\"bc0f7b4c-7ea0-4b00-928b-cd8db9bb5ca7\",\"type\":\"Grid\"},{\"attributes\":{},\"id\":\"c37dc8dc-e199-427e-8d10-b507af03949b\",\"type\":\"PanTool\"},{\"attributes\":{\"callback\":null,\"column_names\":[\"x\",\"y\"],\"data\":{\"x\":[1,2,3,4,5],\"y\":[6,7,2,4,5]}},\"id\":\"fd31d6a2-fc17-4b8e-b6bb-0546042ec94b\",\"type\":\"ColumnDataSource\"}],\"root_ids\":[\"fb326a25-6686-4c65-97ac-c1f3188d9c92\"]},\"title\":\"Bokeh Application\",\"version\":\"0.12.10\"}};\n",
       "    var render_items = [{\"docid\":\"bb51273b-a30d-451c-ac3b-2a4180276d01\",\"elementid\":\"fc8d0874-6f0a-4805-9d11-cb98b2de835a\",\"modelid\":\"fb326a25-6686-4c65-97ac-c1f3188d9c92\"}];\n",
       "\n",
       "    root.Bokeh.embed.embed_items(docs_json, render_items);\n",
       "  }\n",
       "\n",
       "  if (root.Bokeh !== undefined) {\n",
       "    embed_document(root);\n",
       "  } else {\n",
       "    var attempts = 0;\n",
       "    var timer = setInterval(function(root) {\n",
       "      if (root.Bokeh !== undefined) {\n",
       "        embed_document(root);\n",
       "        clearInterval(timer);\n",
       "      }\n",
       "      attempts++;\n",
       "      if (attempts > 100) {\n",
       "        console.log(\"Bokeh: ERROR: Unable to embed document because BokehJS library is missing\")\n",
       "        clearInterval(timer);\n",
       "      }\n",
       "    }, 10, root)\n",
       "  }\n",
       "})(window);"
      ],
      "application/vnd.bokehjs_exec.v0+json": ""
     },
     "metadata": {
      "application/vnd.bokehjs_exec.v0+json": {
       "id": "fb326a25-6686-4c65-97ac-c1f3188d9c92"
      }
     },
     "output_type": "display_data"
    }
   ],
   "source": [
    "# EXERCISE: Try changing the example above to set a `radius` value instead of `size`\n",
    "# create a new plot with default tools, using figure\n",
    "p = figure(plot_width=400, plot_height=400)\n",
    "\n",
    "# add a circle renderer with a size, color, and alpha\n",
    "p.square([1, 2, 3, 4, 5], [6, 7, 2, 4, 5], size=15, line_color=\"navy\", fill_color=\"orange\", fill_alpha=0.5)\n",
    "\n",
    "show(p) # show the results\n"
   ]
  },
  {
   "cell_type": "markdown",
   "metadata": {},
   "source": [
    "To scatter square markers instead of circles, you can use the `square` method on figures. "
   ]
  },
  {
   "cell_type": "code",
   "execution_count": 9,
   "metadata": {},
   "outputs": [
    {
     "data": {
      "text/html": [
       "\n",
       "<div class=\"bk-root\">\n",
       "    <div class=\"bk-plotdiv\" id=\"ccb89711-5f14-4199-89f3-97a605d4ad1f\"></div>\n",
       "</div>"
      ]
     },
     "metadata": {},
     "output_type": "display_data"
    },
    {
     "data": {
      "application/javascript": [
       "(function(root) {\n",
       "  function embed_document(root) {\n",
       "    var docs_json = {\"145b2d70-8cc9-4541-af35-f278a4d27ffb\":{\"roots\":{\"references\":[{\"attributes\":{\"fill_alpha\":{\"value\":0.6},\"fill_color\":{\"value\":\"firebrick\"},\"line_alpha\":{\"value\":0.6},\"line_color\":{\"value\":\"firebrick\"},\"size\":{\"field\":\"size\",\"units\":\"screen\"},\"x\":{\"field\":\"x\"},\"y\":{\"field\":\"y\"}},\"id\":\"2523a5b4-40e8-47bc-8935-ce54a8098b37\",\"type\":\"Square\"},{\"attributes\":{\"data_source\":{\"id\":\"9da9804c-f0ef-4f77-b62f-135997c32ac3\",\"type\":\"ColumnDataSource\"},\"glyph\":{\"id\":\"2523a5b4-40e8-47bc-8935-ce54a8098b37\",\"type\":\"Square\"},\"hover_glyph\":null,\"muted_glyph\":null,\"nonselection_glyph\":{\"id\":\"81cf19bd-44cd-402d-8aaa-3f7ccea20908\",\"type\":\"Square\"},\"selection_glyph\":null,\"view\":{\"id\":\"5f9defcc-45f2-4421-a320-3c8465b72be5\",\"type\":\"CDSView\"}},\"id\":\"4a07ab84-82e9-4330-b814-fe66568c3261\",\"type\":\"GlyphRenderer\"},{\"attributes\":{},\"id\":\"e259d698-3941-4949-a7ff-c16dccc1f1b9\",\"type\":\"LinearScale\"},{\"attributes\":{\"formatter\":{\"id\":\"810ecb24-55b0-4318-90c4-6bad94fdc81b\",\"type\":\"BasicTickFormatter\"},\"plot\":{\"id\":\"5f3019fd-9112-4bdc-83a9-66b1a9ec64ba\",\"subtype\":\"Figure\",\"type\":\"Plot\"},\"ticker\":{\"id\":\"aba11a52-49b6-4760-b402-695f8c425527\",\"type\":\"BasicTicker\"}},\"id\":\"84fa2aca-cd2d-44e4-b9fe-9483718a9b5d\",\"type\":\"LinearAxis\"},{\"attributes\":{\"callback\":null},\"id\":\"aa447880-56bc-4b0b-88a0-95de3f9004e5\",\"type\":\"DataRange1d\"},{\"attributes\":{\"source\":{\"id\":\"9da9804c-f0ef-4f77-b62f-135997c32ac3\",\"type\":\"ColumnDataSource\"}},\"id\":\"5f9defcc-45f2-4421-a320-3c8465b72be5\",\"type\":\"CDSView\"},{\"attributes\":{},\"id\":\"fcaa2b0e-f7a5-4adf-8ba6-813666595b77\",\"type\":\"SaveTool\"},{\"attributes\":{\"bottom_units\":\"screen\",\"fill_alpha\":{\"value\":0.5},\"fill_color\":{\"value\":\"lightgrey\"},\"left_units\":\"screen\",\"level\":\"overlay\",\"line_alpha\":{\"value\":1.0},\"line_color\":{\"value\":\"black\"},\"line_dash\":[4,4],\"line_width\":{\"value\":2},\"plot\":null,\"render_mode\":\"css\",\"right_units\":\"screen\",\"top_units\":\"screen\"},\"id\":\"9b96ed27-2cc2-4d5b-a11d-b9a54d33b4f9\",\"type\":\"BoxAnnotation\"},{\"attributes\":{},\"id\":\"b3ac618e-db89-4e8d-a1a3-fe4e76ea9b8a\",\"type\":\"BasicTickFormatter\"},{\"attributes\":{\"dimension\":1,\"plot\":{\"id\":\"5f3019fd-9112-4bdc-83a9-66b1a9ec64ba\",\"subtype\":\"Figure\",\"type\":\"Plot\"},\"ticker\":{\"id\":\"e823be44-f5d0-426e-9872-89bd578048ab\",\"type\":\"BasicTicker\"}},\"id\":\"78791e3f-4ea2-4d32-af57-9d9640a4892b\",\"type\":\"Grid\"},{\"attributes\":{\"plot\":null,\"text\":\"\"},\"id\":\"ddea3507-8b20-484c-a01c-486572b50178\",\"type\":\"Title\"},{\"attributes\":{\"callback\":null},\"id\":\"6c7aa856-1f25-4f0a-b3ec-f0e2ab5d8d06\",\"type\":\"DataRange1d\"},{\"attributes\":{\"callback\":null,\"column_names\":[\"size\",\"x\",\"y\"],\"data\":{\"size\":[10,15,20,25,30],\"x\":[1,2,3,4,5],\"y\":[6,7,2,4,5]}},\"id\":\"9da9804c-f0ef-4f77-b62f-135997c32ac3\",\"type\":\"ColumnDataSource\"},{\"attributes\":{\"below\":[{\"id\":\"84fa2aca-cd2d-44e4-b9fe-9483718a9b5d\",\"type\":\"LinearAxis\"}],\"left\":[{\"id\":\"461a996b-0a55-4645-892c-8c889ee9d812\",\"type\":\"LinearAxis\"}],\"plot_height\":400,\"plot_width\":400,\"renderers\":[{\"id\":\"84fa2aca-cd2d-44e4-b9fe-9483718a9b5d\",\"type\":\"LinearAxis\"},{\"id\":\"22aa8d54-919d-4d13-bf26-28439f9a7eee\",\"type\":\"Grid\"},{\"id\":\"461a996b-0a55-4645-892c-8c889ee9d812\",\"type\":\"LinearAxis\"},{\"id\":\"78791e3f-4ea2-4d32-af57-9d9640a4892b\",\"type\":\"Grid\"},{\"id\":\"9b96ed27-2cc2-4d5b-a11d-b9a54d33b4f9\",\"type\":\"BoxAnnotation\"},{\"id\":\"4a07ab84-82e9-4330-b814-fe66568c3261\",\"type\":\"GlyphRenderer\"}],\"title\":{\"id\":\"ddea3507-8b20-484c-a01c-486572b50178\",\"type\":\"Title\"},\"toolbar\":{\"id\":\"c055f0dd-cd68-4ddd-a5ff-42aa4391ee44\",\"type\":\"Toolbar\"},\"x_range\":{\"id\":\"6c7aa856-1f25-4f0a-b3ec-f0e2ab5d8d06\",\"type\":\"DataRange1d\"},\"x_scale\":{\"id\":\"65c98f90-3d48-479f-85d4-a935e57aee0a\",\"type\":\"LinearScale\"},\"y_range\":{\"id\":\"aa447880-56bc-4b0b-88a0-95de3f9004e5\",\"type\":\"DataRange1d\"},\"y_scale\":{\"id\":\"e259d698-3941-4949-a7ff-c16dccc1f1b9\",\"type\":\"LinearScale\"}},\"id\":\"5f3019fd-9112-4bdc-83a9-66b1a9ec64ba\",\"subtype\":\"Figure\",\"type\":\"Plot\"},{\"attributes\":{},\"id\":\"5dacf03e-d833-4c13-96cf-982b8021bf98\",\"type\":\"ResetTool\"},{\"attributes\":{\"overlay\":{\"id\":\"9b96ed27-2cc2-4d5b-a11d-b9a54d33b4f9\",\"type\":\"BoxAnnotation\"}},\"id\":\"a5d5675b-ef23-4dd6-840b-beb8a05ab992\",\"type\":\"BoxZoomTool\"},{\"attributes\":{},\"id\":\"58e7ac9b-1e08-4bbd-933b-ee295eac3815\",\"type\":\"PanTool\"},{\"attributes\":{\"fill_alpha\":{\"value\":0.1},\"fill_color\":{\"value\":\"#1f77b4\"},\"line_alpha\":{\"value\":0.1},\"line_color\":{\"value\":\"#1f77b4\"},\"size\":{\"field\":\"size\",\"units\":\"screen\"},\"x\":{\"field\":\"x\"},\"y\":{\"field\":\"y\"}},\"id\":\"81cf19bd-44cd-402d-8aaa-3f7ccea20908\",\"type\":\"Square\"},{\"attributes\":{},\"id\":\"a227312c-b820-4eb2-9a67-c63fea6a7cb1\",\"type\":\"HelpTool\"},{\"attributes\":{\"active_drag\":\"auto\",\"active_inspect\":\"auto\",\"active_scroll\":\"auto\",\"active_tap\":\"auto\",\"tools\":[{\"id\":\"58e7ac9b-1e08-4bbd-933b-ee295eac3815\",\"type\":\"PanTool\"},{\"id\":\"2c430f6f-831e-4069-b4b4-3486a6598836\",\"type\":\"WheelZoomTool\"},{\"id\":\"a5d5675b-ef23-4dd6-840b-beb8a05ab992\",\"type\":\"BoxZoomTool\"},{\"id\":\"fcaa2b0e-f7a5-4adf-8ba6-813666595b77\",\"type\":\"SaveTool\"},{\"id\":\"5dacf03e-d833-4c13-96cf-982b8021bf98\",\"type\":\"ResetTool\"},{\"id\":\"a227312c-b820-4eb2-9a67-c63fea6a7cb1\",\"type\":\"HelpTool\"}]},\"id\":\"c055f0dd-cd68-4ddd-a5ff-42aa4391ee44\",\"type\":\"Toolbar\"},{\"attributes\":{},\"id\":\"aba11a52-49b6-4760-b402-695f8c425527\",\"type\":\"BasicTicker\"},{\"attributes\":{\"formatter\":{\"id\":\"b3ac618e-db89-4e8d-a1a3-fe4e76ea9b8a\",\"type\":\"BasicTickFormatter\"},\"plot\":{\"id\":\"5f3019fd-9112-4bdc-83a9-66b1a9ec64ba\",\"subtype\":\"Figure\",\"type\":\"Plot\"},\"ticker\":{\"id\":\"e823be44-f5d0-426e-9872-89bd578048ab\",\"type\":\"BasicTicker\"}},\"id\":\"461a996b-0a55-4645-892c-8c889ee9d812\",\"type\":\"LinearAxis\"},{\"attributes\":{},\"id\":\"e823be44-f5d0-426e-9872-89bd578048ab\",\"type\":\"BasicTicker\"},{\"attributes\":{},\"id\":\"810ecb24-55b0-4318-90c4-6bad94fdc81b\",\"type\":\"BasicTickFormatter\"},{\"attributes\":{},\"id\":\"2c430f6f-831e-4069-b4b4-3486a6598836\",\"type\":\"WheelZoomTool\"},{\"attributes\":{},\"id\":\"65c98f90-3d48-479f-85d4-a935e57aee0a\",\"type\":\"LinearScale\"},{\"attributes\":{\"plot\":{\"id\":\"5f3019fd-9112-4bdc-83a9-66b1a9ec64ba\",\"subtype\":\"Figure\",\"type\":\"Plot\"},\"ticker\":{\"id\":\"aba11a52-49b6-4760-b402-695f8c425527\",\"type\":\"BasicTicker\"}},\"id\":\"22aa8d54-919d-4d13-bf26-28439f9a7eee\",\"type\":\"Grid\"}],\"root_ids\":[\"5f3019fd-9112-4bdc-83a9-66b1a9ec64ba\"]},\"title\":\"Bokeh Application\",\"version\":\"0.12.10\"}};\n",
       "    var render_items = [{\"docid\":\"145b2d70-8cc9-4541-af35-f278a4d27ffb\",\"elementid\":\"ccb89711-5f14-4199-89f3-97a605d4ad1f\",\"modelid\":\"5f3019fd-9112-4bdc-83a9-66b1a9ec64ba\"}];\n",
       "\n",
       "    root.Bokeh.embed.embed_items(docs_json, render_items);\n",
       "  }\n",
       "\n",
       "  if (root.Bokeh !== undefined) {\n",
       "    embed_document(root);\n",
       "  } else {\n",
       "    var attempts = 0;\n",
       "    var timer = setInterval(function(root) {\n",
       "      if (root.Bokeh !== undefined) {\n",
       "        embed_document(root);\n",
       "        clearInterval(timer);\n",
       "      }\n",
       "      attempts++;\n",
       "      if (attempts > 100) {\n",
       "        console.log(\"Bokeh: ERROR: Unable to embed document because BokehJS library is missing\")\n",
       "        clearInterval(timer);\n",
       "      }\n",
       "    }, 10, root)\n",
       "  }\n",
       "})(window);"
      ],
      "application/vnd.bokehjs_exec.v0+json": ""
     },
     "metadata": {
      "application/vnd.bokehjs_exec.v0+json": {
       "id": "5f3019fd-9112-4bdc-83a9-66b1a9ec64ba"
      }
     },
     "output_type": "display_data"
    }
   ],
   "source": [
    "# create a new plot using figure\n",
    "p = figure(plot_width=400, plot_height=400)\n",
    "\n",
    "# add a square renderer with a size, color, alpha, and sizes\n",
    "p.square([1, 2, 3, 4, 5], [6, 7, 2, 4, 5], size=[10, 15, 20, 25, 30], color=\"firebrick\", alpha=0.6)\n",
    "\n",
    "show(p) # show the results"
   ]
  },
  {
   "cell_type": "markdown",
   "metadata": {},
   "source": [
    "Note that in the example above, we are also specifying different sizes for each individual marker. ***In general, all of a glyph's properties can be \"vectorized\" in this fashion. ***  Also note that we have passed ``color`` as a shorthand to set both the line and fill colors easily at the same time. This is a convenience specific to ``bokeh.plotting``.\n",
    "\n",
    "</table><p>There are many marker types available in Bokeh, you can see details and\n",
    "example plots for all of them in the reference guide by clicking on entries in the list below:</p>\n",
    "<table class=\"hlist\" style=\"float:left\"><tr><td><ul>\n",
    "<li><a href=\"http://bokeh.pydata.org/en/latest/docs/reference/plotting.html#bokeh.plotting.Figure.asterisk\" title=\"bokeh.plotting.Figure.asterisk\"><code class=\"xref py py-func docutils literal\"><span class=\"pre\">asterisk()</span></code></a></li>\n",
    "<li><a href=\"http://bokeh.pydata.org/en/latest/docs/reference/plotting.html#bokeh.plotting.Figure.circle\" title=\"bokeh.plotting.Figure.circle\"><code class=\"xref py py-func docutils literal\"><span class=\"pre\">circle()</span></code></a></li>\n",
    "<li><a href=\"http://bokeh.pydata.org/en/latest/docs/reference/plotting.html#bokeh.plotting.Figure.circle_cross\" title=\"bokeh.plotting.Figure.circle_cross\"><code class=\"xref py py-func docutils literal\"><span class=\"pre\">circle_cross()</span></code></a></li>\n",
    "<li><a href=\"http://bokeh.pydata.org/en/latest/docs/reference/plotting.html#bokeh.plotting.Figure.circle_x\" title=\"bokeh.plotting.Figure.circle_x\"><code class=\"xref py py-func docutils literal\"><span class=\"pre\">circle_x()</span></code></a></li>\n",
    "<li><a href=\"http://bokeh.pydata.org/en/latest/docs/reference/plotting.html#bokeh.plotting.Figure.cross\" title=\"bokeh.plotting.Figure.cross\"><code class=\"xref py py-func docutils literal\"><span class=\"pre\">cross()</span></code></a></li>\n",
    "</ul>\n",
    "</td><td><ul>\n",
    "<li><a href=\"http://bokeh.pydata.org/en/latest/docs/reference/plotting.html#bokeh.plotting.Figure.diamond\" title=\"bokeh.plotting.Figure.diamond\"><code class=\"xref py py-func docutils literal\"><span class=\"pre\">diamond()</span></code></a></li>\n",
    "<li><a href=\"http://bokeh.pydata.org/en/latest/docs/reference/plotting.html#bokeh.plotting.Figure.diamond_cross\" title=\"bokeh.plotting.Figure.diamond_cross\"><code class=\"xref py py-func docutils literal\"><span class=\"pre\">diamond_cross()</span></code></a></li>\n",
    "<li><a href=\"http://bokeh.pydata.org/en/latest/docs/reference/plotting.html#bokeh.plotting.Figure.inverted_triangle\" title=\"bokeh.plotting.Figure.inverted_triangle\"><code class=\"xref py py-func docutils literal\"><span class=\"pre\">inverted_triangle()</span></code></a></li>\n",
    "<li><a href=\"http://bokeh.pydata.org/en/latest/docs/reference/plotting.html#bokeh.plotting.Figure.square\" title=\"bokeh.plotting.Figure.square\"><code class=\"xref py py-func docutils literal\"><span class=\"pre\">square()</span></code></a></li>\n",
    "</ul>\n",
    "</td><td><ul>\n",
    "<li><a href=\"http://bokeh.pydata.org/en/latest/docs/reference/plotting.html#bokeh.plotting.Figure.square_cross\" title=\"bokeh.plotting.Figure.square_cross\"><code class=\"xref py py-func docutils literal\"><span class=\"pre\">square_cross()</span></code></a></li>\n",
    "<li><a href=\"http://bokeh.pydata.org/en/latest/docs/reference/plotting.html#bokeh.plotting.Figure.square_x\" title=\"bokeh.plotting.Figure.square_x\"><code class=\"xref py py-func docutils literal\"><span class=\"pre\">square_x()</span></code></a></li>\n",
    "<li><a href=\"http://bokeh.pydata.org/en/latest/docs/reference/plotting.html#bokeh.plotting.Figure.triangle\" title=\"bokeh.plotting.Figure.triangle\"><code class=\"xref py py-func docutils literal\"><span class=\"pre\">triangle()</span></code></a></li>\n",
    "<li><a href=\"http://bokeh.pydata.org/en/latest/docs/reference/plotting.html#bokeh.plotting.Figure.x\" title=\"bokeh.plotting.Figure.x\"><code class=\"xref py py-func docutils literal\"><span class=\"pre\">x()</span></code></a></li>\n",
    "</ul>\n",
    "</td></tr></table>"
   ]
  },
  {
   "cell_type": "code",
   "execution_count": 11,
   "metadata": {},
   "outputs": [
    {
     "data": {
      "text/html": [
       "\n",
       "<div class=\"bk-root\">\n",
       "    <div class=\"bk-plotdiv\" id=\"461d3e61-e42e-4fca-ac51-ecc866d59f5a\"></div>\n",
       "</div>"
      ]
     },
     "metadata": {},
     "output_type": "display_data"
    },
    {
     "data": {
      "application/javascript": [
       "(function(root) {\n",
       "  function embed_document(root) {\n",
       "    var docs_json = {\"059378ac-7519-4665-9b3b-fc1d96c71af8\":{\"roots\":{\"references\":[{\"attributes\":{},\"id\":\"8609d296-2d4e-4b50-9533-10a512c53568\",\"type\":\"BasicTickFormatter\"},{\"attributes\":{},\"id\":\"ea7ad8db-fbb7-47eb-9079-e120b0ae94f1\",\"type\":\"BasicTickFormatter\"},{\"attributes\":{\"callback\":null},\"id\":\"354a2718-2b5b-485c-b1d8-c30cbea2f90d\",\"type\":\"DataRange1d\"},{\"attributes\":{\"dimension\":1,\"plot\":{\"id\":\"352403dc-0efe-494c-92cc-ff1370ecf1fe\",\"subtype\":\"Figure\",\"type\":\"Plot\"},\"ticker\":{\"id\":\"67ec6b21-a9f6-4add-9dcb-bd04342561f1\",\"type\":\"BasicTicker\"}},\"id\":\"28956e38-55bb-4b89-87ae-93cbb22309ae\",\"type\":\"Grid\"},{\"attributes\":{\"callback\":null},\"id\":\"5a81a195-e214-4737-80a3-d15e299906e9\",\"type\":\"DataRange1d\"},{\"attributes\":{\"plot\":null,\"text\":\"\"},\"id\":\"cdbed337-6d98-46cb-848a-56411587af4b\",\"type\":\"Title\"},{\"attributes\":{\"active_drag\":\"auto\",\"active_inspect\":\"auto\",\"active_scroll\":\"auto\",\"active_tap\":\"auto\",\"tools\":[{\"id\":\"56b68bea-02fc-4ab2-8c13-17309550ac9e\",\"type\":\"PanTool\"},{\"id\":\"8a7c7a98-d0dd-4f85-af26-2577e489e351\",\"type\":\"WheelZoomTool\"},{\"id\":\"4b4fb273-2b9f-44e9-a55a-1984b24b0964\",\"type\":\"BoxZoomTool\"},{\"id\":\"35571c4b-0edb-4551-9dcc-4ad65055b3b7\",\"type\":\"SaveTool\"},{\"id\":\"b42dd74c-9b0d-4f82-9b75-1e6d80bab532\",\"type\":\"ResetTool\"},{\"id\":\"f27ef3f6-8e81-43d1-b8d7-9c370f20b792\",\"type\":\"HelpTool\"}]},\"id\":\"d11591b6-44e5-4e7d-9282-b07951d887fb\",\"type\":\"Toolbar\"},{\"attributes\":{},\"id\":\"8a7c7a98-d0dd-4f85-af26-2577e489e351\",\"type\":\"WheelZoomTool\"},{\"attributes\":{\"callback\":null,\"column_names\":[\"size\",\"x\",\"y\"],\"data\":{\"size\":[10,15,20,25,30],\"x\":[1,2,3,4,5],\"y\":[6,7,2,4,5]}},\"id\":\"7d12fb24-9d20-45ba-aec8-09fcc40c68b3\",\"type\":\"ColumnDataSource\"},{\"attributes\":{\"formatter\":{\"id\":\"ea7ad8db-fbb7-47eb-9079-e120b0ae94f1\",\"type\":\"BasicTickFormatter\"},\"plot\":{\"id\":\"352403dc-0efe-494c-92cc-ff1370ecf1fe\",\"subtype\":\"Figure\",\"type\":\"Plot\"},\"ticker\":{\"id\":\"96df0ac9-c111-4c49-af7b-ff0b16aea9ed\",\"type\":\"BasicTicker\"}},\"id\":\"d93e7034-fc77-4e25-9cde-66c6733df054\",\"type\":\"LinearAxis\"},{\"attributes\":{\"bottom_units\":\"screen\",\"fill_alpha\":{\"value\":0.5},\"fill_color\":{\"value\":\"lightgrey\"},\"left_units\":\"screen\",\"level\":\"overlay\",\"line_alpha\":{\"value\":1.0},\"line_color\":{\"value\":\"black\"},\"line_dash\":[4,4],\"line_width\":{\"value\":2},\"plot\":null,\"render_mode\":\"css\",\"right_units\":\"screen\",\"top_units\":\"screen\"},\"id\":\"d1c304d2-59f5-4a11-abad-78a88dd87fa0\",\"type\":\"BoxAnnotation\"},{\"attributes\":{},\"id\":\"56b68bea-02fc-4ab2-8c13-17309550ac9e\",\"type\":\"PanTool\"},{\"attributes\":{\"overlay\":{\"id\":\"d1c304d2-59f5-4a11-abad-78a88dd87fa0\",\"type\":\"BoxAnnotation\"}},\"id\":\"4b4fb273-2b9f-44e9-a55a-1984b24b0964\",\"type\":\"BoxZoomTool\"},{\"attributes\":{},\"id\":\"b42dd74c-9b0d-4f82-9b75-1e6d80bab532\",\"type\":\"ResetTool\"},{\"attributes\":{},\"id\":\"96df0ac9-c111-4c49-af7b-ff0b16aea9ed\",\"type\":\"BasicTicker\"},{\"attributes\":{\"below\":[{\"id\":\"d93e7034-fc77-4e25-9cde-66c6733df054\",\"type\":\"LinearAxis\"}],\"left\":[{\"id\":\"7b0e166d-a321-403e-9443-d82280d96828\",\"type\":\"LinearAxis\"}],\"plot_height\":400,\"plot_width\":400,\"renderers\":[{\"id\":\"d93e7034-fc77-4e25-9cde-66c6733df054\",\"type\":\"LinearAxis\"},{\"id\":\"bf428f71-5f07-4524-b861-3681217f81f7\",\"type\":\"Grid\"},{\"id\":\"7b0e166d-a321-403e-9443-d82280d96828\",\"type\":\"LinearAxis\"},{\"id\":\"28956e38-55bb-4b89-87ae-93cbb22309ae\",\"type\":\"Grid\"},{\"id\":\"d1c304d2-59f5-4a11-abad-78a88dd87fa0\",\"type\":\"BoxAnnotation\"},{\"id\":\"ee6117d5-5ddb-4277-991c-92084407c744\",\"type\":\"GlyphRenderer\"}],\"title\":{\"id\":\"cdbed337-6d98-46cb-848a-56411587af4b\",\"type\":\"Title\"},\"toolbar\":{\"id\":\"d11591b6-44e5-4e7d-9282-b07951d887fb\",\"type\":\"Toolbar\"},\"x_range\":{\"id\":\"5a81a195-e214-4737-80a3-d15e299906e9\",\"type\":\"DataRange1d\"},\"x_scale\":{\"id\":\"b0915d8d-ec5f-49ab-b898-2008cd58da0b\",\"type\":\"LinearScale\"},\"y_range\":{\"id\":\"354a2718-2b5b-485c-b1d8-c30cbea2f90d\",\"type\":\"DataRange1d\"},\"y_scale\":{\"id\":\"dfe7bfba-b035-4cab-9752-7aa01fd4fdb6\",\"type\":\"LinearScale\"}},\"id\":\"352403dc-0efe-494c-92cc-ff1370ecf1fe\",\"subtype\":\"Figure\",\"type\":\"Plot\"},{\"attributes\":{\"fill_alpha\":{\"value\":0.1},\"fill_color\":{\"value\":\"#1f77b4\"},\"line_alpha\":{\"value\":0.1},\"line_color\":{\"value\":\"#1f77b4\"},\"size\":{\"field\":\"size\",\"units\":\"screen\"},\"x\":{\"field\":\"x\"},\"y\":{\"field\":\"y\"}},\"id\":\"15dacad3-ee50-46fb-be35-7dbf194cd063\",\"type\":\"X\"},{\"attributes\":{},\"id\":\"dfe7bfba-b035-4cab-9752-7aa01fd4fdb6\",\"type\":\"LinearScale\"},{\"attributes\":{},\"id\":\"b0915d8d-ec5f-49ab-b898-2008cd58da0b\",\"type\":\"LinearScale\"},{\"attributes\":{},\"id\":\"35571c4b-0edb-4551-9dcc-4ad65055b3b7\",\"type\":\"SaveTool\"},{\"attributes\":{\"fill_alpha\":{\"value\":0.6},\"fill_color\":{\"value\":\"firebrick\"},\"line_alpha\":{\"value\":0.6},\"line_color\":{\"value\":\"firebrick\"},\"size\":{\"field\":\"size\",\"units\":\"screen\"},\"x\":{\"field\":\"x\"},\"y\":{\"field\":\"y\"}},\"id\":\"05916c14-4301-46cf-91f3-979aae0f261d\",\"type\":\"X\"},{\"attributes\":{\"source\":{\"id\":\"7d12fb24-9d20-45ba-aec8-09fcc40c68b3\",\"type\":\"ColumnDataSource\"}},\"id\":\"522f577d-aa8d-4ecc-ba9e-334af2384372\",\"type\":\"CDSView\"},{\"attributes\":{\"plot\":{\"id\":\"352403dc-0efe-494c-92cc-ff1370ecf1fe\",\"subtype\":\"Figure\",\"type\":\"Plot\"},\"ticker\":{\"id\":\"96df0ac9-c111-4c49-af7b-ff0b16aea9ed\",\"type\":\"BasicTicker\"}},\"id\":\"bf428f71-5f07-4524-b861-3681217f81f7\",\"type\":\"Grid\"},{\"attributes\":{\"formatter\":{\"id\":\"8609d296-2d4e-4b50-9533-10a512c53568\",\"type\":\"BasicTickFormatter\"},\"plot\":{\"id\":\"352403dc-0efe-494c-92cc-ff1370ecf1fe\",\"subtype\":\"Figure\",\"type\":\"Plot\"},\"ticker\":{\"id\":\"67ec6b21-a9f6-4add-9dcb-bd04342561f1\",\"type\":\"BasicTicker\"}},\"id\":\"7b0e166d-a321-403e-9443-d82280d96828\",\"type\":\"LinearAxis\"},{\"attributes\":{},\"id\":\"67ec6b21-a9f6-4add-9dcb-bd04342561f1\",\"type\":\"BasicTicker\"},{\"attributes\":{\"data_source\":{\"id\":\"7d12fb24-9d20-45ba-aec8-09fcc40c68b3\",\"type\":\"ColumnDataSource\"},\"glyph\":{\"id\":\"05916c14-4301-46cf-91f3-979aae0f261d\",\"type\":\"X\"},\"hover_glyph\":null,\"muted_glyph\":null,\"nonselection_glyph\":{\"id\":\"15dacad3-ee50-46fb-be35-7dbf194cd063\",\"type\":\"X\"},\"selection_glyph\":null,\"view\":{\"id\":\"522f577d-aa8d-4ecc-ba9e-334af2384372\",\"type\":\"CDSView\"}},\"id\":\"ee6117d5-5ddb-4277-991c-92084407c744\",\"type\":\"GlyphRenderer\"},{\"attributes\":{},\"id\":\"f27ef3f6-8e81-43d1-b8d7-9c370f20b792\",\"type\":\"HelpTool\"}],\"root_ids\":[\"352403dc-0efe-494c-92cc-ff1370ecf1fe\"]},\"title\":\"Bokeh Application\",\"version\":\"0.12.10\"}};\n",
       "    var render_items = [{\"docid\":\"059378ac-7519-4665-9b3b-fc1d96c71af8\",\"elementid\":\"461d3e61-e42e-4fca-ac51-ecc866d59f5a\",\"modelid\":\"352403dc-0efe-494c-92cc-ff1370ecf1fe\"}];\n",
       "\n",
       "    root.Bokeh.embed.embed_items(docs_json, render_items);\n",
       "  }\n",
       "\n",
       "  if (root.Bokeh !== undefined) {\n",
       "    embed_document(root);\n",
       "  } else {\n",
       "    var attempts = 0;\n",
       "    var timer = setInterval(function(root) {\n",
       "      if (root.Bokeh !== undefined) {\n",
       "        embed_document(root);\n",
       "        clearInterval(timer);\n",
       "      }\n",
       "      attempts++;\n",
       "      if (attempts > 100) {\n",
       "        console.log(\"Bokeh: ERROR: Unable to embed document because BokehJS library is missing\")\n",
       "        clearInterval(timer);\n",
       "      }\n",
       "    }, 10, root)\n",
       "  }\n",
       "})(window);"
      ],
      "application/vnd.bokehjs_exec.v0+json": ""
     },
     "metadata": {
      "application/vnd.bokehjs_exec.v0+json": {
       "id": "352403dc-0efe-494c-92cc-ff1370ecf1fe"
      }
     },
     "output_type": "display_data"
    }
   ],
   "source": [
    "# EXERCISE: Plot some different markers in this cell\n",
    "# create a new plot using figure\n",
    "p = figure(plot_width=400, plot_height=400)\n",
    "\n",
    "# add a square renderer with a size, color, alpha, and sizes\n",
    "p.x([1, 2, 3, 4, 5], [6, 7, 2, 4, 5], size=[10, 15, 20, 25, 30], color=\"firebrick\", alpha=0.6)\n",
    "\n",
    "show(p) # show the results\n"
   ]
  },
  {
   "cell_type": "markdown",
   "metadata": {},
   "source": [
    "# Basic Line Plots"
   ]
  },
  {
   "cell_type": "code",
   "execution_count": 12,
   "metadata": {},
   "outputs": [
    {
     "data": {
      "text/html": [
       "\n",
       "<div class=\"bk-root\">\n",
       "    <div class=\"bk-plotdiv\" id=\"1fcfa30e-dd5f-40ac-b55d-8f8e139f6657\"></div>\n",
       "</div>"
      ]
     },
     "metadata": {},
     "output_type": "display_data"
    },
    {
     "data": {
      "application/javascript": [
       "(function(root) {\n",
       "  function embed_document(root) {\n",
       "    var docs_json = {\"a876b9f8-7eb8-431d-bad3-8b279601ffba\":{\"roots\":{\"references\":[{\"attributes\":{},\"id\":\"7cec00e5-0aeb-4e9f-904f-184db7d4f6ea\",\"type\":\"BasicTickFormatter\"},{\"attributes\":{\"bottom_units\":\"screen\",\"fill_alpha\":{\"value\":0.5},\"fill_color\":{\"value\":\"lightgrey\"},\"left_units\":\"screen\",\"level\":\"overlay\",\"line_alpha\":{\"value\":1.0},\"line_color\":{\"value\":\"black\"},\"line_dash\":[4,4],\"line_width\":{\"value\":2},\"plot\":null,\"render_mode\":\"css\",\"right_units\":\"screen\",\"top_units\":\"screen\"},\"id\":\"102360ce-5cf1-4358-9e85-d1c9ec521b05\",\"type\":\"BoxAnnotation\"},{\"attributes\":{},\"id\":\"7cf7106c-4356-4b1b-8f13-577b288a1f7d\",\"type\":\"LinearScale\"},{\"attributes\":{},\"id\":\"4335a5dd-59cb-4bff-96af-48798acb374f\",\"type\":\"SaveTool\"},{\"attributes\":{},\"id\":\"732f3c93-81c4-492a-9c1b-546e9d981def\",\"type\":\"WheelZoomTool\"},{\"attributes\":{\"data_source\":{\"id\":\"d0041ca0-1729-45da-9bdc-869f863ba776\",\"type\":\"ColumnDataSource\"},\"glyph\":{\"id\":\"b48f91da-28cf-404f-ae46-5adae21b4e39\",\"type\":\"Line\"},\"hover_glyph\":null,\"muted_glyph\":null,\"nonselection_glyph\":{\"id\":\"31d7c33b-e5f9-412d-8066-4ce7bf0bce7d\",\"type\":\"Line\"},\"selection_glyph\":null,\"view\":{\"id\":\"aa40c268-a4ea-4576-83df-5f7819fa1483\",\"type\":\"CDSView\"}},\"id\":\"35ecb948-5f76-4b0d-9f95-84a3b27d5d0a\",\"type\":\"GlyphRenderer\"},{\"attributes\":{\"plot\":{\"id\":\"d0b09d6a-433a-4a01-8eef-357a39788dbb\",\"subtype\":\"Figure\",\"type\":\"Plot\"},\"ticker\":{\"id\":\"33e251da-654a-4861-99fe-5f124da6e337\",\"type\":\"BasicTicker\"}},\"id\":\"5a3f59e5-cf78-4e36-ac50-83753887cca9\",\"type\":\"Grid\"},{\"attributes\":{},\"id\":\"07cb2089-d045-45d6-a7f8-f087265216e4\",\"type\":\"BasicTicker\"},{\"attributes\":{\"source\":{\"id\":\"d0041ca0-1729-45da-9bdc-869f863ba776\",\"type\":\"ColumnDataSource\"}},\"id\":\"aa40c268-a4ea-4576-83df-5f7819fa1483\",\"type\":\"CDSView\"},{\"attributes\":{\"line_color\":{\"value\":\"#1f77b4\"},\"line_width\":{\"value\":2},\"x\":{\"field\":\"x\"},\"y\":{\"field\":\"y\"}},\"id\":\"b48f91da-28cf-404f-ae46-5adae21b4e39\",\"type\":\"Line\"},{\"attributes\":{\"active_drag\":\"auto\",\"active_inspect\":\"auto\",\"active_scroll\":\"auto\",\"active_tap\":\"auto\",\"tools\":[{\"id\":\"611db31b-0fc4-4c31-84b7-003ab3bcb550\",\"type\":\"PanTool\"},{\"id\":\"732f3c93-81c4-492a-9c1b-546e9d981def\",\"type\":\"WheelZoomTool\"},{\"id\":\"fd1f6f8c-640f-485c-80ba-064e1d101697\",\"type\":\"BoxZoomTool\"},{\"id\":\"4335a5dd-59cb-4bff-96af-48798acb374f\",\"type\":\"SaveTool\"},{\"id\":\"a26cf3ef-baf1-442f-b8d2-c56089af6702\",\"type\":\"ResetTool\"},{\"id\":\"d4cd6c25-533e-4cb8-b870-e6f37e70e5f3\",\"type\":\"HelpTool\"}]},\"id\":\"28151d6f-0d89-4cba-b8f2-0217b87d4c31\",\"type\":\"Toolbar\"},{\"attributes\":{\"below\":[{\"id\":\"329df948-bb8e-4580-99c3-1a7899e8ae91\",\"type\":\"LinearAxis\"}],\"left\":[{\"id\":\"75013b8f-9c49-414b-a6a7-188d215accaa\",\"type\":\"LinearAxis\"}],\"plot_height\":400,\"plot_width\":400,\"renderers\":[{\"id\":\"329df948-bb8e-4580-99c3-1a7899e8ae91\",\"type\":\"LinearAxis\"},{\"id\":\"5a3f59e5-cf78-4e36-ac50-83753887cca9\",\"type\":\"Grid\"},{\"id\":\"75013b8f-9c49-414b-a6a7-188d215accaa\",\"type\":\"LinearAxis\"},{\"id\":\"76b36bfc-236c-4b0e-93ea-3ea01e2ff90b\",\"type\":\"Grid\"},{\"id\":\"102360ce-5cf1-4358-9e85-d1c9ec521b05\",\"type\":\"BoxAnnotation\"},{\"id\":\"35ecb948-5f76-4b0d-9f95-84a3b27d5d0a\",\"type\":\"GlyphRenderer\"}],\"title\":{\"id\":\"f7b11a5f-bef9-4e40-9b0c-9344ec5dfc0c\",\"type\":\"Title\"},\"toolbar\":{\"id\":\"28151d6f-0d89-4cba-b8f2-0217b87d4c31\",\"type\":\"Toolbar\"},\"x_range\":{\"id\":\"99f3b58f-7ccb-4031-804f-6fd16d45308a\",\"type\":\"DataRange1d\"},\"x_scale\":{\"id\":\"7cf7106c-4356-4b1b-8f13-577b288a1f7d\",\"type\":\"LinearScale\"},\"y_range\":{\"id\":\"da367273-9da9-45f7-a1c7-12380d0379f0\",\"type\":\"DataRange1d\"},\"y_scale\":{\"id\":\"5dc3b692-86d5-41e8-b291-99e490b5b527\",\"type\":\"LinearScale\"}},\"id\":\"d0b09d6a-433a-4a01-8eef-357a39788dbb\",\"subtype\":\"Figure\",\"type\":\"Plot\"},{\"attributes\":{\"dimension\":1,\"plot\":{\"id\":\"d0b09d6a-433a-4a01-8eef-357a39788dbb\",\"subtype\":\"Figure\",\"type\":\"Plot\"},\"ticker\":{\"id\":\"07cb2089-d045-45d6-a7f8-f087265216e4\",\"type\":\"BasicTicker\"}},\"id\":\"76b36bfc-236c-4b0e-93ea-3ea01e2ff90b\",\"type\":\"Grid\"},{\"attributes\":{\"overlay\":{\"id\":\"102360ce-5cf1-4358-9e85-d1c9ec521b05\",\"type\":\"BoxAnnotation\"}},\"id\":\"fd1f6f8c-640f-485c-80ba-064e1d101697\",\"type\":\"BoxZoomTool\"},{\"attributes\":{\"plot\":null,\"text\":\"My Line Plot\"},\"id\":\"f7b11a5f-bef9-4e40-9b0c-9344ec5dfc0c\",\"type\":\"Title\"},{\"attributes\":{},\"id\":\"5dc3b692-86d5-41e8-b291-99e490b5b527\",\"type\":\"LinearScale\"},{\"attributes\":{\"callback\":null},\"id\":\"99f3b58f-7ccb-4031-804f-6fd16d45308a\",\"type\":\"DataRange1d\"},{\"attributes\":{\"callback\":null,\"column_names\":[\"x\",\"y\"],\"data\":{\"x\":[1,2,3,4,5],\"y\":[6,7,2,4,5]}},\"id\":\"d0041ca0-1729-45da-9bdc-869f863ba776\",\"type\":\"ColumnDataSource\"},{\"attributes\":{},\"id\":\"33e251da-654a-4861-99fe-5f124da6e337\",\"type\":\"BasicTicker\"},{\"attributes\":{\"callback\":null},\"id\":\"da367273-9da9-45f7-a1c7-12380d0379f0\",\"type\":\"DataRange1d\"},{\"attributes\":{},\"id\":\"a26cf3ef-baf1-442f-b8d2-c56089af6702\",\"type\":\"ResetTool\"},{\"attributes\":{},\"id\":\"151dd504-1f78-44bb-ba9f-fcbbaa76c176\",\"type\":\"BasicTickFormatter\"},{\"attributes\":{\"formatter\":{\"id\":\"151dd504-1f78-44bb-ba9f-fcbbaa76c176\",\"type\":\"BasicTickFormatter\"},\"plot\":{\"id\":\"d0b09d6a-433a-4a01-8eef-357a39788dbb\",\"subtype\":\"Figure\",\"type\":\"Plot\"},\"ticker\":{\"id\":\"07cb2089-d045-45d6-a7f8-f087265216e4\",\"type\":\"BasicTicker\"}},\"id\":\"75013b8f-9c49-414b-a6a7-188d215accaa\",\"type\":\"LinearAxis\"},{\"attributes\":{\"formatter\":{\"id\":\"7cec00e5-0aeb-4e9f-904f-184db7d4f6ea\",\"type\":\"BasicTickFormatter\"},\"plot\":{\"id\":\"d0b09d6a-433a-4a01-8eef-357a39788dbb\",\"subtype\":\"Figure\",\"type\":\"Plot\"},\"ticker\":{\"id\":\"33e251da-654a-4861-99fe-5f124da6e337\",\"type\":\"BasicTicker\"}},\"id\":\"329df948-bb8e-4580-99c3-1a7899e8ae91\",\"type\":\"LinearAxis\"},{\"attributes\":{\"line_alpha\":{\"value\":0.1},\"line_color\":{\"value\":\"#1f77b4\"},\"line_width\":{\"value\":2},\"x\":{\"field\":\"x\"},\"y\":{\"field\":\"y\"}},\"id\":\"31d7c33b-e5f9-412d-8066-4ce7bf0bce7d\",\"type\":\"Line\"},{\"attributes\":{},\"id\":\"611db31b-0fc4-4c31-84b7-003ab3bcb550\",\"type\":\"PanTool\"},{\"attributes\":{},\"id\":\"d4cd6c25-533e-4cb8-b870-e6f37e70e5f3\",\"type\":\"HelpTool\"}],\"root_ids\":[\"d0b09d6a-433a-4a01-8eef-357a39788dbb\"]},\"title\":\"Bokeh Application\",\"version\":\"0.12.10\"}};\n",
       "    var render_items = [{\"docid\":\"a876b9f8-7eb8-431d-bad3-8b279601ffba\",\"elementid\":\"1fcfa30e-dd5f-40ac-b55d-8f8e139f6657\",\"modelid\":\"d0b09d6a-433a-4a01-8eef-357a39788dbb\"}];\n",
       "\n",
       "    root.Bokeh.embed.embed_items(docs_json, render_items);\n",
       "  }\n",
       "\n",
       "  if (root.Bokeh !== undefined) {\n",
       "    embed_document(root);\n",
       "  } else {\n",
       "    var attempts = 0;\n",
       "    var timer = setInterval(function(root) {\n",
       "      if (root.Bokeh !== undefined) {\n",
       "        embed_document(root);\n",
       "        clearInterval(timer);\n",
       "      }\n",
       "      attempts++;\n",
       "      if (attempts > 100) {\n",
       "        console.log(\"Bokeh: ERROR: Unable to embed document because BokehJS library is missing\")\n",
       "        clearInterval(timer);\n",
       "      }\n",
       "    }, 10, root)\n",
       "  }\n",
       "})(window);"
      ],
      "application/vnd.bokehjs_exec.v0+json": ""
     },
     "metadata": {
      "application/vnd.bokehjs_exec.v0+json": {
       "id": "d0b09d6a-433a-4a01-8eef-357a39788dbb"
      }
     },
     "output_type": "display_data"
    }
   ],
   "source": [
    "# create a new plot (with a title) using figure\n",
    "p = figure(plot_width=400, plot_height=400, title=\"My Line Plot\")\n",
    "\n",
    "# add a line renderer\n",
    "p.line([1, 2, 3, 4, 5], [6, 7, 2, 4, 5], line_width=2)\n",
    "\n",
    "show(p) # show the results"
   ]
  },
  {
   "cell_type": "markdown",
   "metadata": {},
   "source": [
    "# Images"
   ]
  },
  {
   "cell_type": "markdown",
   "metadata": {},
   "source": [
    "The example below shows how to use the `image_rgba` method to display raw RGBA data. \n",
    "\n",
    "**Note**: This example makes use of the NumPy library "
   ]
  },
  {
   "cell_type": "code",
   "execution_count": 13,
   "metadata": {},
   "outputs": [
    {
     "data": {
      "text/html": [
       "\n",
       "<div class=\"bk-root\">\n",
       "    <div class=\"bk-plotdiv\" id=\"4c8ed4f0-d468-4745-90b0-b9728b282b79\"></div>\n",
       "</div>"
      ]
     },
     "metadata": {},
     "output_type": "display_data"
    },
    {
     "data": {
      "application/javascript": [
       "(function(root) {\n",
       "  function embed_document(root) {\n",
       "    var docs_json = {\"69eb2689-6991-41dc-843f-8b8473639b44\":{\"roots\":{\"references\":[{\"attributes\":{\"overlay\":{\"id\":\"1c5f0d73-1ab3-4451-8f0c-e1e5f2e10f3c\",\"type\":\"BoxAnnotation\"}},\"id\":\"2163cf81-89e8-4030-8b8c-172cb941cd9c\",\"type\":\"BoxZoomTool\"},{\"attributes\":{},\"id\":\"0049e6a5-fd00-4d4c-9af1-c6a7c5675888\",\"type\":\"LinearScale\"},{\"attributes\":{\"dh\":{\"field\":\"dh\",\"units\":\"data\"},\"dw\":{\"field\":\"dw\",\"units\":\"data\"},\"image\":{\"field\":\"image\"},\"x\":{\"field\":\"x\"},\"y\":{\"field\":\"y\"}},\"id\":\"449a8cad-3d50-4da0-8c5f-3e8304944a8f\",\"type\":\"ImageRGBA\"},{\"attributes\":{\"callback\":null,\"end\":10},\"id\":\"409aa5e8-385d-445c-96b1-2aebfeffbcc3\",\"type\":\"Range1d\"},{\"attributes\":{},\"id\":\"6edb9a02-2f15-4fed-86ff-2e994291ca33\",\"type\":\"BasicTicker\"},{\"attributes\":{\"below\":[{\"id\":\"2d07ef6e-5c9b-4c1f-83b4-0cfb712b2de9\",\"type\":\"LinearAxis\"}],\"left\":[{\"id\":\"2184f9a9-c212-4ab6-a7d3-c112bf5d4547\",\"type\":\"LinearAxis\"}],\"renderers\":[{\"id\":\"2d07ef6e-5c9b-4c1f-83b4-0cfb712b2de9\",\"type\":\"LinearAxis\"},{\"id\":\"dc4a031a-fe52-4f9f-a40d-21b1b9464944\",\"type\":\"Grid\"},{\"id\":\"2184f9a9-c212-4ab6-a7d3-c112bf5d4547\",\"type\":\"LinearAxis\"},{\"id\":\"62b33945-3f82-4532-aaf2-fad04b25fc55\",\"type\":\"Grid\"},{\"id\":\"1c5f0d73-1ab3-4451-8f0c-e1e5f2e10f3c\",\"type\":\"BoxAnnotation\"},{\"id\":\"52cd4487-3fa0-4d11-a98d-e9529a94ac47\",\"type\":\"GlyphRenderer\"}],\"title\":{\"id\":\"a92672eb-a4cd-4f0c-a7a2-6a0c6066f3ba\",\"type\":\"Title\"},\"toolbar\":{\"id\":\"029929d5-e4a4-48d4-98a0-9d6190d40e5e\",\"type\":\"Toolbar\"},\"x_range\":{\"id\":\"d166862a-d227-4e00-b912-fca935a89106\",\"type\":\"Range1d\"},\"x_scale\":{\"id\":\"bac0527a-3e77-43c0-81cb-e591c119d8cc\",\"type\":\"LinearScale\"},\"y_range\":{\"id\":\"409aa5e8-385d-445c-96b1-2aebfeffbcc3\",\"type\":\"Range1d\"},\"y_scale\":{\"id\":\"0049e6a5-fd00-4d4c-9af1-c6a7c5675888\",\"type\":\"LinearScale\"}},\"id\":\"dc5b8668-afb3-446a-8847-b0ebd531474e\",\"subtype\":\"Figure\",\"type\":\"Plot\"},{\"attributes\":{\"source\":{\"id\":\"fb537bcc-c129-4bd2-858c-35996761ac1a\",\"type\":\"ColumnDataSource\"}},\"id\":\"582a989c-fe9d-4bf7-a400-b2263b555d90\",\"type\":\"CDSView\"},{\"attributes\":{\"active_drag\":\"auto\",\"active_inspect\":\"auto\",\"active_scroll\":\"auto\",\"active_tap\":\"auto\",\"tools\":[{\"id\":\"193c582e-2403-4fa6-8d78-d679b31fd1ea\",\"type\":\"PanTool\"},{\"id\":\"0b2b0085-057e-494e-bd69-8bf99b96326b\",\"type\":\"WheelZoomTool\"},{\"id\":\"2163cf81-89e8-4030-8b8c-172cb941cd9c\",\"type\":\"BoxZoomTool\"},{\"id\":\"db43f222-845b-4a18-a3f5-058d64c92a12\",\"type\":\"SaveTool\"},{\"id\":\"ce0b2322-8aff-4ff9-9d94-fc551bba4dbb\",\"type\":\"ResetTool\"},{\"id\":\"de5999ae-b46a-4236-9f37-3539d11f2a36\",\"type\":\"HelpTool\"}]},\"id\":\"029929d5-e4a4-48d4-98a0-9d6190d40e5e\",\"type\":\"Toolbar\"},{\"attributes\":{\"formatter\":{\"id\":\"d923c96b-d849-41b4-9106-8d5404bae786\",\"type\":\"BasicTickFormatter\"},\"plot\":{\"id\":\"dc5b8668-afb3-446a-8847-b0ebd531474e\",\"subtype\":\"Figure\",\"type\":\"Plot\"},\"ticker\":{\"id\":\"6edb9a02-2f15-4fed-86ff-2e994291ca33\",\"type\":\"BasicTicker\"}},\"id\":\"2184f9a9-c212-4ab6-a7d3-c112bf5d4547\",\"type\":\"LinearAxis\"},{\"attributes\":{},\"id\":\"193c582e-2403-4fa6-8d78-d679b31fd1ea\",\"type\":\"PanTool\"},{\"attributes\":{},\"id\":\"d923c96b-d849-41b4-9106-8d5404bae786\",\"type\":\"BasicTickFormatter\"},{\"attributes\":{\"plot\":{\"id\":\"dc5b8668-afb3-446a-8847-b0ebd531474e\",\"subtype\":\"Figure\",\"type\":\"Plot\"},\"ticker\":{\"id\":\"b74781fa-6dc9-4c0f-9ce0-a68eebb2ad90\",\"type\":\"BasicTicker\"}},\"id\":\"dc4a031a-fe52-4f9f-a40d-21b1b9464944\",\"type\":\"Grid\"},{\"attributes\":{},\"id\":\"ce0b2322-8aff-4ff9-9d94-fc551bba4dbb\",\"type\":\"ResetTool\"},{\"attributes\":{\"dimension\":1,\"plot\":{\"id\":\"dc5b8668-afb3-446a-8847-b0ebd531474e\",\"subtype\":\"Figure\",\"type\":\"Plot\"},\"ticker\":{\"id\":\"6edb9a02-2f15-4fed-86ff-2e994291ca33\",\"type\":\"BasicTicker\"}},\"id\":\"62b33945-3f82-4532-aaf2-fad04b25fc55\",\"type\":\"Grid\"},{\"attributes\":{},\"id\":\"de5999ae-b46a-4236-9f37-3539d11f2a36\",\"type\":\"HelpTool\"},{\"attributes\":{},\"id\":\"b74781fa-6dc9-4c0f-9ce0-a68eebb2ad90\",\"type\":\"BasicTicker\"},{\"attributes\":{\"callback\":null,\"end\":10},\"id\":\"d166862a-d227-4e00-b912-fca935a89106\",\"type\":\"Range1d\"},{\"attributes\":{},\"id\":\"a18dc8d8-44c9-4331-b0db-e2987f214ebb\",\"type\":\"BasicTickFormatter\"},{\"attributes\":{\"formatter\":{\"id\":\"a18dc8d8-44c9-4331-b0db-e2987f214ebb\",\"type\":\"BasicTickFormatter\"},\"plot\":{\"id\":\"dc5b8668-afb3-446a-8847-b0ebd531474e\",\"subtype\":\"Figure\",\"type\":\"Plot\"},\"ticker\":{\"id\":\"b74781fa-6dc9-4c0f-9ce0-a68eebb2ad90\",\"type\":\"BasicTicker\"}},\"id\":\"2d07ef6e-5c9b-4c1f-83b4-0cfb712b2de9\",\"type\":\"LinearAxis\"},{\"attributes\":{\"data_source\":{\"id\":\"fb537bcc-c129-4bd2-858c-35996761ac1a\",\"type\":\"ColumnDataSource\"},\"glyph\":{\"id\":\"7fe47d82-3298-4927-b6b7-efc04c484520\",\"type\":\"ImageRGBA\"},\"hover_glyph\":null,\"muted_glyph\":null,\"nonselection_glyph\":{\"id\":\"449a8cad-3d50-4da0-8c5f-3e8304944a8f\",\"type\":\"ImageRGBA\"},\"selection_glyph\":null,\"view\":{\"id\":\"582a989c-fe9d-4bf7-a400-b2263b555d90\",\"type\":\"CDSView\"}},\"id\":\"52cd4487-3fa0-4d11-a98d-e9529a94ac47\",\"type\":\"GlyphRenderer\"},{\"attributes\":{\"bottom_units\":\"screen\",\"fill_alpha\":{\"value\":0.5},\"fill_color\":{\"value\":\"lightgrey\"},\"left_units\":\"screen\",\"level\":\"overlay\",\"line_alpha\":{\"value\":1.0},\"line_color\":{\"value\":\"black\"},\"line_dash\":[4,4],\"line_width\":{\"value\":2},\"plot\":null,\"render_mode\":\"css\",\"right_units\":\"screen\",\"top_units\":\"screen\"},\"id\":\"1c5f0d73-1ab3-4451-8f0c-e1e5f2e10f3c\",\"type\":\"BoxAnnotation\"},{\"attributes\":{},\"id\":\"db43f222-845b-4a18-a3f5-058d64c92a12\",\"type\":\"SaveTool\"},{\"attributes\":{\"callback\":null,\"column_names\":[\"dh\",\"dw\",\"x\",\"y\",\"image\"],\"data\":{\"dh\":[10],\"dw\":[10],\"image\":[{\"__ndarray__\":\"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\",\"dtype\":\"uint32\",\"shape\":[20,20]}],\"x\":[0],\"y\":[0]}},\"id\":\"fb537bcc-c129-4bd2-858c-35996761ac1a\",\"type\":\"ColumnDataSource\"},{\"attributes\":{},\"id\":\"0b2b0085-057e-494e-bd69-8bf99b96326b\",\"type\":\"WheelZoomTool\"},{\"attributes\":{\"plot\":null,\"text\":\"\"},\"id\":\"a92672eb-a4cd-4f0c-a7a2-6a0c6066f3ba\",\"type\":\"Title\"},{\"attributes\":{},\"id\":\"bac0527a-3e77-43c0-81cb-e591c119d8cc\",\"type\":\"LinearScale\"},{\"attributes\":{\"dh\":{\"field\":\"dh\",\"units\":\"data\"},\"dw\":{\"field\":\"dw\",\"units\":\"data\"},\"image\":{\"field\":\"image\"},\"x\":{\"field\":\"x\"},\"y\":{\"field\":\"y\"}},\"id\":\"7fe47d82-3298-4927-b6b7-efc04c484520\",\"type\":\"ImageRGBA\"}],\"root_ids\":[\"dc5b8668-afb3-446a-8847-b0ebd531474e\"]},\"title\":\"Bokeh Application\",\"version\":\"0.12.10\"}};\n",
       "    var render_items = [{\"docid\":\"69eb2689-6991-41dc-843f-8b8473639b44\",\"elementid\":\"4c8ed4f0-d468-4745-90b0-b9728b282b79\",\"modelid\":\"dc5b8668-afb3-446a-8847-b0ebd531474e\"}];\n",
       "\n",
       "    root.Bokeh.embed.embed_items(docs_json, render_items);\n",
       "  }\n",
       "\n",
       "  if (root.Bokeh !== undefined) {\n",
       "    embed_document(root);\n",
       "  } else {\n",
       "    var attempts = 0;\n",
       "    var timer = setInterval(function(root) {\n",
       "      if (root.Bokeh !== undefined) {\n",
       "        embed_document(root);\n",
       "        clearInterval(timer);\n",
       "      }\n",
       "      attempts++;\n",
       "      if (attempts > 100) {\n",
       "        console.log(\"Bokeh: ERROR: Unable to embed document because BokehJS library is missing\")\n",
       "        clearInterval(timer);\n",
       "      }\n",
       "    }, 10, root)\n",
       "  }\n",
       "})(window);"
      ],
      "application/vnd.bokehjs_exec.v0+json": ""
     },
     "metadata": {
      "application/vnd.bokehjs_exec.v0+json": {
       "id": "dc5b8668-afb3-446a-8847-b0ebd531474e"
      }
     },
     "output_type": "display_data"
    }
   ],
   "source": [
    "from __future__ import division\n",
    "import numpy as np\n",
    "\n",
    "# set up some data\n",
    "N = 20\n",
    "img = np.empty((N,N), dtype=np.uint32)\n",
    "view = img.view(dtype=np.uint8).reshape((N, N, 4))\n",
    "for i in range(N):\n",
    "    for j in range(N):\n",
    "        view[i, j, 0] = int(i/N*255) # red\n",
    "        view[i, j, 1] = 158          # green\n",
    "        view[i, j, 2] = int(j/N*255) # blue\n",
    "        view[i, j, 3] = 255          # alpha\n",
    "        \n",
    "# create a new plot (with a fixed range) using figure\n",
    "p = figure(x_range=[0,10], y_range=[0,10])\n",
    "\n",
    "# add an RGBA image renderer\n",
    "p.image_rgba(image=[img], x=[0], y=[0], dw=[10], dh=[10])\n",
    "\n",
    "show(p) # show the results"
   ]
  },
  {
   "cell_type": "markdown",
   "metadata": {},
   "source": [
    "# Other Kinds of Glyphs\n",
    "\n",
    "Bokeh supports many other kinds of glyphs. You can click on the User Guide links below to see how to create plots with these glyphs using the [`bokeh.plotting`](http://bokeh.pydata.org/en/latest/docs/user_guide/plotting.html) interface.\n",
    "\n",
    "* [Rectangles and Ovals](http://bokeh.pydata.org/en/latest/docs/user_guide/plotting.html#rectangles-and-ovals)\n",
    "* [Segments and Rays](http://bokeh.pydata.org/en/latest/docs/user_guide/plotting.html#segments-and-rays)\n",
    "* [Wedges and Arcs](http://bokeh.pydata.org/en/latest/docs/user_guide/plotting.html#wedges-and-arcs)\n",
    "* [Specialized Curves](http://bokeh.pydata.org/en/latest/docs/user_guide/plotting.html#specialized-curves)\n"
   ]
  },
  {
   "cell_type": "code",
   "execution_count": 14,
   "metadata": {},
   "outputs": [],
   "source": [
    "# EXERCISE: Plot some of the other glyph types, following the examples in the User Guide. \n",
    "\n"
   ]
  },
  {
   "cell_type": "markdown",
   "metadata": {},
   "source": [
    "# Plots with Multiple Glyphs \n",
    "\n",
    "It is possible to combine more than one glyph on a single figure. You just need to call multiple glyph methods on one figure object:"
   ]
  },
  {
   "cell_type": "code",
   "execution_count": 15,
   "metadata": {},
   "outputs": [
    {
     "data": {
      "text/html": [
       "\n",
       "<div class=\"bk-root\">\n",
       "    <div class=\"bk-plotdiv\" id=\"f0417679-e097-4c87-8453-c2ef6c466fc2\"></div>\n",
       "</div>"
      ]
     },
     "metadata": {},
     "output_type": "display_data"
    },
    {
     "data": {
      "application/javascript": [
       "(function(root) {\n",
       "  function embed_document(root) {\n",
       "    var docs_json = {\"9cb2c6d9-c332-43b2-832e-e51eb68b9fe3\":{\"roots\":{\"references\":[{\"attributes\":{},\"id\":\"abe03b43-6fcf-4d51-837b-0699884edd0f\",\"type\":\"HelpTool\"},{\"attributes\":{\"line_alpha\":{\"value\":0.1},\"line_color\":{\"value\":\"#1f77b4\"},\"line_width\":{\"value\":2},\"x\":{\"field\":\"x\"},\"y\":{\"field\":\"y\"}},\"id\":\"504f31eb-d44a-43f8-bd8d-9a8f7fdc65fd\",\"type\":\"Line\"},{\"attributes\":{\"plot\":{\"id\":\"87935fad-c742-41b4-ba87-a351dab567c4\",\"subtype\":\"Figure\",\"type\":\"Plot\"},\"ticker\":{\"id\":\"fe18afdd-3d9c-441f-9995-c1788808fbe7\",\"type\":\"BasicTicker\"}},\"id\":\"a61ad746-354c-4a1c-ba91-3f66f36c90e5\",\"type\":\"Grid\"},{\"attributes\":{},\"id\":\"f826c9d8-6530-40e7-8501-d372af0f7be8\",\"type\":\"LinearScale\"},{\"attributes\":{\"dimension\":1,\"plot\":{\"id\":\"87935fad-c742-41b4-ba87-a351dab567c4\",\"subtype\":\"Figure\",\"type\":\"Plot\"},\"ticker\":{\"id\":\"46cd3de2-f0f6-4871-8ec4-6fcf8c9881fa\",\"type\":\"BasicTicker\"}},\"id\":\"ee3424ba-3777-45e5-ad12-b7c4ba47b249\",\"type\":\"Grid\"},{\"attributes\":{\"bottom_units\":\"screen\",\"fill_alpha\":{\"value\":0.5},\"fill_color\":{\"value\":\"lightgrey\"},\"left_units\":\"screen\",\"level\":\"overlay\",\"line_alpha\":{\"value\":1.0},\"line_color\":{\"value\":\"black\"},\"line_dash\":[4,4],\"line_width\":{\"value\":2},\"plot\":null,\"render_mode\":\"css\",\"right_units\":\"screen\",\"top_units\":\"screen\"},\"id\":\"34f53939-a713-455d-b9a9-a76547b1b7a4\",\"type\":\"BoxAnnotation\"},{\"attributes\":{\"source\":{\"id\":\"ac021f17-f697-4b92-a5d7-41699eb91d34\",\"type\":\"ColumnDataSource\"}},\"id\":\"524479f9-9ab8-4b9d-b52b-6c6d050421bd\",\"type\":\"CDSView\"},{\"attributes\":{},\"id\":\"0b3513f5-1bfe-46d3-8809-56c55d5586f4\",\"type\":\"SaveTool\"},{\"attributes\":{\"callback\":null},\"id\":\"ffdd7782-1c59-4a6f-8255-b5cbedc22edb\",\"type\":\"DataRange1d\"},{\"attributes\":{},\"id\":\"16b7e3fa-4d85-43ec-8641-50659916cb0f\",\"type\":\"LinearScale\"},{\"attributes\":{\"overlay\":{\"id\":\"34f53939-a713-455d-b9a9-a76547b1b7a4\",\"type\":\"BoxAnnotation\"}},\"id\":\"28d62272-0dc9-4865-acc6-e4c5d9fc352b\",\"type\":\"BoxZoomTool\"},{\"attributes\":{\"formatter\":{\"id\":\"718ed709-6664-4daf-9887-f2cf271cf723\",\"type\":\"BasicTickFormatter\"},\"plot\":{\"id\":\"87935fad-c742-41b4-ba87-a351dab567c4\",\"subtype\":\"Figure\",\"type\":\"Plot\"},\"ticker\":{\"id\":\"fe18afdd-3d9c-441f-9995-c1788808fbe7\",\"type\":\"BasicTicker\"}},\"id\":\"3a60d7d3-b7da-4302-8dcf-7f44da40fadc\",\"type\":\"LinearAxis\"},{\"attributes\":{},\"id\":\"bda9d6c2-676f-4d86-b1aa-c200aa5af900\",\"type\":\"ResetTool\"},{\"attributes\":{\"fill_alpha\":{\"value\":0.1},\"fill_color\":{\"value\":\"#1f77b4\"},\"line_alpha\":{\"value\":0.1},\"line_color\":{\"value\":\"#1f77b4\"},\"size\":{\"units\":\"screen\",\"value\":8},\"x\":{\"field\":\"x\"},\"y\":{\"field\":\"y\"}},\"id\":\"1876576b-2678-4f08-b6ab-b7cff700ac01\",\"type\":\"Circle\"},{\"attributes\":{\"plot\":null,\"text\":\"\"},\"id\":\"5306665a-5031-40eb-8891-2ae3890e2402\",\"type\":\"Title\"},{\"attributes\":{\"callback\":null,\"column_names\":[\"x\",\"y\"],\"data\":{\"x\":[1,2,3,4,5],\"y\":[6,7,8,7,3]}},\"id\":\"90f563e6-6841-463b-90af-0c9ee6f1754e\",\"type\":\"ColumnDataSource\"},{\"attributes\":{\"data_source\":{\"id\":\"ac021f17-f697-4b92-a5d7-41699eb91d34\",\"type\":\"ColumnDataSource\"},\"glyph\":{\"id\":\"3cd9e8ab-5717-41aa-be9a-733ba51109ba\",\"type\":\"Circle\"},\"hover_glyph\":null,\"muted_glyph\":null,\"nonselection_glyph\":{\"id\":\"1876576b-2678-4f08-b6ab-b7cff700ac01\",\"type\":\"Circle\"},\"selection_glyph\":null,\"view\":{\"id\":\"524479f9-9ab8-4b9d-b52b-6c6d050421bd\",\"type\":\"CDSView\"}},\"id\":\"4644f2ea-da47-45f4-8fa0-b894e7d88ab4\",\"type\":\"GlyphRenderer\"},{\"attributes\":{\"active_drag\":\"auto\",\"active_inspect\":\"auto\",\"active_scroll\":\"auto\",\"active_tap\":\"auto\",\"tools\":[{\"id\":\"8d565f12-cd08-43cc-8040-3465a1992818\",\"type\":\"PanTool\"},{\"id\":\"baa622ad-1349-4b85-9237-91c6f59eb101\",\"type\":\"WheelZoomTool\"},{\"id\":\"28d62272-0dc9-4865-acc6-e4c5d9fc352b\",\"type\":\"BoxZoomTool\"},{\"id\":\"0b3513f5-1bfe-46d3-8809-56c55d5586f4\",\"type\":\"SaveTool\"},{\"id\":\"bda9d6c2-676f-4d86-b1aa-c200aa5af900\",\"type\":\"ResetTool\"},{\"id\":\"abe03b43-6fcf-4d51-837b-0699884edd0f\",\"type\":\"HelpTool\"}]},\"id\":\"891c49ad-570f-4d99-8a2d-2d3c8ad3c54d\",\"type\":\"Toolbar\"},{\"attributes\":{\"below\":[{\"id\":\"3a60d7d3-b7da-4302-8dcf-7f44da40fadc\",\"type\":\"LinearAxis\"}],\"left\":[{\"id\":\"d37a340b-be9f-4a72-bd56-10af70c4d7c2\",\"type\":\"LinearAxis\"}],\"plot_height\":400,\"plot_width\":400,\"renderers\":[{\"id\":\"3a60d7d3-b7da-4302-8dcf-7f44da40fadc\",\"type\":\"LinearAxis\"},{\"id\":\"a61ad746-354c-4a1c-ba91-3f66f36c90e5\",\"type\":\"Grid\"},{\"id\":\"d37a340b-be9f-4a72-bd56-10af70c4d7c2\",\"type\":\"LinearAxis\"},{\"id\":\"ee3424ba-3777-45e5-ad12-b7c4ba47b249\",\"type\":\"Grid\"},{\"id\":\"34f53939-a713-455d-b9a9-a76547b1b7a4\",\"type\":\"BoxAnnotation\"},{\"id\":\"1e0fa02e-c045-4332-a8cb-8e9e24f22f3e\",\"type\":\"GlyphRenderer\"},{\"id\":\"4644f2ea-da47-45f4-8fa0-b894e7d88ab4\",\"type\":\"GlyphRenderer\"}],\"title\":{\"id\":\"5306665a-5031-40eb-8891-2ae3890e2402\",\"type\":\"Title\"},\"toolbar\":{\"id\":\"891c49ad-570f-4d99-8a2d-2d3c8ad3c54d\",\"type\":\"Toolbar\"},\"x_range\":{\"id\":\"ffdd7782-1c59-4a6f-8255-b5cbedc22edb\",\"type\":\"DataRange1d\"},\"x_scale\":{\"id\":\"f826c9d8-6530-40e7-8501-d372af0f7be8\",\"type\":\"LinearScale\"},\"y_range\":{\"id\":\"ef7a5712-3afb-42c6-8f11-e22fef53ce1e\",\"type\":\"DataRange1d\"},\"y_scale\":{\"id\":\"16b7e3fa-4d85-43ec-8641-50659916cb0f\",\"type\":\"LinearScale\"}},\"id\":\"87935fad-c742-41b4-ba87-a351dab567c4\",\"subtype\":\"Figure\",\"type\":\"Plot\"},{\"attributes\":{\"data_source\":{\"id\":\"90f563e6-6841-463b-90af-0c9ee6f1754e\",\"type\":\"ColumnDataSource\"},\"glyph\":{\"id\":\"f55668b5-f0ba-43e8-9647-e85ca4ba84ac\",\"type\":\"Line\"},\"hover_glyph\":null,\"muted_glyph\":null,\"nonselection_glyph\":{\"id\":\"504f31eb-d44a-43f8-bd8d-9a8f7fdc65fd\",\"type\":\"Line\"},\"selection_glyph\":null,\"view\":{\"id\":\"5c1ad54b-645e-4436-a7ea-7b53958fe757\",\"type\":\"CDSView\"}},\"id\":\"1e0fa02e-c045-4332-a8cb-8e9e24f22f3e\",\"type\":\"GlyphRenderer\"},{\"attributes\":{},\"id\":\"8d565f12-cd08-43cc-8040-3465a1992818\",\"type\":\"PanTool\"},{\"attributes\":{\"source\":{\"id\":\"90f563e6-6841-463b-90af-0c9ee6f1754e\",\"type\":\"ColumnDataSource\"}},\"id\":\"5c1ad54b-645e-4436-a7ea-7b53958fe757\",\"type\":\"CDSView\"},{\"attributes\":{},\"id\":\"fe18afdd-3d9c-441f-9995-c1788808fbe7\",\"type\":\"BasicTicker\"},{\"attributes\":{\"line_color\":{\"value\":\"#1f77b4\"},\"line_width\":{\"value\":2},\"x\":{\"field\":\"x\"},\"y\":{\"field\":\"y\"}},\"id\":\"f55668b5-f0ba-43e8-9647-e85ca4ba84ac\",\"type\":\"Line\"},{\"attributes\":{\"formatter\":{\"id\":\"6eb5e647-726d-4d5d-9e6d-2d02d266fe00\",\"type\":\"BasicTickFormatter\"},\"plot\":{\"id\":\"87935fad-c742-41b4-ba87-a351dab567c4\",\"subtype\":\"Figure\",\"type\":\"Plot\"},\"ticker\":{\"id\":\"46cd3de2-f0f6-4871-8ec4-6fcf8c9881fa\",\"type\":\"BasicTicker\"}},\"id\":\"d37a340b-be9f-4a72-bd56-10af70c4d7c2\",\"type\":\"LinearAxis\"},{\"attributes\":{},\"id\":\"46cd3de2-f0f6-4871-8ec4-6fcf8c9881fa\",\"type\":\"BasicTicker\"},{\"attributes\":{},\"id\":\"baa622ad-1349-4b85-9237-91c6f59eb101\",\"type\":\"WheelZoomTool\"},{\"attributes\":{\"fill_color\":{\"value\":\"white\"},\"line_color\":{\"value\":\"#1f77b4\"},\"size\":{\"units\":\"screen\",\"value\":8},\"x\":{\"field\":\"x\"},\"y\":{\"field\":\"y\"}},\"id\":\"3cd9e8ab-5717-41aa-be9a-733ba51109ba\",\"type\":\"Circle\"},{\"attributes\":{},\"id\":\"6eb5e647-726d-4d5d-9e6d-2d02d266fe00\",\"type\":\"BasicTickFormatter\"},{\"attributes\":{},\"id\":\"718ed709-6664-4daf-9887-f2cf271cf723\",\"type\":\"BasicTickFormatter\"},{\"attributes\":{\"callback\":null},\"id\":\"ef7a5712-3afb-42c6-8f11-e22fef53ce1e\",\"type\":\"DataRange1d\"},{\"attributes\":{\"callback\":null,\"column_names\":[\"x\",\"y\"],\"data\":{\"x\":[1,2,3,4,5],\"y\":[6,7,8,7,3]}},\"id\":\"ac021f17-f697-4b92-a5d7-41699eb91d34\",\"type\":\"ColumnDataSource\"}],\"root_ids\":[\"87935fad-c742-41b4-ba87-a351dab567c4\"]},\"title\":\"Bokeh Application\",\"version\":\"0.12.10\"}};\n",
       "    var render_items = [{\"docid\":\"9cb2c6d9-c332-43b2-832e-e51eb68b9fe3\",\"elementid\":\"f0417679-e097-4c87-8453-c2ef6c466fc2\",\"modelid\":\"87935fad-c742-41b4-ba87-a351dab567c4\"}];\n",
       "\n",
       "    root.Bokeh.embed.embed_items(docs_json, render_items);\n",
       "  }\n",
       "\n",
       "  if (root.Bokeh !== undefined) {\n",
       "    embed_document(root);\n",
       "  } else {\n",
       "    var attempts = 0;\n",
       "    var timer = setInterval(function(root) {\n",
       "      if (root.Bokeh !== undefined) {\n",
       "        embed_document(root);\n",
       "        clearInterval(timer);\n",
       "      }\n",
       "      attempts++;\n",
       "      if (attempts > 100) {\n",
       "        console.log(\"Bokeh: ERROR: Unable to embed document because BokehJS library is missing\")\n",
       "        clearInterval(timer);\n",
       "      }\n",
       "    }, 10, root)\n",
       "  }\n",
       "})(window);"
      ],
      "application/vnd.bokehjs_exec.v0+json": ""
     },
     "metadata": {
      "application/vnd.bokehjs_exec.v0+json": {
       "id": "87935fad-c742-41b4-ba87-a351dab567c4"
      }
     },
     "output_type": "display_data"
    }
   ],
   "source": [
    "# set up some data\n",
    "x = [1, 2, 3, 4, 5]\n",
    "y = [6, 7, 8, 7, 3]\n",
    "\n",
    "# create a new plot with figure\n",
    "p = figure(plot_width=400, plot_height=400)\n",
    "\n",
    "# add both a line and circles on the same plot\n",
    "p.line(x, y, line_width=2)\n",
    "p.circle(x, y, fill_color=\"white\", size=8)\n",
    "\n",
    "show(p) # show the results"
   ]
  },
  {
   "cell_type": "code",
   "execution_count": 11,
   "metadata": {
    "collapsed": true
   },
   "outputs": [],
   "source": [
    "# EXERCISE: create your own plot combining multiple glyphs together\n",
    "\n"
   ]
  }
 ],
 "metadata": {
  "anaconda-cloud": {},
  "kernelspec": {
   "display_name": "Python 3",
   "language": "python",
   "name": "python3"
  },
  "language_info": {
   "codemirror_mode": {
    "name": "ipython",
    "version": 3
   },
   "file_extension": ".py",
   "mimetype": "text/x-python",
   "name": "python",
   "nbconvert_exporter": "python",
   "pygments_lexer": "ipython3",
   "version": "3.5.2"
  }
 },
 "nbformat": 4,
 "nbformat_minor": 1
}
