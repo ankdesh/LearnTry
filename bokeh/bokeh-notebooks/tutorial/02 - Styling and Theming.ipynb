{
 "cells": [
  {
   "cell_type": "markdown",
   "metadata": {},
   "source": [
    "<table style=\"float:left; border:none\">\n",
    "   <tr style=\"border:none; background-color: #ffffff\">\n",
    "       <td style=\"border:none\">\n",
    "           <a href=\"http://bokeh.pydata.org/\">     \n",
    "           <img \n",
    "               src=\"assets/bokeh-transparent.png\" \n",
    "               style=\"width:50px\"\n",
    "           >\n",
    "           </a>    \n",
    "       </td>\n",
    "       <td style=\"border:none\">\n",
    "           <h1>Bokeh Tutorial</h1>\n",
    "       </td>\n",
    "   </tr>\n",
    "</table>\n",
    "\n",
    "<div style=\"float:right;\"><h2>02. Styling and Theming</h2></div>"
   ]
  },
  {
   "cell_type": "code",
   "execution_count": 1,
   "metadata": {},
   "outputs": [],
   "source": [
    "from bokeh.io import output_notebook, show\n",
    "from bokeh.plotting import figure"
   ]
  },
  {
   "cell_type": "code",
   "execution_count": 2,
   "metadata": {},
   "outputs": [
    {
     "data": {
      "text/html": [
       "\n",
       "    <div class=\"bk-root\">\n",
       "        <a href=\"https://bokeh.pydata.org\" target=\"_blank\" class=\"bk-logo bk-logo-small bk-logo-notebook\"></a>\n",
       "        <span id=\"23d43990-66aa-45a0-aa5d-eacbe4177dc2\">Loading BokehJS ...</span>\n",
       "    </div>"
      ]
     },
     "metadata": {},
     "output_type": "display_data"
    },
    {
     "data": {
      "application/javascript": [
       "\n",
       "(function(root) {\n",
       "  function now() {\n",
       "    return new Date();\n",
       "  }\n",
       "\n",
       "  var force = true;\n",
       "\n",
       "  if (typeof (root._bokeh_onload_callbacks) === \"undefined\" || force === true) {\n",
       "    root._bokeh_onload_callbacks = [];\n",
       "    root._bokeh_is_loading = undefined;\n",
       "  }\n",
       "\n",
       "  var JS_MIME_TYPE = 'application/javascript';\n",
       "  var HTML_MIME_TYPE = 'text/html';\n",
       "  var EXEC_MIME_TYPE = 'application/vnd.bokehjs_exec.v0+json';\n",
       "  var CLASS_NAME = 'output_bokeh rendered_html';\n",
       "\n",
       "  /**\n",
       "   * Render data to the DOM node\n",
       "   */\n",
       "  function render(props, node) {\n",
       "    var script = document.createElement(\"script\");\n",
       "    node.appendChild(script);\n",
       "  }\n",
       "\n",
       "  /**\n",
       "   * Handle when an output is cleared or removed\n",
       "   */\n",
       "  function handleClearOutput(event, handle) {\n",
       "    var cell = handle.cell;\n",
       "\n",
       "    var id = cell.output_area._bokeh_element_id;\n",
       "    var server_id = cell.output_area._bokeh_server_id;\n",
       "    // Clean up Bokeh references\n",
       "    if (id !== undefined) {\n",
       "      Bokeh.index[id].model.document.clear();\n",
       "      delete Bokeh.index[id];\n",
       "    }\n",
       "\n",
       "    if (server_id !== undefined) {\n",
       "      // Clean up Bokeh references\n",
       "      var cmd = \"from bokeh.io.state import curstate; print(curstate().uuid_to_server['\" + server_id + \"'].get_sessions()[0].document.roots[0]._id)\";\n",
       "      cell.notebook.kernel.execute(cmd, {\n",
       "        iopub: {\n",
       "          output: function(msg) {\n",
       "            var element_id = msg.content.text.trim();\n",
       "            Bokeh.index[element_id].model.document.clear();\n",
       "            delete Bokeh.index[element_id];\n",
       "          }\n",
       "        }\n",
       "      });\n",
       "      // Destroy server and session\n",
       "      var cmd = \"import bokeh.io.notebook as ion; ion.destroy_server('\" + server_id + \"')\";\n",
       "      cell.notebook.kernel.execute(cmd);\n",
       "    }\n",
       "  }\n",
       "\n",
       "  /**\n",
       "   * Handle when a new output is added\n",
       "   */\n",
       "  function handleAddOutput(event, handle) {\n",
       "    var output_area = handle.output_area;\n",
       "    var output = handle.output;\n",
       "\n",
       "    // limit handleAddOutput to display_data with EXEC_MIME_TYPE content only\n",
       "    if ((output.output_type != \"display_data\") || (!output.data.hasOwnProperty(EXEC_MIME_TYPE))) {\n",
       "      return\n",
       "    }\n",
       "\n",
       "    var toinsert = output_area.element.find(`.${CLASS_NAME.split(' ')[0]}`);\n",
       "\n",
       "    if (output.metadata[EXEC_MIME_TYPE][\"id\"] !== undefined) {\n",
       "      toinsert[0].firstChild.textContent = output.data[JS_MIME_TYPE];\n",
       "      // store reference to embed id on output_area\n",
       "      output_area._bokeh_element_id = output.metadata[EXEC_MIME_TYPE][\"id\"];\n",
       "    }\n",
       "    if (output.metadata[EXEC_MIME_TYPE][\"server_id\"] !== undefined) {\n",
       "      var bk_div = document.createElement(\"div\");\n",
       "      bk_div.innerHTML = output.data[HTML_MIME_TYPE];\n",
       "      var script_attrs = bk_div.children[0].attributes;\n",
       "      for (var i = 0; i < script_attrs.length; i++) {\n",
       "        toinsert[0].firstChild.setAttribute(script_attrs[i].name, script_attrs[i].value);\n",
       "      }\n",
       "      // store reference to server id on output_area\n",
       "      output_area._bokeh_server_id = output.metadata[EXEC_MIME_TYPE][\"server_id\"];\n",
       "    }\n",
       "  }\n",
       "\n",
       "  function register_renderer(events, OutputArea) {\n",
       "\n",
       "    function append_mime(data, metadata, element) {\n",
       "      // create a DOM node to render to\n",
       "      var toinsert = this.create_output_subarea(\n",
       "        metadata,\n",
       "        CLASS_NAME,\n",
       "        EXEC_MIME_TYPE\n",
       "      );\n",
       "      this.keyboard_manager.register_events(toinsert);\n",
       "      // Render to node\n",
       "      var props = {data: data, metadata: metadata[EXEC_MIME_TYPE]};\n",
       "      render(props, toinsert[0]);\n",
       "      element.append(toinsert);\n",
       "      return toinsert\n",
       "    }\n",
       "\n",
       "    /* Handle when an output is cleared or removed */\n",
       "    events.on('clear_output.CodeCell', handleClearOutput);\n",
       "    events.on('delete.Cell', handleClearOutput);\n",
       "\n",
       "    /* Handle when a new output is added */\n",
       "    events.on('output_added.OutputArea', handleAddOutput);\n",
       "\n",
       "    /**\n",
       "     * Register the mime type and append_mime function with output_area\n",
       "     */\n",
       "    OutputArea.prototype.register_mime_type(EXEC_MIME_TYPE, append_mime, {\n",
       "      /* Is output safe? */\n",
       "      safe: true,\n",
       "      /* Index of renderer in `output_area.display_order` */\n",
       "      index: 0\n",
       "    });\n",
       "  }\n",
       "\n",
       "  // register the mime type if in Jupyter Notebook environment and previously unregistered\n",
       "  if (root.Jupyter !== undefined) {\n",
       "    var events = require('base/js/events');\n",
       "    var OutputArea = require('notebook/js/outputarea').OutputArea;\n",
       "\n",
       "    if (OutputArea.prototype.mime_types().indexOf(EXEC_MIME_TYPE) == -1) {\n",
       "      register_renderer(events, OutputArea);\n",
       "    }\n",
       "  }\n",
       "\n",
       "  \n",
       "  if (typeof (root._bokeh_timeout) === \"undefined\" || force === true) {\n",
       "    root._bokeh_timeout = Date.now() + 5000;\n",
       "    root._bokeh_failed_load = false;\n",
       "  }\n",
       "\n",
       "  var NB_LOAD_WARNING = {'data': {'text/html':\n",
       "     \"<div style='background-color: #fdd'>\\n\"+\n",
       "     \"<p>\\n\"+\n",
       "     \"BokehJS does not appear to have successfully loaded. If loading BokehJS from CDN, this \\n\"+\n",
       "     \"may be due to a slow or bad network connection. Possible fixes:\\n\"+\n",
       "     \"</p>\\n\"+\n",
       "     \"<ul>\\n\"+\n",
       "     \"<li>re-rerun `output_notebook()` to attempt to load from CDN again, or</li>\\n\"+\n",
       "     \"<li>use INLINE resources instead, as so:</li>\\n\"+\n",
       "     \"</ul>\\n\"+\n",
       "     \"<code>\\n\"+\n",
       "     \"from bokeh.resources import INLINE\\n\"+\n",
       "     \"output_notebook(resources=INLINE)\\n\"+\n",
       "     \"</code>\\n\"+\n",
       "     \"</div>\"}};\n",
       "\n",
       "  function display_loaded() {\n",
       "    var el = document.getElementById(\"23d43990-66aa-45a0-aa5d-eacbe4177dc2\");\n",
       "    if (el != null) {\n",
       "      el.textContent = \"BokehJS is loading...\";\n",
       "    }\n",
       "    if (root.Bokeh !== undefined) {\n",
       "      if (el != null) {\n",
       "        el.textContent = \"BokehJS \" + root.Bokeh.version + \" successfully loaded.\";\n",
       "      }\n",
       "    } else if (Date.now() < root._bokeh_timeout) {\n",
       "      setTimeout(display_loaded, 100)\n",
       "    }\n",
       "  }\n",
       "\n",
       "\n",
       "  function run_callbacks() {\n",
       "    try {\n",
       "      root._bokeh_onload_callbacks.forEach(function(callback) { callback() });\n",
       "    }\n",
       "    finally {\n",
       "      delete root._bokeh_onload_callbacks\n",
       "    }\n",
       "    console.info(\"Bokeh: all callbacks have finished\");\n",
       "  }\n",
       "\n",
       "  function load_libs(js_urls, callback) {\n",
       "    root._bokeh_onload_callbacks.push(callback);\n",
       "    if (root._bokeh_is_loading > 0) {\n",
       "      console.log(\"Bokeh: BokehJS is being loaded, scheduling callback at\", now());\n",
       "      return null;\n",
       "    }\n",
       "    if (js_urls == null || js_urls.length === 0) {\n",
       "      run_callbacks();\n",
       "      return null;\n",
       "    }\n",
       "    console.log(\"Bokeh: BokehJS not loaded, scheduling load and callback at\", now());\n",
       "    root._bokeh_is_loading = js_urls.length;\n",
       "    for (var i = 0; i < js_urls.length; i++) {\n",
       "      var url = js_urls[i];\n",
       "      var s = document.createElement('script');\n",
       "      s.src = url;\n",
       "      s.async = false;\n",
       "      s.onreadystatechange = s.onload = function() {\n",
       "        root._bokeh_is_loading--;\n",
       "        if (root._bokeh_is_loading === 0) {\n",
       "          console.log(\"Bokeh: all BokehJS libraries loaded\");\n",
       "          run_callbacks()\n",
       "        }\n",
       "      };\n",
       "      s.onerror = function() {\n",
       "        console.warn(\"failed to load library \" + url);\n",
       "      };\n",
       "      console.log(\"Bokeh: injecting script tag for BokehJS library: \", url);\n",
       "      document.getElementsByTagName(\"head\")[0].appendChild(s);\n",
       "    }\n",
       "  };var element = document.getElementById(\"23d43990-66aa-45a0-aa5d-eacbe4177dc2\");\n",
       "  if (element == null) {\n",
       "    console.log(\"Bokeh: ERROR: autoload.js configured with elementid '23d43990-66aa-45a0-aa5d-eacbe4177dc2' but no matching script tag was found. \")\n",
       "    return false;\n",
       "  }\n",
       "\n",
       "  var js_urls = [\"https://cdn.pydata.org/bokeh/release/bokeh-0.12.10.min.js\", \"https://cdn.pydata.org/bokeh/release/bokeh-widgets-0.12.10.min.js\", \"https://cdn.pydata.org/bokeh/release/bokeh-tables-0.12.10.min.js\", \"https://cdn.pydata.org/bokeh/release/bokeh-gl-0.12.10.min.js\"];\n",
       "\n",
       "  var inline_js = [\n",
       "    function(Bokeh) {\n",
       "      Bokeh.set_log_level(\"info\");\n",
       "    },\n",
       "    \n",
       "    function(Bokeh) {\n",
       "      \n",
       "    },\n",
       "    function(Bokeh) {\n",
       "      console.log(\"Bokeh: injecting CSS: https://cdn.pydata.org/bokeh/release/bokeh-0.12.10.min.css\");\n",
       "      Bokeh.embed.inject_css(\"https://cdn.pydata.org/bokeh/release/bokeh-0.12.10.min.css\");\n",
       "      console.log(\"Bokeh: injecting CSS: https://cdn.pydata.org/bokeh/release/bokeh-widgets-0.12.10.min.css\");\n",
       "      Bokeh.embed.inject_css(\"https://cdn.pydata.org/bokeh/release/bokeh-widgets-0.12.10.min.css\");\n",
       "      console.log(\"Bokeh: injecting CSS: https://cdn.pydata.org/bokeh/release/bokeh-tables-0.12.10.min.css\");\n",
       "      Bokeh.embed.inject_css(\"https://cdn.pydata.org/bokeh/release/bokeh-tables-0.12.10.min.css\");\n",
       "    }\n",
       "  ];\n",
       "\n",
       "  function run_inline_js() {\n",
       "    \n",
       "    if ((root.Bokeh !== undefined) || (force === true)) {\n",
       "      for (var i = 0; i < inline_js.length; i++) {\n",
       "        inline_js[i].call(root, root.Bokeh);\n",
       "      }if (force === true) {\n",
       "        display_loaded();\n",
       "      }} else if (Date.now() < root._bokeh_timeout) {\n",
       "      setTimeout(run_inline_js, 100);\n",
       "    } else if (!root._bokeh_failed_load) {\n",
       "      console.log(\"Bokeh: BokehJS failed to load within specified timeout.\");\n",
       "      root._bokeh_failed_load = true;\n",
       "    } else if (force !== true) {\n",
       "      var cell = $(document.getElementById(\"23d43990-66aa-45a0-aa5d-eacbe4177dc2\")).parents('.cell').data().cell;\n",
       "      cell.output_area.append_execute_result(NB_LOAD_WARNING)\n",
       "    }\n",
       "\n",
       "  }\n",
       "\n",
       "  if (root._bokeh_is_loading === 0) {\n",
       "    console.log(\"Bokeh: BokehJS loaded, going straight to plotting\");\n",
       "    run_inline_js();\n",
       "  } else {\n",
       "    load_libs(js_urls, function() {\n",
       "      console.log(\"Bokeh: BokehJS plotting callback run at\", now());\n",
       "      run_inline_js();\n",
       "    });\n",
       "  }\n",
       "}(window));"
      ],
      "application/vnd.bokehjs_load.v0+json": "\n(function(root) {\n  function now() {\n    return new Date();\n  }\n\n  var force = true;\n\n  if (typeof (root._bokeh_onload_callbacks) === \"undefined\" || force === true) {\n    root._bokeh_onload_callbacks = [];\n    root._bokeh_is_loading = undefined;\n  }\n\n  \n\n  \n  if (typeof (root._bokeh_timeout) === \"undefined\" || force === true) {\n    root._bokeh_timeout = Date.now() + 5000;\n    root._bokeh_failed_load = false;\n  }\n\n  var NB_LOAD_WARNING = {'data': {'text/html':\n     \"<div style='background-color: #fdd'>\\n\"+\n     \"<p>\\n\"+\n     \"BokehJS does not appear to have successfully loaded. If loading BokehJS from CDN, this \\n\"+\n     \"may be due to a slow or bad network connection. Possible fixes:\\n\"+\n     \"</p>\\n\"+\n     \"<ul>\\n\"+\n     \"<li>re-rerun `output_notebook()` to attempt to load from CDN again, or</li>\\n\"+\n     \"<li>use INLINE resources instead, as so:</li>\\n\"+\n     \"</ul>\\n\"+\n     \"<code>\\n\"+\n     \"from bokeh.resources import INLINE\\n\"+\n     \"output_notebook(resources=INLINE)\\n\"+\n     \"</code>\\n\"+\n     \"</div>\"}};\n\n  function display_loaded() {\n    var el = document.getElementById(\"23d43990-66aa-45a0-aa5d-eacbe4177dc2\");\n    if (el != null) {\n      el.textContent = \"BokehJS is loading...\";\n    }\n    if (root.Bokeh !== undefined) {\n      if (el != null) {\n        el.textContent = \"BokehJS \" + root.Bokeh.version + \" successfully loaded.\";\n      }\n    } else if (Date.now() < root._bokeh_timeout) {\n      setTimeout(display_loaded, 100)\n    }\n  }\n\n\n  function run_callbacks() {\n    try {\n      root._bokeh_onload_callbacks.forEach(function(callback) { callback() });\n    }\n    finally {\n      delete root._bokeh_onload_callbacks\n    }\n    console.info(\"Bokeh: all callbacks have finished\");\n  }\n\n  function load_libs(js_urls, callback) {\n    root._bokeh_onload_callbacks.push(callback);\n    if (root._bokeh_is_loading > 0) {\n      console.log(\"Bokeh: BokehJS is being loaded, scheduling callback at\", now());\n      return null;\n    }\n    if (js_urls == null || js_urls.length === 0) {\n      run_callbacks();\n      return null;\n    }\n    console.log(\"Bokeh: BokehJS not loaded, scheduling load and callback at\", now());\n    root._bokeh_is_loading = js_urls.length;\n    for (var i = 0; i < js_urls.length; i++) {\n      var url = js_urls[i];\n      var s = document.createElement('script');\n      s.src = url;\n      s.async = false;\n      s.onreadystatechange = s.onload = function() {\n        root._bokeh_is_loading--;\n        if (root._bokeh_is_loading === 0) {\n          console.log(\"Bokeh: all BokehJS libraries loaded\");\n          run_callbacks()\n        }\n      };\n      s.onerror = function() {\n        console.warn(\"failed to load library \" + url);\n      };\n      console.log(\"Bokeh: injecting script tag for BokehJS library: \", url);\n      document.getElementsByTagName(\"head\")[0].appendChild(s);\n    }\n  };var element = document.getElementById(\"23d43990-66aa-45a0-aa5d-eacbe4177dc2\");\n  if (element == null) {\n    console.log(\"Bokeh: ERROR: autoload.js configured with elementid '23d43990-66aa-45a0-aa5d-eacbe4177dc2' but no matching script tag was found. \")\n    return false;\n  }\n\n  var js_urls = [\"https://cdn.pydata.org/bokeh/release/bokeh-0.12.10.min.js\", \"https://cdn.pydata.org/bokeh/release/bokeh-widgets-0.12.10.min.js\", \"https://cdn.pydata.org/bokeh/release/bokeh-tables-0.12.10.min.js\", \"https://cdn.pydata.org/bokeh/release/bokeh-gl-0.12.10.min.js\"];\n\n  var inline_js = [\n    function(Bokeh) {\n      Bokeh.set_log_level(\"info\");\n    },\n    \n    function(Bokeh) {\n      \n    },\n    function(Bokeh) {\n      console.log(\"Bokeh: injecting CSS: https://cdn.pydata.org/bokeh/release/bokeh-0.12.10.min.css\");\n      Bokeh.embed.inject_css(\"https://cdn.pydata.org/bokeh/release/bokeh-0.12.10.min.css\");\n      console.log(\"Bokeh: injecting CSS: https://cdn.pydata.org/bokeh/release/bokeh-widgets-0.12.10.min.css\");\n      Bokeh.embed.inject_css(\"https://cdn.pydata.org/bokeh/release/bokeh-widgets-0.12.10.min.css\");\n      console.log(\"Bokeh: injecting CSS: https://cdn.pydata.org/bokeh/release/bokeh-tables-0.12.10.min.css\");\n      Bokeh.embed.inject_css(\"https://cdn.pydata.org/bokeh/release/bokeh-tables-0.12.10.min.css\");\n    }\n  ];\n\n  function run_inline_js() {\n    \n    if ((root.Bokeh !== undefined) || (force === true)) {\n      for (var i = 0; i < inline_js.length; i++) {\n        inline_js[i].call(root, root.Bokeh);\n      }if (force === true) {\n        display_loaded();\n      }} else if (Date.now() < root._bokeh_timeout) {\n      setTimeout(run_inline_js, 100);\n    } else if (!root._bokeh_failed_load) {\n      console.log(\"Bokeh: BokehJS failed to load within specified timeout.\");\n      root._bokeh_failed_load = true;\n    } else if (force !== true) {\n      var cell = $(document.getElementById(\"23d43990-66aa-45a0-aa5d-eacbe4177dc2\")).parents('.cell').data().cell;\n      cell.output_area.append_execute_result(NB_LOAD_WARNING)\n    }\n\n  }\n\n  if (root._bokeh_is_loading === 0) {\n    console.log(\"Bokeh: BokehJS loaded, going straight to plotting\");\n    run_inline_js();\n  } else {\n    load_libs(js_urls, function() {\n      console.log(\"Bokeh: BokehJS plotting callback run at\", now());\n      run_inline_js();\n    });\n  }\n}(window));"
     },
     "metadata": {},
     "output_type": "display_data"
    }
   ],
   "source": [
    "output_notebook()"
   ]
  },
  {
   "cell_type": "markdown",
   "metadata": {},
   "source": [
    "# Colors and Properties"
   ]
  },
  {
   "cell_type": "markdown",
   "metadata": {},
   "source": [
    "## Colors\n",
    "\n",
    "There are many places where you may need to specify colors. Bokeh can accept colors in a variety of different ways:\n",
    "\n",
    "* any of the [147 named CSS colors](http://www.w3schools.com/cssref/css_colornames.asp), e.g ``'green'``, ``'indigo'``\n",
    "* an RGB(A) hex value, e.g., ``'#FF0000'``, ``'#44444444'``\n",
    "* a 3-tuple of integers *(r,g,b)* between 0 and 255\n",
    "*  a 4-tuple of *(r,g,b,a)* where *r*, *g*, *b* are integers between 0 and 255 and *a* is a floating point value between 0 and 1\n",
    "\n"
   ]
  },
  {
   "cell_type": "markdown",
   "metadata": {
    "collapsed": true
   },
   "source": [
    "## Properties\n",
    "\n",
    "Regardless of what API (``models``, ``plotting``, or ``charts``) is used to create a Bokeh plot, styling the visual aspects of the plot can always be accomplished by setting attributes on the Bokeh model objects that comprise the resulting plot. Visual properties come in three kinds: line, fill, and text properties. For full information with code and examples see the [Styling Visual Properties](http://bokeh.pydata.org/en/latest/docs/user_guide/styling.html) section of the user guide. \n",
    "\n",
    "----\n",
    "\n",
    "### Line Properties\n",
    "\n",
    "Set the visual appearance of lines. The most common are ``line_color``, ``line_alpha``, ``line_width`` and ``line_dash``.\n",
    "\n",
    "### Fill Properties\n",
    "\n",
    "Set the visual appearance of filled areas: ``fill_color`` and ``fill_alpha``.\n",
    "\n",
    "### Text Properties\n",
    "\n",
    "Set the visual appearance of lines of text. The most common are ``text_font``, ``text_font_size``, ``text_color``, and ``text_alpha``.\n",
    "\n",
    "----\n",
    "\n",
    "Sometimes a prefix is used with property names, e.g. to distinguish between different line properties on the same object, or to give a more meaningful name. For example, to set the line width of the plot outline, you would say ``myplot.outline_line_width = 2``. "
   ]
  },
  {
   "cell_type": "markdown",
   "metadata": {},
   "source": [
    "# Plots\n",
    "\n",
    "Many top-level attributes of plots (outline, border, etc.) can be configured. See the [Plots](http://bokeh.pydata.org/en/latest/docs/user_guide/styling.html#plots) section of the styling guide for full information. \n",
    "\n",
    "Here is an example that tweaks the plot outline:"
   ]
  },
  {
   "cell_type": "code",
   "execution_count": 3,
   "metadata": {
    "scrolled": false
   },
   "outputs": [
    {
     "data": {
      "text/html": [
       "\n",
       "<div class=\"bk-root\">\n",
       "    <div class=\"bk-plotdiv\" id=\"5def4755-b641-4364-bc5b-e4e79f843e8a\"></div>\n",
       "</div>"
      ]
     },
     "metadata": {},
     "output_type": "display_data"
    },
    {
     "data": {
      "application/javascript": [
       "(function(root) {\n",
       "  function embed_document(root) {\n",
       "    var docs_json = {\"4a531e1e-10e9-4ee6-89e4-49aeca95c5c4\":{\"roots\":{\"references\":[{\"attributes\":{\"active_drag\":\"auto\",\"active_inspect\":\"auto\",\"active_scroll\":\"auto\",\"active_tap\":\"auto\",\"tools\":[{\"id\":\"4688c070-bc17-4ca7-ba96-5d463f233f33\",\"type\":\"PanTool\"},{\"id\":\"f6727bd2-1bb2-4f8c-ad55-10af2da5ea27\",\"type\":\"WheelZoomTool\"},{\"id\":\"03cdafb2-69ea-4f83-b215-4312aeb8f22a\",\"type\":\"BoxZoomTool\"},{\"id\":\"b5c1ae75-3b6b-4b87-a78c-23ef2573f425\",\"type\":\"SaveTool\"},{\"id\":\"ef2ec968-f58d-4929-adfe-677346f10d5f\",\"type\":\"ResetTool\"},{\"id\":\"636bfcd3-7bed-4f3b-8391-c85e32395b61\",\"type\":\"HelpTool\"}]},\"id\":\"d82b0270-0694-4dca-83af-79ab5032c08c\",\"type\":\"Toolbar\"},{\"attributes\":{},\"id\":\"38c4dcdc-3352-4589-84c0-773673de4ff0\",\"type\":\"LinearScale\"},{\"attributes\":{},\"id\":\"1788d4f6-c49c-412a-a8ee-cec118b07021\",\"type\":\"BasicTicker\"},{\"attributes\":{},\"id\":\"b5c1ae75-3b6b-4b87-a78c-23ef2573f425\",\"type\":\"SaveTool\"},{\"attributes\":{\"callback\":null},\"id\":\"6a05f7e8-21c6-4465-81a4-6a16b06086a1\",\"type\":\"DataRange1d\"},{\"attributes\":{},\"id\":\"f53d9c94-8f1c-40e2-b945-cae0e6de4d73\",\"type\":\"LinearScale\"},{\"attributes\":{\"fill_color\":{\"value\":\"#1f77b4\"},\"line_color\":{\"value\":\"#1f77b4\"},\"size\":{\"units\":\"screen\",\"value\":10},\"x\":{\"field\":\"x\"},\"y\":{\"field\":\"y\"}},\"id\":\"98f7f7ac-c58f-4847-928f-a6ba4088e7d1\",\"type\":\"Circle\"},{\"attributes\":{},\"id\":\"636bfcd3-7bed-4f3b-8391-c85e32395b61\",\"type\":\"HelpTool\"},{\"attributes\":{\"callback\":null},\"id\":\"f84139c8-9a40-4ac6-bc7b-b7e90161711d\",\"type\":\"DataRange1d\"},{\"attributes\":{\"source\":{\"id\":\"dbabd569-914f-464b-bf9f-fcabf9b66b21\",\"type\":\"ColumnDataSource\"}},\"id\":\"c8c4088c-6fd4-42c4-b0b2-f016e2a804d3\",\"type\":\"CDSView\"},{\"attributes\":{},\"id\":\"4cc75b4f-7ceb-4ab1-95f8-266a2e4c1f41\",\"type\":\"BasicTickFormatter\"},{\"attributes\":{\"bottom_units\":\"screen\",\"fill_alpha\":{\"value\":0.5},\"fill_color\":{\"value\":\"lightgrey\"},\"left_units\":\"screen\",\"level\":\"overlay\",\"line_alpha\":{\"value\":1.0},\"line_color\":{\"value\":\"black\"},\"line_dash\":[4,4],\"line_width\":{\"value\":2},\"plot\":null,\"render_mode\":\"css\",\"right_units\":\"screen\",\"top_units\":\"screen\"},\"id\":\"a35ce697-ccdd-4418-9a6e-39e931f64965\",\"type\":\"BoxAnnotation\"},{\"attributes\":{\"dimension\":1,\"plot\":{\"id\":\"0212c1e5-3494-45d6-bb90-8bec0e8c2245\",\"subtype\":\"Figure\",\"type\":\"Plot\"},\"ticker\":{\"id\":\"efb0196f-1fa2-4c1e-8313-28fcbc401abc\",\"type\":\"BasicTicker\"}},\"id\":\"cae5818d-2d3a-4162-8f7b-be8e402cb797\",\"type\":\"Grid\"},{\"attributes\":{\"formatter\":{\"id\":\"4cc75b4f-7ceb-4ab1-95f8-266a2e4c1f41\",\"type\":\"BasicTickFormatter\"},\"plot\":{\"id\":\"0212c1e5-3494-45d6-bb90-8bec0e8c2245\",\"subtype\":\"Figure\",\"type\":\"Plot\"},\"ticker\":{\"id\":\"1788d4f6-c49c-412a-a8ee-cec118b07021\",\"type\":\"BasicTicker\"}},\"id\":\"fa606d6a-5ae1-4a4b-9635-e98c94a9926f\",\"type\":\"LinearAxis\"},{\"attributes\":{},\"id\":\"4688c070-bc17-4ca7-ba96-5d463f233f33\",\"type\":\"PanTool\"},{\"attributes\":{\"overlay\":{\"id\":\"a35ce697-ccdd-4418-9a6e-39e931f64965\",\"type\":\"BoxAnnotation\"}},\"id\":\"03cdafb2-69ea-4f83-b215-4312aeb8f22a\",\"type\":\"BoxZoomTool\"},{\"attributes\":{},\"id\":\"ef2ec968-f58d-4929-adfe-677346f10d5f\",\"type\":\"ResetTool\"},{\"attributes\":{},\"id\":\"5cad3c3b-0db1-400d-a042-648db3f4150c\",\"type\":\"BasicTickFormatter\"},{\"attributes\":{\"plot\":null,\"text\":\"\"},\"id\":\"f7ac9427-8d16-4116-bf8b-f66f52ad5aa7\",\"type\":\"Title\"},{\"attributes\":{\"callback\":null,\"column_names\":[\"y\",\"x\"],\"data\":{\"x\":[1,2,3,4,5],\"y\":[2,5,8,2,7]}},\"id\":\"dbabd569-914f-464b-bf9f-fcabf9b66b21\",\"type\":\"ColumnDataSource\"},{\"attributes\":{\"data_source\":{\"id\":\"dbabd569-914f-464b-bf9f-fcabf9b66b21\",\"type\":\"ColumnDataSource\"},\"glyph\":{\"id\":\"98f7f7ac-c58f-4847-928f-a6ba4088e7d1\",\"type\":\"Circle\"},\"hover_glyph\":null,\"muted_glyph\":null,\"nonselection_glyph\":{\"id\":\"2fe87ed0-96ed-4ba0-82dd-f995823719f0\",\"type\":\"Circle\"},\"selection_glyph\":null,\"view\":{\"id\":\"c8c4088c-6fd4-42c4-b0b2-f016e2a804d3\",\"type\":\"CDSView\"}},\"id\":\"3f678c18-13eb-49bf-8fe9-f3cb4b1dad8b\",\"type\":\"GlyphRenderer\"},{\"attributes\":{\"fill_alpha\":{\"value\":0.1},\"fill_color\":{\"value\":\"#1f77b4\"},\"line_alpha\":{\"value\":0.1},\"line_color\":{\"value\":\"#1f77b4\"},\"size\":{\"units\":\"screen\",\"value\":10},\"x\":{\"field\":\"x\"},\"y\":{\"field\":\"y\"}},\"id\":\"2fe87ed0-96ed-4ba0-82dd-f995823719f0\",\"type\":\"Circle\"},{\"attributes\":{\"plot\":{\"id\":\"0212c1e5-3494-45d6-bb90-8bec0e8c2245\",\"subtype\":\"Figure\",\"type\":\"Plot\"},\"ticker\":{\"id\":\"1788d4f6-c49c-412a-a8ee-cec118b07021\",\"type\":\"BasicTicker\"}},\"id\":\"7d648dcf-5847-4316-8b85-d79688d0f56e\",\"type\":\"Grid\"},{\"attributes\":{\"below\":[{\"id\":\"fa606d6a-5ae1-4a4b-9635-e98c94a9926f\",\"type\":\"LinearAxis\"}],\"left\":[{\"id\":\"ab82627c-6c9b-47c7-bf0f-3d9faa37fe2e\",\"type\":\"LinearAxis\"}],\"outline_line_alpha\":{\"value\":0.3},\"outline_line_color\":{\"value\":\"navy\"},\"outline_line_width\":{\"value\":7},\"plot_height\":400,\"plot_width\":400,\"renderers\":[{\"id\":\"fa606d6a-5ae1-4a4b-9635-e98c94a9926f\",\"type\":\"LinearAxis\"},{\"id\":\"7d648dcf-5847-4316-8b85-d79688d0f56e\",\"type\":\"Grid\"},{\"id\":\"ab82627c-6c9b-47c7-bf0f-3d9faa37fe2e\",\"type\":\"LinearAxis\"},{\"id\":\"cae5818d-2d3a-4162-8f7b-be8e402cb797\",\"type\":\"Grid\"},{\"id\":\"a35ce697-ccdd-4418-9a6e-39e931f64965\",\"type\":\"BoxAnnotation\"},{\"id\":\"3f678c18-13eb-49bf-8fe9-f3cb4b1dad8b\",\"type\":\"GlyphRenderer\"}],\"title\":{\"id\":\"f7ac9427-8d16-4116-bf8b-f66f52ad5aa7\",\"type\":\"Title\"},\"toolbar\":{\"id\":\"d82b0270-0694-4dca-83af-79ab5032c08c\",\"type\":\"Toolbar\"},\"x_range\":{\"id\":\"f84139c8-9a40-4ac6-bc7b-b7e90161711d\",\"type\":\"DataRange1d\"},\"x_scale\":{\"id\":\"f53d9c94-8f1c-40e2-b945-cae0e6de4d73\",\"type\":\"LinearScale\"},\"y_range\":{\"id\":\"6a05f7e8-21c6-4465-81a4-6a16b06086a1\",\"type\":\"DataRange1d\"},\"y_scale\":{\"id\":\"38c4dcdc-3352-4589-84c0-773673de4ff0\",\"type\":\"LinearScale\"}},\"id\":\"0212c1e5-3494-45d6-bb90-8bec0e8c2245\",\"subtype\":\"Figure\",\"type\":\"Plot\"},{\"attributes\":{},\"id\":\"efb0196f-1fa2-4c1e-8313-28fcbc401abc\",\"type\":\"BasicTicker\"},{\"attributes\":{\"formatter\":{\"id\":\"5cad3c3b-0db1-400d-a042-648db3f4150c\",\"type\":\"BasicTickFormatter\"},\"plot\":{\"id\":\"0212c1e5-3494-45d6-bb90-8bec0e8c2245\",\"subtype\":\"Figure\",\"type\":\"Plot\"},\"ticker\":{\"id\":\"efb0196f-1fa2-4c1e-8313-28fcbc401abc\",\"type\":\"BasicTicker\"}},\"id\":\"ab82627c-6c9b-47c7-bf0f-3d9faa37fe2e\",\"type\":\"LinearAxis\"},{\"attributes\":{},\"id\":\"f6727bd2-1bb2-4f8c-ad55-10af2da5ea27\",\"type\":\"WheelZoomTool\"}],\"root_ids\":[\"0212c1e5-3494-45d6-bb90-8bec0e8c2245\"]},\"title\":\"Bokeh Application\",\"version\":\"0.12.10\"}};\n",
       "    var render_items = [{\"docid\":\"4a531e1e-10e9-4ee6-89e4-49aeca95c5c4\",\"elementid\":\"5def4755-b641-4364-bc5b-e4e79f843e8a\",\"modelid\":\"0212c1e5-3494-45d6-bb90-8bec0e8c2245\"}];\n",
       "\n",
       "    root.Bokeh.embed.embed_items(docs_json, render_items);\n",
       "  }\n",
       "\n",
       "  if (root.Bokeh !== undefined) {\n",
       "    embed_document(root);\n",
       "  } else {\n",
       "    var attempts = 0;\n",
       "    var timer = setInterval(function(root) {\n",
       "      if (root.Bokeh !== undefined) {\n",
       "        embed_document(root);\n",
       "        clearInterval(timer);\n",
       "      }\n",
       "      attempts++;\n",
       "      if (attempts > 100) {\n",
       "        console.log(\"Bokeh: ERROR: Unable to embed document because BokehJS library is missing\")\n",
       "        clearInterval(timer);\n",
       "      }\n",
       "    }, 10, root)\n",
       "  }\n",
       "})(window);"
      ],
      "application/vnd.bokehjs_exec.v0+json": ""
     },
     "metadata": {
      "application/vnd.bokehjs_exec.v0+json": {
       "id": "0212c1e5-3494-45d6-bb90-8bec0e8c2245"
      }
     },
     "output_type": "display_data"
    }
   ],
   "source": [
    "# create a new plot with a title\n",
    "p = figure(plot_width=400, plot_height=400)\n",
    "p.outline_line_width = 7\n",
    "p.outline_line_alpha = 0.3\n",
    "p.outline_line_color = \"navy\"\n",
    "\n",
    "p.circle([1,2,3,4,5], [2,5,8,2,7], size=10)\n",
    "\n",
    "show(p)"
   ]
  },
  {
   "cell_type": "code",
   "execution_count": 4,
   "metadata": {},
   "outputs": [],
   "source": [
    "# EXERCISE Create a plot of your own and customize several plot-level properties\n"
   ]
  },
  {
   "cell_type": "markdown",
   "metadata": {},
   "source": [
    "# Glyphs\n",
    "\n",
    "It's also possible to style the visual properties of glyphs. When using `bokeh.plotting` this is often done when calling the glyph methods:\n",
    "```python\n",
    "p.circle(line_color=\"red\", fill_alpha=0.2, ...)\n",
    "```\n",
    "But it is also possible to set these properties directly on glyph objects. Glyph objects are found on `GlyphRenderer` objects, which are returned by the `Plot.add_glyph` and `bokeh.plotting` glyph methods like `circle`, `rect`, etc. Let's look at an example:"
   ]
  },
  {
   "cell_type": "code",
   "execution_count": 5,
   "metadata": {},
   "outputs": [
    {
     "data": {
      "text/html": [
       "\n",
       "<div class=\"bk-root\">\n",
       "    <div class=\"bk-plotdiv\" id=\"ffd1a8a7-1d4e-4ea0-ac4b-1ae337d1a3d8\"></div>\n",
       "</div>"
      ]
     },
     "metadata": {},
     "output_type": "display_data"
    },
    {
     "data": {
      "application/javascript": [
       "(function(root) {\n",
       "  function embed_document(root) {\n",
       "    var docs_json = {\"19fecf08-891c-4b47-bdda-74725c37e725\":{\"roots\":{\"references\":[{\"attributes\":{\"below\":[{\"id\":\"2c95768d-66b0-404a-8198-f66eb9f6dc0e\",\"type\":\"LinearAxis\"}],\"left\":[{\"id\":\"4219744c-5459-4074-87bc-fc6681bc854b\",\"type\":\"LinearAxis\"}],\"plot_height\":400,\"plot_width\":400,\"renderers\":[{\"id\":\"2c95768d-66b0-404a-8198-f66eb9f6dc0e\",\"type\":\"LinearAxis\"},{\"id\":\"5e1b552e-f8c7-491f-9832-da358ec4a314\",\"type\":\"Grid\"},{\"id\":\"4219744c-5459-4074-87bc-fc6681bc854b\",\"type\":\"LinearAxis\"},{\"id\":\"f3ab8352-a1f3-4a8c-bca6-1898cac2af3f\",\"type\":\"Grid\"},{\"id\":\"35947fc0-a9e6-418d-a87b-77ddda65362e\",\"type\":\"BoxAnnotation\"},{\"id\":\"d68a8566-60e0-4090-9038-516389d01b90\",\"type\":\"GlyphRenderer\"}],\"title\":{\"id\":\"b5fff3d0-3305-4902-b88b-acb4c7cde654\",\"type\":\"Title\"},\"toolbar\":{\"id\":\"655c7dd6-7a1f-4886-a8a4-5bdba5b33e83\",\"type\":\"Toolbar\"},\"x_range\":{\"id\":\"29ad4441-75bb-49ce-9454-22f790a5ba08\",\"type\":\"DataRange1d\"},\"x_scale\":{\"id\":\"31aa0f12-78c4-41a8-a4a5-ae5f52efcb15\",\"type\":\"LinearScale\"},\"y_range\":{\"id\":\"4647d907-5942-4753-af19-289c4d00a58e\",\"type\":\"DataRange1d\"},\"y_scale\":{\"id\":\"b14c8863-cb98-4f26-87da-93d06773a59f\",\"type\":\"LinearScale\"}},\"id\":\"55bf5332-1e7b-45dd-89aa-186a71d98ee9\",\"subtype\":\"Figure\",\"type\":\"Plot\"},{\"attributes\":{\"overlay\":{\"id\":\"35947fc0-a9e6-418d-a87b-77ddda65362e\",\"type\":\"BoxAnnotation\"}},\"id\":\"dca51066-053c-4429-b051-a8275579bf79\",\"type\":\"BoxZoomTool\"},{\"attributes\":{\"fill_alpha\":{\"value\":0.1},\"fill_color\":{\"value\":\"#1f77b4\"},\"line_alpha\":{\"value\":0.1},\"line_color\":{\"value\":\"#1f77b4\"},\"x\":{\"field\":\"x\"},\"y\":{\"field\":\"y\"}},\"id\":\"901401d2-7c4b-4906-9ff5-2ecdf3efbeb9\",\"type\":\"Circle\"},{\"attributes\":{},\"id\":\"26f9861e-5302-4ec8-8019-28643f7bb71b\",\"type\":\"BasicTickFormatter\"},{\"attributes\":{},\"id\":\"31aa0f12-78c4-41a8-a4a5-ae5f52efcb15\",\"type\":\"LinearScale\"},{\"attributes\":{\"active_drag\":\"auto\",\"active_inspect\":\"auto\",\"active_scroll\":\"auto\",\"active_tap\":\"auto\",\"tools\":[{\"id\":\"7f1d4a3c-8272-4f61-8f10-4b9269d531fb\",\"type\":\"PanTool\"},{\"id\":\"3209b077-517e-412f-996a-378ef4c6bd88\",\"type\":\"WheelZoomTool\"},{\"id\":\"dca51066-053c-4429-b051-a8275579bf79\",\"type\":\"BoxZoomTool\"},{\"id\":\"dda68611-d6de-4180-ac78-826398a957d6\",\"type\":\"SaveTool\"},{\"id\":\"7b29513a-a7fd-4562-9160-e9a7e155ea1e\",\"type\":\"ResetTool\"},{\"id\":\"aa0ca9c2-c48b-4737-97bf-0139c7ac7843\",\"type\":\"HelpTool\"}]},\"id\":\"655c7dd6-7a1f-4886-a8a4-5bdba5b33e83\",\"type\":\"Toolbar\"},{\"attributes\":{\"formatter\":{\"id\":\"1abcaf37-7a0d-4a11-8db0-18f15e90c1fc\",\"type\":\"BasicTickFormatter\"},\"plot\":{\"id\":\"55bf5332-1e7b-45dd-89aa-186a71d98ee9\",\"subtype\":\"Figure\",\"type\":\"Plot\"},\"ticker\":{\"id\":\"196576a4-5b50-47f3-8e7d-199d74df5515\",\"type\":\"BasicTicker\"}},\"id\":\"2c95768d-66b0-404a-8198-f66eb9f6dc0e\",\"type\":\"LinearAxis\"},{\"attributes\":{\"data_source\":{\"id\":\"c6ddbdfc-7ce8-4f42-8f75-6e1bb474e7c4\",\"type\":\"ColumnDataSource\"},\"glyph\":{\"id\":\"649d78ca-a523-463f-ae0a-5faff541d87d\",\"type\":\"Circle\"},\"hover_glyph\":null,\"muted_glyph\":null,\"nonselection_glyph\":{\"id\":\"901401d2-7c4b-4906-9ff5-2ecdf3efbeb9\",\"type\":\"Circle\"},\"selection_glyph\":null,\"view\":{\"id\":\"d812509e-eea5-484f-809e-d8ff398aa4fa\",\"type\":\"CDSView\"}},\"id\":\"d68a8566-60e0-4090-9038-516389d01b90\",\"type\":\"GlyphRenderer\"},{\"attributes\":{\"callback\":null},\"id\":\"4647d907-5942-4753-af19-289c4d00a58e\",\"type\":\"DataRange1d\"},{\"attributes\":{},\"id\":\"b14c8863-cb98-4f26-87da-93d06773a59f\",\"type\":\"LinearScale\"},{\"attributes\":{\"plot\":{\"id\":\"55bf5332-1e7b-45dd-89aa-186a71d98ee9\",\"subtype\":\"Figure\",\"type\":\"Plot\"},\"ticker\":{\"id\":\"196576a4-5b50-47f3-8e7d-199d74df5515\",\"type\":\"BasicTicker\"}},\"id\":\"5e1b552e-f8c7-491f-9832-da358ec4a314\",\"type\":\"Grid\"},{\"attributes\":{},\"id\":\"dda68611-d6de-4180-ac78-826398a957d6\",\"type\":\"SaveTool\"},{\"attributes\":{},\"id\":\"185d50ee-2726-482b-8a54-b06164607ce8\",\"type\":\"BasicTicker\"},{\"attributes\":{\"bottom_units\":\"screen\",\"fill_alpha\":{\"value\":0.5},\"fill_color\":{\"value\":\"lightgrey\"},\"left_units\":\"screen\",\"level\":\"overlay\",\"line_alpha\":{\"value\":1.0},\"line_color\":{\"value\":\"black\"},\"line_dash\":[4,4],\"line_width\":{\"value\":2},\"plot\":null,\"render_mode\":\"css\",\"right_units\":\"screen\",\"top_units\":\"screen\"},\"id\":\"35947fc0-a9e6-418d-a87b-77ddda65362e\",\"type\":\"BoxAnnotation\"},{\"attributes\":{},\"id\":\"7b29513a-a7fd-4562-9160-e9a7e155ea1e\",\"type\":\"ResetTool\"},{\"attributes\":{\"fill_alpha\":{\"value\":0.2},\"fill_color\":{\"value\":\"#1f77b4\"},\"line_color\":{\"value\":\"firebrick\"},\"line_dash\":[5,1],\"line_width\":{\"value\":2},\"size\":{\"units\":\"screen\",\"value\":50},\"x\":{\"field\":\"x\"},\"y\":{\"field\":\"y\"}},\"id\":\"649d78ca-a523-463f-ae0a-5faff541d87d\",\"type\":\"Circle\"},{\"attributes\":{\"source\":{\"id\":\"c6ddbdfc-7ce8-4f42-8f75-6e1bb474e7c4\",\"type\":\"ColumnDataSource\"}},\"id\":\"d812509e-eea5-484f-809e-d8ff398aa4fa\",\"type\":\"CDSView\"},{\"attributes\":{\"callback\":null,\"column_names\":[\"y\",\"x\"],\"data\":{\"x\":[1,2,3,4,5],\"y\":[2,5,8,2,7]}},\"id\":\"c6ddbdfc-7ce8-4f42-8f75-6e1bb474e7c4\",\"type\":\"ColumnDataSource\"},{\"attributes\":{\"plot\":null,\"text\":\"\"},\"id\":\"b5fff3d0-3305-4902-b88b-acb4c7cde654\",\"type\":\"Title\"},{\"attributes\":{\"dimension\":1,\"plot\":{\"id\":\"55bf5332-1e7b-45dd-89aa-186a71d98ee9\",\"subtype\":\"Figure\",\"type\":\"Plot\"},\"ticker\":{\"id\":\"185d50ee-2726-482b-8a54-b06164607ce8\",\"type\":\"BasicTicker\"}},\"id\":\"f3ab8352-a1f3-4a8c-bca6-1898cac2af3f\",\"type\":\"Grid\"},{\"attributes\":{\"formatter\":{\"id\":\"26f9861e-5302-4ec8-8019-28643f7bb71b\",\"type\":\"BasicTickFormatter\"},\"plot\":{\"id\":\"55bf5332-1e7b-45dd-89aa-186a71d98ee9\",\"subtype\":\"Figure\",\"type\":\"Plot\"},\"ticker\":{\"id\":\"185d50ee-2726-482b-8a54-b06164607ce8\",\"type\":\"BasicTicker\"}},\"id\":\"4219744c-5459-4074-87bc-fc6681bc854b\",\"type\":\"LinearAxis\"},{\"attributes\":{},\"id\":\"3209b077-517e-412f-996a-378ef4c6bd88\",\"type\":\"WheelZoomTool\"},{\"attributes\":{},\"id\":\"1abcaf37-7a0d-4a11-8db0-18f15e90c1fc\",\"type\":\"BasicTickFormatter\"},{\"attributes\":{},\"id\":\"aa0ca9c2-c48b-4737-97bf-0139c7ac7843\",\"type\":\"HelpTool\"},{\"attributes\":{},\"id\":\"7f1d4a3c-8272-4f61-8f10-4b9269d531fb\",\"type\":\"PanTool\"},{\"attributes\":{\"callback\":null},\"id\":\"29ad4441-75bb-49ce-9454-22f790a5ba08\",\"type\":\"DataRange1d\"},{\"attributes\":{},\"id\":\"196576a4-5b50-47f3-8e7d-199d74df5515\",\"type\":\"BasicTicker\"}],\"root_ids\":[\"55bf5332-1e7b-45dd-89aa-186a71d98ee9\"]},\"title\":\"Bokeh Application\",\"version\":\"0.12.10\"}};\n",
       "    var render_items = [{\"docid\":\"19fecf08-891c-4b47-bdda-74725c37e725\",\"elementid\":\"ffd1a8a7-1d4e-4ea0-ac4b-1ae337d1a3d8\",\"modelid\":\"55bf5332-1e7b-45dd-89aa-186a71d98ee9\"}];\n",
       "\n",
       "    root.Bokeh.embed.embed_items(docs_json, render_items);\n",
       "  }\n",
       "\n",
       "  if (root.Bokeh !== undefined) {\n",
       "    embed_document(root);\n",
       "  } else {\n",
       "    var attempts = 0;\n",
       "    var timer = setInterval(function(root) {\n",
       "      if (root.Bokeh !== undefined) {\n",
       "        embed_document(root);\n",
       "        clearInterval(timer);\n",
       "      }\n",
       "      attempts++;\n",
       "      if (attempts > 100) {\n",
       "        console.log(\"Bokeh: ERROR: Unable to embed document because BokehJS library is missing\")\n",
       "        clearInterval(timer);\n",
       "      }\n",
       "    }, 10, root)\n",
       "  }\n",
       "})(window);"
      ],
      "application/vnd.bokehjs_exec.v0+json": ""
     },
     "metadata": {
      "application/vnd.bokehjs_exec.v0+json": {
       "id": "55bf5332-1e7b-45dd-89aa-186a71d98ee9"
      }
     },
     "output_type": "display_data"
    }
   ],
   "source": [
    "p = figure(plot_width=400, plot_height=400)\n",
    "\n",
    "# keep a reference to the returned GlyphRenderer\n",
    "r = p.circle([1,2,3,4,5], [2,5,8,2,7])\n",
    "\n",
    "r.glyph.size = 50\n",
    "r.glyph.fill_alpha = 0.2\n",
    "r.glyph.line_color = \"firebrick\"\n",
    "r.glyph.line_dash = [5, 1]\n",
    "r.glyph.line_width = 2\n",
    "\n",
    "show(p)"
   ]
  },
  {
   "cell_type": "markdown",
   "metadata": {},
   "source": [
    "### Selection and non-selection visuals\n",
    "\n",
    "You can also control how glyphs look when there are selections involved. The set of \"selected\" points is displayed according to the optional `.selection_glyph` property of a `GlyphRenderer`:\n",
    "```python\n",
    "r.selection_glyph = Circle(fill_alpha=1, fill_color=\"firebrick\", line_color=None) \n",
    "```\n",
    "When there is a non-empty selection, the set of \"unselected: points is displayed according to the optional  `.nonselection_glyph` property of a `GlyphRenderer`:\n",
    "```python\n",
    "r.nonselection_glyph = Circle(fill_alpha=0.2, fill_color=\"grey\", line_color=None) \n",
    "```\n",
    "\n",
    "When using the `bokeh.plotting` interface, it is easier to pass these visual properties to the glyph methods as shown below. The glyph method will create the selection or nonselection glyphs and attach them to the renderer for you. "
   ]
  },
  {
   "cell_type": "code",
   "execution_count": 7,
   "metadata": {},
   "outputs": [
    {
     "data": {
      "text/html": [
       "\n",
       "<div class=\"bk-root\">\n",
       "    <div class=\"bk-plotdiv\" id=\"b42b854d-f6b8-4bc7-a97e-9654248b0dc2\"></div>\n",
       "</div>"
      ]
     },
     "metadata": {},
     "output_type": "display_data"
    },
    {
     "data": {
      "application/javascript": [
       "(function(root) {\n",
       "  function embed_document(root) {\n",
       "    var docs_json = {\"13dbe35b-aa34-492f-b1aa-570b9dc075da\":{\"roots\":{\"references\":[{\"attributes\":{\"data_source\":{\"id\":\"0aaaaff1-a458-46f1-87f0-c4c0a7d238b0\",\"type\":\"ColumnDataSource\"},\"glyph\":{\"id\":\"c234d969-f6f7-444a-bd6f-3644bae3c31e\",\"type\":\"Circle\"},\"hover_glyph\":null,\"muted_glyph\":null,\"nonselection_glyph\":{\"id\":\"0d0ad720-a591-4729-b35d-20de7c34a1b4\",\"type\":\"Circle\"},\"selection_glyph\":{\"id\":\"1ec72e3d-ca5c-40a2-a4db-c38111200819\",\"type\":\"Circle\"},\"view\":{\"id\":\"88803e9e-753c-4d6d-bcab-abd315afa256\",\"type\":\"CDSView\"}},\"id\":\"25a1b255-b818-45de-88e1-a30ed1edf2c6\",\"type\":\"GlyphRenderer\"},{\"attributes\":{\"callback\":null,\"column_names\":[\"y\",\"x\"],\"data\":{\"x\":[1,2,3,4,5],\"y\":[2,5,8,2,7]}},\"id\":\"0aaaaff1-a458-46f1-87f0-c4c0a7d238b0\",\"type\":\"ColumnDataSource\"},{\"attributes\":{\"callback\":null},\"id\":\"827d64f3-9bd0-40e5-a0b6-75c321dbe35b\",\"type\":\"DataRange1d\"},{\"attributes\":{\"dimension\":1,\"plot\":{\"id\":\"1bbde93d-a50d-4530-8d89-91f96c8610fc\",\"subtype\":\"Figure\",\"type\":\"Plot\"},\"ticker\":{\"id\":\"32cda5f9-e87f-4944-9679-b74170c41c13\",\"type\":\"BasicTicker\"}},\"id\":\"58b00dd7-2c44-4a7b-9fd8-530294d1e6d4\",\"type\":\"Grid\"},{\"attributes\":{\"fill_color\":{\"value\":\"#1f77b4\"},\"line_color\":{\"value\":\"#1f77b4\"},\"size\":{\"units\":\"screen\",\"value\":50},\"x\":{\"field\":\"x\"},\"y\":{\"field\":\"y\"}},\"id\":\"c234d969-f6f7-444a-bd6f-3644bae3c31e\",\"type\":\"Circle\"},{\"attributes\":{\"callback\":null},\"id\":\"2ba32df6-d16f-4be0-ac54-5f3f917029da\",\"type\":\"DataRange1d\"},{\"attributes\":{},\"id\":\"8aeb76bd-5d8f-4a99-b622-3221d6fd865e\",\"type\":\"BasicTicker\"},{\"attributes\":{\"below\":[{\"id\":\"81d849b8-1ca4-490a-aee0-182a7ff9f83c\",\"type\":\"LinearAxis\"}],\"left\":[{\"id\":\"ee779dd6-9b5e-464e-ab61-e48dd96b74c3\",\"type\":\"LinearAxis\"}],\"plot_height\":400,\"plot_width\":400,\"renderers\":[{\"id\":\"81d849b8-1ca4-490a-aee0-182a7ff9f83c\",\"type\":\"LinearAxis\"},{\"id\":\"29b54048-56de-4164-bbe8-f6c5924ba5dc\",\"type\":\"Grid\"},{\"id\":\"ee779dd6-9b5e-464e-ab61-e48dd96b74c3\",\"type\":\"LinearAxis\"},{\"id\":\"58b00dd7-2c44-4a7b-9fd8-530294d1e6d4\",\"type\":\"Grid\"},{\"id\":\"25a1b255-b818-45de-88e1-a30ed1edf2c6\",\"type\":\"GlyphRenderer\"}],\"title\":{\"id\":\"6bd06779-4c56-4359-88aa-b3186103749b\",\"type\":\"Title\"},\"toolbar\":{\"id\":\"94bd3c59-86ad-4f33-9d63-a0d6fd1a6cca\",\"type\":\"Toolbar\"},\"x_range\":{\"id\":\"827d64f3-9bd0-40e5-a0b6-75c321dbe35b\",\"type\":\"DataRange1d\"},\"x_scale\":{\"id\":\"154466c8-18f5-42b4-9bb0-cdd04912922d\",\"type\":\"LinearScale\"},\"y_range\":{\"id\":\"2ba32df6-d16f-4be0-ac54-5f3f917029da\",\"type\":\"DataRange1d\"},\"y_scale\":{\"id\":\"a791f502-24dc-46c2-b6b2-e135b606284d\",\"type\":\"LinearScale\"}},\"id\":\"1bbde93d-a50d-4530-8d89-91f96c8610fc\",\"subtype\":\"Figure\",\"type\":\"Plot\"},{\"attributes\":{\"source\":{\"id\":\"0aaaaff1-a458-46f1-87f0-c4c0a7d238b0\",\"type\":\"ColumnDataSource\"}},\"id\":\"88803e9e-753c-4d6d-bcab-abd315afa256\",\"type\":\"CDSView\"},{\"attributes\":{\"formatter\":{\"id\":\"65913ae5-df7d-4609-b63f-9f838eab71b6\",\"type\":\"BasicTickFormatter\"},\"plot\":{\"id\":\"1bbde93d-a50d-4530-8d89-91f96c8610fc\",\"subtype\":\"Figure\",\"type\":\"Plot\"},\"ticker\":{\"id\":\"32cda5f9-e87f-4944-9679-b74170c41c13\",\"type\":\"BasicTicker\"}},\"id\":\"ee779dd6-9b5e-464e-ab61-e48dd96b74c3\",\"type\":\"LinearAxis\"},{\"attributes\":{\"fill_alpha\":{\"value\":0.2},\"fill_color\":{\"value\":\"grey\"},\"line_color\":{\"value\":\"firebrick\"},\"size\":{\"units\":\"screen\",\"value\":50},\"x\":{\"field\":\"x\"},\"y\":{\"field\":\"y\"}},\"id\":\"0d0ad720-a591-4729-b35d-20de7c34a1b4\",\"type\":\"Circle\"},{\"attributes\":{\"plot\":{\"id\":\"1bbde93d-a50d-4530-8d89-91f96c8610fc\",\"subtype\":\"Figure\",\"type\":\"Plot\"},\"ticker\":{\"id\":\"8aeb76bd-5d8f-4a99-b622-3221d6fd865e\",\"type\":\"BasicTicker\"}},\"id\":\"29b54048-56de-4164-bbe8-f6c5924ba5dc\",\"type\":\"Grid\"},{\"attributes\":{},\"id\":\"65913ae5-df7d-4609-b63f-9f838eab71b6\",\"type\":\"BasicTickFormatter\"},{\"attributes\":{\"formatter\":{\"id\":\"afbe51bc-9d4c-42e1-9ca2-d83983998d70\",\"type\":\"BasicTickFormatter\"},\"plot\":{\"id\":\"1bbde93d-a50d-4530-8d89-91f96c8610fc\",\"subtype\":\"Figure\",\"type\":\"Plot\"},\"ticker\":{\"id\":\"8aeb76bd-5d8f-4a99-b622-3221d6fd865e\",\"type\":\"BasicTicker\"}},\"id\":\"81d849b8-1ca4-490a-aee0-182a7ff9f83c\",\"type\":\"LinearAxis\"},{\"attributes\":{},\"id\":\"32cda5f9-e87f-4944-9679-b74170c41c13\",\"type\":\"BasicTicker\"},{\"attributes\":{\"callback\":null},\"id\":\"d420681f-8dfe-487e-857f-005be2516fd2\",\"type\":\"TapTool\"},{\"attributes\":{\"fill_color\":{\"value\":\"firebrick\"},\"line_color\":{\"value\":\"firebrick\"},\"size\":{\"units\":\"screen\",\"value\":50},\"x\":{\"field\":\"x\"},\"y\":{\"field\":\"y\"}},\"id\":\"1ec72e3d-ca5c-40a2-a4db-c38111200819\",\"type\":\"Circle\"},{\"attributes\":{\"plot\":null,\"text\":\"Select a circle\"},\"id\":\"6bd06779-4c56-4359-88aa-b3186103749b\",\"type\":\"Title\"},{\"attributes\":{},\"id\":\"afbe51bc-9d4c-42e1-9ca2-d83983998d70\",\"type\":\"BasicTickFormatter\"},{\"attributes\":{\"active_drag\":\"auto\",\"active_inspect\":\"auto\",\"active_scroll\":\"auto\",\"active_tap\":\"auto\",\"tools\":[{\"id\":\"d420681f-8dfe-487e-857f-005be2516fd2\",\"type\":\"TapTool\"}]},\"id\":\"94bd3c59-86ad-4f33-9d63-a0d6fd1a6cca\",\"type\":\"Toolbar\"},{\"attributes\":{},\"id\":\"154466c8-18f5-42b4-9bb0-cdd04912922d\",\"type\":\"LinearScale\"},{\"attributes\":{},\"id\":\"a791f502-24dc-46c2-b6b2-e135b606284d\",\"type\":\"LinearScale\"}],\"root_ids\":[\"1bbde93d-a50d-4530-8d89-91f96c8610fc\"]},\"title\":\"Bokeh Application\",\"version\":\"0.12.10\"}};\n",
       "    var render_items = [{\"docid\":\"13dbe35b-aa34-492f-b1aa-570b9dc075da\",\"elementid\":\"b42b854d-f6b8-4bc7-a97e-9654248b0dc2\",\"modelid\":\"1bbde93d-a50d-4530-8d89-91f96c8610fc\"}];\n",
       "\n",
       "    root.Bokeh.embed.embed_items(docs_json, render_items);\n",
       "  }\n",
       "\n",
       "  if (root.Bokeh !== undefined) {\n",
       "    embed_document(root);\n",
       "  } else {\n",
       "    var attempts = 0;\n",
       "    var timer = setInterval(function(root) {\n",
       "      if (root.Bokeh !== undefined) {\n",
       "        embed_document(root);\n",
       "        clearInterval(timer);\n",
       "      }\n",
       "      attempts++;\n",
       "      if (attempts > 100) {\n",
       "        console.log(\"Bokeh: ERROR: Unable to embed document because BokehJS library is missing\")\n",
       "        clearInterval(timer);\n",
       "      }\n",
       "    }, 10, root)\n",
       "  }\n",
       "})(window);"
      ],
      "application/vnd.bokehjs_exec.v0+json": ""
     },
     "metadata": {
      "application/vnd.bokehjs_exec.v0+json": {
       "id": "1bbde93d-a50d-4530-8d89-91f96c8610fc"
      }
     },
     "output_type": "display_data"
    }
   ],
   "source": [
    "p = figure(plot_width=400, plot_height=400, tools=\"tap\", title=\"Select a circle\")\n",
    "renderer = p.circle([1, 2, 3, 4, 5], [2, 5, 8, 2, 7], size=50,\n",
    "\n",
    "                    # set visual properties for selected glyphs\n",
    "                    selection_color=\"firebrick\",\n",
    "\n",
    "                    # set visual properties for non-selected glyphs\n",
    "                    nonselection_fill_alpha=0.2,\n",
    "                    nonselection_fill_color=\"grey\",\n",
    "                    nonselection_line_color=\"firebrick\",\n",
    "                    nonselection_line_alpha=1.0)\n",
    "\n",
    "show(p)"
   ]
  },
  {
   "cell_type": "markdown",
   "metadata": {},
   "source": [
    "It is also possible to specify the visual appearance of glyphs when they are \"inspected\", e.g. by a hover tool. This is accomplished by setting an optional `hover_glyph` on the glyph renderer:\n",
    "```python\n",
    "r.hover_glyph = Circle(fill_alpha=1, fill_color=\"firebrick\", line_color=None) \n",
    "```\n",
    "Or if using `bokeh.plotting` glyph methods, by passing `hover_fill_alpha`, etc. to the glyph method. Lets look at an example that works together with a `HoverTool` configured for \"hline\" hit-testing."
   ]
  },
  {
   "cell_type": "code",
   "execution_count": 12,
   "metadata": {},
   "outputs": [
    {
     "name": "stdout",
     "output_type": "stream",
     "text": [
      "Creating /home/ankdesh/.bokeh directory\n",
      "Creating /home/ankdesh/.bokeh/data directory\n",
      "Using data directory: /home/ankdesh/.bokeh/data\n",
      "Downloading: CGM.csv (1589982 bytes)\n",
      "   1589982 [100.00%]\n",
      "Downloading: US_Counties.zip (3182088 bytes)\n",
      "   3182088 [100.00%]\n",
      "Unpacking: US_Counties.csv\n",
      "Downloading: us_cities.json (713565 bytes)\n",
      "    713565 [100.00%]\n",
      "Downloading: unemployment09.csv (253301 bytes)\n",
      "    253301 [100.00%]\n",
      "Downloading: AAPL.csv (166698 bytes)\n",
      "    166698 [100.00%]\n",
      "Downloading: FB.csv (9706 bytes)\n",
      "      9706 [100.00%]\n",
      "Downloading: GOOG.csv (113894 bytes)\n",
      "    113894 [100.00%]\n",
      "Downloading: IBM.csv (165625 bytes)\n",
      "    165625 [100.00%]\n",
      "Downloading: MSFT.csv (161614 bytes)\n",
      "    161614 [100.00%]\n",
      "Downloading: WPP2012_SA_DB03_POPULATION_QUINQUENNIAL.zip (5148539 bytes)\n",
      "   5148539 [100.00%]\n",
      "Unpacking: WPP2012_SA_DB03_POPULATION_QUINQUENNIAL.csv\n",
      "Downloading: gapminder_fertility.csv (64346 bytes)\n",
      "     64346 [100.00%]\n",
      "Downloading: gapminder_population.csv (94509 bytes)\n",
      "     94509 [100.00%]\n",
      "Downloading: gapminder_life_expectancy.csv (73243 bytes)\n",
      "     73243 [100.00%]\n",
      "Downloading: gapminder_regions.csv (7781 bytes)\n",
      "      7781 [100.00%]\n",
      "Downloading: world_cities.zip (646858 bytes)\n",
      "    646858 [100.00%]\n",
      "Unpacking: world_cities.csv\n",
      "Downloading: airports.json (6373 bytes)\n",
      "      6373 [100.00%]\n",
      "Downloading: movies.db.zip (5067833 bytes)\n",
      "   5067833 [100.00%]\n",
      "Unpacking: movies.db\n",
      "Downloading: airports.csv (203190 bytes)\n",
      "    203190 [100.00%]\n",
      "Downloading: routes.csv (377280 bytes)\n",
      "    377280 [100.00%]\n"
     ]
    }
   ],
   "source": [
    "from bokeh.sampledata import download\n",
    "download()"
   ]
  },
  {
   "cell_type": "code",
   "execution_count": 17,
   "metadata": {},
   "outputs": [
    {
     "data": {
      "text/html": [
       "\n",
       "<div class=\"bk-root\">\n",
       "    <div class=\"bk-plotdiv\" id=\"d78b5ba3-8b35-42e9-8000-27fbb409a139\"></div>\n",
       "</div>"
      ]
     },
     "metadata": {},
     "output_type": "display_data"
    },
    {
     "data": {
      "application/javascript": [
       "(function(root) {\n",
       "  function embed_document(root) {\n",
       "    var docs_json = {\"134cc2f2-c3b0-48ee-8c0c-6124c199eb85\":{\"roots\":{\"references\":[{\"attributes\":{\"dimension\":1,\"plot\":{\"id\":\"51e60b17-6fb9-4bcb-9ab8-bb6dc310958c\",\"subtype\":\"Figure\",\"type\":\"Plot\"},\"ticker\":{\"id\":\"31ac2cad-138c-4039-ac52-aaa2067d0642\",\"type\":\"BasicTicker\"}},\"id\":\"f97ac9bc-5235-435d-82f6-9c6d74e687cf\",\"type\":\"Grid\"},{\"attributes\":{\"fill_alpha\":{\"value\":0.3},\"fill_color\":{\"value\":\"firebrick\"},\"line_alpha\":{\"value\":0.3},\"line_color\":{\"value\":\"white\"},\"size\":{\"units\":\"screen\",\"value\":20},\"x\":{\"field\":\"x\"},\"y\":{\"field\":\"y\"}},\"id\":\"26fdf881-adb3-4d3c-a2dd-743019abd54b\",\"type\":\"Circle\"},{\"attributes\":{\"mantissas\":[1,2,5],\"max_interval\":500.0,\"num_minor_ticks\":0},\"id\":\"94d6c66b-2bb3-413a-9779-e07919033944\",\"type\":\"AdaptiveTicker\"},{\"attributes\":{},\"id\":\"f19b96b5-6d94-4208-813e-7a3d7b6ba40e\",\"type\":\"LinearScale\"},{\"attributes\":{\"data_source\":{\"id\":\"2b0591e5-75e9-4c00-93e8-640e13a4a096\",\"type\":\"ColumnDataSource\"},\"glyph\":{\"id\":\"ea777415-1355-4b30-a636-82a23c8628d6\",\"type\":\"Line\"},\"hover_glyph\":null,\"muted_glyph\":null,\"nonselection_glyph\":{\"id\":\"7e39f055-2166-413c-9d8a-e69a42435b52\",\"type\":\"Line\"},\"selection_glyph\":null,\"view\":{\"id\":\"a3300dc4-646d-40aa-aa2b-3bce270fedc4\",\"type\":\"CDSView\"}},\"id\":\"8aac4447-384d-4ec4-a610-964f4813c5d9\",\"type\":\"GlyphRenderer\"},{\"attributes\":{\"active_drag\":\"auto\",\"active_inspect\":\"auto\",\"active_scroll\":\"auto\",\"active_tap\":\"auto\",\"tools\":[{\"id\":\"ec927713-9724-471c-8e5c-0524574991aa\",\"type\":\"PanTool\"},{\"id\":\"3040bdc8-7ebc-4433-a307-30a87895bf45\",\"type\":\"WheelZoomTool\"},{\"id\":\"55b1c740-b6ae-4e4b-8385-d40a883ccfef\",\"type\":\"BoxZoomTool\"},{\"id\":\"3ecdbc27-a05e-48e0-a203-a4a0adf9ba7f\",\"type\":\"SaveTool\"},{\"id\":\"36ee040e-8a8f-46d1-9230-772db697ba55\",\"type\":\"ResetTool\"},{\"id\":\"716ff36b-141c-4b64-9b7e-b0f3522c9b34\",\"type\":\"HelpTool\"},{\"id\":\"84a217d9-81c9-4691-b01b-9f73c01de6ae\",\"type\":\"HoverTool\"}]},\"id\":\"cf369208-3789-490f-93cf-0aa7585fc1b7\",\"type\":\"Toolbar\"},{\"attributes\":{},\"id\":\"c1833a46-ff7c-4148-81e8-df74d37e8729\",\"type\":\"BasicTickFormatter\"},{\"attributes\":{\"base\":60,\"mantissas\":[1,2,5,10,15,20,30],\"max_interval\":1800000.0,\"min_interval\":1000.0,\"num_minor_ticks\":0},\"id\":\"f3d967f4-7a6b-4e94-ab29-3c2f6661d587\",\"type\":\"AdaptiveTicker\"},{\"attributes\":{\"below\":[{\"id\":\"4069f5b6-fd6b-427c-8007-f843ff45e4f8\",\"type\":\"DatetimeAxis\"}],\"left\":[{\"id\":\"f07b9790-dc70-4cab-a7bb-2f5bcf993614\",\"type\":\"LinearAxis\"}],\"plot_height\":300,\"renderers\":[{\"id\":\"4069f5b6-fd6b-427c-8007-f843ff45e4f8\",\"type\":\"DatetimeAxis\"},{\"id\":\"779f0f87-2bcd-4282-bfe5-1597de857f1d\",\"type\":\"Grid\"},{\"id\":\"f07b9790-dc70-4cab-a7bb-2f5bcf993614\",\"type\":\"LinearAxis\"},{\"id\":\"f97ac9bc-5235-435d-82f6-9c6d74e687cf\",\"type\":\"Grid\"},{\"id\":\"ac486a60-e79f-4974-b1e4-b3d6dbcaee69\",\"type\":\"BoxAnnotation\"},{\"id\":\"8aac4447-384d-4ec4-a610-964f4813c5d9\",\"type\":\"GlyphRenderer\"},{\"id\":\"f9c199d4-a4ec-4f3d-91ac-179e316b6459\",\"type\":\"GlyphRenderer\"}],\"title\":{\"id\":\"c988d814-2422-4a11-b123-4893f291b902\",\"type\":\"Title\"},\"toolbar\":{\"id\":\"cf369208-3789-490f-93cf-0aa7585fc1b7\",\"type\":\"Toolbar\"},\"x_range\":{\"id\":\"3c71fce3-6ec4-4035-8a94-ea1b28dd88bb\",\"type\":\"DataRange1d\"},\"x_scale\":{\"id\":\"7f2fc2c8-601a-4df1-bbe8-e4be661a4022\",\"type\":\"LinearScale\"},\"y_range\":{\"id\":\"64603f31-e24c-45b5-bbcc-ac53acc59833\",\"type\":\"DataRange1d\"},\"y_scale\":{\"id\":\"f19b96b5-6d94-4208-813e-7a3d7b6ba40e\",\"type\":\"LinearScale\"}},\"id\":\"51e60b17-6fb9-4bcb-9ab8-bb6dc310958c\",\"subtype\":\"Figure\",\"type\":\"Plot\"},{\"attributes\":{\"days\":[1,4,7,10,13,16,19,22,25,28]},\"id\":\"d47980b3-b128-413e-8beb-097dffe71408\",\"type\":\"DaysTicker\"},{\"attributes\":{\"source\":{\"id\":\"2b0591e5-75e9-4c00-93e8-640e13a4a096\",\"type\":\"ColumnDataSource\"}},\"id\":\"a3300dc4-646d-40aa-aa2b-3bce270fedc4\",\"type\":\"CDSView\"},{\"attributes\":{\"formatter\":{\"id\":\"c1833a46-ff7c-4148-81e8-df74d37e8729\",\"type\":\"BasicTickFormatter\"},\"plot\":{\"id\":\"51e60b17-6fb9-4bcb-9ab8-bb6dc310958c\",\"subtype\":\"Figure\",\"type\":\"Plot\"},\"ticker\":{\"id\":\"31ac2cad-138c-4039-ac52-aaa2067d0642\",\"type\":\"BasicTicker\"}},\"id\":\"f07b9790-dc70-4cab-a7bb-2f5bcf993614\",\"type\":\"LinearAxis\"},{\"attributes\":{\"callback\":null},\"id\":\"64603f31-e24c-45b5-bbcc-ac53acc59833\",\"type\":\"DataRange1d\"},{\"attributes\":{\"callback\":null},\"id\":\"3c71fce3-6ec4-4035-8a94-ea1b28dd88bb\",\"type\":\"DataRange1d\"},{\"attributes\":{\"source\":{\"id\":\"18f5f04e-3127-47f2-8ff9-b5037b6de200\",\"type\":\"ColumnDataSource\"}},\"id\":\"9b092af9-3366-47ac-9d30-ab110551938f\",\"type\":\"CDSView\"},{\"attributes\":{\"months\":[0,6]},\"id\":\"b966d92d-1baf-4385-88ca-4ddb66478ea3\",\"type\":\"MonthsTicker\"},{\"attributes\":{\"days\":[1,8,15,22]},\"id\":\"88c11b5f-ce8a-43af-a5d9-5746966fbcf8\",\"type\":\"DaysTicker\"},{\"attributes\":{},\"id\":\"96f9551e-4ffa-4109-aec1-453f46805a51\",\"type\":\"YearsTicker\"},{\"attributes\":{\"callback\":null,\"column_names\":[\"y\",\"x\"],\"data\":{\"x\":{\"__ndarray__\":\"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\",\"dtype\":\"float64\",\"shape\":[288]},\"y\":[143,147,150,152,152,152,154,155,142,140,138,134,131,130,128,127,126,126,126,126,127,129,131,132,134,136,136,136,136,135,134,132,130,130,130,129,128,127,125,124,123,123,122,121,120,118,115,112,111,111,110,110,109,108,107,107,107,108,107,105,105,105,105,104,103,102,99,97,96,94,94,93,93,92,91,92,94,95,96,97,99,102,104,112,112,112,111,110,107,104,105,105,103,99,96,94,95,102,114,128,144,160,173,185,196,205,209,214,219,226,234,241,248,255,260,265,268,270,272,271,271,268,265,261,256,253,250,246,244,241,237,233,229,225,222,204,200,197,193,190,186,182,179,175,171,168,164,158,154,151,148,145,141,133,139,152,173,196,217,233,244,249,250,253,256,260,263,265,265,264,260,254,246,234,217,200,188,181,175,169,164,159,154,147,138,132,129,127,123,117,111,106,104,103,100,94,88,83,78,75,73,71,69,68,67,67,68,70,71,71,70,69,68,67,67,67,66,67,69,71,74,76,78,80,80,80,80,80,80,82,84,87,90,92,87,87,86,86,86,86,87,87,87,85,83,82,83,87,95,107,118,130,141,149,172,179,187,201,214,221,225,230,232,230,223,216,208,199,191,185,181,177,176,177,176,173,171,169,163,154,152,153,154,154,153,151,150,150]}},\"id\":\"2b0591e5-75e9-4c00-93e8-640e13a4a096\",\"type\":\"ColumnDataSource\"},{\"attributes\":{\"callback\":null,\"column_names\":[\"y\",\"x\"],\"data\":{\"x\":{\"__ndarray__\":\"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\",\"dtype\":\"float64\",\"shape\":[288]},\"y\":[143,147,150,152,152,152,154,155,142,140,138,134,131,130,128,127,126,126,126,126,127,129,131,132,134,136,136,136,136,135,134,132,130,130,130,129,128,127,125,124,123,123,122,121,120,118,115,112,111,111,110,110,109,108,107,107,107,108,107,105,105,105,105,104,103,102,99,97,96,94,94,93,93,92,91,92,94,95,96,97,99,102,104,112,112,112,111,110,107,104,105,105,103,99,96,94,95,102,114,128,144,160,173,185,196,205,209,214,219,226,234,241,248,255,260,265,268,270,272,271,271,268,265,261,256,253,250,246,244,241,237,233,229,225,222,204,200,197,193,190,186,182,179,175,171,168,164,158,154,151,148,145,141,133,139,152,173,196,217,233,244,249,250,253,256,260,263,265,265,264,260,254,246,234,217,200,188,181,175,169,164,159,154,147,138,132,129,127,123,117,111,106,104,103,100,94,88,83,78,75,73,71,69,68,67,67,68,70,71,71,70,69,68,67,67,67,66,67,69,71,74,76,78,80,80,80,80,80,80,82,84,87,90,92,87,87,86,86,86,86,87,87,87,85,83,82,83,87,95,107,118,130,141,149,172,179,187,201,214,221,225,230,232,230,223,216,208,199,191,185,181,177,176,177,176,173,171,169,163,154,152,153,154,154,153,151,150,150]}},\"id\":\"18f5f04e-3127-47f2-8ff9-b5037b6de200\",\"type\":\"ColumnDataSource\"},{\"attributes\":{\"bottom_units\":\"screen\",\"fill_alpha\":{\"value\":0.5},\"fill_color\":{\"value\":\"lightgrey\"},\"left_units\":\"screen\",\"level\":\"overlay\",\"line_alpha\":{\"value\":1.0},\"line_color\":{\"value\":\"black\"},\"line_dash\":[4,4],\"line_width\":{\"value\":2},\"plot\":null,\"render_mode\":\"css\",\"right_units\":\"screen\",\"top_units\":\"screen\"},\"id\":\"ac486a60-e79f-4974-b1e4-b3d6dbcaee69\",\"type\":\"BoxAnnotation\"},{\"attributes\":{\"days\":[1,2,3,4,5,6,7,8,9,10,11,12,13,14,15,16,17,18,19,20,21,22,23,24,25,26,27,28,29,30,31]},\"id\":\"6a6b8718-cc26-40a9-9489-a4e827a9343d\",\"type\":\"DaysTicker\"},{\"attributes\":{\"overlay\":{\"id\":\"ac486a60-e79f-4974-b1e4-b3d6dbcaee69\",\"type\":\"BoxAnnotation\"}},\"id\":\"55b1c740-b6ae-4e4b-8385-d40a883ccfef\",\"type\":\"BoxZoomTool\"},{\"attributes\":{\"months\":[0,1,2,3,4,5,6,7,8,9,10,11]},\"id\":\"7aab4aad-7603-4837-9714-6c20319dc4cd\",\"type\":\"MonthsTicker\"},{\"attributes\":{},\"id\":\"33378cfc-ba35-47da-b213-b9fbe634bfc8\",\"type\":\"DatetimeTickFormatter\"},{\"attributes\":{},\"id\":\"716ff36b-141c-4b64-9b7e-b0f3522c9b34\",\"type\":\"HelpTool\"},{\"attributes\":{},\"id\":\"31ac2cad-138c-4039-ac52-aaa2067d0642\",\"type\":\"BasicTicker\"},{\"attributes\":{},\"id\":\"ec927713-9724-471c-8e5c-0524574991aa\",\"type\":\"PanTool\"},{\"attributes\":{\"months\":[0,4,8]},\"id\":\"7ac34e7e-c7ad-411a-945f-1c536ff00945\",\"type\":\"MonthsTicker\"},{\"attributes\":{\"fill_alpha\":{\"value\":0.1},\"fill_color\":{\"value\":\"#1f77b4\"},\"line_alpha\":{\"value\":0.1},\"line_color\":{\"value\":\"#1f77b4\"},\"size\":{\"units\":\"screen\",\"value\":20},\"x\":{\"field\":\"x\"},\"y\":{\"field\":\"y\"}},\"id\":\"2d21a764-d8cd-4fce-8302-ea1dcd0b355a\",\"type\":\"Circle\"},{\"attributes\":{},\"id\":\"3040bdc8-7ebc-4433-a307-30a87895bf45\",\"type\":\"WheelZoomTool\"},{\"attributes\":{\"data_source\":{\"id\":\"18f5f04e-3127-47f2-8ff9-b5037b6de200\",\"type\":\"ColumnDataSource\"},\"glyph\":{\"id\":\"14c00b49-5ab4-4b40-84fa-e7ff451774a6\",\"type\":\"Circle\"},\"hover_glyph\":{\"id\":\"26fdf881-adb3-4d3c-a2dd-743019abd54b\",\"type\":\"Circle\"},\"muted_glyph\":null,\"nonselection_glyph\":{\"id\":\"2d21a764-d8cd-4fce-8302-ea1dcd0b355a\",\"type\":\"Circle\"},\"selection_glyph\":null,\"view\":{\"id\":\"9b092af9-3366-47ac-9d30-ab110551938f\",\"type\":\"CDSView\"}},\"id\":\"f9c199d4-a4ec-4f3d-91ac-179e316b6459\",\"type\":\"GlyphRenderer\"},{\"attributes\":{},\"id\":\"3ecdbc27-a05e-48e0-a203-a4a0adf9ba7f\",\"type\":\"SaveTool\"},{\"attributes\":{\"line_color\":{\"value\":\"gray\"},\"x\":{\"field\":\"x\"},\"y\":{\"field\":\"y\"}},\"id\":\"ea777415-1355-4b30-a636-82a23c8628d6\",\"type\":\"Line\"},{\"attributes\":{\"plot\":null,\"text\":\"Hover over points\"},\"id\":\"c988d814-2422-4a11-b123-4893f291b902\",\"type\":\"Title\"},{\"attributes\":{\"base\":24,\"mantissas\":[1,2,4,6,8,12],\"max_interval\":43200000.0,\"min_interval\":3600000.0,\"num_minor_ticks\":0},\"id\":\"bf775a2f-7f28-4c93-a02a-8b425e9572a8\",\"type\":\"AdaptiveTicker\"},{\"attributes\":{},\"id\":\"36ee040e-8a8f-46d1-9230-772db697ba55\",\"type\":\"ResetTool\"},{\"attributes\":{\"line_alpha\":{\"value\":0.1},\"line_color\":{\"value\":\"#1f77b4\"},\"x\":{\"field\":\"x\"},\"y\":{\"field\":\"y\"}},\"id\":\"7e39f055-2166-413c-9d8a-e69a42435b52\",\"type\":\"Line\"},{\"attributes\":{},\"id\":\"7f2fc2c8-601a-4df1-bbe8-e4be661a4022\",\"type\":\"LinearScale\"},{\"attributes\":{\"months\":[0,2,4,6,8,10]},\"id\":\"79bd5bf8-e726-4d58-a228-00f7081bed16\",\"type\":\"MonthsTicker\"},{\"attributes\":{\"days\":[1,15]},\"id\":\"645e4796-aaac-45fe-ba73-2fcec1a2b4e4\",\"type\":\"DaysTicker\"},{\"attributes\":{\"formatter\":{\"id\":\"33378cfc-ba35-47da-b213-b9fbe634bfc8\",\"type\":\"DatetimeTickFormatter\"},\"plot\":{\"id\":\"51e60b17-6fb9-4bcb-9ab8-bb6dc310958c\",\"subtype\":\"Figure\",\"type\":\"Plot\"},\"ticker\":{\"id\":\"524598d0-7026-4441-83e6-c883b35fefba\",\"type\":\"DatetimeTicker\"}},\"id\":\"4069f5b6-fd6b-427c-8007-f843ff45e4f8\",\"type\":\"DatetimeAxis\"},{\"attributes\":{\"fill_alpha\":{\"value\":0.05},\"fill_color\":{\"value\":\"grey\"},\"line_color\":{\"value\":null},\"size\":{\"units\":\"screen\",\"value\":20},\"x\":{\"field\":\"x\"},\"y\":{\"field\":\"y\"}},\"id\":\"14c00b49-5ab4-4b40-84fa-e7ff451774a6\",\"type\":\"Circle\"},{\"attributes\":{\"callback\":null,\"mode\":\"hline\",\"renderers\":[{\"id\":\"f9c199d4-a4ec-4f3d-91ac-179e316b6459\",\"type\":\"GlyphRenderer\"}],\"tooltips\":null},\"id\":\"84a217d9-81c9-4691-b01b-9f73c01de6ae\",\"type\":\"HoverTool\"},{\"attributes\":{\"num_minor_ticks\":5,\"tickers\":[{\"id\":\"94d6c66b-2bb3-413a-9779-e07919033944\",\"type\":\"AdaptiveTicker\"},{\"id\":\"f3d967f4-7a6b-4e94-ab29-3c2f6661d587\",\"type\":\"AdaptiveTicker\"},{\"id\":\"bf775a2f-7f28-4c93-a02a-8b425e9572a8\",\"type\":\"AdaptiveTicker\"},{\"id\":\"6a6b8718-cc26-40a9-9489-a4e827a9343d\",\"type\":\"DaysTicker\"},{\"id\":\"d47980b3-b128-413e-8beb-097dffe71408\",\"type\":\"DaysTicker\"},{\"id\":\"88c11b5f-ce8a-43af-a5d9-5746966fbcf8\",\"type\":\"DaysTicker\"},{\"id\":\"645e4796-aaac-45fe-ba73-2fcec1a2b4e4\",\"type\":\"DaysTicker\"},{\"id\":\"7aab4aad-7603-4837-9714-6c20319dc4cd\",\"type\":\"MonthsTicker\"},{\"id\":\"79bd5bf8-e726-4d58-a228-00f7081bed16\",\"type\":\"MonthsTicker\"},{\"id\":\"7ac34e7e-c7ad-411a-945f-1c536ff00945\",\"type\":\"MonthsTicker\"},{\"id\":\"b966d92d-1baf-4385-88ca-4ddb66478ea3\",\"type\":\"MonthsTicker\"},{\"id\":\"96f9551e-4ffa-4109-aec1-453f46805a51\",\"type\":\"YearsTicker\"}]},\"id\":\"524598d0-7026-4441-83e6-c883b35fefba\",\"type\":\"DatetimeTicker\"},{\"attributes\":{\"plot\":{\"id\":\"51e60b17-6fb9-4bcb-9ab8-bb6dc310958c\",\"subtype\":\"Figure\",\"type\":\"Plot\"},\"ticker\":{\"id\":\"524598d0-7026-4441-83e6-c883b35fefba\",\"type\":\"DatetimeTicker\"}},\"id\":\"779f0f87-2bcd-4282-bfe5-1597de857f1d\",\"type\":\"Grid\"}],\"root_ids\":[\"51e60b17-6fb9-4bcb-9ab8-bb6dc310958c\"]},\"title\":\"Bokeh Application\",\"version\":\"0.12.10\"}};\n",
       "    var render_items = [{\"docid\":\"134cc2f2-c3b0-48ee-8c0c-6124c199eb85\",\"elementid\":\"d78b5ba3-8b35-42e9-8000-27fbb409a139\",\"modelid\":\"51e60b17-6fb9-4bcb-9ab8-bb6dc310958c\"}];\n",
       "\n",
       "    root.Bokeh.embed.embed_items(docs_json, render_items);\n",
       "  }\n",
       "\n",
       "  if (root.Bokeh !== undefined) {\n",
       "    embed_document(root);\n",
       "  } else {\n",
       "    var attempts = 0;\n",
       "    var timer = setInterval(function(root) {\n",
       "      if (root.Bokeh !== undefined) {\n",
       "        embed_document(root);\n",
       "        clearInterval(timer);\n",
       "      }\n",
       "      attempts++;\n",
       "      if (attempts > 100) {\n",
       "        console.log(\"Bokeh: ERROR: Unable to embed document because BokehJS library is missing\")\n",
       "        clearInterval(timer);\n",
       "      }\n",
       "    }, 10, root)\n",
       "  }\n",
       "})(window);"
      ],
      "application/vnd.bokehjs_exec.v0+json": ""
     },
     "metadata": {
      "application/vnd.bokehjs_exec.v0+json": {
       "id": "51e60b17-6fb9-4bcb-9ab8-bb6dc310958c"
      }
     },
     "output_type": "display_data"
    }
   ],
   "source": [
    "from bokeh.models.tools import HoverTool\n",
    "from bokeh.sampledata.glucose import data\n",
    "\n",
    "subset = data.loc['2010-10-06']\n",
    "\n",
    "x, y = subset.index.to_series(), subset['glucose']\n",
    "\n",
    "# Basic plot setup\n",
    "p = figure(width=600, height=300, x_axis_type=\"datetime\", title='Hover over points')\n",
    "\n",
    "p.line(x, y, line_width=1, color='gray')\n",
    "\n",
    "cr = p.circle(x, y, size=20,\n",
    "              fill_color=\"grey\", hover_fill_color=\"firebrick\",\n",
    "              fill_alpha=0.05, hover_alpha=0.3,\n",
    "              line_color=None, hover_line_color=\"white\")\n",
    "\n",
    "p.add_tools(HoverTool(tooltips=None, renderers=[cr], mode='hline'))\n",
    "\n",
    "show(p)"
   ]
  },
  {
   "cell_type": "code",
   "execution_count": 55,
   "metadata": {},
   "outputs": [
    {
     "data": {
      "text/html": [
       "\n",
       "<div class=\"bk-root\">\n",
       "    <div class=\"bk-plotdiv\" id=\"7944e3c8-181b-4df9-a0f8-29a7f4a0eb56\"></div>\n",
       "</div>"
      ]
     },
     "metadata": {},
     "output_type": "display_data"
    },
    {
     "data": {
      "application/javascript": [
       "(function(root) {\n",
       "  function embed_document(root) {\n",
       "    var docs_json = {\"fca18836-f603-4be2-8c9f-d9bd7a4b44a9\":{\"roots\":{\"references\":[{\"attributes\":{\"days\":[1,15]},\"id\":\"2b0225d1-f969-44d5-b761-7ecceb2a30e3\",\"type\":\"DaysTicker\"},{\"attributes\":{\"formatter\":{\"id\":\"e442f1f6-82c0-4662-ab49-bfd1d958d984\",\"type\":\"DatetimeTickFormatter\"},\"major_label_orientation\":\"vertical\",\"plot\":{\"id\":\"94783d75-be5b-4050-b28d-3de934cc0546\",\"subtype\":\"Figure\",\"type\":\"Plot\"},\"ticker\":{\"id\":\"fa0a1da7-903c-438a-994e-ea5f890cbc39\",\"type\":\"DatetimeTicker\"}},\"id\":\"87f2a611-b73e-4671-aa4f-66c1a1df4161\",\"type\":\"DatetimeAxis\"},{\"attributes\":{\"bottom_units\":\"screen\",\"fill_alpha\":{\"value\":0.5},\"fill_color\":{\"value\":\"lightgrey\"},\"left_units\":\"screen\",\"level\":\"overlay\",\"line_alpha\":{\"value\":1.0},\"line_color\":{\"value\":\"black\"},\"line_dash\":[4,4],\"line_width\":{\"value\":2},\"plot\":null,\"render_mode\":\"css\",\"right_units\":\"screen\",\"top_units\":\"screen\"},\"id\":\"84e4bd41-237b-486d-bc5e-1e781cc1fea0\",\"type\":\"BoxAnnotation\"},{\"attributes\":{\"callback\":null},\"id\":\"b8edfe62-d6dd-40d4-8271-0136ccb39e5a\",\"type\":\"DataRange1d\"},{\"attributes\":{},\"id\":\"c54c180c-899e-4721-89aa-5f326a040295\",\"type\":\"PanTool\"},{\"attributes\":{},\"id\":\"fde02d41-d09e-4386-a526-58ab82bb4edb\",\"type\":\"HelpTool\"},{\"attributes\":{\"active_drag\":\"auto\",\"active_inspect\":\"auto\",\"active_scroll\":\"auto\",\"active_tap\":\"auto\",\"logo\":null,\"tools\":[{\"id\":\"c54c180c-899e-4721-89aa-5f326a040295\",\"type\":\"PanTool\"},{\"id\":\"3818768a-10d6-4f33-8e67-b55696fdba2a\",\"type\":\"WheelZoomTool\"},{\"id\":\"e34d1ec4-1455-41fd-bb5a-e72a7559141f\",\"type\":\"BoxZoomTool\"},{\"id\":\"30784c40-91c8-42d3-a1a5-8df909847267\",\"type\":\"SaveTool\"},{\"id\":\"736e84cf-273b-44c0-8756-78cf3909cbbf\",\"type\":\"ResetTool\"},{\"id\":\"fde02d41-d09e-4386-a526-58ab82bb4edb\",\"type\":\"HelpTool\"},{\"id\":\"284ad90d-7e86-4f1d-9ac7-dec798a7aa9e\",\"type\":\"HoverTool\"}]},\"id\":\"f6860537-202b-4a59-a2e6-31eebd45d34a\",\"type\":\"Toolbar\"},{\"attributes\":{\"months\":[0,4,8]},\"id\":\"2ac3d23a-eb01-403c-85eb-55715836cd36\",\"type\":\"MonthsTicker\"},{\"attributes\":{},\"id\":\"5ef3e757-7bed-4cb2-ab82-debf48e004ce\",\"type\":\"BasicTickFormatter\"},{\"attributes\":{\"callback\":null,\"column_names\":[\"y\",\"x\"],\"data\":{\"x\":{\"__ndarray__\":\"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\",\"dtype\":\"float64\",\"shape\":[288]},\"y\":[143,147,150,152,152,152,154,155,142,140,138,134,131,130,128,127,126,126,126,126,127,129,131,132,134,136,136,136,136,135,134,132,130,130,130,129,128,127,125,124,123,123,122,121,120,118,115,112,111,111,110,110,109,108,107,107,107,108,107,105,105,105,105,104,103,102,99,97,96,94,94,93,93,92,91,92,94,95,96,97,99,102,104,112,112,112,111,110,107,104,105,105,103,99,96,94,95,102,114,128,144,160,173,185,196,205,209,214,219,226,234,241,248,255,260,265,268,270,272,271,271,268,265,261,256,253,250,246,244,241,237,233,229,225,222,204,200,197,193,190,186,182,179,175,171,168,164,158,154,151,148,145,141,133,139,152,173,196,217,233,244,249,250,253,256,260,263,265,265,264,260,254,246,234,217,200,188,181,175,169,164,159,154,147,138,132,129,127,123,117,111,106,104,103,100,94,88,83,78,75,73,71,69,68,67,67,68,70,71,71,70,69,68,67,67,67,66,67,69,71,74,76,78,80,80,80,80,80,80,82,84,87,90,92,87,87,86,86,86,86,87,87,87,85,83,82,83,87,95,107,118,130,141,149,172,179,187,201,214,221,225,230,232,230,223,216,208,199,191,185,181,177,176,177,176,173,171,169,163,154,152,153,154,154,153,151,150,150]}},\"id\":\"e772a025-c0e7-43ae-9032-448209c17e50\",\"type\":\"ColumnDataSource\"},{\"attributes\":{\"months\":[0,2,4,6,8,10]},\"id\":\"be87f698-b96e-48be-9345-964ccc6fe6cf\",\"type\":\"MonthsTicker\"},{\"attributes\":{\"fill_alpha\":{\"value\":0.1},\"fill_color\":{\"value\":\"#1f77b4\"},\"line_alpha\":{\"value\":0.1},\"line_color\":{\"value\":\"#1f77b4\"},\"size\":{\"units\":\"screen\",\"value\":8},\"x\":{\"field\":\"x\"},\"y\":{\"field\":\"y\"}},\"id\":\"424c5ea6-c202-4e56-a9a0-33362d9109b5\",\"type\":\"Circle\"},{\"attributes\":{},\"id\":\"2cd2d034-0dda-4a2a-b6f7-8f908f4edac3\",\"type\":\"YearsTicker\"},{\"attributes\":{\"dimension\":1,\"plot\":{\"id\":\"94783d75-be5b-4050-b28d-3de934cc0546\",\"subtype\":\"Figure\",\"type\":\"Plot\"},\"ticker\":{\"id\":\"1541ebac-a788-4828-82a1-0db0bb542080\",\"type\":\"BasicTicker\"}},\"id\":\"affc9fe4-0d0a-493e-9a0c-6068b93508fe\",\"type\":\"Grid\"},{\"attributes\":{\"base\":60,\"mantissas\":[1,2,5,10,15,20,30],\"max_interval\":1800000.0,\"min_interval\":1000.0,\"num_minor_ticks\":0},\"id\":\"287940d9-7b18-4a6d-81a6-1be0073898f2\",\"type\":\"AdaptiveTicker\"},{\"attributes\":{\"x\":{\"field\":\"x\"},\"y\":{\"field\":\"y\"}},\"id\":\"7715e5d4-d99e-4bbc-95b1-4101a9947366\",\"type\":\"Line\"},{\"attributes\":{\"callback\":null,\"renderers\":[{\"id\":\"e4d92129-45bd-4cef-96c7-75b5d8b064e5\",\"type\":\"GlyphRenderer\"}],\"tooltips\":[[\"asd\",\"@y\"],[\"bsd\",\"@x\"]]},\"id\":\"284ad90d-7e86-4f1d-9ac7-dec798a7aa9e\",\"type\":\"HoverTool\"},{\"attributes\":{},\"id\":\"30784c40-91c8-42d3-a1a5-8df909847267\",\"type\":\"SaveTool\"},{\"attributes\":{},\"id\":\"3818768a-10d6-4f33-8e67-b55696fdba2a\",\"type\":\"WheelZoomTool\"},{\"attributes\":{\"fill_alpha\":{\"value\":0.3},\"fill_color\":{\"value\":\"firebrick\"},\"line_alpha\":{\"value\":0.3},\"line_color\":{\"value\":\"white\"},\"size\":{\"units\":\"screen\",\"value\":8},\"x\":{\"field\":\"x\"},\"y\":{\"field\":\"y\"}},\"id\":\"47b44c5d-daac-4835-a4f8-5d6e1f52b959\",\"type\":\"Circle\"},{\"attributes\":{},\"id\":\"736e84cf-273b-44c0-8756-78cf3909cbbf\",\"type\":\"ResetTool\"},{\"attributes\":{\"line_alpha\":{\"value\":0.1},\"line_color\":{\"value\":\"#1f77b4\"},\"x\":{\"field\":\"x\"},\"y\":{\"field\":\"y\"}},\"id\":\"a7a636b1-e676-4787-a82d-6b22ac244051\",\"type\":\"Line\"},{\"attributes\":{\"days\":[1,8,15,22]},\"id\":\"8a8f5b67-6313-4dd2-9b58-bbc630d15136\",\"type\":\"DaysTicker\"},{\"attributes\":{\"overlay\":{\"id\":\"84e4bd41-237b-486d-bc5e-1e781cc1fea0\",\"type\":\"BoxAnnotation\"}},\"id\":\"e34d1ec4-1455-41fd-bb5a-e72a7559141f\",\"type\":\"BoxZoomTool\"},{\"attributes\":{\"plot\":{\"id\":\"94783d75-be5b-4050-b28d-3de934cc0546\",\"subtype\":\"Figure\",\"type\":\"Plot\"},\"ticker\":{\"id\":\"fa0a1da7-903c-438a-994e-ea5f890cbc39\",\"type\":\"DatetimeTicker\"}},\"id\":\"3638b000-a4c4-46f7-b9b9-c563d49ece10\",\"type\":\"Grid\"},{\"attributes\":{\"source\":{\"id\":\"e772a025-c0e7-43ae-9032-448209c17e50\",\"type\":\"ColumnDataSource\"}},\"id\":\"31c6440a-a991-470c-a094-95ae62c68864\",\"type\":\"CDSView\"},{\"attributes\":{\"callback\":null,\"column_names\":[\"y\",\"x\"],\"data\":{\"x\":{\"__ndarray__\":\"AADyke23ckIAADDb7bdyQgAAbiTut3JCAACsbe63ckIAAOq27rdyQgAAKADvt3JCAABmSe+3ckIAAKSS77dyQgAA4tvvt3JCAAAgJfC3ckIAAF5u8LdyQgAAnLfwt3JCAADaAPG3ckIAABhK8bdyQgAAVpPxt3JCAACU3PG3ckIAANIl8rdyQgAAEG/yt3JCAABOuPK3ckIAAIwB87dyQgAAykrzt3JCAAAIlPO3ckIAAEbd87dyQgAAhCb0t3JCAADCb/S3ckIAAAC59LdyQgAAPgL1t3JCAAB8S/W3ckIAALqU9bdyQgAA+N31t3JCAAA2J/a3ckIAAHRw9rdyQgAAsrn2t3JCAADwAve3ckIAAC5M97dyQgAAbJX3t3JCAACq3ve3ckIAAOgn+LdyQgAAJnH4t3JCAABkuvi3ckIAAKID+bdyQgAA4Ez5t3JCAAAelvm3ckIAAFzf+bdyQgAAmij6t3JCAADYcfq3ckIAABa7+rdyQgAAVAT7t3JCAACSTfu3ckIAANCW+7dyQgAADuD7t3JCAABMKfy3ckIAAIpy/LdyQgAAyLv8t3JCAAAGBf23ckIAAERO/bdyQgAAgpf9t3JCAADA4P23ckIAAP4p/rdyQgAAPHP+t3JCAAB6vP63ckIAALgF/7dyQgAA9k7/t3JCAAA0mP+3ckIAAHLh/7dyQgAAsCoAuHJCAADucwC4ckIAACy9ALhyQgAAagYBuHJCAACoTwG4ckIAAOaYAbhyQgAAJOIBuHJCAABiKwK4ckIAAKB0ArhyQgAA3r0CuHJCAAAcBwO4ckIAAFpQA7hyQgAAmJkDuHJCAADW4gO4ckIAABQsBLhyQgAAUnUEuHJCAACQvgS4ckIAAM4HBbhyQgAADFEFuHJCAABKmgW4ckIAAIjjBbhyQgAAxiwGuHJCAAAEdga4ckIAAEK/BrhyQgAAgAgHuHJCAAC+UQe4ckIAAPyaB7hyQgAAOuQHuHJCAAB4LQi4ckIAALZ2CLhyQgAA9L8IuHJCAAAyCQm4ckIAAHBSCbhyQgAArpsJuHJCAADs5Am4ckIAACouCrhyQgAAaHcKuHJCAACmwAq4ckIAAOQJC7hyQgAAIlMLuHJCAABgnAu4ckIAAJ7lC7hyQgAA3C4MuHJCAAAaeAy4ckIAAFjBDLhyQgAAlgoNuHJCAADUUw24ckIAABKdDbhyQgAAUOYNuHJCAACOLw64ckIAAMx4DrhyQgAACsIOuHJCAABICw+4ckIAAIZUD7hyQgAAxJ0PuHJCAAAC5w+4ckIAAEAwELhyQgAAfnkQuHJCAAC8whC4ckIAAPoLEbhyQgAAOFURuHJCAAB2nhG4ckIAALTnEbhyQgAA8jASuHJCAAAwehK4ckIAAG7DErhyQgAArAwTuHJCAADqVRO4ckIAACifE7hyQgAAZugTuHJCAACkMRS4ckIAAOJ6FLhyQgAAIMQUuHJCAABeDRW4ckIAAJxWFbhyQgAA2p8VuHJCAAAY6RW4ckIAAFYyFrhyQgAAlHsWuHJCAADSxBa4ckIAABAOF7hyQgAATlcXuHJCAACMoBe4ckIAAMrpF7hyQgAACDMYuHJCAABGfBi4ckIAAITFGLhyQgAAwg4ZuHJCAAAAWBm4ckIAAD6hGbhyQgAAfOoZuHJCAAC6Mxq4ckIAAPh8GrhyQgAANsYauHJCAAB0Dxu4ckIAALJYG7hyQgAA8KEbuHJCAAAu6xu4ckIAAGw0HLhyQgAAqn0cuHJCAADoxhy4ckIAACYQHbhyQgAAZFkduHJCAACioh24ckIAAODrHbhyQgAAHjUeuHJCAABcfh64ckIAAJrHHrhyQgAA2BAfuHJCAAAWWh+4ckIAAFSjH7hyQgAAkuwfuHJCAADQNSC4ckIAAA5/ILhyQgAATMgguHJCAACKESG4ckIAAMhaIbhyQgAABqQhuHJCAABE7SG4ckIAAII2IrhyQgAAwH8iuHJCAAD+yCK4ckIAADwSI7hyQgAAelsjuHJCAAC4pCO4ckIAAPbtI7hyQgAANDckuHJCAABygCS4ckIAALDJJLhyQgAA7hIluHJCAAAsXCW4ckIAAGqlJbhyQgAAqO4luHJCAADmNya4ckIAACSBJrhyQgAAYsomuHJCAACgEye4ckIAAN5cJ7hyQgAAHKYnuHJCAABa7ye4ckIAAJg4KLhyQgAA1oEouHJCAAAUyyi4ckIAAFIUKbhyQgAAkF0puHJCAADOpim4ckIAAAzwKbhyQgAASjkquHJCAACIgiq4ckIAAMbLKrhyQgAABBUruHJCAABCXiu4ckIAAICnK7hyQgAAvvAruHJCAAD8OSy4ckIAADqDLLhyQgAAeMwsuHJCAAC2FS24ckIAAPReLbhyQgAAMqgtuHJCAABw8S24ckIAAK46LrhyQgAA7IMuuHJCAAAqzS64ckIAAGgWL7hyQgAApl8vuHJCAADkqC+4ckIAACLyL7hyQgAAYDswuHJCAACehDC4ckIAANzNMLhyQgAAGhcxuHJCAABYYDG4ckIAAJapMbhyQgAA1PIxuHJCAAASPDK4ckIAAFCFMrhyQgAAjs4yuHJCAADMFzO4ckIAAAphM7hyQgAASKozuHJCAACG8zO4ckIAAMQ8NLhyQgAAAoY0uHJCAABAzzS4ckIAAH4YNbhyQgAAvGE1uHJCAAD6qjW4ckIAADj0NbhyQgAAdj02uHJCAAC0hja4ckIAAPLPNrhyQgAAMBk3uHJCAABuYje4ckIAAKyrN7hyQgAA6vQ3uHJCAAAoPji4ckIAAGaHOLhyQgAApNA4uHJCAADiGTm4ckIAACBjObhyQgAAXqw5uHJCAACc9Tm4ckIAANo+OrhyQgAAGIg6uHJCAABW0Tq4ckIAAJQaO7hyQgAA0mM7uHJCAAAQrTu4ckIAAE72O7hyQgAAjD88uHJCAADKiDy4ckIAAAjSPLhyQgAARhs9uHJCAACEZD24ckIAAMKtPbhyQgAAAPc9uHJCAAA+QD64ckIAAHyJPrhyQgAAutI+uHJCAAD4Gz+4ckIAADZlP7hyQgAAdK4/uHJC\",\"dtype\":\"float64\",\"shape\":[288]},\"y\":[143,147,150,152,152,152,154,155,142,140,138,134,131,130,128,127,126,126,126,126,127,129,131,132,134,136,136,136,136,135,134,132,130,130,130,129,128,127,125,124,123,123,122,121,120,118,115,112,111,111,110,110,109,108,107,107,107,108,107,105,105,105,105,104,103,102,99,97,96,94,94,93,93,92,91,92,94,95,96,97,99,102,104,112,112,112,111,110,107,104,105,105,103,99,96,94,95,102,114,128,144,160,173,185,196,205,209,214,219,226,234,241,248,255,260,265,268,270,272,271,271,268,265,261,256,253,250,246,244,241,237,233,229,225,222,204,200,197,193,190,186,182,179,175,171,168,164,158,154,151,148,145,141,133,139,152,173,196,217,233,244,249,250,253,256,260,263,265,265,264,260,254,246,234,217,200,188,181,175,169,164,159,154,147,138,132,129,127,123,117,111,106,104,103,100,94,88,83,78,75,73,71,69,68,67,67,68,70,71,71,70,69,68,67,67,67,66,67,69,71,74,76,78,80,80,80,80,80,80,82,84,87,90,92,87,87,86,86,86,86,87,87,87,85,83,82,83,87,95,107,118,130,141,149,172,179,187,201,214,221,225,230,232,230,223,216,208,199,191,185,181,177,176,177,176,173,171,169,163,154,152,153,154,154,153,151,150,150]}},\"id\":\"b5e985df-907a-481a-9566-6d8d9628ae2b\",\"type\":\"ColumnDataSource\"},{\"attributes\":{\"data_source\":{\"id\":\"e772a025-c0e7-43ae-9032-448209c17e50\",\"type\":\"ColumnDataSource\"},\"glyph\":{\"id\":\"0fde16a0-471d-4eef-9dcc-538bdbd57bc3\",\"type\":\"Circle\"},\"hover_glyph\":{\"id\":\"47b44c5d-daac-4835-a4f8-5d6e1f52b959\",\"type\":\"Circle\"},\"muted_glyph\":null,\"nonselection_glyph\":{\"id\":\"424c5ea6-c202-4e56-a9a0-33362d9109b5\",\"type\":\"Circle\"},\"selection_glyph\":null,\"view\":{\"id\":\"31c6440a-a991-470c-a094-95ae62c68864\",\"type\":\"CDSView\"}},\"id\":\"e4d92129-45bd-4cef-96c7-75b5d8b064e5\",\"type\":\"GlyphRenderer\"},{\"attributes\":{\"data_source\":{\"id\":\"b5e985df-907a-481a-9566-6d8d9628ae2b\",\"type\":\"ColumnDataSource\"},\"glyph\":{\"id\":\"7715e5d4-d99e-4bbc-95b1-4101a9947366\",\"type\":\"Line\"},\"hover_glyph\":null,\"muted_glyph\":null,\"nonselection_glyph\":{\"id\":\"a7a636b1-e676-4787-a82d-6b22ac244051\",\"type\":\"Line\"},\"selection_glyph\":null,\"view\":{\"id\":\"07be0fd7-faa5-4760-b9c7-5560cca517ca\",\"type\":\"CDSView\"}},\"id\":\"e2458b82-2b13-4dee-8e7b-746107b2ce0f\",\"type\":\"GlyphRenderer\"},{\"attributes\":{\"axis_label\":\"bsd\",\"formatter\":{\"id\":\"5ef3e757-7bed-4cb2-ab82-debf48e004ce\",\"type\":\"BasicTickFormatter\"},\"plot\":{\"id\":\"94783d75-be5b-4050-b28d-3de934cc0546\",\"subtype\":\"Figure\",\"type\":\"Plot\"},\"ticker\":{\"id\":\"1541ebac-a788-4828-82a1-0db0bb542080\",\"type\":\"BasicTicker\"}},\"id\":\"3e79ffde-4ed8-4601-aa8c-4251c3744bf1\",\"type\":\"LinearAxis\"},{\"attributes\":{\"months\":[0,1,2,3,4,5,6,7,8,9,10,11]},\"id\":\"9cfe3b66-48df-41c2-ae67-1979fcfd31b8\",\"type\":\"MonthsTicker\"},{\"attributes\":{\"source\":{\"id\":\"b5e985df-907a-481a-9566-6d8d9628ae2b\",\"type\":\"ColumnDataSource\"}},\"id\":\"07be0fd7-faa5-4760-b9c7-5560cca517ca\",\"type\":\"CDSView\"},{\"attributes\":{\"months\":[0,6]},\"id\":\"a0efad43-caa1-46a5-a84e-7356b9bd9b69\",\"type\":\"MonthsTicker\"},{\"attributes\":{},\"id\":\"1541ebac-a788-4828-82a1-0db0bb542080\",\"type\":\"BasicTicker\"},{\"attributes\":{\"num_minor_ticks\":5,\"tickers\":[{\"id\":\"79ac9c69-5341-46ba-855b-3d77a3cfd10d\",\"type\":\"AdaptiveTicker\"},{\"id\":\"287940d9-7b18-4a6d-81a6-1be0073898f2\",\"type\":\"AdaptiveTicker\"},{\"id\":\"8b357ca2-dbdd-485a-9176-9f4dba137481\",\"type\":\"AdaptiveTicker\"},{\"id\":\"e3753454-6370-47b5-900d-f7b5d92221bc\",\"type\":\"DaysTicker\"},{\"id\":\"b27a1a61-5542-4869-868f-12ea5ec88ff9\",\"type\":\"DaysTicker\"},{\"id\":\"8a8f5b67-6313-4dd2-9b58-bbc630d15136\",\"type\":\"DaysTicker\"},{\"id\":\"2b0225d1-f969-44d5-b761-7ecceb2a30e3\",\"type\":\"DaysTicker\"},{\"id\":\"9cfe3b66-48df-41c2-ae67-1979fcfd31b8\",\"type\":\"MonthsTicker\"},{\"id\":\"be87f698-b96e-48be-9345-964ccc6fe6cf\",\"type\":\"MonthsTicker\"},{\"id\":\"2ac3d23a-eb01-403c-85eb-55715836cd36\",\"type\":\"MonthsTicker\"},{\"id\":\"a0efad43-caa1-46a5-a84e-7356b9bd9b69\",\"type\":\"MonthsTicker\"},{\"id\":\"2cd2d034-0dda-4a2a-b6f7-8f908f4edac3\",\"type\":\"YearsTicker\"}]},\"id\":\"fa0a1da7-903c-438a-994e-ea5f890cbc39\",\"type\":\"DatetimeTicker\"},{\"attributes\":{\"base\":24,\"mantissas\":[1,2,4,6,8,12],\"max_interval\":43200000.0,\"min_interval\":3600000.0,\"num_minor_ticks\":0},\"id\":\"8b357ca2-dbdd-485a-9176-9f4dba137481\",\"type\":\"AdaptiveTicker\"},{\"attributes\":{\"mantissas\":[1,2,5],\"max_interval\":500.0,\"num_minor_ticks\":0},\"id\":\"79ac9c69-5341-46ba-855b-3d77a3cfd10d\",\"type\":\"AdaptiveTicker\"},{\"attributes\":{\"fill_alpha\":{\"value\":0.05},\"fill_color\":{\"value\":\"grey\"},\"line_color\":{\"value\":null},\"size\":{\"units\":\"screen\",\"value\":8},\"x\":{\"field\":\"x\"},\"y\":{\"field\":\"y\"}},\"id\":\"0fde16a0-471d-4eef-9dcc-538bdbd57bc3\",\"type\":\"Circle\"},{\"attributes\":{},\"id\":\"f1c78984-1a94-4d4d-9f33-e25635b50dc8\",\"type\":\"LinearScale\"},{\"attributes\":{\"days\":[1,2,3,4,5,6,7,8,9,10,11,12,13,14,15,16,17,18,19,20,21,22,23,24,25,26,27,28,29,30,31]},\"id\":\"e3753454-6370-47b5-900d-f7b5d92221bc\",\"type\":\"DaysTicker\"},{\"attributes\":{\"callback\":null},\"id\":\"6725e578-2e61-4b60-8645-6c87a98e950c\",\"type\":\"DataRange1d\"},{\"attributes\":{},\"id\":\"e442f1f6-82c0-4662-ab49-bfd1d958d984\",\"type\":\"DatetimeTickFormatter\"},{\"attributes\":{},\"id\":\"75c177d8-e215-495e-b923-4b98208dabd8\",\"type\":\"LinearScale\"},{\"attributes\":{\"days\":[1,4,7,10,13,16,19,22,25,28]},\"id\":\"b27a1a61-5542-4869-868f-12ea5ec88ff9\",\"type\":\"DaysTicker\"},{\"attributes\":{\"plot\":null,\"text\":\"Hover over points\"},\"id\":\"6803ada4-7613-426f-b5ee-1ad21fb583d5\",\"type\":\"Title\"},{\"attributes\":{\"below\":[{\"id\":\"87f2a611-b73e-4671-aa4f-66c1a1df4161\",\"type\":\"DatetimeAxis\"}],\"left\":[{\"id\":\"3e79ffde-4ed8-4601-aa8c-4251c3744bf1\",\"type\":\"LinearAxis\"}],\"plot_height\":300,\"renderers\":[{\"id\":\"87f2a611-b73e-4671-aa4f-66c1a1df4161\",\"type\":\"DatetimeAxis\"},{\"id\":\"3638b000-a4c4-46f7-b9b9-c563d49ece10\",\"type\":\"Grid\"},{\"id\":\"3e79ffde-4ed8-4601-aa8c-4251c3744bf1\",\"type\":\"LinearAxis\"},{\"id\":\"affc9fe4-0d0a-493e-9a0c-6068b93508fe\",\"type\":\"Grid\"},{\"id\":\"84e4bd41-237b-486d-bc5e-1e781cc1fea0\",\"type\":\"BoxAnnotation\"},{\"id\":\"e2458b82-2b13-4dee-8e7b-746107b2ce0f\",\"type\":\"GlyphRenderer\"},{\"id\":\"e4d92129-45bd-4cef-96c7-75b5d8b064e5\",\"type\":\"GlyphRenderer\"}],\"title\":{\"id\":\"6803ada4-7613-426f-b5ee-1ad21fb583d5\",\"type\":\"Title\"},\"toolbar\":{\"id\":\"f6860537-202b-4a59-a2e6-31eebd45d34a\",\"type\":\"Toolbar\"},\"x_range\":{\"id\":\"6725e578-2e61-4b60-8645-6c87a98e950c\",\"type\":\"DataRange1d\"},\"x_scale\":{\"id\":\"75c177d8-e215-495e-b923-4b98208dabd8\",\"type\":\"LinearScale\"},\"y_range\":{\"id\":\"b8edfe62-d6dd-40d4-8271-0136ccb39e5a\",\"type\":\"DataRange1d\"},\"y_scale\":{\"id\":\"f1c78984-1a94-4d4d-9f33-e25635b50dc8\",\"type\":\"LinearScale\"}},\"id\":\"94783d75-be5b-4050-b28d-3de934cc0546\",\"subtype\":\"Figure\",\"type\":\"Plot\"}],\"root_ids\":[\"94783d75-be5b-4050-b28d-3de934cc0546\"]},\"title\":\"Bokeh Application\",\"version\":\"0.12.10\"}};\n",
       "    var render_items = [{\"docid\":\"fca18836-f603-4be2-8c9f-d9bd7a4b44a9\",\"elementid\":\"7944e3c8-181b-4df9-a0f8-29a7f4a0eb56\",\"modelid\":\"94783d75-be5b-4050-b28d-3de934cc0546\"}];\n",
       "\n",
       "    root.Bokeh.embed.embed_items(docs_json, render_items);\n",
       "  }\n",
       "\n",
       "  if (root.Bokeh !== undefined) {\n",
       "    embed_document(root);\n",
       "  } else {\n",
       "    var attempts = 0;\n",
       "    var timer = setInterval(function(root) {\n",
       "      if (root.Bokeh !== undefined) {\n",
       "        embed_document(root);\n",
       "        clearInterval(timer);\n",
       "      }\n",
       "      attempts++;\n",
       "      if (attempts > 100) {\n",
       "        console.log(\"Bokeh: ERROR: Unable to embed document because BokehJS library is missing\")\n",
       "        clearInterval(timer);\n",
       "      }\n",
       "    }, 10, root)\n",
       "  }\n",
       "})(window);"
      ],
      "application/vnd.bokehjs_exec.v0+json": ""
     },
     "metadata": {
      "application/vnd.bokehjs_exec.v0+json": {
       "id": "94783d75-be5b-4050-b28d-3de934cc0546"
      }
     },
     "output_type": "display_data"
    }
   ],
   "source": [
    "# EXERCISE: experiment with standard, selected, hover glyph visual properties\n",
    "from bokeh.models.tools import HoverTool\n",
    "from bokeh.sampledata.glucose import data\n",
    "\n",
    "subset = data.loc['2010-10-06']\n",
    "\n",
    "x, y = subset.index.to_series(), subset['glucose']\n",
    "\n",
    "# Basic plot setup\n",
    "p = figure(width=600, height=300, x_axis_type=\"datetime\", title='Hover over points')\n",
    "\n",
    "p.line(x, y, color='black')\n",
    "\n",
    "p.xaxis.major_label_orientation = 'vertical'\n",
    "p.yaxis.axis_label = 'bsd'\n",
    "# Remove logo\n",
    "p.toolbar.logo = None\n",
    "\n",
    "cr = p.circle(x, y, size=8,\n",
    "              fill_color=\"grey\", hover_fill_color=\"firebrick\",\n",
    "              fill_alpha=0.05, hover_alpha=0.3,\n",
    "              line_color=None, hover_line_color=\"white\")\n",
    "\n",
    "p.add_tools(HoverTool(tooltips=[('asd','@y'),('bsd','@x')], renderers=[cr]))#, mode='hline'))\n",
    "\n",
    "show(p)"
   ]
  },
  {
   "cell_type": "markdown",
   "metadata": {},
   "source": [
    "# Axes\n",
    "\n",
    "[Axes](http://bokeh.pydata.org/en/latest/docs/user_guide/styling.html#axes)\n",
    "\n",
    "To style axes, you first must get ahold of `Axis` objects. The simplest way is to use some convenience methods on `Plot`: [axis](http://bokeh.pydata.org/en/latest/docs/reference/plotting.html#bokeh.plotting.Figure.axis), [xaxis](http://bokeh.pydata.org/en/latest/docs/reference/plotting.html#bokeh.plotting.Figure.xaxis), and [yaxis](http://bokeh.pydata.org/en/latest/docs/reference/plotting.html#bokeh.plotting.Figure.yaxis). These methods return lists of axis objects:\n",
    "\n",
    "```\n",
    ">>> p.xaxis\n",
    "[<bokeh.models.axes.LinearAxis at 0x106fa2390>]\n",
    "```\n",
    "However, you can set properties on all the elements of the list as if it was a single object:\n",
    "```\n",
    "p.xaxis.axis_label = \"Temperature\"\n",
    "p.axis.major_label_text_color = \"orange\"\n",
    "```\n",
    "These are referred to as \"splattable\" lists, and tab completion works on them as well. \n"
   ]
  },
  {
   "cell_type": "code",
   "execution_count": 56,
   "metadata": {},
   "outputs": [],
   "source": [
    "# EXERCISE Try out tab completion. Type p.xaxis.<press tab key> to see a list of attributes that can be set.\n",
    "\n"
   ]
  },
  {
   "cell_type": "markdown",
   "metadata": {},
   "source": [
    "* **axis** \n",
    " - [line properties](http://bokeh.pydata.org/en/latest/docs/user_guide/styling.html#line-properties)\n",
    "* **axis_label** \n",
    " - [text properties](http://bokeh.pydata.org/en/latest/docs/user_guide/styling.html#text-properties)\n",
    " - ``axis_label_standoff``\n",
    "* **major_label** \n",
    " - [text properties](http://bokeh.pydata.org/en/latest/docs/user_guide/styling.html#text-properties)\n",
    " - ``orientation``\n",
    "* **major_tick** \n",
    " - [line_properties](http://bokeh.pydata.org/en/latest/docs/user_guide/styling.html#line-properties)\n",
    " - ``major_tick_in`` \n",
    " - ``major_tick_out``\n",
    "* **minor_tick** \n",
    " - [line properties](http://bokeh.pydata.org/en/latest/docs/user_guide/styling.html#line-properties)\n",
    " - ``minor_tick_in``\n",
    " - ``minor_tick_out``\n",
    "\n",
    "As a simple first example, let's change the orientation of the major tick labels on both axes of a plot:"
   ]
  },
  {
   "cell_type": "code",
   "execution_count": 57,
   "metadata": {},
   "outputs": [
    {
     "data": {
      "text/html": [
       "\n",
       "<div class=\"bk-root\">\n",
       "    <div class=\"bk-plotdiv\" id=\"554361b1-206f-4fd6-a52c-44ea173694fc\"></div>\n",
       "</div>"
      ]
     },
     "metadata": {},
     "output_type": "display_data"
    },
    {
     "data": {
      "application/javascript": [
       "(function(root) {\n",
       "  function embed_document(root) {\n",
       "    var docs_json = {\"121de2fc-8590-477d-a04e-6c2d06ec349d\":{\"roots\":{\"references\":[{\"attributes\":{\"overlay\":{\"id\":\"624d042a-4468-4758-9f36-39396d3d9e25\",\"type\":\"BoxAnnotation\"}},\"id\":\"37bdb6ee-addf-4425-8d6c-be0d19086c1b\",\"type\":\"BoxZoomTool\"},{\"attributes\":{\"fill_alpha\":{\"value\":0.1},\"fill_color\":{\"value\":\"#1f77b4\"},\"line_alpha\":{\"value\":0.1},\"line_color\":{\"value\":\"#1f77b4\"},\"line_width\":{\"value\":2},\"size\":{\"units\":\"screen\",\"value\":10},\"x\":{\"field\":\"x\"},\"y\":{\"field\":\"y\"}},\"id\":\"24829f3d-d9b4-408d-a53d-0111036194cd\",\"type\":\"X\"},{\"attributes\":{\"plot\":{\"id\":\"e575c3c7-a5e6-4d3a-8c80-fc1b52210458\",\"subtype\":\"Figure\",\"type\":\"Plot\"},\"ticker\":{\"id\":\"4965179d-9b19-439e-b7ee-f3f7ed0fb05d\",\"type\":\"BasicTicker\"}},\"id\":\"c52a74f0-38fb-47c7-9d75-5868942ca59f\",\"type\":\"Grid\"},{\"attributes\":{},\"id\":\"e644ac6d-04a9-4e2f-8c3e-ac94b1bf5113\",\"type\":\"SaveTool\"},{\"attributes\":{\"source\":{\"id\":\"b74d190c-c9a7-4cec-8054-088080868b1a\",\"type\":\"ColumnDataSource\"}},\"id\":\"f561e275-04f3-4f48-85f2-346722e46e77\",\"type\":\"CDSView\"},{\"attributes\":{\"dimension\":1,\"plot\":{\"id\":\"e575c3c7-a5e6-4d3a-8c80-fc1b52210458\",\"subtype\":\"Figure\",\"type\":\"Plot\"},\"ticker\":{\"id\":\"d42a31d2-8864-4908-a627-d1b4c5d602b1\",\"type\":\"BasicTicker\"}},\"id\":\"9a216e3a-db0c-484e-9013-50fa964622f5\",\"type\":\"Grid\"},{\"attributes\":{\"callback\":null},\"id\":\"99d6bd45-24fd-44ca-8026-caf7f7852c5c\",\"type\":\"DataRange1d\"},{\"attributes\":{},\"id\":\"f9a864b4-35f6-4094-a6ac-47b6ef75e724\",\"type\":\"BasicTickFormatter\"},{\"attributes\":{\"callback\":null,\"column_names\":[\"y\",\"x\"],\"data\":{\"x\":[1,2,3,4,5],\"y\":[2,5,8,2,7]}},\"id\":\"b74d190c-c9a7-4cec-8054-088080868b1a\",\"type\":\"ColumnDataSource\"},{\"attributes\":{\"callback\":null},\"id\":\"abbcde08-3cdd-401a-ba81-174d80d295dc\",\"type\":\"DataRange1d\"},{\"attributes\":{\"plot\":null,\"text\":\"\"},\"id\":\"8742fd3d-1c9c-412b-b347-de456b6cf5fe\",\"type\":\"Title\"},{\"attributes\":{\"fill_color\":{\"value\":\"#1f77b4\"},\"line_color\":{\"value\":\"#1f77b4\"},\"line_width\":{\"value\":2},\"size\":{\"units\":\"screen\",\"value\":10},\"x\":{\"field\":\"x\"},\"y\":{\"field\":\"y\"}},\"id\":\"df3ca4bf-82a5-4fd2-a102-1be8df185516\",\"type\":\"X\"},{\"attributes\":{},\"id\":\"04b39cd2-bf47-45c1-918f-7893199eb39b\",\"type\":\"LinearScale\"},{\"attributes\":{\"below\":[{\"id\":\"e020bbea-5823-4ebc-a979-c90791f4a4a0\",\"type\":\"LinearAxis\"}],\"left\":[{\"id\":\"81517e2f-b3bd-4bf9-b82b-7e7588c1ca6b\",\"type\":\"LinearAxis\"}],\"plot_height\":400,\"plot_width\":400,\"renderers\":[{\"id\":\"e020bbea-5823-4ebc-a979-c90791f4a4a0\",\"type\":\"LinearAxis\"},{\"id\":\"c52a74f0-38fb-47c7-9d75-5868942ca59f\",\"type\":\"Grid\"},{\"id\":\"81517e2f-b3bd-4bf9-b82b-7e7588c1ca6b\",\"type\":\"LinearAxis\"},{\"id\":\"9a216e3a-db0c-484e-9013-50fa964622f5\",\"type\":\"Grid\"},{\"id\":\"624d042a-4468-4758-9f36-39396d3d9e25\",\"type\":\"BoxAnnotation\"},{\"id\":\"87b50162-0026-4b9f-8978-930998e0c103\",\"type\":\"GlyphRenderer\"}],\"title\":{\"id\":\"8742fd3d-1c9c-412b-b347-de456b6cf5fe\",\"type\":\"Title\"},\"toolbar\":{\"id\":\"73154722-1475-419b-b993-3850e2cad6a7\",\"type\":\"Toolbar\"},\"x_range\":{\"id\":\"99d6bd45-24fd-44ca-8026-caf7f7852c5c\",\"type\":\"DataRange1d\"},\"x_scale\":{\"id\":\"499b3a32-cbee-4b03-ae2e-bf1e977c70fa\",\"type\":\"LinearScale\"},\"y_range\":{\"id\":\"abbcde08-3cdd-401a-ba81-174d80d295dc\",\"type\":\"DataRange1d\"},\"y_scale\":{\"id\":\"04b39cd2-bf47-45c1-918f-7893199eb39b\",\"type\":\"LinearScale\"}},\"id\":\"e575c3c7-a5e6-4d3a-8c80-fc1b52210458\",\"subtype\":\"Figure\",\"type\":\"Plot\"},{\"attributes\":{\"formatter\":{\"id\":\"f9a864b4-35f6-4094-a6ac-47b6ef75e724\",\"type\":\"BasicTickFormatter\"},\"major_label_orientation\":0.7853981633974483,\"plot\":{\"id\":\"e575c3c7-a5e6-4d3a-8c80-fc1b52210458\",\"subtype\":\"Figure\",\"type\":\"Plot\"},\"ticker\":{\"id\":\"4965179d-9b19-439e-b7ee-f3f7ed0fb05d\",\"type\":\"BasicTicker\"}},\"id\":\"e020bbea-5823-4ebc-a979-c90791f4a4a0\",\"type\":\"LinearAxis\"},{\"attributes\":{},\"id\":\"499b3a32-cbee-4b03-ae2e-bf1e977c70fa\",\"type\":\"LinearScale\"},{\"attributes\":{},\"id\":\"26c9fad3-f95b-433d-a6a9-30bd6934f076\",\"type\":\"PanTool\"},{\"attributes\":{\"formatter\":{\"id\":\"7ab884a3-4e14-47bf-95a8-f65a61dfec45\",\"type\":\"BasicTickFormatter\"},\"major_label_orientation\":\"vertical\",\"plot\":{\"id\":\"e575c3c7-a5e6-4d3a-8c80-fc1b52210458\",\"subtype\":\"Figure\",\"type\":\"Plot\"},\"ticker\":{\"id\":\"d42a31d2-8864-4908-a627-d1b4c5d602b1\",\"type\":\"BasicTicker\"}},\"id\":\"81517e2f-b3bd-4bf9-b82b-7e7588c1ca6b\",\"type\":\"LinearAxis\"},{\"attributes\":{\"bottom_units\":\"screen\",\"fill_alpha\":{\"value\":0.5},\"fill_color\":{\"value\":\"lightgrey\"},\"left_units\":\"screen\",\"level\":\"overlay\",\"line_alpha\":{\"value\":1.0},\"line_color\":{\"value\":\"black\"},\"line_dash\":[4,4],\"line_width\":{\"value\":2},\"plot\":null,\"render_mode\":\"css\",\"right_units\":\"screen\",\"top_units\":\"screen\"},\"id\":\"624d042a-4468-4758-9f36-39396d3d9e25\",\"type\":\"BoxAnnotation\"},{\"attributes\":{},\"id\":\"1ce63057-3628-4bef-84b2-8d6d84d066f0\",\"type\":\"ResetTool\"},{\"attributes\":{\"data_source\":{\"id\":\"b74d190c-c9a7-4cec-8054-088080868b1a\",\"type\":\"ColumnDataSource\"},\"glyph\":{\"id\":\"df3ca4bf-82a5-4fd2-a102-1be8df185516\",\"type\":\"X\"},\"hover_glyph\":null,\"muted_glyph\":null,\"nonselection_glyph\":{\"id\":\"24829f3d-d9b4-408d-a53d-0111036194cd\",\"type\":\"X\"},\"selection_glyph\":null,\"view\":{\"id\":\"f561e275-04f3-4f48-85f2-346722e46e77\",\"type\":\"CDSView\"}},\"id\":\"87b50162-0026-4b9f-8978-930998e0c103\",\"type\":\"GlyphRenderer\"},{\"attributes\":{\"active_drag\":\"auto\",\"active_inspect\":\"auto\",\"active_scroll\":\"auto\",\"active_tap\":\"auto\",\"tools\":[{\"id\":\"26c9fad3-f95b-433d-a6a9-30bd6934f076\",\"type\":\"PanTool\"},{\"id\":\"79918265-e45c-4406-8715-cb50098a1621\",\"type\":\"WheelZoomTool\"},{\"id\":\"37bdb6ee-addf-4425-8d6c-be0d19086c1b\",\"type\":\"BoxZoomTool\"},{\"id\":\"e644ac6d-04a9-4e2f-8c3e-ac94b1bf5113\",\"type\":\"SaveTool\"},{\"id\":\"1ce63057-3628-4bef-84b2-8d6d84d066f0\",\"type\":\"ResetTool\"},{\"id\":\"24e4a077-33ab-4a5c-ae4e-99ece6528e8f\",\"type\":\"HelpTool\"}]},\"id\":\"73154722-1475-419b-b993-3850e2cad6a7\",\"type\":\"Toolbar\"},{\"attributes\":{},\"id\":\"4965179d-9b19-439e-b7ee-f3f7ed0fb05d\",\"type\":\"BasicTicker\"},{\"attributes\":{},\"id\":\"d42a31d2-8864-4908-a627-d1b4c5d602b1\",\"type\":\"BasicTicker\"},{\"attributes\":{},\"id\":\"79918265-e45c-4406-8715-cb50098a1621\",\"type\":\"WheelZoomTool\"},{\"attributes\":{},\"id\":\"24e4a077-33ab-4a5c-ae4e-99ece6528e8f\",\"type\":\"HelpTool\"},{\"attributes\":{},\"id\":\"7ab884a3-4e14-47bf-95a8-f65a61dfec45\",\"type\":\"BasicTickFormatter\"}],\"root_ids\":[\"e575c3c7-a5e6-4d3a-8c80-fc1b52210458\"]},\"title\":\"Bokeh Application\",\"version\":\"0.12.10\"}};\n",
       "    var render_items = [{\"docid\":\"121de2fc-8590-477d-a04e-6c2d06ec349d\",\"elementid\":\"554361b1-206f-4fd6-a52c-44ea173694fc\",\"modelid\":\"e575c3c7-a5e6-4d3a-8c80-fc1b52210458\"}];\n",
       "\n",
       "    root.Bokeh.embed.embed_items(docs_json, render_items);\n",
       "  }\n",
       "\n",
       "  if (root.Bokeh !== undefined) {\n",
       "    embed_document(root);\n",
       "  } else {\n",
       "    var attempts = 0;\n",
       "    var timer = setInterval(function(root) {\n",
       "      if (root.Bokeh !== undefined) {\n",
       "        embed_document(root);\n",
       "        clearInterval(timer);\n",
       "      }\n",
       "      attempts++;\n",
       "      if (attempts > 100) {\n",
       "        console.log(\"Bokeh: ERROR: Unable to embed document because BokehJS library is missing\")\n",
       "        clearInterval(timer);\n",
       "      }\n",
       "    }, 10, root)\n",
       "  }\n",
       "})(window);"
      ],
      "application/vnd.bokehjs_exec.v0+json": ""
     },
     "metadata": {
      "application/vnd.bokehjs_exec.v0+json": {
       "id": "e575c3c7-a5e6-4d3a-8c80-fc1b52210458"
      }
     },
     "output_type": "display_data"
    }
   ],
   "source": [
    "from math import pi\n",
    "\n",
    "p = figure(plot_width=400, plot_height=400)\n",
    "p.x([1,2,3,4,5], [2,5,8,2,7], size=10, line_width=2)\n",
    "\n",
    "p.xaxis.major_label_orientation = pi/4\n",
    "p.yaxis.major_label_orientation = \"vertical\"\n",
    "\n",
    "show(p)"
   ]
  },
  {
   "cell_type": "markdown",
   "metadata": {},
   "source": [
    "The next example shows customizations on several of the different Axis properties at once:"
   ]
  },
  {
   "cell_type": "code",
   "execution_count": 58,
   "metadata": {},
   "outputs": [
    {
     "data": {
      "text/html": [
       "\n",
       "<div class=\"bk-root\">\n",
       "    <div class=\"bk-plotdiv\" id=\"9a29e853-e851-495b-9676-4559aeae6d00\"></div>\n",
       "</div>"
      ]
     },
     "metadata": {},
     "output_type": "display_data"
    },
    {
     "data": {
      "application/javascript": [
       "(function(root) {\n",
       "  function embed_document(root) {\n",
       "    var docs_json = {\"bf4edb0d-1fff-4758-94fc-882009bc19de\":{\"roots\":{\"references\":[{\"attributes\":{\"overlay\":{\"id\":\"1701d0e5-02c1-4440-8bb4-19f57e0966ce\",\"type\":\"BoxAnnotation\"}},\"id\":\"cf4a7a98-a8f3-403e-b844-3642a9384863\",\"type\":\"BoxZoomTool\"},{\"attributes\":{\"fill_alpha\":{\"value\":0.1},\"fill_color\":{\"value\":\"#1f77b4\"},\"line_alpha\":{\"value\":0.1},\"line_color\":{\"value\":\"#1f77b4\"},\"size\":{\"units\":\"screen\",\"value\":12},\"x\":{\"field\":\"x\"},\"y\":{\"field\":\"y\"}},\"id\":\"68a0746e-1545-4487-aaf9-b5b66670c0d3\",\"type\":\"Asterisk\"},{\"attributes\":{\"bottom_units\":\"screen\",\"fill_alpha\":{\"value\":0.5},\"fill_color\":{\"value\":\"lightgrey\"},\"left_units\":\"screen\",\"level\":\"overlay\",\"line_alpha\":{\"value\":1.0},\"line_color\":{\"value\":\"black\"},\"line_dash\":[4,4],\"line_width\":{\"value\":2},\"plot\":null,\"render_mode\":\"css\",\"right_units\":\"screen\",\"top_units\":\"screen\"},\"id\":\"1701d0e5-02c1-4440-8bb4-19f57e0966ce\",\"type\":\"BoxAnnotation\"},{\"attributes\":{},\"id\":\"fa70444d-f8c6-4369-992d-88a5696499e9\",\"type\":\"BasicTickFormatter\"},{\"attributes\":{\"axis_label\":\"Temp\",\"axis_line_color\":{\"value\":\"red\"},\"axis_line_width\":{\"value\":3},\"formatter\":{\"id\":\"d82340d2-d80b-4853-be0b-7152d316fc1e\",\"type\":\"BasicTickFormatter\"},\"minor_tick_in\":-3,\"minor_tick_out\":6,\"plot\":{\"id\":\"f711a123-08a0-49ea-98aa-74028e737b2b\",\"subtype\":\"Figure\",\"type\":\"Plot\"},\"ticker\":{\"id\":\"9c918335-9ab1-4c6f-aa04-74fe166f6557\",\"type\":\"BasicTicker\"}},\"id\":\"f50e8cec-e4ea-44b3-8cc1-5e394ed4f943\",\"type\":\"LinearAxis\"},{\"attributes\":{\"axis_label\":\"Pressure\",\"formatter\":{\"id\":\"fa70444d-f8c6-4369-992d-88a5696499e9\",\"type\":\"BasicTickFormatter\"},\"major_label_orientation\":\"vertical\",\"major_label_text_color\":{\"value\":\"orange\"},\"minor_tick_in\":-3,\"minor_tick_out\":6,\"plot\":{\"id\":\"f711a123-08a0-49ea-98aa-74028e737b2b\",\"subtype\":\"Figure\",\"type\":\"Plot\"},\"ticker\":{\"id\":\"7213a232-9345-49be-b850-e6c209e5b429\",\"type\":\"BasicTicker\"}},\"id\":\"517702fd-aeef-402e-b042-746a2908d8f3\",\"type\":\"LinearAxis\"},{\"attributes\":{},\"id\":\"599e162e-08dc-49b1-8f93-c86de7ff0c70\",\"type\":\"PanTool\"},{\"attributes\":{},\"id\":\"9fff0f74-2cec-4347-b976-e73d1d5d572c\",\"type\":\"LinearScale\"},{\"attributes\":{},\"id\":\"87aa01bb-5b34-41a4-b2dd-0acf99ed3fe3\",\"type\":\"ResetTool\"},{\"attributes\":{\"callback\":null},\"id\":\"659ed92a-4747-4faa-9ef9-a265a8530a0d\",\"type\":\"DataRange1d\"},{\"attributes\":{\"callback\":null},\"id\":\"85769ec4-c1be-4bf0-b3df-a61cc66b1355\",\"type\":\"DataRange1d\"},{\"attributes\":{},\"id\":\"3afea356-ac80-4f67-903c-6b7b5b89c2d6\",\"type\":\"WheelZoomTool\"},{\"attributes\":{\"dimension\":1,\"plot\":{\"id\":\"f711a123-08a0-49ea-98aa-74028e737b2b\",\"subtype\":\"Figure\",\"type\":\"Plot\"},\"ticker\":{\"id\":\"7213a232-9345-49be-b850-e6c209e5b429\",\"type\":\"BasicTicker\"}},\"id\":\"58532627-956d-4bac-a867-a6081b8ab971\",\"type\":\"Grid\"},{\"attributes\":{\"data_source\":{\"id\":\"88e80bd2-7ca2-479d-87f8-ef8049fdf4ec\",\"type\":\"ColumnDataSource\"},\"glyph\":{\"id\":\"3e8523d5-9ace-43bc-bd1e-bf44e29cbf73\",\"type\":\"Asterisk\"},\"hover_glyph\":null,\"muted_glyph\":null,\"nonselection_glyph\":{\"id\":\"68a0746e-1545-4487-aaf9-b5b66670c0d3\",\"type\":\"Asterisk\"},\"selection_glyph\":null,\"view\":{\"id\":\"9ed15242-629d-4254-85bb-c5ad2cd23b71\",\"type\":\"CDSView\"}},\"id\":\"ce94e769-d36a-4b7b-96d3-4b9dd5acb01a\",\"type\":\"GlyphRenderer\"},{\"attributes\":{},\"id\":\"d82340d2-d80b-4853-be0b-7152d316fc1e\",\"type\":\"BasicTickFormatter\"},{\"attributes\":{},\"id\":\"26642ec3-affd-48e4-a81f-520d3977ae30\",\"type\":\"SaveTool\"},{\"attributes\":{},\"id\":\"71f5beca-5bc2-41de-b934-7a736a5af5d4\",\"type\":\"HelpTool\"},{\"attributes\":{\"active_drag\":\"auto\",\"active_inspect\":\"auto\",\"active_scroll\":\"auto\",\"active_tap\":\"auto\",\"tools\":[{\"id\":\"599e162e-08dc-49b1-8f93-c86de7ff0c70\",\"type\":\"PanTool\"},{\"id\":\"3afea356-ac80-4f67-903c-6b7b5b89c2d6\",\"type\":\"WheelZoomTool\"},{\"id\":\"cf4a7a98-a8f3-403e-b844-3642a9384863\",\"type\":\"BoxZoomTool\"},{\"id\":\"26642ec3-affd-48e4-a81f-520d3977ae30\",\"type\":\"SaveTool\"},{\"id\":\"87aa01bb-5b34-41a4-b2dd-0acf99ed3fe3\",\"type\":\"ResetTool\"},{\"id\":\"71f5beca-5bc2-41de-b934-7a736a5af5d4\",\"type\":\"HelpTool\"}]},\"id\":\"7e9a03ed-4cf8-4e94-94f5-e4c562cc6647\",\"type\":\"Toolbar\"},{\"attributes\":{\"fill_color\":{\"value\":\"olive\"},\"line_color\":{\"value\":\"olive\"},\"size\":{\"units\":\"screen\",\"value\":12},\"x\":{\"field\":\"x\"},\"y\":{\"field\":\"y\"}},\"id\":\"3e8523d5-9ace-43bc-bd1e-bf44e29cbf73\",\"type\":\"Asterisk\"},{\"attributes\":{\"callback\":null,\"column_names\":[\"y\",\"x\"],\"data\":{\"x\":[1,2,3,4,5],\"y\":[2,5,8,2,7]}},\"id\":\"88e80bd2-7ca2-479d-87f8-ef8049fdf4ec\",\"type\":\"ColumnDataSource\"},{\"attributes\":{\"source\":{\"id\":\"88e80bd2-7ca2-479d-87f8-ef8049fdf4ec\",\"type\":\"ColumnDataSource\"}},\"id\":\"9ed15242-629d-4254-85bb-c5ad2cd23b71\",\"type\":\"CDSView\"},{\"attributes\":{},\"id\":\"9c918335-9ab1-4c6f-aa04-74fe166f6557\",\"type\":\"BasicTicker\"},{\"attributes\":{\"below\":[{\"id\":\"f50e8cec-e4ea-44b3-8cc1-5e394ed4f943\",\"type\":\"LinearAxis\"}],\"left\":[{\"id\":\"517702fd-aeef-402e-b042-746a2908d8f3\",\"type\":\"LinearAxis\"}],\"plot_height\":400,\"plot_width\":400,\"renderers\":[{\"id\":\"f50e8cec-e4ea-44b3-8cc1-5e394ed4f943\",\"type\":\"LinearAxis\"},{\"id\":\"bbaaac0e-1446-459f-b151-50916a85411b\",\"type\":\"Grid\"},{\"id\":\"517702fd-aeef-402e-b042-746a2908d8f3\",\"type\":\"LinearAxis\"},{\"id\":\"58532627-956d-4bac-a867-a6081b8ab971\",\"type\":\"Grid\"},{\"id\":\"1701d0e5-02c1-4440-8bb4-19f57e0966ce\",\"type\":\"BoxAnnotation\"},{\"id\":\"ce94e769-d36a-4b7b-96d3-4b9dd5acb01a\",\"type\":\"GlyphRenderer\"}],\"title\":{\"id\":\"9cfa55bb-4991-41c3-9f5a-dd5c869ce2a8\",\"type\":\"Title\"},\"toolbar\":{\"id\":\"7e9a03ed-4cf8-4e94-94f5-e4c562cc6647\",\"type\":\"Toolbar\"},\"x_range\":{\"id\":\"659ed92a-4747-4faa-9ef9-a265a8530a0d\",\"type\":\"DataRange1d\"},\"x_scale\":{\"id\":\"9fff0f74-2cec-4347-b976-e73d1d5d572c\",\"type\":\"LinearScale\"},\"y_range\":{\"id\":\"85769ec4-c1be-4bf0-b3df-a61cc66b1355\",\"type\":\"DataRange1d\"},\"y_scale\":{\"id\":\"e5164708-139a-4404-adad-2fd31f99a32d\",\"type\":\"LinearScale\"}},\"id\":\"f711a123-08a0-49ea-98aa-74028e737b2b\",\"subtype\":\"Figure\",\"type\":\"Plot\"},{\"attributes\":{\"plot\":{\"id\":\"f711a123-08a0-49ea-98aa-74028e737b2b\",\"subtype\":\"Figure\",\"type\":\"Plot\"},\"ticker\":{\"id\":\"9c918335-9ab1-4c6f-aa04-74fe166f6557\",\"type\":\"BasicTicker\"}},\"id\":\"bbaaac0e-1446-459f-b151-50916a85411b\",\"type\":\"Grid\"},{\"attributes\":{\"plot\":null,\"text\":\"\"},\"id\":\"9cfa55bb-4991-41c3-9f5a-dd5c869ce2a8\",\"type\":\"Title\"},{\"attributes\":{},\"id\":\"7213a232-9345-49be-b850-e6c209e5b429\",\"type\":\"BasicTicker\"},{\"attributes\":{},\"id\":\"e5164708-139a-4404-adad-2fd31f99a32d\",\"type\":\"LinearScale\"}],\"root_ids\":[\"f711a123-08a0-49ea-98aa-74028e737b2b\"]},\"title\":\"Bokeh Application\",\"version\":\"0.12.10\"}};\n",
       "    var render_items = [{\"docid\":\"bf4edb0d-1fff-4758-94fc-882009bc19de\",\"elementid\":\"9a29e853-e851-495b-9676-4559aeae6d00\",\"modelid\":\"f711a123-08a0-49ea-98aa-74028e737b2b\"}];\n",
       "\n",
       "    root.Bokeh.embed.embed_items(docs_json, render_items);\n",
       "  }\n",
       "\n",
       "  if (root.Bokeh !== undefined) {\n",
       "    embed_document(root);\n",
       "  } else {\n",
       "    var attempts = 0;\n",
       "    var timer = setInterval(function(root) {\n",
       "      if (root.Bokeh !== undefined) {\n",
       "        embed_document(root);\n",
       "        clearInterval(timer);\n",
       "      }\n",
       "      attempts++;\n",
       "      if (attempts > 100) {\n",
       "        console.log(\"Bokeh: ERROR: Unable to embed document because BokehJS library is missing\")\n",
       "        clearInterval(timer);\n",
       "      }\n",
       "    }, 10, root)\n",
       "  }\n",
       "})(window);"
      ],
      "application/vnd.bokehjs_exec.v0+json": ""
     },
     "metadata": {
      "application/vnd.bokehjs_exec.v0+json": {
       "id": "f711a123-08a0-49ea-98aa-74028e737b2b"
      }
     },
     "output_type": "display_data"
    }
   ],
   "source": [
    "p = figure(plot_width=400, plot_height=400)\n",
    "p.asterisk([1,2,3,4,5], [2,5,8,2,7], size=12, color=\"olive\")\n",
    "\n",
    "# change just some things about the x-axes\n",
    "p.xaxis.axis_label = \"Temp\"\n",
    "p.xaxis.axis_line_width = 3\n",
    "p.xaxis.axis_line_color = \"red\"\n",
    "\n",
    "# change just some things about the y-axes\n",
    "p.yaxis.axis_label = \"Pressure\"\n",
    "p.yaxis.major_label_text_color = \"orange\"\n",
    "p.yaxis.major_label_orientation = \"vertical\"\n",
    "\n",
    "# change things on all axes\n",
    "p.axis.minor_tick_in = -3\n",
    "p.axis.minor_tick_out = 6\n",
    "\n",
    "show(p)"
   ]
  },
  {
   "cell_type": "code",
   "execution_count": 59,
   "metadata": {},
   "outputs": [],
   "source": [
    "# EXERCISE Create a plot of your own and customize several axis properties\n"
   ]
  },
  {
   "cell_type": "markdown",
   "metadata": {},
   "source": [
    "There are further customizations possible. See the [User Guide](http://bokeh.pydata.org/en/latest/docs/user_guide.html) for more information on topics such as [tick label formatting](http://bokeh.pydata.org/en/latest/docs/user_guide/styling.html#tick-label-formats) or [limiting axis bounds](http://bokeh.pydata.org/en/latest/docs/user_guide/styling.html#bounds)."
   ]
  },
  {
   "cell_type": "markdown",
   "metadata": {},
   "source": [
    "# Grids\n",
    "\n",
    "[Grids](http://bokeh.pydata.org/en/latest/docs/user_guide/styling.html#grids)\n",
    "\n",
    "* **grid** [line properties](http://bokeh.pydata.org/en/latest/docs/user_guide/styling.html#line-properties)\n",
    "* **band** [fill properties]()"
   ]
  },
  {
   "cell_type": "code",
   "execution_count": 63,
   "metadata": {},
   "outputs": [
    {
     "data": {
      "text/html": [
       "\n",
       "<div class=\"bk-root\">\n",
       "    <div class=\"bk-plotdiv\" id=\"43b84053-fb98-4941-bb37-3e4c084ca14e\"></div>\n",
       "</div>"
      ]
     },
     "metadata": {},
     "output_type": "display_data"
    },
    {
     "data": {
      "application/javascript": [
       "(function(root) {\n",
       "  function embed_document(root) {\n",
       "    var docs_json = {\"c00c20dd-3657-4bbc-b11c-1e0e51aef74f\":{\"roots\":{\"references\":[{\"attributes\":{},\"id\":\"03d6e152-13c2-4fc2-83fe-d65e0c363398\",\"type\":\"WheelZoomTool\"},{\"attributes\":{},\"id\":\"614f5b29-aeba-432e-a6d2-871330f22c21\",\"type\":\"LinearScale\"},{\"attributes\":{\"grid_line_color\":{\"value\":\"red\"},\"plot\":{\"id\":\"b0ac85ae-3353-4031-8376-3f698f9732e5\",\"subtype\":\"Figure\",\"type\":\"Plot\"},\"ticker\":{\"id\":\"8e3635e9-8f43-45e6-bdaa-0865c40393eb\",\"type\":\"BasicTicker\"}},\"id\":\"a6f56ee1-4a7e-4b7c-8384-db991964a09a\",\"type\":\"Grid\"},{\"attributes\":{\"formatter\":{\"id\":\"4a0bccee-98f1-4318-9ea8-d12adbd4c8fa\",\"type\":\"BasicTickFormatter\"},\"plot\":{\"id\":\"b0ac85ae-3353-4031-8376-3f698f9732e5\",\"subtype\":\"Figure\",\"type\":\"Plot\"},\"ticker\":{\"id\":\"1205a314-bebe-4196-adcc-715020e0a465\",\"type\":\"BasicTicker\"}},\"id\":\"b6d31634-7f25-4135-980f-7b0722eb1e1e\",\"type\":\"LinearAxis\"},{\"attributes\":{\"overlay\":{\"id\":\"f6e2cac7-7790-461a-94b9-a2449e4c7770\",\"type\":\"BoxAnnotation\"}},\"id\":\"f1dced78-99dd-4761-8f90-71ae3519733e\",\"type\":\"BoxZoomTool\"},{\"attributes\":{\"callback\":null},\"id\":\"0ea65d7c-8cc4-46cc-866c-a04af4793364\",\"type\":\"DataRange1d\"},{\"attributes\":{},\"id\":\"b0134fcc-9708-4420-920e-9a8349df0c15\",\"type\":\"PanTool\"},{\"attributes\":{\"fill_color\":{\"value\":\"#1f77b4\"},\"line_color\":{\"value\":\"#1f77b4\"},\"size\":{\"units\":\"screen\",\"value\":10},\"x\":{\"field\":\"x\"},\"y\":{\"field\":\"y\"}},\"id\":\"687365e6-09bb-4dda-a30a-a3ebae5d5661\",\"type\":\"Circle\"},{\"attributes\":{\"active_drag\":\"auto\",\"active_inspect\":\"auto\",\"active_scroll\":\"auto\",\"active_tap\":\"auto\",\"tools\":[{\"id\":\"b0134fcc-9708-4420-920e-9a8349df0c15\",\"type\":\"PanTool\"},{\"id\":\"03d6e152-13c2-4fc2-83fe-d65e0c363398\",\"type\":\"WheelZoomTool\"},{\"id\":\"f1dced78-99dd-4761-8f90-71ae3519733e\",\"type\":\"BoxZoomTool\"},{\"id\":\"de6cf76e-49c6-4664-9451-88f22c0fc429\",\"type\":\"SaveTool\"},{\"id\":\"b54dcfe7-7362-4275-83be-e04c3e275122\",\"type\":\"ResetTool\"},{\"id\":\"d71c00ee-dea1-4b7b-b38a-10d9f05307c7\",\"type\":\"HelpTool\"}]},\"id\":\"7816eaf2-4a6e-4c57-a551-d54b139aa82c\",\"type\":\"Toolbar\"},{\"attributes\":{\"callback\":null},\"id\":\"69d644f2-578e-491a-a782-70a666968884\",\"type\":\"DataRange1d\"},{\"attributes\":{\"formatter\":{\"id\":\"7b62f3d1-ec7f-4358-ad0a-b5feaa1c04cc\",\"type\":\"BasicTickFormatter\"},\"plot\":{\"id\":\"b0ac85ae-3353-4031-8376-3f698f9732e5\",\"subtype\":\"Figure\",\"type\":\"Plot\"},\"ticker\":{\"id\":\"8e3635e9-8f43-45e6-bdaa-0865c40393eb\",\"type\":\"BasicTicker\"}},\"id\":\"e5aad053-c538-4cb9-bd15-233af7440b30\",\"type\":\"LinearAxis\"},{\"attributes\":{\"plot\":null,\"text\":\"\"},\"id\":\"44624226-f090-4b30-8793-f3447f78594e\",\"type\":\"Title\"},{\"attributes\":{},\"id\":\"8e3635e9-8f43-45e6-bdaa-0865c40393eb\",\"type\":\"BasicTicker\"},{\"attributes\":{\"callback\":null,\"column_names\":[\"y\",\"x\"],\"data\":{\"x\":[1,2,3,4,5],\"y\":[2,5,8,2,7]}},\"id\":\"544e632a-7241-4914-adde-ff2330bb63b9\",\"type\":\"ColumnDataSource\"},{\"attributes\":{\"dimension\":1,\"grid_line_alpha\":{\"value\":0.5},\"grid_line_color\":{\"value\":\"blue\"},\"grid_line_dash\":[6,4],\"plot\":{\"id\":\"b0ac85ae-3353-4031-8376-3f698f9732e5\",\"subtype\":\"Figure\",\"type\":\"Plot\"},\"ticker\":{\"id\":\"1205a314-bebe-4196-adcc-715020e0a465\",\"type\":\"BasicTicker\"}},\"id\":\"a4d4b51a-73f0-4f9c-a6c4-eaa687ad5d24\",\"type\":\"Grid\"},{\"attributes\":{\"data_source\":{\"id\":\"544e632a-7241-4914-adde-ff2330bb63b9\",\"type\":\"ColumnDataSource\"},\"glyph\":{\"id\":\"687365e6-09bb-4dda-a30a-a3ebae5d5661\",\"type\":\"Circle\"},\"hover_glyph\":null,\"muted_glyph\":null,\"nonselection_glyph\":{\"id\":\"81ce68cb-7bd5-4899-ae16-6d2b58fc996a\",\"type\":\"Circle\"},\"selection_glyph\":null,\"view\":{\"id\":\"aa7259bc-c818-4e20-ac08-789414ce0942\",\"type\":\"CDSView\"}},\"id\":\"c4b367aa-96ef-4347-ba94-84325bd166dc\",\"type\":\"GlyphRenderer\"},{\"attributes\":{},\"id\":\"d71c00ee-dea1-4b7b-b38a-10d9f05307c7\",\"type\":\"HelpTool\"},{\"attributes\":{},\"id\":\"f808b1fd-c14f-4773-a19b-52f431f88016\",\"type\":\"LinearScale\"},{\"attributes\":{},\"id\":\"7b62f3d1-ec7f-4358-ad0a-b5feaa1c04cc\",\"type\":\"BasicTickFormatter\"},{\"attributes\":{},\"id\":\"1205a314-bebe-4196-adcc-715020e0a465\",\"type\":\"BasicTicker\"},{\"attributes\":{},\"id\":\"4a0bccee-98f1-4318-9ea8-d12adbd4c8fa\",\"type\":\"BasicTickFormatter\"},{\"attributes\":{\"fill_alpha\":{\"value\":0.1},\"fill_color\":{\"value\":\"#1f77b4\"},\"line_alpha\":{\"value\":0.1},\"line_color\":{\"value\":\"#1f77b4\"},\"size\":{\"units\":\"screen\",\"value\":10},\"x\":{\"field\":\"x\"},\"y\":{\"field\":\"y\"}},\"id\":\"81ce68cb-7bd5-4899-ae16-6d2b58fc996a\",\"type\":\"Circle\"},{\"attributes\":{\"source\":{\"id\":\"544e632a-7241-4914-adde-ff2330bb63b9\",\"type\":\"ColumnDataSource\"}},\"id\":\"aa7259bc-c818-4e20-ac08-789414ce0942\",\"type\":\"CDSView\"},{\"attributes\":{\"below\":[{\"id\":\"e5aad053-c538-4cb9-bd15-233af7440b30\",\"type\":\"LinearAxis\"}],\"left\":[{\"id\":\"b6d31634-7f25-4135-980f-7b0722eb1e1e\",\"type\":\"LinearAxis\"}],\"plot_height\":400,\"plot_width\":400,\"renderers\":[{\"id\":\"e5aad053-c538-4cb9-bd15-233af7440b30\",\"type\":\"LinearAxis\"},{\"id\":\"a6f56ee1-4a7e-4b7c-8384-db991964a09a\",\"type\":\"Grid\"},{\"id\":\"b6d31634-7f25-4135-980f-7b0722eb1e1e\",\"type\":\"LinearAxis\"},{\"id\":\"a4d4b51a-73f0-4f9c-a6c4-eaa687ad5d24\",\"type\":\"Grid\"},{\"id\":\"f6e2cac7-7790-461a-94b9-a2449e4c7770\",\"type\":\"BoxAnnotation\"},{\"id\":\"c4b367aa-96ef-4347-ba94-84325bd166dc\",\"type\":\"GlyphRenderer\"}],\"title\":{\"id\":\"44624226-f090-4b30-8793-f3447f78594e\",\"type\":\"Title\"},\"toolbar\":{\"id\":\"7816eaf2-4a6e-4c57-a551-d54b139aa82c\",\"type\":\"Toolbar\"},\"x_range\":{\"id\":\"0ea65d7c-8cc4-46cc-866c-a04af4793364\",\"type\":\"DataRange1d\"},\"x_scale\":{\"id\":\"f808b1fd-c14f-4773-a19b-52f431f88016\",\"type\":\"LinearScale\"},\"y_range\":{\"id\":\"69d644f2-578e-491a-a782-70a666968884\",\"type\":\"DataRange1d\"},\"y_scale\":{\"id\":\"614f5b29-aeba-432e-a6d2-871330f22c21\",\"type\":\"LinearScale\"}},\"id\":\"b0ac85ae-3353-4031-8376-3f698f9732e5\",\"subtype\":\"Figure\",\"type\":\"Plot\"},{\"attributes\":{},\"id\":\"b54dcfe7-7362-4275-83be-e04c3e275122\",\"type\":\"ResetTool\"},{\"attributes\":{\"bottom_units\":\"screen\",\"fill_alpha\":{\"value\":0.5},\"fill_color\":{\"value\":\"lightgrey\"},\"left_units\":\"screen\",\"level\":\"overlay\",\"line_alpha\":{\"value\":1.0},\"line_color\":{\"value\":\"black\"},\"line_dash\":[4,4],\"line_width\":{\"value\":2},\"plot\":null,\"render_mode\":\"css\",\"right_units\":\"screen\",\"top_units\":\"screen\"},\"id\":\"f6e2cac7-7790-461a-94b9-a2449e4c7770\",\"type\":\"BoxAnnotation\"},{\"attributes\":{},\"id\":\"de6cf76e-49c6-4664-9451-88f22c0fc429\",\"type\":\"SaveTool\"}],\"root_ids\":[\"b0ac85ae-3353-4031-8376-3f698f9732e5\"]},\"title\":\"Bokeh Application\",\"version\":\"0.12.10\"}};\n",
       "    var render_items = [{\"docid\":\"c00c20dd-3657-4bbc-b11c-1e0e51aef74f\",\"elementid\":\"43b84053-fb98-4941-bb37-3e4c084ca14e\",\"modelid\":\"b0ac85ae-3353-4031-8376-3f698f9732e5\"}];\n",
       "\n",
       "    root.Bokeh.embed.embed_items(docs_json, render_items);\n",
       "  }\n",
       "\n",
       "  if (root.Bokeh !== undefined) {\n",
       "    embed_document(root);\n",
       "  } else {\n",
       "    var attempts = 0;\n",
       "    var timer = setInterval(function(root) {\n",
       "      if (root.Bokeh !== undefined) {\n",
       "        embed_document(root);\n",
       "        clearInterval(timer);\n",
       "      }\n",
       "      attempts++;\n",
       "      if (attempts > 100) {\n",
       "        console.log(\"Bokeh: ERROR: Unable to embed document because BokehJS library is missing\")\n",
       "        clearInterval(timer);\n",
       "      }\n",
       "    }, 10, root)\n",
       "  }\n",
       "})(window);"
      ],
      "application/vnd.bokehjs_exec.v0+json": ""
     },
     "metadata": {
      "application/vnd.bokehjs_exec.v0+json": {
       "id": "b0ac85ae-3353-4031-8376-3f698f9732e5"
      }
     },
     "output_type": "display_data"
    }
   ],
   "source": [
    "p = figure(plot_width=400, plot_height=400)\n",
    "p.circle([1,2,3,4,5], [2,5,8,2,7], size=10)\n",
    "\n",
    "# change just some things about the x-grid\n",
    "p.xgrid.grid_line_color = 'red'\n",
    "\n",
    "# change just some things about the y-grid\n",
    "p.ygrid.grid_line_alpha = 0.5\n",
    "p.ygrid.grid_line_dash = [6, 4]\n",
    "p.ygrid.grid_line_color = 'blue'\n",
    "\n",
    "show(p)"
   ]
  },
  {
   "cell_type": "code",
   "execution_count": 64,
   "metadata": {},
   "outputs": [
    {
     "data": {
      "text/html": [
       "\n",
       "<div class=\"bk-root\">\n",
       "    <div class=\"bk-plotdiv\" id=\"eb7a69c2-d479-4dbd-8471-658b7426cf56\"></div>\n",
       "</div>"
      ]
     },
     "metadata": {},
     "output_type": "display_data"
    },
    {
     "data": {
      "application/javascript": [
       "(function(root) {\n",
       "  function embed_document(root) {\n",
       "    var docs_json = {\"f502ffff-50e8-4912-99ce-8c87d2e78b30\":{\"roots\":{\"references\":[{\"attributes\":{\"active_drag\":\"auto\",\"active_inspect\":\"auto\",\"active_scroll\":\"auto\",\"active_tap\":\"auto\",\"tools\":[{\"id\":\"fb7d018c-72e6-424f-b463-b3a1f4871949\",\"type\":\"PanTool\"},{\"id\":\"5734c778-14f9-4516-acbd-285a237f8d6e\",\"type\":\"WheelZoomTool\"},{\"id\":\"6eb6628d-d9fd-44ca-93f9-0b35b7974a42\",\"type\":\"BoxZoomTool\"},{\"id\":\"8a82c24f-edeb-45f1-af2d-088dbf547d9c\",\"type\":\"SaveTool\"},{\"id\":\"9ce26464-f1e9-4235-aef9-655648579410\",\"type\":\"ResetTool\"},{\"id\":\"d7c23eb3-4555-462e-a43c-b6ba467c498f\",\"type\":\"HelpTool\"}]},\"id\":\"b81bfa91-8bad-4195-b87c-443d08bd08c9\",\"type\":\"Toolbar\"},{\"attributes\":{},\"id\":\"472d7112-32e5-495f-bdf7-e857160bcbdd\",\"type\":\"BasicTickFormatter\"},{\"attributes\":{\"callback\":null},\"id\":\"215fdfe7-c6ee-49a6-bc1c-645a342fc000\",\"type\":\"DataRange1d\"},{\"attributes\":{\"formatter\":{\"id\":\"472d7112-32e5-495f-bdf7-e857160bcbdd\",\"type\":\"BasicTickFormatter\"},\"plot\":{\"id\":\"61109dee-7ae1-42ce-9f0a-9a3a0e8635f9\",\"subtype\":\"Figure\",\"type\":\"Plot\"},\"ticker\":{\"id\":\"6ea03a33-2158-4bad-9c2c-e65a7062edc4\",\"type\":\"BasicTicker\"}},\"id\":\"92a80c35-2dec-4a6c-8af3-9a74339ae4af\",\"type\":\"LinearAxis\"},{\"attributes\":{\"fill_color\":{\"value\":\"#1f77b4\"},\"line_color\":{\"value\":\"#1f77b4\"},\"size\":{\"units\":\"screen\",\"value\":10},\"x\":{\"field\":\"x\"},\"y\":{\"field\":\"y\"}},\"id\":\"7aba6451-5b0c-4845-b4dd-a9ca076739a5\",\"type\":\"Circle\"},{\"attributes\":{},\"id\":\"6ea03a33-2158-4bad-9c2c-e65a7062edc4\",\"type\":\"BasicTicker\"},{\"attributes\":{},\"id\":\"e09fc34b-83f1-4211-b941-b03706702b18\",\"type\":\"BasicTicker\"},{\"attributes\":{\"plot\":null,\"text\":\"\"},\"id\":\"a3e999c5-743a-4449-85e5-7aad8897f2b6\",\"type\":\"Title\"},{\"attributes\":{\"band_fill_alpha\":{\"value\":0.1},\"band_fill_color\":{\"value\":\"navy\"},\"dimension\":1,\"plot\":{\"id\":\"61109dee-7ae1-42ce-9f0a-9a3a0e8635f9\",\"subtype\":\"Figure\",\"type\":\"Plot\"},\"ticker\":{\"id\":\"e09fc34b-83f1-4211-b941-b03706702b18\",\"type\":\"BasicTicker\"}},\"id\":\"512de948-75d4-449b-9741-8708435a69f6\",\"type\":\"Grid\"},{\"attributes\":{\"formatter\":{\"id\":\"d3f8caba-2429-4615-9e41-d7521106ddac\",\"type\":\"BasicTickFormatter\"},\"plot\":{\"id\":\"61109dee-7ae1-42ce-9f0a-9a3a0e8635f9\",\"subtype\":\"Figure\",\"type\":\"Plot\"},\"ticker\":{\"id\":\"e09fc34b-83f1-4211-b941-b03706702b18\",\"type\":\"BasicTicker\"}},\"id\":\"0fb45a2a-30f3-458e-af4c-2957136b45f8\",\"type\":\"LinearAxis\"},{\"attributes\":{\"source\":{\"id\":\"6ea1968f-5497-44fa-b797-1d800079b78f\",\"type\":\"ColumnDataSource\"}},\"id\":\"00e17780-0da5-4acb-81aa-e2e789900cdf\",\"type\":\"CDSView\"},{\"attributes\":{},\"id\":\"d7c23eb3-4555-462e-a43c-b6ba467c498f\",\"type\":\"HelpTool\"},{\"attributes\":{},\"id\":\"fb7d018c-72e6-424f-b463-b3a1f4871949\",\"type\":\"PanTool\"},{\"attributes\":{\"bottom_units\":\"screen\",\"fill_alpha\":{\"value\":0.5},\"fill_color\":{\"value\":\"lightgrey\"},\"left_units\":\"screen\",\"level\":\"overlay\",\"line_alpha\":{\"value\":1.0},\"line_color\":{\"value\":\"black\"},\"line_dash\":[4,4],\"line_width\":{\"value\":2},\"plot\":null,\"render_mode\":\"css\",\"right_units\":\"screen\",\"top_units\":\"screen\"},\"id\":\"456945ee-39e8-41a2-b058-3f69df085e6e\",\"type\":\"BoxAnnotation\"},{\"attributes\":{\"data_source\":{\"id\":\"6ea1968f-5497-44fa-b797-1d800079b78f\",\"type\":\"ColumnDataSource\"},\"glyph\":{\"id\":\"7aba6451-5b0c-4845-b4dd-a9ca076739a5\",\"type\":\"Circle\"},\"hover_glyph\":null,\"muted_glyph\":null,\"nonselection_glyph\":{\"id\":\"b3d2e7bd-d9d6-47ff-988f-c4ac4193907e\",\"type\":\"Circle\"},\"selection_glyph\":null,\"view\":{\"id\":\"00e17780-0da5-4acb-81aa-e2e789900cdf\",\"type\":\"CDSView\"}},\"id\":\"affe763a-f0b3-48ce-a4b4-af7b1fb6145f\",\"type\":\"GlyphRenderer\"},{\"attributes\":{\"callback\":null,\"column_names\":[\"y\",\"x\"],\"data\":{\"x\":[1,2,3,4,5],\"y\":[2,5,8,2,7]}},\"id\":\"6ea1968f-5497-44fa-b797-1d800079b78f\",\"type\":\"ColumnDataSource\"},{\"attributes\":{},\"id\":\"5734c778-14f9-4516-acbd-285a237f8d6e\",\"type\":\"WheelZoomTool\"},{\"attributes\":{\"grid_line_color\":{\"value\":null},\"plot\":{\"id\":\"61109dee-7ae1-42ce-9f0a-9a3a0e8635f9\",\"subtype\":\"Figure\",\"type\":\"Plot\"},\"ticker\":{\"id\":\"6ea03a33-2158-4bad-9c2c-e65a7062edc4\",\"type\":\"BasicTicker\"}},\"id\":\"101d4e08-d9d2-4f75-b0b2-6e1aceb44de9\",\"type\":\"Grid\"},{\"attributes\":{},\"id\":\"9ce26464-f1e9-4235-aef9-655648579410\",\"type\":\"ResetTool\"},{\"attributes\":{\"callback\":null},\"id\":\"797532a9-9f8d-415b-916b-6951089dd2d9\",\"type\":\"DataRange1d\"},{\"attributes\":{\"overlay\":{\"id\":\"456945ee-39e8-41a2-b058-3f69df085e6e\",\"type\":\"BoxAnnotation\"}},\"id\":\"6eb6628d-d9fd-44ca-93f9-0b35b7974a42\",\"type\":\"BoxZoomTool\"},{\"attributes\":{},\"id\":\"d3f8caba-2429-4615-9e41-d7521106ddac\",\"type\":\"BasicTickFormatter\"},{\"attributes\":{\"fill_alpha\":{\"value\":0.1},\"fill_color\":{\"value\":\"#1f77b4\"},\"line_alpha\":{\"value\":0.1},\"line_color\":{\"value\":\"#1f77b4\"},\"size\":{\"units\":\"screen\",\"value\":10},\"x\":{\"field\":\"x\"},\"y\":{\"field\":\"y\"}},\"id\":\"b3d2e7bd-d9d6-47ff-988f-c4ac4193907e\",\"type\":\"Circle\"},{\"attributes\":{},\"id\":\"9b47d609-d05a-4945-a955-712ccff4d4f7\",\"type\":\"LinearScale\"},{\"attributes\":{\"below\":[{\"id\":\"92a80c35-2dec-4a6c-8af3-9a74339ae4af\",\"type\":\"LinearAxis\"}],\"left\":[{\"id\":\"0fb45a2a-30f3-458e-af4c-2957136b45f8\",\"type\":\"LinearAxis\"}],\"plot_height\":400,\"plot_width\":400,\"renderers\":[{\"id\":\"92a80c35-2dec-4a6c-8af3-9a74339ae4af\",\"type\":\"LinearAxis\"},{\"id\":\"101d4e08-d9d2-4f75-b0b2-6e1aceb44de9\",\"type\":\"Grid\"},{\"id\":\"0fb45a2a-30f3-458e-af4c-2957136b45f8\",\"type\":\"LinearAxis\"},{\"id\":\"512de948-75d4-449b-9741-8708435a69f6\",\"type\":\"Grid\"},{\"id\":\"456945ee-39e8-41a2-b058-3f69df085e6e\",\"type\":\"BoxAnnotation\"},{\"id\":\"affe763a-f0b3-48ce-a4b4-af7b1fb6145f\",\"type\":\"GlyphRenderer\"}],\"title\":{\"id\":\"a3e999c5-743a-4449-85e5-7aad8897f2b6\",\"type\":\"Title\"},\"toolbar\":{\"id\":\"b81bfa91-8bad-4195-b87c-443d08bd08c9\",\"type\":\"Toolbar\"},\"x_range\":{\"id\":\"215fdfe7-c6ee-49a6-bc1c-645a342fc000\",\"type\":\"DataRange1d\"},\"x_scale\":{\"id\":\"9b47d609-d05a-4945-a955-712ccff4d4f7\",\"type\":\"LinearScale\"},\"y_range\":{\"id\":\"797532a9-9f8d-415b-916b-6951089dd2d9\",\"type\":\"DataRange1d\"},\"y_scale\":{\"id\":\"2d728809-291b-4492-afaa-2e41316e8b96\",\"type\":\"LinearScale\"}},\"id\":\"61109dee-7ae1-42ce-9f0a-9a3a0e8635f9\",\"subtype\":\"Figure\",\"type\":\"Plot\"},{\"attributes\":{},\"id\":\"2d728809-291b-4492-afaa-2e41316e8b96\",\"type\":\"LinearScale\"},{\"attributes\":{},\"id\":\"8a82c24f-edeb-45f1-af2d-088dbf547d9c\",\"type\":\"SaveTool\"}],\"root_ids\":[\"61109dee-7ae1-42ce-9f0a-9a3a0e8635f9\"]},\"title\":\"Bokeh Application\",\"version\":\"0.12.10\"}};\n",
       "    var render_items = [{\"docid\":\"f502ffff-50e8-4912-99ce-8c87d2e78b30\",\"elementid\":\"eb7a69c2-d479-4dbd-8471-658b7426cf56\",\"modelid\":\"61109dee-7ae1-42ce-9f0a-9a3a0e8635f9\"}];\n",
       "\n",
       "    root.Bokeh.embed.embed_items(docs_json, render_items);\n",
       "  }\n",
       "\n",
       "  if (root.Bokeh !== undefined) {\n",
       "    embed_document(root);\n",
       "  } else {\n",
       "    var attempts = 0;\n",
       "    var timer = setInterval(function(root) {\n",
       "      if (root.Bokeh !== undefined) {\n",
       "        embed_document(root);\n",
       "        clearInterval(timer);\n",
       "      }\n",
       "      attempts++;\n",
       "      if (attempts > 100) {\n",
       "        console.log(\"Bokeh: ERROR: Unable to embed document because BokehJS library is missing\")\n",
       "        clearInterval(timer);\n",
       "      }\n",
       "    }, 10, root)\n",
       "  }\n",
       "})(window);"
      ],
      "application/vnd.bokehjs_exec.v0+json": ""
     },
     "metadata": {
      "application/vnd.bokehjs_exec.v0+json": {
       "id": "61109dee-7ae1-42ce-9f0a-9a3a0e8635f9"
      }
     },
     "output_type": "display_data"
    }
   ],
   "source": [
    "p = figure(plot_width=400, plot_height=400)\n",
    "p.circle([1,2,3,4,5], [2,5,8,2,7], size=10)\n",
    "\n",
    "# change just some things about the x-grid\n",
    "p.xgrid.grid_line_color = None\n",
    "\n",
    "# change just some things about the y-grid\n",
    "p.ygrid.band_fill_alpha = 0.1\n",
    "p.ygrid.band_fill_color = \"navy\"\n",
    "\n",
    "show(p)"
   ]
  },
  {
   "cell_type": "code",
   "execution_count": 15,
   "metadata": {
    "collapsed": true
   },
   "outputs": [],
   "source": [
    "# EXERCISE Create a plot of your own and customize several grid properties\n"
   ]
  }
 ],
 "metadata": {
  "kernelspec": {
   "display_name": "Python 3",
   "language": "python",
   "name": "python3"
  },
  "language_info": {
   "codemirror_mode": {
    "name": "ipython",
    "version": 3
   },
   "file_extension": ".py",
   "mimetype": "text/x-python",
   "name": "python",
   "nbconvert_exporter": "python",
   "pygments_lexer": "ipython3",
   "version": "3.5.2"
  }
 },
 "nbformat": 4,
 "nbformat_minor": 1
}
