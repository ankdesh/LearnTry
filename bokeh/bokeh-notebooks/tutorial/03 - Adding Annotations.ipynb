{
 "cells": [
  {
   "cell_type": "markdown",
   "metadata": {},
   "source": [
    "<table style=\"float:left; border:none\">\n",
    "   <tr style=\"border:none; background-color: #ffffff\">\n",
    "       <td style=\"border:none\">\n",
    "           <a href=\"http://bokeh.pydata.org/\">     \n",
    "           <img \n",
    "               src=\"assets/bokeh-transparent.png\" \n",
    "               style=\"width:50px\"\n",
    "           >\n",
    "           </a>    \n",
    "       </td>\n",
    "       <td style=\"border:none\">\n",
    "           <h1>Bokeh Tutorial</h1>\n",
    "       </td>\n",
    "   </tr>\n",
    "</table>\n",
    "\n",
    "<div style=\"float:right;\"><h2>03. Adding Annotations</h2></div>"
   ]
  },
  {
   "cell_type": "code",
   "execution_count": 1,
   "metadata": {},
   "outputs": [],
   "source": [
    "from bokeh.io import output_notebook, show\n",
    "from bokeh.plotting import figure"
   ]
  },
  {
   "cell_type": "code",
   "execution_count": 2,
   "metadata": {},
   "outputs": [
    {
     "data": {
      "text/html": [
       "\n",
       "    <div class=\"bk-root\">\n",
       "        <a href=\"https://bokeh.pydata.org\" target=\"_blank\" class=\"bk-logo bk-logo-small bk-logo-notebook\"></a>\n",
       "        <span id=\"6e061a73-f22b-44bc-abc7-d08fb0f69bc1\">Loading BokehJS ...</span>\n",
       "    </div>"
      ]
     },
     "metadata": {},
     "output_type": "display_data"
    },
    {
     "data": {
      "application/javascript": [
       "\n",
       "(function(root) {\n",
       "  function now() {\n",
       "    return new Date();\n",
       "  }\n",
       "\n",
       "  var force = true;\n",
       "\n",
       "  if (typeof (root._bokeh_onload_callbacks) === \"undefined\" || force === true) {\n",
       "    root._bokeh_onload_callbacks = [];\n",
       "    root._bokeh_is_loading = undefined;\n",
       "  }\n",
       "\n",
       "  var JS_MIME_TYPE = 'application/javascript';\n",
       "  var HTML_MIME_TYPE = 'text/html';\n",
       "  var EXEC_MIME_TYPE = 'application/vnd.bokehjs_exec.v0+json';\n",
       "  var CLASS_NAME = 'output_bokeh rendered_html';\n",
       "\n",
       "  /**\n",
       "   * Render data to the DOM node\n",
       "   */\n",
       "  function render(props, node) {\n",
       "    var script = document.createElement(\"script\");\n",
       "    node.appendChild(script);\n",
       "  }\n",
       "\n",
       "  /**\n",
       "   * Handle when an output is cleared or removed\n",
       "   */\n",
       "  function handleClearOutput(event, handle) {\n",
       "    var cell = handle.cell;\n",
       "\n",
       "    var id = cell.output_area._bokeh_element_id;\n",
       "    var server_id = cell.output_area._bokeh_server_id;\n",
       "    // Clean up Bokeh references\n",
       "    if (id !== undefined) {\n",
       "      Bokeh.index[id].model.document.clear();\n",
       "      delete Bokeh.index[id];\n",
       "    }\n",
       "\n",
       "    if (server_id !== undefined) {\n",
       "      // Clean up Bokeh references\n",
       "      var cmd = \"from bokeh.io.state import curstate; print(curstate().uuid_to_server['\" + server_id + \"'].get_sessions()[0].document.roots[0]._id)\";\n",
       "      cell.notebook.kernel.execute(cmd, {\n",
       "        iopub: {\n",
       "          output: function(msg) {\n",
       "            var element_id = msg.content.text.trim();\n",
       "            Bokeh.index[element_id].model.document.clear();\n",
       "            delete Bokeh.index[element_id];\n",
       "          }\n",
       "        }\n",
       "      });\n",
       "      // Destroy server and session\n",
       "      var cmd = \"import bokeh.io.notebook as ion; ion.destroy_server('\" + server_id + \"')\";\n",
       "      cell.notebook.kernel.execute(cmd);\n",
       "    }\n",
       "  }\n",
       "\n",
       "  /**\n",
       "   * Handle when a new output is added\n",
       "   */\n",
       "  function handleAddOutput(event, handle) {\n",
       "    var output_area = handle.output_area;\n",
       "    var output = handle.output;\n",
       "\n",
       "    // limit handleAddOutput to display_data with EXEC_MIME_TYPE content only\n",
       "    if ((output.output_type != \"display_data\") || (!output.data.hasOwnProperty(EXEC_MIME_TYPE))) {\n",
       "      return\n",
       "    }\n",
       "\n",
       "    var toinsert = output_area.element.find(`.${CLASS_NAME.split(' ')[0]}`);\n",
       "\n",
       "    if (output.metadata[EXEC_MIME_TYPE][\"id\"] !== undefined) {\n",
       "      toinsert[0].firstChild.textContent = output.data[JS_MIME_TYPE];\n",
       "      // store reference to embed id on output_area\n",
       "      output_area._bokeh_element_id = output.metadata[EXEC_MIME_TYPE][\"id\"];\n",
       "    }\n",
       "    if (output.metadata[EXEC_MIME_TYPE][\"server_id\"] !== undefined) {\n",
       "      var bk_div = document.createElement(\"div\");\n",
       "      bk_div.innerHTML = output.data[HTML_MIME_TYPE];\n",
       "      var script_attrs = bk_div.children[0].attributes;\n",
       "      for (var i = 0; i < script_attrs.length; i++) {\n",
       "        toinsert[0].firstChild.setAttribute(script_attrs[i].name, script_attrs[i].value);\n",
       "      }\n",
       "      // store reference to server id on output_area\n",
       "      output_area._bokeh_server_id = output.metadata[EXEC_MIME_TYPE][\"server_id\"];\n",
       "    }\n",
       "  }\n",
       "\n",
       "  function register_renderer(events, OutputArea) {\n",
       "\n",
       "    function append_mime(data, metadata, element) {\n",
       "      // create a DOM node to render to\n",
       "      var toinsert = this.create_output_subarea(\n",
       "        metadata,\n",
       "        CLASS_NAME,\n",
       "        EXEC_MIME_TYPE\n",
       "      );\n",
       "      this.keyboard_manager.register_events(toinsert);\n",
       "      // Render to node\n",
       "      var props = {data: data, metadata: metadata[EXEC_MIME_TYPE]};\n",
       "      render(props, toinsert[0]);\n",
       "      element.append(toinsert);\n",
       "      return toinsert\n",
       "    }\n",
       "\n",
       "    /* Handle when an output is cleared or removed */\n",
       "    events.on('clear_output.CodeCell', handleClearOutput);\n",
       "    events.on('delete.Cell', handleClearOutput);\n",
       "\n",
       "    /* Handle when a new output is added */\n",
       "    events.on('output_added.OutputArea', handleAddOutput);\n",
       "\n",
       "    /**\n",
       "     * Register the mime type and append_mime function with output_area\n",
       "     */\n",
       "    OutputArea.prototype.register_mime_type(EXEC_MIME_TYPE, append_mime, {\n",
       "      /* Is output safe? */\n",
       "      safe: true,\n",
       "      /* Index of renderer in `output_area.display_order` */\n",
       "      index: 0\n",
       "    });\n",
       "  }\n",
       "\n",
       "  // register the mime type if in Jupyter Notebook environment and previously unregistered\n",
       "  if (root.Jupyter !== undefined) {\n",
       "    var events = require('base/js/events');\n",
       "    var OutputArea = require('notebook/js/outputarea').OutputArea;\n",
       "\n",
       "    if (OutputArea.prototype.mime_types().indexOf(EXEC_MIME_TYPE) == -1) {\n",
       "      register_renderer(events, OutputArea);\n",
       "    }\n",
       "  }\n",
       "\n",
       "  \n",
       "  if (typeof (root._bokeh_timeout) === \"undefined\" || force === true) {\n",
       "    root._bokeh_timeout = Date.now() + 5000;\n",
       "    root._bokeh_failed_load = false;\n",
       "  }\n",
       "\n",
       "  var NB_LOAD_WARNING = {'data': {'text/html':\n",
       "     \"<div style='background-color: #fdd'>\\n\"+\n",
       "     \"<p>\\n\"+\n",
       "     \"BokehJS does not appear to have successfully loaded. If loading BokehJS from CDN, this \\n\"+\n",
       "     \"may be due to a slow or bad network connection. Possible fixes:\\n\"+\n",
       "     \"</p>\\n\"+\n",
       "     \"<ul>\\n\"+\n",
       "     \"<li>re-rerun `output_notebook()` to attempt to load from CDN again, or</li>\\n\"+\n",
       "     \"<li>use INLINE resources instead, as so:</li>\\n\"+\n",
       "     \"</ul>\\n\"+\n",
       "     \"<code>\\n\"+\n",
       "     \"from bokeh.resources import INLINE\\n\"+\n",
       "     \"output_notebook(resources=INLINE)\\n\"+\n",
       "     \"</code>\\n\"+\n",
       "     \"</div>\"}};\n",
       "\n",
       "  function display_loaded() {\n",
       "    var el = document.getElementById(\"6e061a73-f22b-44bc-abc7-d08fb0f69bc1\");\n",
       "    if (el != null) {\n",
       "      el.textContent = \"BokehJS is loading...\";\n",
       "    }\n",
       "    if (root.Bokeh !== undefined) {\n",
       "      if (el != null) {\n",
       "        el.textContent = \"BokehJS \" + root.Bokeh.version + \" successfully loaded.\";\n",
       "      }\n",
       "    } else if (Date.now() < root._bokeh_timeout) {\n",
       "      setTimeout(display_loaded, 100)\n",
       "    }\n",
       "  }\n",
       "\n",
       "\n",
       "  function run_callbacks() {\n",
       "    try {\n",
       "      root._bokeh_onload_callbacks.forEach(function(callback) { callback() });\n",
       "    }\n",
       "    finally {\n",
       "      delete root._bokeh_onload_callbacks\n",
       "    }\n",
       "    console.info(\"Bokeh: all callbacks have finished\");\n",
       "  }\n",
       "\n",
       "  function load_libs(js_urls, callback) {\n",
       "    root._bokeh_onload_callbacks.push(callback);\n",
       "    if (root._bokeh_is_loading > 0) {\n",
       "      console.log(\"Bokeh: BokehJS is being loaded, scheduling callback at\", now());\n",
       "      return null;\n",
       "    }\n",
       "    if (js_urls == null || js_urls.length === 0) {\n",
       "      run_callbacks();\n",
       "      return null;\n",
       "    }\n",
       "    console.log(\"Bokeh: BokehJS not loaded, scheduling load and callback at\", now());\n",
       "    root._bokeh_is_loading = js_urls.length;\n",
       "    for (var i = 0; i < js_urls.length; i++) {\n",
       "      var url = js_urls[i];\n",
       "      var s = document.createElement('script');\n",
       "      s.src = url;\n",
       "      s.async = false;\n",
       "      s.onreadystatechange = s.onload = function() {\n",
       "        root._bokeh_is_loading--;\n",
       "        if (root._bokeh_is_loading === 0) {\n",
       "          console.log(\"Bokeh: all BokehJS libraries loaded\");\n",
       "          run_callbacks()\n",
       "        }\n",
       "      };\n",
       "      s.onerror = function() {\n",
       "        console.warn(\"failed to load library \" + url);\n",
       "      };\n",
       "      console.log(\"Bokeh: injecting script tag for BokehJS library: \", url);\n",
       "      document.getElementsByTagName(\"head\")[0].appendChild(s);\n",
       "    }\n",
       "  };var element = document.getElementById(\"6e061a73-f22b-44bc-abc7-d08fb0f69bc1\");\n",
       "  if (element == null) {\n",
       "    console.log(\"Bokeh: ERROR: autoload.js configured with elementid '6e061a73-f22b-44bc-abc7-d08fb0f69bc1' but no matching script tag was found. \")\n",
       "    return false;\n",
       "  }\n",
       "\n",
       "  var js_urls = [\"https://cdn.pydata.org/bokeh/release/bokeh-0.12.10.min.js\", \"https://cdn.pydata.org/bokeh/release/bokeh-widgets-0.12.10.min.js\", \"https://cdn.pydata.org/bokeh/release/bokeh-tables-0.12.10.min.js\", \"https://cdn.pydata.org/bokeh/release/bokeh-gl-0.12.10.min.js\"];\n",
       "\n",
       "  var inline_js = [\n",
       "    function(Bokeh) {\n",
       "      Bokeh.set_log_level(\"info\");\n",
       "    },\n",
       "    \n",
       "    function(Bokeh) {\n",
       "      \n",
       "    },\n",
       "    function(Bokeh) {\n",
       "      console.log(\"Bokeh: injecting CSS: https://cdn.pydata.org/bokeh/release/bokeh-0.12.10.min.css\");\n",
       "      Bokeh.embed.inject_css(\"https://cdn.pydata.org/bokeh/release/bokeh-0.12.10.min.css\");\n",
       "      console.log(\"Bokeh: injecting CSS: https://cdn.pydata.org/bokeh/release/bokeh-widgets-0.12.10.min.css\");\n",
       "      Bokeh.embed.inject_css(\"https://cdn.pydata.org/bokeh/release/bokeh-widgets-0.12.10.min.css\");\n",
       "      console.log(\"Bokeh: injecting CSS: https://cdn.pydata.org/bokeh/release/bokeh-tables-0.12.10.min.css\");\n",
       "      Bokeh.embed.inject_css(\"https://cdn.pydata.org/bokeh/release/bokeh-tables-0.12.10.min.css\");\n",
       "    }\n",
       "  ];\n",
       "\n",
       "  function run_inline_js() {\n",
       "    \n",
       "    if ((root.Bokeh !== undefined) || (force === true)) {\n",
       "      for (var i = 0; i < inline_js.length; i++) {\n",
       "        inline_js[i].call(root, root.Bokeh);\n",
       "      }if (force === true) {\n",
       "        display_loaded();\n",
       "      }} else if (Date.now() < root._bokeh_timeout) {\n",
       "      setTimeout(run_inline_js, 100);\n",
       "    } else if (!root._bokeh_failed_load) {\n",
       "      console.log(\"Bokeh: BokehJS failed to load within specified timeout.\");\n",
       "      root._bokeh_failed_load = true;\n",
       "    } else if (force !== true) {\n",
       "      var cell = $(document.getElementById(\"6e061a73-f22b-44bc-abc7-d08fb0f69bc1\")).parents('.cell').data().cell;\n",
       "      cell.output_area.append_execute_result(NB_LOAD_WARNING)\n",
       "    }\n",
       "\n",
       "  }\n",
       "\n",
       "  if (root._bokeh_is_loading === 0) {\n",
       "    console.log(\"Bokeh: BokehJS loaded, going straight to plotting\");\n",
       "    run_inline_js();\n",
       "  } else {\n",
       "    load_libs(js_urls, function() {\n",
       "      console.log(\"Bokeh: BokehJS plotting callback run at\", now());\n",
       "      run_inline_js();\n",
       "    });\n",
       "  }\n",
       "}(window));"
      ],
      "application/vnd.bokehjs_load.v0+json": "\n(function(root) {\n  function now() {\n    return new Date();\n  }\n\n  var force = true;\n\n  if (typeof (root._bokeh_onload_callbacks) === \"undefined\" || force === true) {\n    root._bokeh_onload_callbacks = [];\n    root._bokeh_is_loading = undefined;\n  }\n\n  \n\n  \n  if (typeof (root._bokeh_timeout) === \"undefined\" || force === true) {\n    root._bokeh_timeout = Date.now() + 5000;\n    root._bokeh_failed_load = false;\n  }\n\n  var NB_LOAD_WARNING = {'data': {'text/html':\n     \"<div style='background-color: #fdd'>\\n\"+\n     \"<p>\\n\"+\n     \"BokehJS does not appear to have successfully loaded. If loading BokehJS from CDN, this \\n\"+\n     \"may be due to a slow or bad network connection. Possible fixes:\\n\"+\n     \"</p>\\n\"+\n     \"<ul>\\n\"+\n     \"<li>re-rerun `output_notebook()` to attempt to load from CDN again, or</li>\\n\"+\n     \"<li>use INLINE resources instead, as so:</li>\\n\"+\n     \"</ul>\\n\"+\n     \"<code>\\n\"+\n     \"from bokeh.resources import INLINE\\n\"+\n     \"output_notebook(resources=INLINE)\\n\"+\n     \"</code>\\n\"+\n     \"</div>\"}};\n\n  function display_loaded() {\n    var el = document.getElementById(\"6e061a73-f22b-44bc-abc7-d08fb0f69bc1\");\n    if (el != null) {\n      el.textContent = \"BokehJS is loading...\";\n    }\n    if (root.Bokeh !== undefined) {\n      if (el != null) {\n        el.textContent = \"BokehJS \" + root.Bokeh.version + \" successfully loaded.\";\n      }\n    } else if (Date.now() < root._bokeh_timeout) {\n      setTimeout(display_loaded, 100)\n    }\n  }\n\n\n  function run_callbacks() {\n    try {\n      root._bokeh_onload_callbacks.forEach(function(callback) { callback() });\n    }\n    finally {\n      delete root._bokeh_onload_callbacks\n    }\n    console.info(\"Bokeh: all callbacks have finished\");\n  }\n\n  function load_libs(js_urls, callback) {\n    root._bokeh_onload_callbacks.push(callback);\n    if (root._bokeh_is_loading > 0) {\n      console.log(\"Bokeh: BokehJS is being loaded, scheduling callback at\", now());\n      return null;\n    }\n    if (js_urls == null || js_urls.length === 0) {\n      run_callbacks();\n      return null;\n    }\n    console.log(\"Bokeh: BokehJS not loaded, scheduling load and callback at\", now());\n    root._bokeh_is_loading = js_urls.length;\n    for (var i = 0; i < js_urls.length; i++) {\n      var url = js_urls[i];\n      var s = document.createElement('script');\n      s.src = url;\n      s.async = false;\n      s.onreadystatechange = s.onload = function() {\n        root._bokeh_is_loading--;\n        if (root._bokeh_is_loading === 0) {\n          console.log(\"Bokeh: all BokehJS libraries loaded\");\n          run_callbacks()\n        }\n      };\n      s.onerror = function() {\n        console.warn(\"failed to load library \" + url);\n      };\n      console.log(\"Bokeh: injecting script tag for BokehJS library: \", url);\n      document.getElementsByTagName(\"head\")[0].appendChild(s);\n    }\n  };var element = document.getElementById(\"6e061a73-f22b-44bc-abc7-d08fb0f69bc1\");\n  if (element == null) {\n    console.log(\"Bokeh: ERROR: autoload.js configured with elementid '6e061a73-f22b-44bc-abc7-d08fb0f69bc1' but no matching script tag was found. \")\n    return false;\n  }\n\n  var js_urls = [\"https://cdn.pydata.org/bokeh/release/bokeh-0.12.10.min.js\", \"https://cdn.pydata.org/bokeh/release/bokeh-widgets-0.12.10.min.js\", \"https://cdn.pydata.org/bokeh/release/bokeh-tables-0.12.10.min.js\", \"https://cdn.pydata.org/bokeh/release/bokeh-gl-0.12.10.min.js\"];\n\n  var inline_js = [\n    function(Bokeh) {\n      Bokeh.set_log_level(\"info\");\n    },\n    \n    function(Bokeh) {\n      \n    },\n    function(Bokeh) {\n      console.log(\"Bokeh: injecting CSS: https://cdn.pydata.org/bokeh/release/bokeh-0.12.10.min.css\");\n      Bokeh.embed.inject_css(\"https://cdn.pydata.org/bokeh/release/bokeh-0.12.10.min.css\");\n      console.log(\"Bokeh: injecting CSS: https://cdn.pydata.org/bokeh/release/bokeh-widgets-0.12.10.min.css\");\n      Bokeh.embed.inject_css(\"https://cdn.pydata.org/bokeh/release/bokeh-widgets-0.12.10.min.css\");\n      console.log(\"Bokeh: injecting CSS: https://cdn.pydata.org/bokeh/release/bokeh-tables-0.12.10.min.css\");\n      Bokeh.embed.inject_css(\"https://cdn.pydata.org/bokeh/release/bokeh-tables-0.12.10.min.css\");\n    }\n  ];\n\n  function run_inline_js() {\n    \n    if ((root.Bokeh !== undefined) || (force === true)) {\n      for (var i = 0; i < inline_js.length; i++) {\n        inline_js[i].call(root, root.Bokeh);\n      }if (force === true) {\n        display_loaded();\n      }} else if (Date.now() < root._bokeh_timeout) {\n      setTimeout(run_inline_js, 100);\n    } else if (!root._bokeh_failed_load) {\n      console.log(\"Bokeh: BokehJS failed to load within specified timeout.\");\n      root._bokeh_failed_load = true;\n    } else if (force !== true) {\n      var cell = $(document.getElementById(\"6e061a73-f22b-44bc-abc7-d08fb0f69bc1\")).parents('.cell').data().cell;\n      cell.output_area.append_execute_result(NB_LOAD_WARNING)\n    }\n\n  }\n\n  if (root._bokeh_is_loading === 0) {\n    console.log(\"Bokeh: BokehJS loaded, going straight to plotting\");\n    run_inline_js();\n  } else {\n    load_libs(js_urls, function() {\n      console.log(\"Bokeh: BokehJS plotting callback run at\", now());\n      run_inline_js();\n    });\n  }\n}(window));"
     },
     "metadata": {},
     "output_type": "display_data"
    }
   ],
   "source": [
    "output_notebook()"
   ]
  },
  {
   "cell_type": "markdown",
   "metadata": {},
   "source": [
    "# Overview\n",
    "\n",
    "Sometimes we want to add visual cues (boundary lines, shaded regions, labels and arrows, etc.) to our plots to call out some feature or other. Bokeh has several annotation types available for uses like this. Typically to add annotations we create the \"low level\" annotation object directly, and add it to our `Plot`, `Figure` or `Chart` using `add_layout`. Let's take a look at some specific examples."
   ]
  },
  {
   "cell_type": "markdown",
   "metadata": {
    "collapsed": true
   },
   "source": [
    "## Spans\n",
    "\n",
    "`Spans` are \"infinite\" vertical or horizonal lines. When creating them, you specify the `dimension` that should be spanned (i.e., `width` or `height`), any visual line properties for the appearance, and the location along the dimension where the line should be drawn. Let's look at an example that adds two horizontal spans to a simple plot:"
   ]
  },
  {
   "cell_type": "code",
   "execution_count": 3,
   "metadata": {},
   "outputs": [
    {
     "data": {
      "text/html": [
       "\n",
       "<div class=\"bk-root\">\n",
       "    <div class=\"bk-plotdiv\" id=\"3d0dd38c-4791-420d-9490-f1033c5aa1f7\"></div>\n",
       "</div>"
      ]
     },
     "metadata": {},
     "output_type": "display_data"
    },
    {
     "data": {
      "application/javascript": [
       "(function(root) {\n",
       "  function embed_document(root) {\n",
       "    var docs_json = {\"57c982dd-f465-4a05-805b-e1511c5bd935\":{\"roots\":{\"references\":[{\"attributes\":{\"below\":[{\"id\":\"cb422ffc-4d7c-404f-9f83-ab5b149fb072\",\"type\":\"LinearAxis\"}],\"left\":[{\"id\":\"8dde9470-f798-479f-a932-3750fdb35903\",\"type\":\"LinearAxis\"}],\"renderers\":[{\"id\":\"cb422ffc-4d7c-404f-9f83-ab5b149fb072\",\"type\":\"LinearAxis\"},{\"id\":\"0e4ceda1-a02e-4940-b220-5e53164ef749\",\"type\":\"Grid\"},{\"id\":\"8dde9470-f798-479f-a932-3750fdb35903\",\"type\":\"LinearAxis\"},{\"id\":\"d1ca7df4-7fa8-4f98-b548-eb1579240db1\",\"type\":\"Grid\"},{\"id\":\"6933193b-704f-4f4a-8ccc-04118dd8f0fa\",\"type\":\"BoxAnnotation\"},{\"id\":\"382a4d91-6245-4cad-bd33-7d270b069e61\",\"type\":\"GlyphRenderer\"},{\"id\":\"a5e2203d-1b57-4c08-bf0b-7a43c3dbae16\",\"type\":\"Span\"},{\"id\":\"4eb29a66-d1e2-4c73-b275-0384648b5bea\",\"type\":\"Span\"}],\"title\":{\"id\":\"e900bd08-12a9-4a75-9236-e09814ac05fb\",\"type\":\"Title\"},\"toolbar\":{\"id\":\"1f60e190-08b6-4115-aa67-cad86dfb42c1\",\"type\":\"Toolbar\"},\"x_range\":{\"id\":\"05869b96-1271-44db-b78e-0829c69945e1\",\"type\":\"DataRange1d\"},\"x_scale\":{\"id\":\"6ee376cd-9123-4e4b-80c0-4856897c5775\",\"type\":\"LinearScale\"},\"y_range\":{\"id\":\"9f1efaec-dcae-487a-87f8-17a78144b161\",\"type\":\"Range1d\"},\"y_scale\":{\"id\":\"3d72d229-3c7b-4f47-884d-5c184d1b6175\",\"type\":\"LinearScale\"}},\"id\":\"80447dd3-7289-4ca2-8ec8-a3a6ac380ca4\",\"subtype\":\"Figure\",\"type\":\"Plot\"},{\"attributes\":{},\"id\":\"f9fe6611-d94e-414e-ad92-86e170c2fd20\",\"type\":\"SaveTool\"},{\"attributes\":{},\"id\":\"5efad0c4-434b-4164-bcfa-9872e4266be2\",\"type\":\"PanTool\"},{\"attributes\":{\"callback\":null,\"end\":2,\"start\":-2},\"id\":\"9f1efaec-dcae-487a-87f8-17a78144b161\",\"type\":\"Range1d\"},{\"attributes\":{\"active_drag\":\"auto\",\"active_inspect\":\"auto\",\"active_scroll\":\"auto\",\"active_tap\":\"auto\",\"tools\":[{\"id\":\"5efad0c4-434b-4164-bcfa-9872e4266be2\",\"type\":\"PanTool\"},{\"id\":\"5632e080-3f57-47ba-a69c-6d2a6d213963\",\"type\":\"WheelZoomTool\"},{\"id\":\"e415c54b-e265-4d8b-840c-3ccfa1bb5b2e\",\"type\":\"BoxZoomTool\"},{\"id\":\"f9fe6611-d94e-414e-ad92-86e170c2fd20\",\"type\":\"SaveTool\"},{\"id\":\"5635a532-5c54-496a-b214-d920a1e155fc\",\"type\":\"ResetTool\"},{\"id\":\"b7b1c2a7-6ba9-493b-a7be-0f14cdc7f636\",\"type\":\"HelpTool\"}]},\"id\":\"1f60e190-08b6-4115-aa67-cad86dfb42c1\",\"type\":\"Toolbar\"},{\"attributes\":{},\"id\":\"6ee376cd-9123-4e4b-80c0-4856897c5775\",\"type\":\"LinearScale\"},{\"attributes\":{},\"id\":\"5632e080-3f57-47ba-a69c-6d2a6d213963\",\"type\":\"WheelZoomTool\"},{\"attributes\":{\"dimension\":1,\"plot\":{\"id\":\"80447dd3-7289-4ca2-8ec8-a3a6ac380ca4\",\"subtype\":\"Figure\",\"type\":\"Plot\"},\"ticker\":{\"id\":\"6237401e-9c58-49f1-8945-c53a5015de66\",\"type\":\"BasicTicker\"}},\"id\":\"d1ca7df4-7fa8-4f98-b548-eb1579240db1\",\"type\":\"Grid\"},{\"attributes\":{\"formatter\":{\"id\":\"ed3556e0-efe7-4d17-8286-05a4020339eb\",\"type\":\"BasicTickFormatter\"},\"plot\":{\"id\":\"80447dd3-7289-4ca2-8ec8-a3a6ac380ca4\",\"subtype\":\"Figure\",\"type\":\"Plot\"},\"ticker\":{\"id\":\"6237401e-9c58-49f1-8945-c53a5015de66\",\"type\":\"BasicTicker\"}},\"id\":\"8dde9470-f798-479f-a932-3750fdb35903\",\"type\":\"LinearAxis\"},{\"attributes\":{\"data_source\":{\"id\":\"eb43deaa-40e8-4c5f-b73f-9f84703eb7c8\",\"type\":\"ColumnDataSource\"},\"glyph\":{\"id\":\"620371b9-b756-40da-8ed0-7198404083ed\",\"type\":\"Line\"},\"hover_glyph\":null,\"muted_glyph\":null,\"nonselection_glyph\":{\"id\":\"ea51fb2a-865e-4c89-afb5-b60782859e93\",\"type\":\"Line\"},\"selection_glyph\":null,\"view\":{\"id\":\"7251027a-f1b0-4eef-ae58-b3c53955f232\",\"type\":\"CDSView\"}},\"id\":\"382a4d91-6245-4cad-bd33-7d270b069e61\",\"type\":\"GlyphRenderer\"},{\"attributes\":{},\"id\":\"b52f6483-cd42-4d9e-8780-b3c59f6639f0\",\"type\":\"BasicTicker\"},{\"attributes\":{\"source\":{\"id\":\"eb43deaa-40e8-4c5f-b73f-9f84703eb7c8\",\"type\":\"ColumnDataSource\"}},\"id\":\"7251027a-f1b0-4eef-ae58-b3c53955f232\",\"type\":\"CDSView\"},{\"attributes\":{\"plot\":null,\"text\":\"\"},\"id\":\"e900bd08-12a9-4a75-9236-e09814ac05fb\",\"type\":\"Title\"},{\"attributes\":{\"callback\":null,\"column_names\":[\"x\",\"y\"],\"data\":{\"x\":{\"__ndarray__\":\"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\",\"dtype\":\"float64\",\"shape\":[200]},\"y\":{\"__ndarray__\":\"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\",\"dtype\":\"float64\",\"shape\":[200]}}},\"id\":\"eb43deaa-40e8-4c5f-b73f-9f84703eb7c8\",\"type\":\"ColumnDataSource\"},{\"attributes\":{\"overlay\":{\"id\":\"6933193b-704f-4f4a-8ccc-04118dd8f0fa\",\"type\":\"BoxAnnotation\"}},\"id\":\"e415c54b-e265-4d8b-840c-3ccfa1bb5b2e\",\"type\":\"BoxZoomTool\"},{\"attributes\":{\"plot\":{\"id\":\"80447dd3-7289-4ca2-8ec8-a3a6ac380ca4\",\"subtype\":\"Figure\",\"type\":\"Plot\"},\"ticker\":{\"id\":\"b52f6483-cd42-4d9e-8780-b3c59f6639f0\",\"type\":\"BasicTicker\"}},\"id\":\"0e4ceda1-a02e-4940-b220-5e53164ef749\",\"type\":\"Grid\"},{\"attributes\":{},\"id\":\"b7b1c2a7-6ba9-493b-a7be-0f14cdc7f636\",\"type\":\"HelpTool\"},{\"attributes\":{\"formatter\":{\"id\":\"807b64b1-91d1-4f34-a879-4f22f9ce98d6\",\"type\":\"BasicTickFormatter\"},\"plot\":{\"id\":\"80447dd3-7289-4ca2-8ec8-a3a6ac380ca4\",\"subtype\":\"Figure\",\"type\":\"Plot\"},\"ticker\":{\"id\":\"b52f6483-cd42-4d9e-8780-b3c59f6639f0\",\"type\":\"BasicTicker\"}},\"id\":\"cb422ffc-4d7c-404f-9f83-ab5b149fb072\",\"type\":\"LinearAxis\"},{\"attributes\":{},\"id\":\"807b64b1-91d1-4f34-a879-4f22f9ce98d6\",\"type\":\"BasicTickFormatter\"},{\"attributes\":{\"line_color\":{\"value\":\"olive\"},\"line_width\":{\"value\":4},\"location\":1,\"plot\":{\"id\":\"80447dd3-7289-4ca2-8ec8-a3a6ac380ca4\",\"subtype\":\"Figure\",\"type\":\"Plot\"}},\"id\":\"a5e2203d-1b57-4c08-bf0b-7a43c3dbae16\",\"type\":\"Span\"},{\"attributes\":{\"callback\":null},\"id\":\"05869b96-1271-44db-b78e-0829c69945e1\",\"type\":\"DataRange1d\"},{\"attributes\":{},\"id\":\"3d72d229-3c7b-4f47-884d-5c184d1b6175\",\"type\":\"LinearScale\"},{\"attributes\":{},\"id\":\"6237401e-9c58-49f1-8945-c53a5015de66\",\"type\":\"BasicTicker\"},{\"attributes\":{\"line_alpha\":{\"value\":0.1},\"line_color\":{\"value\":\"#1f77b4\"},\"x\":{\"field\":\"x\"},\"y\":{\"field\":\"y\"}},\"id\":\"ea51fb2a-865e-4c89-afb5-b60782859e93\",\"type\":\"Line\"},{\"attributes\":{\"line_color\":{\"value\":\"#1f77b4\"},\"x\":{\"field\":\"x\"},\"y\":{\"field\":\"y\"}},\"id\":\"620371b9-b756-40da-8ed0-7198404083ed\",\"type\":\"Line\"},{\"attributes\":{},\"id\":\"ed3556e0-efe7-4d17-8286-05a4020339eb\",\"type\":\"BasicTickFormatter\"},{\"attributes\":{\"line_color\":{\"value\":\"firebrick\"},\"line_width\":{\"value\":4},\"location\":-1,\"plot\":{\"id\":\"80447dd3-7289-4ca2-8ec8-a3a6ac380ca4\",\"subtype\":\"Figure\",\"type\":\"Plot\"}},\"id\":\"4eb29a66-d1e2-4c73-b275-0384648b5bea\",\"type\":\"Span\"},{\"attributes\":{},\"id\":\"5635a532-5c54-496a-b214-d920a1e155fc\",\"type\":\"ResetTool\"},{\"attributes\":{\"bottom_units\":\"screen\",\"fill_alpha\":{\"value\":0.5},\"fill_color\":{\"value\":\"lightgrey\"},\"left_units\":\"screen\",\"level\":\"overlay\",\"line_alpha\":{\"value\":1.0},\"line_color\":{\"value\":\"black\"},\"line_dash\":[4,4],\"line_width\":{\"value\":2},\"plot\":null,\"render_mode\":\"css\",\"right_units\":\"screen\",\"top_units\":\"screen\"},\"id\":\"6933193b-704f-4f4a-8ccc-04118dd8f0fa\",\"type\":\"BoxAnnotation\"}],\"root_ids\":[\"80447dd3-7289-4ca2-8ec8-a3a6ac380ca4\"]},\"title\":\"Bokeh Application\",\"version\":\"0.12.10\"}};\n",
       "    var render_items = [{\"docid\":\"57c982dd-f465-4a05-805b-e1511c5bd935\",\"elementid\":\"3d0dd38c-4791-420d-9490-f1033c5aa1f7\",\"modelid\":\"80447dd3-7289-4ca2-8ec8-a3a6ac380ca4\"}];\n",
       "\n",
       "    root.Bokeh.embed.embed_items(docs_json, render_items);\n",
       "  }\n",
       "\n",
       "  if (root.Bokeh !== undefined) {\n",
       "    embed_document(root);\n",
       "  } else {\n",
       "    var attempts = 0;\n",
       "    var timer = setInterval(function(root) {\n",
       "      if (root.Bokeh !== undefined) {\n",
       "        embed_document(root);\n",
       "        clearInterval(timer);\n",
       "      }\n",
       "      attempts++;\n",
       "      if (attempts > 100) {\n",
       "        console.log(\"Bokeh: ERROR: Unable to embed document because BokehJS library is missing\")\n",
       "        clearInterval(timer);\n",
       "      }\n",
       "    }, 10, root)\n",
       "  }\n",
       "})(window);"
      ],
      "application/vnd.bokehjs_exec.v0+json": ""
     },
     "metadata": {
      "application/vnd.bokehjs_exec.v0+json": {
       "id": "80447dd3-7289-4ca2-8ec8-a3a6ac380ca4"
      }
     },
     "output_type": "display_data"
    }
   ],
   "source": [
    "import numpy as np\n",
    "from bokeh.models.annotations import Span\n",
    "\n",
    "x = np.linspace(0, 20, 200)\n",
    "y = np.sin(x)\n",
    "\n",
    "p = figure(y_range=(-2, 2))\n",
    "p.line(x, y)\n",
    "\n",
    "upper = Span(location=1, dimension='width', line_color='olive', line_width=4)\n",
    "p.add_layout(upper)\n",
    "\n",
    "lower = Span(location=-1, dimension='width', line_color='firebrick', line_width=4)\n",
    "p.add_layout(lower)\n",
    "\n",
    "show(p)"
   ]
  },
  {
   "cell_type": "code",
   "execution_count": 4,
   "metadata": {},
   "outputs": [],
   "source": [
    "# Exercise:\n"
   ]
  },
  {
   "cell_type": "markdown",
   "metadata": {
    "collapsed": true
   },
   "source": [
    "## Box Annotations\n",
    "\n",
    "Sometimes you might want to call out some region of the plot by drawing a shaded box. This can be done with the `BoxAnnotation`, which is configured with the coordinate properties:\n",
    "* `top`\n",
    "* `left`\n",
    "* `bottom`\n",
    "* `right`\n",
    "\n",
    "as well as any visual line or fill properties to control the appearance. \n",
    "\n",
    "\"Infinite\" boxes can be made by leaving any of the coordinates unspecified. E.g., if `top` is not given, the box will always extend to the top of the plot area, regardless of any panning or zooming that happens.\n",
    "\n",
    "Let's take a look at an example that adds a few shaded boxes to a plot:"
   ]
  },
  {
   "cell_type": "code",
   "execution_count": 6,
   "metadata": {
    "scrolled": false
   },
   "outputs": [
    {
     "data": {
      "text/html": [
       "\n",
       "<div class=\"bk-root\">\n",
       "    <div class=\"bk-plotdiv\" id=\"64f5d17e-4e1c-43b9-80c4-53794ba2396e\"></div>\n",
       "</div>"
      ]
     },
     "metadata": {},
     "output_type": "display_data"
    },
    {
     "data": {
      "application/javascript": [
       "(function(root) {\n",
       "  function embed_document(root) {\n",
       "    var docs_json = {\"1634649b-8916-4839-a486-628b1414ec42\":{\"roots\":{\"references\":[{\"attributes\":{},\"id\":\"d79ba769-d760-4bfc-8d7c-49eb77e42bc9\",\"type\":\"BasicTicker\"},{\"attributes\":{\"bottom\":-0.3,\"fill_alpha\":{\"value\":0.1},\"fill_color\":{\"value\":\"navy\"},\"left\":7,\"plot\":{\"id\":\"a1cd5978-c909-45ee-8bfa-6c89a7465c90\",\"subtype\":\"Figure\",\"type\":\"Plot\"},\"right\":12,\"top\":0.6},\"id\":\"70d7b423-2e4c-4475-8a16-8f4f784b5e75\",\"type\":\"BoxAnnotation\"},{\"attributes\":{\"fill_alpha\":{\"value\":0.1},\"fill_color\":{\"value\":\"firebrick\"},\"plot\":{\"id\":\"a1cd5978-c909-45ee-8bfa-6c89a7465c90\",\"subtype\":\"Figure\",\"type\":\"Plot\"},\"top\":-1},\"id\":\"2dad4d5e-5e87-4362-8497-ca64cb692fda\",\"type\":\"BoxAnnotation\"},{\"attributes\":{},\"id\":\"30df35aa-a3c4-4fff-afe4-ce047e1abb78\",\"type\":\"WheelZoomTool\"},{\"attributes\":{\"dimension\":1,\"plot\":{\"id\":\"a1cd5978-c909-45ee-8bfa-6c89a7465c90\",\"subtype\":\"Figure\",\"type\":\"Plot\"},\"ticker\":{\"id\":\"d79ba769-d760-4bfc-8d7c-49eb77e42bc9\",\"type\":\"BasicTicker\"}},\"id\":\"e84e2f22-2f68-4046-ac4c-27e6afeb405f\",\"type\":\"Grid\"},{\"attributes\":{\"line_color\":{\"value\":\"#1f77b4\"},\"x\":{\"field\":\"x\"},\"y\":{\"field\":\"y\"}},\"id\":\"9355e4bb-9f0b-4283-aea5-5eaaecc94435\",\"type\":\"Line\"},{\"attributes\":{\"bottom_units\":\"screen\",\"fill_alpha\":{\"value\":0.5},\"fill_color\":{\"value\":\"lightgrey\"},\"left_units\":\"screen\",\"level\":\"overlay\",\"line_alpha\":{\"value\":1.0},\"line_color\":{\"value\":\"black\"},\"line_dash\":[4,4],\"line_width\":{\"value\":2},\"plot\":null,\"render_mode\":\"css\",\"right_units\":\"screen\",\"top_units\":\"screen\"},\"id\":\"cf84f0c0-0dc2-4b3e-b6b0-aa2cea9046d3\",\"type\":\"BoxAnnotation\"},{\"attributes\":{\"plot\":null,\"text\":\"\"},\"id\":\"3c1b065d-e539-45b9-a182-9e6541e23e84\",\"type\":\"Title\"},{\"attributes\":{\"bottom\":1,\"fill_alpha\":{\"value\":0.1},\"fill_color\":{\"value\":\"olive\"},\"plot\":{\"id\":\"a1cd5978-c909-45ee-8bfa-6c89a7465c90\",\"subtype\":\"Figure\",\"type\":\"Plot\"}},\"id\":\"1794a232-8828-4a23-b7c0-81589a5d31a7\",\"type\":\"BoxAnnotation\"},{\"attributes\":{\"active_drag\":\"auto\",\"active_inspect\":\"auto\",\"active_scroll\":\"auto\",\"active_tap\":\"auto\",\"tools\":[{\"id\":\"299208c1-17b1-4fbb-9705-2897e61725a6\",\"type\":\"PanTool\"},{\"id\":\"30df35aa-a3c4-4fff-afe4-ce047e1abb78\",\"type\":\"WheelZoomTool\"},{\"id\":\"009c2c4a-c7bc-4f9e-ae12-a44c7152e1d9\",\"type\":\"BoxZoomTool\"},{\"id\":\"9ab08f48-f735-488d-8398-28141c7f7c3c\",\"type\":\"SaveTool\"},{\"id\":\"070ce35e-d006-4cc9-a5bc-9735c23ca587\",\"type\":\"ResetTool\"},{\"id\":\"039e5908-b7f3-4c4c-b064-e8c2ace21609\",\"type\":\"HelpTool\"}]},\"id\":\"65483f06-e42e-4348-8749-e55d973e2bc8\",\"type\":\"Toolbar\"},{\"attributes\":{},\"id\":\"039e5908-b7f3-4c4c-b064-e8c2ace21609\",\"type\":\"HelpTool\"},{\"attributes\":{\"overlay\":{\"id\":\"cf84f0c0-0dc2-4b3e-b6b0-aa2cea9046d3\",\"type\":\"BoxAnnotation\"}},\"id\":\"009c2c4a-c7bc-4f9e-ae12-a44c7152e1d9\",\"type\":\"BoxZoomTool\"},{\"attributes\":{},\"id\":\"a2a220ab-d524-4a7a-8efb-07c5fc0921b7\",\"type\":\"LinearScale\"},{\"attributes\":{\"callback\":null},\"id\":\"c81dc7c0-d878-42af-a914-85da69d8d7a6\",\"type\":\"DataRange1d\"},{\"attributes\":{},\"id\":\"aff60de2-9415-4b01-bca2-fcf28fcefdf2\",\"type\":\"BasicTickFormatter\"},{\"attributes\":{\"data_source\":{\"id\":\"2aed487b-c43e-4f94-801c-7d38485b98a3\",\"type\":\"ColumnDataSource\"},\"glyph\":{\"id\":\"9355e4bb-9f0b-4283-aea5-5eaaecc94435\",\"type\":\"Line\"},\"hover_glyph\":null,\"muted_glyph\":null,\"nonselection_glyph\":{\"id\":\"f5749165-8aa2-4813-8b05-b1143978e27d\",\"type\":\"Line\"},\"selection_glyph\":null,\"view\":{\"id\":\"cb48bf53-e64d-4609-9b07-a9830594a379\",\"type\":\"CDSView\"}},\"id\":\"cd159249-a1a2-4934-9ed3-11b73ebdb933\",\"type\":\"GlyphRenderer\"},{\"attributes\":{},\"id\":\"9ab08f48-f735-488d-8398-28141c7f7c3c\",\"type\":\"SaveTool\"},{\"attributes\":{\"below\":[{\"id\":\"4a0b36b5-6309-4024-bb50-277097e5bcc2\",\"type\":\"LinearAxis\"}],\"left\":[{\"id\":\"a9c8527e-b163-4ca3-bc56-c237220993ec\",\"type\":\"LinearAxis\"}],\"renderers\":[{\"id\":\"4a0b36b5-6309-4024-bb50-277097e5bcc2\",\"type\":\"LinearAxis\"},{\"id\":\"0ba39903-b692-44bd-a0c2-f440378d533d\",\"type\":\"Grid\"},{\"id\":\"a9c8527e-b163-4ca3-bc56-c237220993ec\",\"type\":\"LinearAxis\"},{\"id\":\"e84e2f22-2f68-4046-ac4c-27e6afeb405f\",\"type\":\"Grid\"},{\"id\":\"cf84f0c0-0dc2-4b3e-b6b0-aa2cea9046d3\",\"type\":\"BoxAnnotation\"},{\"id\":\"cd159249-a1a2-4934-9ed3-11b73ebdb933\",\"type\":\"GlyphRenderer\"},{\"id\":\"1794a232-8828-4a23-b7c0-81589a5d31a7\",\"type\":\"BoxAnnotation\"},{\"id\":\"2dad4d5e-5e87-4362-8497-ca64cb692fda\",\"type\":\"BoxAnnotation\"},{\"id\":\"70d7b423-2e4c-4475-8a16-8f4f784b5e75\",\"type\":\"BoxAnnotation\"}],\"title\":{\"id\":\"3c1b065d-e539-45b9-a182-9e6541e23e84\",\"type\":\"Title\"},\"toolbar\":{\"id\":\"65483f06-e42e-4348-8749-e55d973e2bc8\",\"type\":\"Toolbar\"},\"x_range\":{\"id\":\"c81dc7c0-d878-42af-a914-85da69d8d7a6\",\"type\":\"DataRange1d\"},\"x_scale\":{\"id\":\"c7e8ac9d-1324-4976-b12f-84419834acad\",\"type\":\"LinearScale\"},\"y_range\":{\"id\":\"d624127f-ba07-494f-a457-37d7bf2dbe6c\",\"type\":\"Range1d\"},\"y_scale\":{\"id\":\"a2a220ab-d524-4a7a-8efb-07c5fc0921b7\",\"type\":\"LinearScale\"}},\"id\":\"a1cd5978-c909-45ee-8bfa-6c89a7465c90\",\"subtype\":\"Figure\",\"type\":\"Plot\"},{\"attributes\":{\"formatter\":{\"id\":\"d1243164-5459-4ef6-bfc5-232686d087e7\",\"type\":\"BasicTickFormatter\"},\"plot\":{\"id\":\"a1cd5978-c909-45ee-8bfa-6c89a7465c90\",\"subtype\":\"Figure\",\"type\":\"Plot\"},\"ticker\":{\"id\":\"f7014b87-0783-4e69-a7e0-6689def8cf50\",\"type\":\"BasicTicker\"}},\"id\":\"4a0b36b5-6309-4024-bb50-277097e5bcc2\",\"type\":\"LinearAxis\"},{\"attributes\":{},\"id\":\"070ce35e-d006-4cc9-a5bc-9735c23ca587\",\"type\":\"ResetTool\"},{\"attributes\":{\"plot\":{\"id\":\"a1cd5978-c909-45ee-8bfa-6c89a7465c90\",\"subtype\":\"Figure\",\"type\":\"Plot\"},\"ticker\":{\"id\":\"f7014b87-0783-4e69-a7e0-6689def8cf50\",\"type\":\"BasicTicker\"}},\"id\":\"0ba39903-b692-44bd-a0c2-f440378d533d\",\"type\":\"Grid\"},{\"attributes\":{},\"id\":\"c7e8ac9d-1324-4976-b12f-84419834acad\",\"type\":\"LinearScale\"},{\"attributes\":{\"source\":{\"id\":\"2aed487b-c43e-4f94-801c-7d38485b98a3\",\"type\":\"ColumnDataSource\"}},\"id\":\"cb48bf53-e64d-4609-9b07-a9830594a379\",\"type\":\"CDSView\"},{\"attributes\":{\"line_alpha\":{\"value\":0.1},\"line_color\":{\"value\":\"#1f77b4\"},\"x\":{\"field\":\"x\"},\"y\":{\"field\":\"y\"}},\"id\":\"f5749165-8aa2-4813-8b05-b1143978e27d\",\"type\":\"Line\"},{\"attributes\":{},\"id\":\"d1243164-5459-4ef6-bfc5-232686d087e7\",\"type\":\"BasicTickFormatter\"},{\"attributes\":{},\"id\":\"f7014b87-0783-4e69-a7e0-6689def8cf50\",\"type\":\"BasicTicker\"},{\"attributes\":{\"formatter\":{\"id\":\"aff60de2-9415-4b01-bca2-fcf28fcefdf2\",\"type\":\"BasicTickFormatter\"},\"plot\":{\"id\":\"a1cd5978-c909-45ee-8bfa-6c89a7465c90\",\"subtype\":\"Figure\",\"type\":\"Plot\"},\"ticker\":{\"id\":\"d79ba769-d760-4bfc-8d7c-49eb77e42bc9\",\"type\":\"BasicTicker\"}},\"id\":\"a9c8527e-b163-4ca3-bc56-c237220993ec\",\"type\":\"LinearAxis\"},{\"attributes\":{},\"id\":\"299208c1-17b1-4fbb-9705-2897e61725a6\",\"type\":\"PanTool\"},{\"attributes\":{\"callback\":null,\"column_names\":[\"x\",\"y\"],\"data\":{\"x\":{\"__ndarray__\":\"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\",\"dtype\":\"float64\",\"shape\":[200]},\"y\":{\"__ndarray__\":\"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\",\"dtype\":\"float64\",\"shape\":[200]}}},\"id\":\"2aed487b-c43e-4f94-801c-7d38485b98a3\",\"type\":\"ColumnDataSource\"},{\"attributes\":{\"callback\":null,\"end\":2,\"start\":-2},\"id\":\"d624127f-ba07-494f-a457-37d7bf2dbe6c\",\"type\":\"Range1d\"}],\"root_ids\":[\"a1cd5978-c909-45ee-8bfa-6c89a7465c90\"]},\"title\":\"Bokeh Application\",\"version\":\"0.12.10\"}};\n",
       "    var render_items = [{\"docid\":\"1634649b-8916-4839-a486-628b1414ec42\",\"elementid\":\"64f5d17e-4e1c-43b9-80c4-53794ba2396e\",\"modelid\":\"a1cd5978-c909-45ee-8bfa-6c89a7465c90\"}];\n",
       "\n",
       "    root.Bokeh.embed.embed_items(docs_json, render_items);\n",
       "  }\n",
       "\n",
       "  if (root.Bokeh !== undefined) {\n",
       "    embed_document(root);\n",
       "  } else {\n",
       "    var attempts = 0;\n",
       "    var timer = setInterval(function(root) {\n",
       "      if (root.Bokeh !== undefined) {\n",
       "        embed_document(root);\n",
       "        clearInterval(timer);\n",
       "      }\n",
       "      attempts++;\n",
       "      if (attempts > 100) {\n",
       "        console.log(\"Bokeh: ERROR: Unable to embed document because BokehJS library is missing\")\n",
       "        clearInterval(timer);\n",
       "      }\n",
       "    }, 10, root)\n",
       "  }\n",
       "})(window);"
      ],
      "application/vnd.bokehjs_exec.v0+json": ""
     },
     "metadata": {
      "application/vnd.bokehjs_exec.v0+json": {
       "id": "a1cd5978-c909-45ee-8bfa-6c89a7465c90"
      }
     },
     "output_type": "display_data"
    }
   ],
   "source": [
    "import numpy as np\n",
    "from bokeh.models.annotations import BoxAnnotation\n",
    "\n",
    "x = np.linspace(0, 20, 200)\n",
    "y = np.sin(x)\n",
    "\n",
    "p = figure(y_range=(-2, 2))\n",
    "p.line(x, y)\n",
    "\n",
    "# region that always fills the top of the plot\n",
    "upper = BoxAnnotation(bottom=1, fill_alpha=0.1, fill_color='olive')\n",
    "p.add_layout(upper)\n",
    "\n",
    "# region that always fills the bottom of the plot\n",
    "lower = BoxAnnotation(top=-1, fill_alpha=0.1, fill_color='firebrick')\n",
    "p.add_layout(lower)\n",
    "\n",
    "# a finite region\n",
    "center = BoxAnnotation(top=0.6, bottom=-0.3, left=7, right=12, fill_alpha=0.1, fill_color='navy')\n",
    "p.add_layout(center)\n",
    "\n",
    "show(p)"
   ]
  },
  {
   "cell_type": "code",
   "execution_count": 7,
   "metadata": {},
   "outputs": [],
   "source": [
    "# Exercise:\n"
   ]
  },
  {
   "cell_type": "markdown",
   "metadata": {
    "collapsed": true
   },
   "source": [
    "## Label\n",
    "\n",
    "The `Label` annotation allows you to easily attach single text labels to plots. The position and text to display are configured as `x`, `y`, and `text`:\n",
    "\n",
    "```python\n",
    "Label(x=10, y=5, text=\"Some Label\")\n",
    "```\n",
    "\n",
    "By default the units are in \"data space\" but `x_units` and `y_units` maybe set to `\"screen\"` to position the label relative to the canvas. Labels can also accept `x_offset` and `y_offset` to offset the final position from `x` and `y` by a given screen space distance. \n",
    "\n",
    "`Label` objects also have standard text, line (`border_line`) and fill (`background_fill`) properties. The line and fill properties apply to a bounding box around the text:\n",
    "\n",
    "```python\n",
    "Label(x=10, y=5, text=\"Some Label\", text_font_size=\"12pt\", \n",
    "      border_line_color=\"red\", background_fill_color=\"blue\")\n",
    "```"
   ]
  },
  {
   "cell_type": "code",
   "execution_count": 8,
   "metadata": {},
   "outputs": [
    {
     "data": {
      "text/html": [
       "\n",
       "<div class=\"bk-root\">\n",
       "    <div class=\"bk-plotdiv\" id=\"a593434e-9d16-48cb-b56a-df4f9ada1ec6\"></div>\n",
       "</div>"
      ]
     },
     "metadata": {},
     "output_type": "display_data"
    },
    {
     "data": {
      "application/javascript": [
       "(function(root) {\n",
       "  function embed_document(root) {\n",
       "    var docs_json = {\"16da9de4-54ba-4fa4-a23b-1973366b6c7c\":{\"roots\":{\"references\":[{\"attributes\":{},\"id\":\"4afe5132-93a1-4a47-b0ed-06b42399bfa7\",\"type\":\"LinearScale\"},{\"attributes\":{\"dimension\":1,\"plot\":{\"id\":\"c124a1c3-f2c9-400a-ba54-48869945691b\",\"subtype\":\"Figure\",\"type\":\"Plot\"},\"ticker\":{\"id\":\"da36c9ed-462a-431d-b89e-1df915e4798c\",\"type\":\"BasicTicker\"}},\"id\":\"c9502203-e1f5-4e47-b68f-4f85dcefe53e\",\"type\":\"Grid\"},{\"attributes\":{},\"id\":\"3c8f83fd-4a7e-4f2f-acdd-e28204c91077\",\"type\":\"PanTool\"},{\"attributes\":{\"active_drag\":\"auto\",\"active_inspect\":\"auto\",\"active_scroll\":\"auto\",\"active_tap\":\"auto\",\"tools\":[{\"id\":\"3c8f83fd-4a7e-4f2f-acdd-e28204c91077\",\"type\":\"PanTool\"},{\"id\":\"ff634c35-3106-49c0-8abf-d2515c242656\",\"type\":\"WheelZoomTool\"},{\"id\":\"e76d8b52-c341-4b06-986e-ab8823e8c30b\",\"type\":\"BoxZoomTool\"},{\"id\":\"890fe2ca-4828-44e5-9e26-e6935822c380\",\"type\":\"SaveTool\"},{\"id\":\"3cf37c6d-a5c2-4a26-9ae9-d1b8b5e40937\",\"type\":\"ResetTool\"},{\"id\":\"5f59c077-a8e6-4fd3-b345-fc692cc47443\",\"type\":\"HelpTool\"}]},\"id\":\"417d2e92-1403-4e14-a81f-0d673dde76df\",\"type\":\"Toolbar\"},{\"attributes\":{},\"id\":\"889b4476-7821-4480-8e82-599397eeeee2\",\"type\":\"BasicTickFormatter\"},{\"attributes\":{},\"id\":\"5f59c077-a8e6-4fd3-b345-fc692cc47443\",\"type\":\"HelpTool\"},{\"attributes\":{\"overlay\":{\"id\":\"614f0d96-3886-46f7-bcc4-bc8242895a38\",\"type\":\"BoxAnnotation\"}},\"id\":\"e76d8b52-c341-4b06-986e-ab8823e8c30b\",\"type\":\"BoxZoomTool\"},{\"attributes\":{\"callback\":null,\"end\":10},\"id\":\"00183c96-b618-47b1-968f-45373f959ec3\",\"type\":\"Range1d\"},{\"attributes\":{},\"id\":\"3cf37c6d-a5c2-4a26-9ae9-d1b8b5e40937\",\"type\":\"ResetTool\"},{\"attributes\":{\"plot\":null,\"text\":\"\"},\"id\":\"1c412f1b-d4b6-49d7-980c-debd5013f252\",\"type\":\"Title\"},{\"attributes\":{\"formatter\":{\"id\":\"d78c3a3c-d805-41ce-b3c6-cf3682d66e7c\",\"type\":\"BasicTickFormatter\"},\"plot\":{\"id\":\"c124a1c3-f2c9-400a-ba54-48869945691b\",\"subtype\":\"Figure\",\"type\":\"Plot\"},\"ticker\":{\"id\":\"fd767b92-9e26-4dec-a550-f086756b9ea1\",\"type\":\"BasicTicker\"}},\"id\":\"27d92296-a44e-4904-96c2-20b45715feb8\",\"type\":\"LinearAxis\"},{\"attributes\":{},\"id\":\"ff634c35-3106-49c0-8abf-d2515c242656\",\"type\":\"WheelZoomTool\"},{\"attributes\":{\"fill_alpha\":{\"value\":0.1},\"fill_color\":{\"value\":\"#1f77b4\"},\"line_alpha\":{\"value\":0.1},\"line_color\":{\"value\":\"#1f77b4\"},\"size\":{\"units\":\"screen\",\"value\":10},\"x\":{\"field\":\"x\"},\"y\":{\"field\":\"y\"}},\"id\":\"c7557f5f-711a-41d0-bc70-9ce21c9f052a\",\"type\":\"Circle\"},{\"attributes\":{\"plot\":{\"id\":\"c124a1c3-f2c9-400a-ba54-48869945691b\",\"subtype\":\"Figure\",\"type\":\"Plot\"},\"ticker\":{\"id\":\"fd767b92-9e26-4dec-a550-f086756b9ea1\",\"type\":\"BasicTicker\"}},\"id\":\"a38e7f63-a366-4e24-b9cf-c6bb48d34c6e\",\"type\":\"Grid\"},{\"attributes\":{\"callback\":null,\"end\":10},\"id\":\"8689b1fc-a795-47dd-a8d6-eac1d4b93062\",\"type\":\"Range1d\"},{\"attributes\":{\"plot\":{\"id\":\"c124a1c3-f2c9-400a-ba54-48869945691b\",\"subtype\":\"Figure\",\"type\":\"Plot\"},\"text\":\"Second Point\",\"text_baseline\":\"middle\",\"x\":5,\"x_offset\":12,\"y\":7},\"id\":\"8dbd633d-505d-4ab4-ad26-8124b6ef87b1\",\"type\":\"Label\"},{\"attributes\":{\"bottom_units\":\"screen\",\"fill_alpha\":{\"value\":0.5},\"fill_color\":{\"value\":\"lightgrey\"},\"left_units\":\"screen\",\"level\":\"overlay\",\"line_alpha\":{\"value\":1.0},\"line_color\":{\"value\":\"black\"},\"line_dash\":[4,4],\"line_width\":{\"value\":2},\"plot\":null,\"render_mode\":\"css\",\"right_units\":\"screen\",\"top_units\":\"screen\"},\"id\":\"614f0d96-3886-46f7-bcc4-bc8242895a38\",\"type\":\"BoxAnnotation\"},{\"attributes\":{\"fill_color\":{\"value\":\"olive\"},\"line_color\":{\"value\":\"olive\"},\"size\":{\"units\":\"screen\",\"value\":10},\"x\":{\"field\":\"x\"},\"y\":{\"field\":\"y\"}},\"id\":\"86d610c0-425e-4003-a580-34a042ee19a1\",\"type\":\"Circle\"},{\"attributes\":{\"formatter\":{\"id\":\"889b4476-7821-4480-8e82-599397eeeee2\",\"type\":\"BasicTickFormatter\"},\"plot\":{\"id\":\"c124a1c3-f2c9-400a-ba54-48869945691b\",\"subtype\":\"Figure\",\"type\":\"Plot\"},\"ticker\":{\"id\":\"da36c9ed-462a-431d-b89e-1df915e4798c\",\"type\":\"BasicTicker\"}},\"id\":\"471fbd84-28a2-4ba3-9233-ac2f41fba11e\",\"type\":\"LinearAxis\"},{\"attributes\":{},\"id\":\"d78c3a3c-d805-41ce-b3c6-cf3682d66e7c\",\"type\":\"BasicTickFormatter\"},{\"attributes\":{\"data_source\":{\"id\":\"ac34b307-1c22-40e3-b203-65a9feb9f122\",\"type\":\"ColumnDataSource\"},\"glyph\":{\"id\":\"86d610c0-425e-4003-a580-34a042ee19a1\",\"type\":\"Circle\"},\"hover_glyph\":null,\"muted_glyph\":null,\"nonselection_glyph\":{\"id\":\"c7557f5f-711a-41d0-bc70-9ce21c9f052a\",\"type\":\"Circle\"},\"selection_glyph\":null,\"view\":{\"id\":\"12521154-fa5f-4c3d-873a-915da205d72b\",\"type\":\"CDSView\"}},\"id\":\"2ee0361b-d311-4234-bc8e-6f8a35e2f7f0\",\"type\":\"GlyphRenderer\"},{\"attributes\":{\"callback\":null,\"column_names\":[\"x\",\"y\"],\"data\":{\"x\":[2,5,8],\"y\":[4,7,6]}},\"id\":\"ac34b307-1c22-40e3-b203-65a9feb9f122\",\"type\":\"ColumnDataSource\"},{\"attributes\":{},\"id\":\"fd767b92-9e26-4dec-a550-f086756b9ea1\",\"type\":\"BasicTicker\"},{\"attributes\":{\"below\":[{\"id\":\"27d92296-a44e-4904-96c2-20b45715feb8\",\"type\":\"LinearAxis\"}],\"left\":[{\"id\":\"471fbd84-28a2-4ba3-9233-ac2f41fba11e\",\"type\":\"LinearAxis\"}],\"renderers\":[{\"id\":\"27d92296-a44e-4904-96c2-20b45715feb8\",\"type\":\"LinearAxis\"},{\"id\":\"a38e7f63-a366-4e24-b9cf-c6bb48d34c6e\",\"type\":\"Grid\"},{\"id\":\"471fbd84-28a2-4ba3-9233-ac2f41fba11e\",\"type\":\"LinearAxis\"},{\"id\":\"c9502203-e1f5-4e47-b68f-4f85dcefe53e\",\"type\":\"Grid\"},{\"id\":\"614f0d96-3886-46f7-bcc4-bc8242895a38\",\"type\":\"BoxAnnotation\"},{\"id\":\"2ee0361b-d311-4234-bc8e-6f8a35e2f7f0\",\"type\":\"GlyphRenderer\"},{\"id\":\"8dbd633d-505d-4ab4-ad26-8124b6ef87b1\",\"type\":\"Label\"}],\"title\":{\"id\":\"1c412f1b-d4b6-49d7-980c-debd5013f252\",\"type\":\"Title\"},\"toolbar\":{\"id\":\"417d2e92-1403-4e14-a81f-0d673dde76df\",\"type\":\"Toolbar\"},\"x_range\":{\"id\":\"00183c96-b618-47b1-968f-45373f959ec3\",\"type\":\"Range1d\"},\"x_scale\":{\"id\":\"9a081400-6cde-41b6-bad4-6c10c9013ba2\",\"type\":\"LinearScale\"},\"y_range\":{\"id\":\"8689b1fc-a795-47dd-a8d6-eac1d4b93062\",\"type\":\"Range1d\"},\"y_scale\":{\"id\":\"4afe5132-93a1-4a47-b0ed-06b42399bfa7\",\"type\":\"LinearScale\"}},\"id\":\"c124a1c3-f2c9-400a-ba54-48869945691b\",\"subtype\":\"Figure\",\"type\":\"Plot\"},{\"attributes\":{\"source\":{\"id\":\"ac34b307-1c22-40e3-b203-65a9feb9f122\",\"type\":\"ColumnDataSource\"}},\"id\":\"12521154-fa5f-4c3d-873a-915da205d72b\",\"type\":\"CDSView\"},{\"attributes\":{},\"id\":\"9a081400-6cde-41b6-bad4-6c10c9013ba2\",\"type\":\"LinearScale\"},{\"attributes\":{},\"id\":\"da36c9ed-462a-431d-b89e-1df915e4798c\",\"type\":\"BasicTicker\"},{\"attributes\":{},\"id\":\"890fe2ca-4828-44e5-9e26-e6935822c380\",\"type\":\"SaveTool\"}],\"root_ids\":[\"c124a1c3-f2c9-400a-ba54-48869945691b\"]},\"title\":\"Bokeh Application\",\"version\":\"0.12.10\"}};\n",
       "    var render_items = [{\"docid\":\"16da9de4-54ba-4fa4-a23b-1973366b6c7c\",\"elementid\":\"a593434e-9d16-48cb-b56a-df4f9ada1ec6\",\"modelid\":\"c124a1c3-f2c9-400a-ba54-48869945691b\"}];\n",
       "\n",
       "    root.Bokeh.embed.embed_items(docs_json, render_items);\n",
       "  }\n",
       "\n",
       "  if (root.Bokeh !== undefined) {\n",
       "    embed_document(root);\n",
       "  } else {\n",
       "    var attempts = 0;\n",
       "    var timer = setInterval(function(root) {\n",
       "      if (root.Bokeh !== undefined) {\n",
       "        embed_document(root);\n",
       "        clearInterval(timer);\n",
       "      }\n",
       "      attempts++;\n",
       "      if (attempts > 100) {\n",
       "        console.log(\"Bokeh: ERROR: Unable to embed document because BokehJS library is missing\")\n",
       "        clearInterval(timer);\n",
       "      }\n",
       "    }, 10, root)\n",
       "  }\n",
       "})(window);"
      ],
      "application/vnd.bokehjs_exec.v0+json": ""
     },
     "metadata": {
      "application/vnd.bokehjs_exec.v0+json": {
       "id": "c124a1c3-f2c9-400a-ba54-48869945691b"
      }
     },
     "output_type": "display_data"
    }
   ],
   "source": [
    "from bokeh.models.annotations import Label\n",
    "from bokeh.plotting import figure\n",
    "\n",
    "p = figure(x_range=(0,10), y_range=(0,10))\n",
    "p.circle([2, 5, 8], [4, 7, 6], color=\"olive\", size=10)\n",
    "\n",
    "label = Label(x=5, y=7, x_offset=12, text=\"Second Point\", text_baseline=\"middle\")\n",
    "p.add_layout(label)\n",
    "\n",
    "show(p)"
   ]
  },
  {
   "cell_type": "code",
   "execution_count": 9,
   "metadata": {},
   "outputs": [],
   "source": [
    "# EXERCISE: experiment with Label\n"
   ]
  },
  {
   "cell_type": "markdown",
   "metadata": {
    "collapsed": true
   },
   "source": [
    "## LabelSet\n",
    "\n",
    "The `LabelSet` annotation allows you to create many labels at once, for instance if you want to label an entire set of scatter markers. They are similar to `Label`, but they can also \n",
    "accept a `ColumnDataSource` as the `source` property, and then `x` and `y` may refer to columns in the data source, e.g. `x=\"col2\"` (but may also still be fixed values, e.g. `x=10`)."
   ]
  },
  {
   "cell_type": "code",
   "execution_count": 10,
   "metadata": {},
   "outputs": [
    {
     "data": {
      "text/html": [
       "\n",
       "<div class=\"bk-root\">\n",
       "    <div class=\"bk-plotdiv\" id=\"306e44d3-76f1-45ec-88c5-871d98094b85\"></div>\n",
       "</div>"
      ]
     },
     "metadata": {},
     "output_type": "display_data"
    },
    {
     "data": {
      "application/javascript": [
       "(function(root) {\n",
       "  function embed_document(root) {\n",
       "    var docs_json = {\"6ea684d1-99c9-4534-9f32-f89b17ffdecc\":{\"roots\":{\"references\":[{\"attributes\":{\"callback\":null,\"end\":175,\"start\":160},\"id\":\"6c625621-2a77-4b1f-a57b-dce22b5162e3\",\"type\":\"Range1d\"},{\"attributes\":{},\"id\":\"19f345ae-541b-4021-ab04-c4ab20aff3eb\",\"type\":\"WheelZoomTool\"},{\"attributes\":{\"plot\":{\"id\":\"5dea1025-73e2-4ca6-82ae-e064d66b76f3\",\"subtype\":\"Figure\",\"type\":\"Plot\"},\"ticker\":{\"id\":\"2f79eea3-7f82-4477-8fa1-0e68542f370c\",\"type\":\"BasicTicker\"}},\"id\":\"487d0e43-e411-4268-bd5c-bede1dadf77e\",\"type\":\"Grid\"},{\"attributes\":{\"callback\":null,\"column_names\":[\"pressure\",\"temp\",\"names\"],\"data\":{\"names\":[\"A\",\"B\",\"C\",\"D\",\"E\",\"F\"],\"pressure\":[165,189,220,141,260,174],\"temp\":[166,171,172,168,174,162]}},\"id\":\"680b7892-354f-4665-8ff5-6bc2c7f372b4\",\"type\":\"ColumnDataSource\"},{\"attributes\":{},\"id\":\"4074b60e-eee3-404b-afad-85742f5f7bb0\",\"type\":\"HelpTool\"},{\"attributes\":{},\"id\":\"2f79eea3-7f82-4477-8fa1-0e68542f370c\",\"type\":\"BasicTicker\"},{\"attributes\":{\"active_drag\":\"auto\",\"active_inspect\":\"auto\",\"active_scroll\":\"auto\",\"active_tap\":\"auto\",\"tools\":[{\"id\":\"2989482e-f3bd-4a88-bac1-93802e6e6f05\",\"type\":\"PanTool\"},{\"id\":\"19f345ae-541b-4021-ab04-c4ab20aff3eb\",\"type\":\"WheelZoomTool\"},{\"id\":\"0052a557-7ce1-4b52-9205-ca70ead5715a\",\"type\":\"BoxZoomTool\"},{\"id\":\"78b4ab10-a6ef-4984-8df4-b602b2e122b1\",\"type\":\"SaveTool\"},{\"id\":\"088e83ff-3e03-4d7b-a68c-f01053e13297\",\"type\":\"ResetTool\"},{\"id\":\"4074b60e-eee3-404b-afad-85742f5f7bb0\",\"type\":\"HelpTool\"}]},\"id\":\"8a883e1b-a199-401c-b20e-95e0647a390b\",\"type\":\"Toolbar\"},{\"attributes\":{},\"id\":\"088e83ff-3e03-4d7b-a68c-f01053e13297\",\"type\":\"ResetTool\"},{\"attributes\":{},\"id\":\"f39f05d1-60fa-4ed3-b35b-b6f9c5989275\",\"type\":\"LinearScale\"},{\"attributes\":{\"below\":[{\"id\":\"7becefdb-46a6-4446-94d6-da0f9e6c1dde\",\"type\":\"LinearAxis\"}],\"left\":[{\"id\":\"25da0eed-02eb-4806-8e61-e3c3c0902f32\",\"type\":\"LinearAxis\"}],\"renderers\":[{\"id\":\"7becefdb-46a6-4446-94d6-da0f9e6c1dde\",\"type\":\"LinearAxis\"},{\"id\":\"487d0e43-e411-4268-bd5c-bede1dadf77e\",\"type\":\"Grid\"},{\"id\":\"25da0eed-02eb-4806-8e61-e3c3c0902f32\",\"type\":\"LinearAxis\"},{\"id\":\"f69bcfec-034e-472e-a2d2-6d7cc76e4a79\",\"type\":\"Grid\"},{\"id\":\"bda59660-d354-4552-96cc-8e4fbb52a1da\",\"type\":\"BoxAnnotation\"},{\"id\":\"83fe8ae2-87c7-4e97-b545-b8d9fe827194\",\"type\":\"GlyphRenderer\"},{\"id\":\"7f4216bb-1800-4772-ae83-32a5ad76aa69\",\"type\":\"LabelSet\"}],\"title\":{\"id\":\"482b4bfa-d259-4782-ad2a-bc1b6aca4073\",\"type\":\"Title\"},\"toolbar\":{\"id\":\"8a883e1b-a199-401c-b20e-95e0647a390b\",\"type\":\"Toolbar\"},\"x_range\":{\"id\":\"6c625621-2a77-4b1f-a57b-dce22b5162e3\",\"type\":\"Range1d\"},\"x_scale\":{\"id\":\"f39f05d1-60fa-4ed3-b35b-b6f9c5989275\",\"type\":\"LinearScale\"},\"y_range\":{\"id\":\"8097125c-73a4-4daf-a7ae-39ca42a0f12f\",\"type\":\"DataRange1d\"},\"y_scale\":{\"id\":\"36ea6569-c560-4c8a-8705-25f006520776\",\"type\":\"LinearScale\"}},\"id\":\"5dea1025-73e2-4ca6-82ae-e064d66b76f3\",\"subtype\":\"Figure\",\"type\":\"Plot\"},{\"attributes\":{\"level\":\"glyph\",\"plot\":{\"id\":\"5dea1025-73e2-4ca6-82ae-e064d66b76f3\",\"subtype\":\"Figure\",\"type\":\"Plot\"},\"source\":{\"id\":\"680b7892-354f-4665-8ff5-6bc2c7f372b4\",\"type\":\"ColumnDataSource\"},\"text\":{\"field\":\"names\"},\"x\":{\"field\":\"temp\"},\"x_offset\":{\"value\":5},\"y\":{\"field\":\"pressure\"},\"y_offset\":{\"value\":5}},\"id\":\"7f4216bb-1800-4772-ae83-32a5ad76aa69\",\"type\":\"LabelSet\"},{\"attributes\":{\"overlay\":{\"id\":\"bda59660-d354-4552-96cc-8e4fbb52a1da\",\"type\":\"BoxAnnotation\"}},\"id\":\"0052a557-7ce1-4b52-9205-ca70ead5715a\",\"type\":\"BoxZoomTool\"},{\"attributes\":{\"axis_label\":\"Pressure (lbs)\",\"formatter\":{\"id\":\"c5c869a3-54a3-443f-a383-a9535bc79d03\",\"type\":\"BasicTickFormatter\"},\"plot\":{\"id\":\"5dea1025-73e2-4ca6-82ae-e064d66b76f3\",\"subtype\":\"Figure\",\"type\":\"Plot\"},\"ticker\":{\"id\":\"32e11a02-2593-42c4-a864-4e7725204a0c\",\"type\":\"BasicTicker\"}},\"id\":\"25da0eed-02eb-4806-8e61-e3c3c0902f32\",\"type\":\"LinearAxis\"},{\"attributes\":{},\"id\":\"32e11a02-2593-42c4-a864-4e7725204a0c\",\"type\":\"BasicTicker\"},{\"attributes\":{},\"id\":\"36ea6569-c560-4c8a-8705-25f006520776\",\"type\":\"LinearScale\"},{\"attributes\":{},\"id\":\"78b4ab10-a6ef-4984-8df4-b602b2e122b1\",\"type\":\"SaveTool\"},{\"attributes\":{},\"id\":\"c5c869a3-54a3-443f-a383-a9535bc79d03\",\"type\":\"BasicTickFormatter\"},{\"attributes\":{\"bottom_units\":\"screen\",\"fill_alpha\":{\"value\":0.5},\"fill_color\":{\"value\":\"lightgrey\"},\"left_units\":\"screen\",\"level\":\"overlay\",\"line_alpha\":{\"value\":1.0},\"line_color\":{\"value\":\"black\"},\"line_dash\":[4,4],\"line_width\":{\"value\":2},\"plot\":null,\"render_mode\":\"css\",\"right_units\":\"screen\",\"top_units\":\"screen\"},\"id\":\"bda59660-d354-4552-96cc-8e4fbb52a1da\",\"type\":\"BoxAnnotation\"},{\"attributes\":{\"callback\":null},\"id\":\"8097125c-73a4-4daf-a7ae-39ca42a0f12f\",\"type\":\"DataRange1d\"},{\"attributes\":{},\"id\":\"50536607-ec11-47c1-a1e9-970e10008b9e\",\"type\":\"BasicTickFormatter\"},{\"attributes\":{\"dimension\":1,\"plot\":{\"id\":\"5dea1025-73e2-4ca6-82ae-e064d66b76f3\",\"subtype\":\"Figure\",\"type\":\"Plot\"},\"ticker\":{\"id\":\"32e11a02-2593-42c4-a864-4e7725204a0c\",\"type\":\"BasicTicker\"}},\"id\":\"f69bcfec-034e-472e-a2d2-6d7cc76e4a79\",\"type\":\"Grid\"},{\"attributes\":{\"axis_label\":\"Temperature (C)\",\"formatter\":{\"id\":\"50536607-ec11-47c1-a1e9-970e10008b9e\",\"type\":\"BasicTickFormatter\"},\"plot\":{\"id\":\"5dea1025-73e2-4ca6-82ae-e064d66b76f3\",\"subtype\":\"Figure\",\"type\":\"Plot\"},\"ticker\":{\"id\":\"2f79eea3-7f82-4477-8fa1-0e68542f370c\",\"type\":\"BasicTicker\"}},\"id\":\"7becefdb-46a6-4446-94d6-da0f9e6c1dde\",\"type\":\"LinearAxis\"},{\"attributes\":{\"plot\":null,\"text\":\"\"},\"id\":\"482b4bfa-d259-4782-ad2a-bc1b6aca4073\",\"type\":\"Title\"},{\"attributes\":{\"data_source\":{\"id\":\"680b7892-354f-4665-8ff5-6bc2c7f372b4\",\"type\":\"ColumnDataSource\"},\"glyph\":{\"id\":\"5f0887f8-8aae-4b23-98b1-7fd180bfd265\",\"type\":\"Circle\"},\"hover_glyph\":null,\"muted_glyph\":null,\"nonselection_glyph\":{\"id\":\"85da426d-e17c-4821-945c-1fa0cf713c46\",\"type\":\"Circle\"},\"selection_glyph\":null,\"view\":{\"id\":\"a1beae1e-135f-41d7-80d2-f2ba8cdd853f\",\"type\":\"CDSView\"}},\"id\":\"83fe8ae2-87c7-4e97-b545-b8d9fe827194\",\"type\":\"GlyphRenderer\"},{\"attributes\":{\"source\":{\"id\":\"680b7892-354f-4665-8ff5-6bc2c7f372b4\",\"type\":\"ColumnDataSource\"}},\"id\":\"a1beae1e-135f-41d7-80d2-f2ba8cdd853f\",\"type\":\"CDSView\"},{\"attributes\":{\"fill_alpha\":{\"value\":0.1},\"fill_color\":{\"value\":\"#1f77b4\"},\"line_alpha\":{\"value\":0.1},\"line_color\":{\"value\":\"#1f77b4\"},\"size\":{\"units\":\"screen\",\"value\":8},\"x\":{\"field\":\"temp\"},\"y\":{\"field\":\"pressure\"}},\"id\":\"85da426d-e17c-4821-945c-1fa0cf713c46\",\"type\":\"Circle\"},{\"attributes\":{},\"id\":\"2989482e-f3bd-4a88-bac1-93802e6e6f05\",\"type\":\"PanTool\"},{\"attributes\":{\"fill_color\":{\"value\":\"#1f77b4\"},\"line_color\":{\"value\":\"#1f77b4\"},\"size\":{\"units\":\"screen\",\"value\":8},\"x\":{\"field\":\"temp\"},\"y\":{\"field\":\"pressure\"}},\"id\":\"5f0887f8-8aae-4b23-98b1-7fd180bfd265\",\"type\":\"Circle\"}],\"root_ids\":[\"5dea1025-73e2-4ca6-82ae-e064d66b76f3\"]},\"title\":\"Bokeh Application\",\"version\":\"0.12.10\"}};\n",
       "    var render_items = [{\"docid\":\"6ea684d1-99c9-4534-9f32-f89b17ffdecc\",\"elementid\":\"306e44d3-76f1-45ec-88c5-871d98094b85\",\"modelid\":\"5dea1025-73e2-4ca6-82ae-e064d66b76f3\"}];\n",
       "\n",
       "    root.Bokeh.embed.embed_items(docs_json, render_items);\n",
       "  }\n",
       "\n",
       "  if (root.Bokeh !== undefined) {\n",
       "    embed_document(root);\n",
       "  } else {\n",
       "    var attempts = 0;\n",
       "    var timer = setInterval(function(root) {\n",
       "      if (root.Bokeh !== undefined) {\n",
       "        embed_document(root);\n",
       "        clearInterval(timer);\n",
       "      }\n",
       "      attempts++;\n",
       "      if (attempts > 100) {\n",
       "        console.log(\"Bokeh: ERROR: Unable to embed document because BokehJS library is missing\")\n",
       "        clearInterval(timer);\n",
       "      }\n",
       "    }, 10, root)\n",
       "  }\n",
       "})(window);"
      ],
      "application/vnd.bokehjs_exec.v0+json": ""
     },
     "metadata": {
      "application/vnd.bokehjs_exec.v0+json": {
       "id": "5dea1025-73e2-4ca6-82ae-e064d66b76f3"
      }
     },
     "output_type": "display_data"
    }
   ],
   "source": [
    "from bokeh.plotting import figure\n",
    "from bokeh.models import ColumnDataSource, LabelSet\n",
    "\n",
    "\n",
    "source = ColumnDataSource(data=dict(\n",
    "    temp=[166, 171, 172, 168, 174, 162],\n",
    "    pressure=[165, 189, 220, 141, 260, 174],\n",
    "    names=['A', 'B', 'C', 'D', 'E', 'F']))\n",
    "\n",
    "p = figure(x_range=(160, 175))\n",
    "p.scatter(x='temp', y='pressure', size=8, source=source)\n",
    "p.xaxis.axis_label = 'Temperature (C)'\n",
    "p.yaxis.axis_label = 'Pressure (lbs)'\n",
    "\n",
    "labels = LabelSet(x='temp', y='pressure', text='names', level='glyph',\n",
    "                  x_offset=5, y_offset=5, source=source, render_mode='canvas')\n",
    "\n",
    "\n",
    "p.add_layout(labels)\n",
    "\n",
    "show(p)"
   ]
  },
  {
   "cell_type": "code",
   "execution_count": 11,
   "metadata": {},
   "outputs": [],
   "source": [
    "# EXERCISE: experiment with LabelSet\n"
   ]
  },
  {
   "cell_type": "markdown",
   "metadata": {
    "collapsed": true
   },
   "source": [
    "## Arrows\n",
    "\n",
    "The `Arrow` annotation allows you to \"point\" at different things on your plot, and can be especially useful in conjuction with labels. \n",
    "\n",
    "For example, to create an arrow that points from `(0,0)` to `(1,1)`:\n",
    "\n",
    "```python\n",
    "p.add_layout(Arrow(x_start=0, y_start=0, x_end=1, y_end=0))\n",
    "```\n",
    "\n",
    "This arrow will have the default [`OpenHead`](http://bokeh.pydata.org/en/latest/docs/reference/models/arrow_heads.html#bokeh.models.arrow_heads.OpenHead) arrow head at the end of the arrow. Other kinds of arrow heads include [`NormalHead`](http://bokeh.pydata.org/en/latest/docs/reference/models/arrow_heads.html#bokeh.models.arrow_heads.NormalHead) and [`VeeHead`](http://bokeh.pydata.org/en/latest/docs/reference/models/arrow_heads.html#bokeh.models.arrow_heads.VeeHead). The arrow head type can be controlled by setting the `start` and `end` properties of `Arrow` objects:\n",
    "\n",
    "```python\n",
    "p.add_layout(Arrow(start=OpenHead(), end=VeeHead(), \n",
    "             x_start=0, y_start=0, x_end=1, y_end=0))\n",
    "```\n",
    "\n",
    "This will create a double-ended arrow with an \"open\" head at the start, and a \"vee\" head at the end. Arrowheads have the standard set of line and fill properties to control their appearance. As an example\n",
    "\n",
    "```python\n",
    "OpenHead(line_color=\"firebrick\", line_width=4)\n",
    "```\n",
    "\n",
    "The code and plot below shows several of these configurations together."
   ]
  },
  {
   "cell_type": "code",
   "execution_count": 12,
   "metadata": {},
   "outputs": [
    {
     "data": {
      "text/html": [
       "\n",
       "<div class=\"bk-root\">\n",
       "    <div class=\"bk-plotdiv\" id=\"7a9bfb59-98e8-4270-b6dc-39fbf4c700e3\"></div>\n",
       "</div>"
      ]
     },
     "metadata": {},
     "output_type": "display_data"
    },
    {
     "data": {
      "application/javascript": [
       "(function(root) {\n",
       "  function embed_document(root) {\n",
       "    var docs_json = {\"9a0a4227-0be4-4daf-b73d-395c824ba0ae\":{\"roots\":{\"references\":[{\"attributes\":{},\"id\":\"4da34982-f3c2-49f8-b706-71bab0a5ed4d\",\"type\":\"BasicTickFormatter\"},{\"attributes\":{\"callback\":null},\"id\":\"679ae444-2887-4538-866b-22f17d45e544\",\"type\":\"DataRange1d\"},{\"attributes\":{},\"id\":\"8510a10a-107a-4ae9-b125-e84342ec63e0\",\"type\":\"LinearScale\"},{\"attributes\":{},\"id\":\"6ed305b1-3b15-4192-9ace-528073c7d6f4\",\"type\":\"BasicTickFormatter\"},{\"attributes\":{\"fill_color\":{\"value\":\"orange\"},\"plot\":null},\"id\":\"fe4c35ed-c9e0-4d5a-8e3d-313ced30d804\",\"type\":\"NormalHead\"},{\"attributes\":{},\"id\":\"bbe2f0de-608a-497b-b137-c6f2dc78c846\",\"type\":\"ResetTool\"},{\"attributes\":{\"plot\":null,\"size\":35},\"id\":\"bf36e2ca-d11a-4219-92c7-c75171c7459e\",\"type\":\"VeeHead\"},{\"attributes\":{\"end\":{\"id\":\"bf36e2ca-d11a-4219-92c7-c75171c7459e\",\"type\":\"VeeHead\"},\"line_color\":{\"value\":\"red\"},\"plot\":{\"id\":\"e5deaa0a-6a02-4270-8a4e-4fdc89b8a506\",\"subtype\":\"Figure\",\"type\":\"Plot\"},\"source\":null,\"start\":null,\"x_end\":{\"value\":0},\"x_start\":{\"value\":0.5},\"y_end\":{\"value\":0},\"y_start\":{\"value\":0.7}},\"id\":\"0a40cdf5-7096-4634-acc2-0e7ba4682668\",\"type\":\"Arrow\"},{\"attributes\":{},\"id\":\"22a2f5f3-63fc-44dc-b6ca-6c09b715ff15\",\"type\":\"PanTool\"},{\"attributes\":{\"dimension\":1,\"plot\":{\"id\":\"e5deaa0a-6a02-4270-8a4e-4fdc89b8a506\",\"subtype\":\"Figure\",\"type\":\"Plot\"},\"ticker\":{\"id\":\"ad2911fb-d978-42b3-8ede-c29c4d02d967\",\"type\":\"BasicTicker\"}},\"id\":\"b91341ce-813b-4988-b062-4696cb70c688\",\"type\":\"Grid\"},{\"attributes\":{},\"id\":\"2359d989-ddcf-4af5-be8c-e7757a085841\",\"type\":\"HelpTool\"},{\"attributes\":{\"end\":{\"id\":\"20054150-4860-4ced-85db-4608986d0656\",\"type\":\"OpenHead\"},\"plot\":{\"id\":\"e5deaa0a-6a02-4270-8a4e-4fdc89b8a506\",\"subtype\":\"Figure\",\"type\":\"Plot\"},\"source\":null,\"start\":null,\"x_end\":{\"value\":1},\"x_start\":{\"value\":0},\"y_end\":{\"value\":0},\"y_start\":{\"value\":0}},\"id\":\"d46b9dd1-770f-431d-98e0-f6fe947e7d29\",\"type\":\"Arrow\"},{\"attributes\":{\"formatter\":{\"id\":\"6ed305b1-3b15-4192-9ace-528073c7d6f4\",\"type\":\"BasicTickFormatter\"},\"plot\":{\"id\":\"e5deaa0a-6a02-4270-8a4e-4fdc89b8a506\",\"subtype\":\"Figure\",\"type\":\"Plot\"},\"ticker\":{\"id\":\"1558776b-62f6-4be0-8643-07a7caae9308\",\"type\":\"BasicTicker\"}},\"id\":\"0c75f2e9-f953-4ed3-8bfb-ee08867d9ae3\",\"type\":\"LinearAxis\"},{\"attributes\":{\"below\":[{\"id\":\"0c75f2e9-f953-4ed3-8bfb-ee08867d9ae3\",\"type\":\"LinearAxis\"}],\"left\":[{\"id\":\"9a03e718-502b-428c-a158-f172c3e95b66\",\"type\":\"LinearAxis\"}],\"renderers\":[{\"id\":\"0c75f2e9-f953-4ed3-8bfb-ee08867d9ae3\",\"type\":\"LinearAxis\"},{\"id\":\"1fcdfd82-6472-452c-af8f-a222d5efa038\",\"type\":\"Grid\"},{\"id\":\"9a03e718-502b-428c-a158-f172c3e95b66\",\"type\":\"LinearAxis\"},{\"id\":\"b91341ce-813b-4988-b062-4696cb70c688\",\"type\":\"Grid\"},{\"id\":\"d3f769c5-90e6-4db3-95a3-030a19c8645f\",\"type\":\"BoxAnnotation\"},{\"id\":\"c20c077d-894b-4aec-a506-320b702fc01e\",\"type\":\"GlyphRenderer\"},{\"id\":\"d46b9dd1-770f-431d-98e0-f6fe947e7d29\",\"type\":\"Arrow\"},{\"id\":\"8fd7747f-735d-4d29-aab4-15db57f1fe4c\",\"type\":\"Arrow\"},{\"id\":\"0a40cdf5-7096-4634-acc2-0e7ba4682668\",\"type\":\"Arrow\"}],\"title\":{\"id\":\"4ea718e1-f22a-44c4-8bbd-0b25a4814353\",\"type\":\"Title\"},\"toolbar\":{\"id\":\"18a998f5-86ed-4c76-b2d5-e2b6a0305ba6\",\"type\":\"Toolbar\"},\"x_range\":{\"id\":\"ebb79616-560a-44fa-8271-c3bb46e2d641\",\"type\":\"DataRange1d\"},\"x_scale\":{\"id\":\"df190cd6-a24b-4913-84f5-09cb35b31658\",\"type\":\"LinearScale\"},\"y_range\":{\"id\":\"679ae444-2887-4538-866b-22f17d45e544\",\"type\":\"DataRange1d\"},\"y_scale\":{\"id\":\"8510a10a-107a-4ae9-b125-e84342ec63e0\",\"type\":\"LinearScale\"}},\"id\":\"e5deaa0a-6a02-4270-8a4e-4fdc89b8a506\",\"subtype\":\"Figure\",\"type\":\"Plot\"},{\"attributes\":{},\"id\":\"ff0e2a8f-08f8-4bfe-ba74-80ebbf8a87a2\",\"type\":\"SaveTool\"},{\"attributes\":{},\"id\":\"df190cd6-a24b-4913-84f5-09cb35b31658\",\"type\":\"LinearScale\"},{\"attributes\":{\"end\":{\"id\":\"fe4c35ed-c9e0-4d5a-8e3d-313ced30d804\",\"type\":\"NormalHead\"},\"plot\":{\"id\":\"e5deaa0a-6a02-4270-8a4e-4fdc89b8a506\",\"subtype\":\"Figure\",\"type\":\"Plot\"},\"source\":null,\"start\":null,\"x_end\":{\"value\":0.5},\"x_start\":{\"value\":1},\"y_end\":{\"value\":0.7},\"y_start\":{\"value\":0}},\"id\":\"8fd7747f-735d-4d29-aab4-15db57f1fe4c\",\"type\":\"Arrow\"},{\"attributes\":{\"bottom_units\":\"screen\",\"fill_alpha\":{\"value\":0.5},\"fill_color\":{\"value\":\"lightgrey\"},\"left_units\":\"screen\",\"level\":\"overlay\",\"line_alpha\":{\"value\":1.0},\"line_color\":{\"value\":\"black\"},\"line_dash\":[4,4],\"line_width\":{\"value\":2},\"plot\":null,\"render_mode\":\"css\",\"right_units\":\"screen\",\"top_units\":\"screen\"},\"id\":\"d3f769c5-90e6-4db3-95a3-030a19c8645f\",\"type\":\"BoxAnnotation\"},{\"attributes\":{\"formatter\":{\"id\":\"4da34982-f3c2-49f8-b706-71bab0a5ed4d\",\"type\":\"BasicTickFormatter\"},\"plot\":{\"id\":\"e5deaa0a-6a02-4270-8a4e-4fdc89b8a506\",\"subtype\":\"Figure\",\"type\":\"Plot\"},\"ticker\":{\"id\":\"ad2911fb-d978-42b3-8ede-c29c4d02d967\",\"type\":\"BasicTicker\"}},\"id\":\"9a03e718-502b-428c-a158-f172c3e95b66\",\"type\":\"LinearAxis\"},{\"attributes\":{\"plot\":null,\"text\":\"\"},\"id\":\"4ea718e1-f22a-44c4-8bbd-0b25a4814353\",\"type\":\"Title\"},{\"attributes\":{},\"id\":\"1558776b-62f6-4be0-8643-07a7caae9308\",\"type\":\"BasicTicker\"},{\"attributes\":{\"callback\":null,\"column_names\":[\"x\",\"y\",\"fill_color\",\"line_color\"],\"data\":{\"fill_color\":[\"navy\",\"yellow\",\"red\"],\"line_color\":[\"navy\",\"yellow\",\"red\"],\"x\":[0,1,0.5],\"y\":[0,0,0.7]}},\"id\":\"dfc767c0-2b64-4071-a6d6-157a9002f540\",\"type\":\"ColumnDataSource\"},{\"attributes\":{\"active_drag\":\"auto\",\"active_inspect\":\"auto\",\"active_scroll\":\"auto\",\"active_tap\":\"auto\",\"tools\":[{\"id\":\"22a2f5f3-63fc-44dc-b6ca-6c09b715ff15\",\"type\":\"PanTool\"},{\"id\":\"e32dcc14-b877-4942-ba69-8ea21a529d7d\",\"type\":\"WheelZoomTool\"},{\"id\":\"4f433193-2d19-4d74-8f1f-71e826dd2e32\",\"type\":\"BoxZoomTool\"},{\"id\":\"ff0e2a8f-08f8-4bfe-ba74-80ebbf8a87a2\",\"type\":\"SaveTool\"},{\"id\":\"bbe2f0de-608a-497b-b137-c6f2dc78c846\",\"type\":\"ResetTool\"},{\"id\":\"2359d989-ddcf-4af5-be8c-e7757a085841\",\"type\":\"HelpTool\"}]},\"id\":\"18a998f5-86ed-4c76-b2d5-e2b6a0305ba6\",\"type\":\"Toolbar\"},{\"attributes\":{\"fill_alpha\":{\"value\":0.1},\"fill_color\":{\"value\":\"#1f77b4\"},\"line_alpha\":{\"value\":0.1},\"line_color\":{\"value\":\"#1f77b4\"},\"radius\":{\"units\":\"data\",\"value\":0.1},\"x\":{\"field\":\"x\"},\"y\":{\"field\":\"y\"}},\"id\":\"0c46b8cb-d342-4ceb-afd1-13160ecc1e73\",\"type\":\"Circle\"},{\"attributes\":{},\"id\":\"e32dcc14-b877-4942-ba69-8ea21a529d7d\",\"type\":\"WheelZoomTool\"},{\"attributes\":{\"callback\":null},\"id\":\"ebb79616-560a-44fa-8271-c3bb46e2d641\",\"type\":\"DataRange1d\"},{\"attributes\":{},\"id\":\"ad2911fb-d978-42b3-8ede-c29c4d02d967\",\"type\":\"BasicTicker\"},{\"attributes\":{\"data_source\":{\"id\":\"dfc767c0-2b64-4071-a6d6-157a9002f540\",\"type\":\"ColumnDataSource\"},\"glyph\":{\"id\":\"8a98c680-401b-4d41-a875-dcb005dc5bc4\",\"type\":\"Circle\"},\"hover_glyph\":null,\"muted_glyph\":null,\"nonselection_glyph\":{\"id\":\"0c46b8cb-d342-4ceb-afd1-13160ecc1e73\",\"type\":\"Circle\"},\"selection_glyph\":null,\"view\":{\"id\":\"4aa60e63-4986-46f2-b06d-72f00ee26996\",\"type\":\"CDSView\"}},\"id\":\"c20c077d-894b-4aec-a506-320b702fc01e\",\"type\":\"GlyphRenderer\"},{\"attributes\":{\"fill_alpha\":{\"value\":0.1},\"fill_color\":{\"field\":\"fill_color\"},\"line_color\":{\"field\":\"line_color\"},\"radius\":{\"units\":\"data\",\"value\":0.1},\"x\":{\"field\":\"x\"},\"y\":{\"field\":\"y\"}},\"id\":\"8a98c680-401b-4d41-a875-dcb005dc5bc4\",\"type\":\"Circle\"},{\"attributes\":{\"overlay\":{\"id\":\"d3f769c5-90e6-4db3-95a3-030a19c8645f\",\"type\":\"BoxAnnotation\"}},\"id\":\"4f433193-2d19-4d74-8f1f-71e826dd2e32\",\"type\":\"BoxZoomTool\"},{\"attributes\":{\"source\":{\"id\":\"dfc767c0-2b64-4071-a6d6-157a9002f540\",\"type\":\"ColumnDataSource\"}},\"id\":\"4aa60e63-4986-46f2-b06d-72f00ee26996\",\"type\":\"CDSView\"},{\"attributes\":{\"plot\":{\"id\":\"e5deaa0a-6a02-4270-8a4e-4fdc89b8a506\",\"subtype\":\"Figure\",\"type\":\"Plot\"},\"ticker\":{\"id\":\"1558776b-62f6-4be0-8643-07a7caae9308\",\"type\":\"BasicTicker\"}},\"id\":\"1fcdfd82-6472-452c-af8f-a222d5efa038\",\"type\":\"Grid\"},{\"attributes\":{\"line_color\":{\"value\":\"firebrick\"},\"line_width\":{\"value\":4},\"plot\":null},\"id\":\"20054150-4860-4ced-85db-4608986d0656\",\"type\":\"OpenHead\"}],\"root_ids\":[\"e5deaa0a-6a02-4270-8a4e-4fdc89b8a506\"]},\"title\":\"Bokeh Application\",\"version\":\"0.12.10\"}};\n",
       "    var render_items = [{\"docid\":\"9a0a4227-0be4-4daf-b73d-395c824ba0ae\",\"elementid\":\"7a9bfb59-98e8-4270-b6dc-39fbf4c700e3\",\"modelid\":\"e5deaa0a-6a02-4270-8a4e-4fdc89b8a506\"}];\n",
       "\n",
       "    root.Bokeh.embed.embed_items(docs_json, render_items);\n",
       "  }\n",
       "\n",
       "  if (root.Bokeh !== undefined) {\n",
       "    embed_document(root);\n",
       "  } else {\n",
       "    var attempts = 0;\n",
       "    var timer = setInterval(function(root) {\n",
       "      if (root.Bokeh !== undefined) {\n",
       "        embed_document(root);\n",
       "        clearInterval(timer);\n",
       "      }\n",
       "      attempts++;\n",
       "      if (attempts > 100) {\n",
       "        console.log(\"Bokeh: ERROR: Unable to embed document because BokehJS library is missing\")\n",
       "        clearInterval(timer);\n",
       "      }\n",
       "    }, 10, root)\n",
       "  }\n",
       "})(window);"
      ],
      "application/vnd.bokehjs_exec.v0+json": ""
     },
     "metadata": {
      "application/vnd.bokehjs_exec.v0+json": {
       "id": "e5deaa0a-6a02-4270-8a4e-4fdc89b8a506"
      }
     },
     "output_type": "display_data"
    }
   ],
   "source": [
    "from bokeh.models.annotations import Arrow\n",
    "from bokeh.models.arrow_heads import OpenHead, NormalHead, VeeHead\n",
    "\n",
    "p = figure(plot_width=600, plot_height=600)\n",
    "\n",
    "p.circle(x=[0, 1, 0.5], y=[0, 0, 0.7], radius=0.1,\n",
    "         color=[\"navy\", \"yellow\", \"red\"], fill_alpha=0.1)\n",
    "\n",
    "p.add_layout(Arrow(end=OpenHead(line_color=\"firebrick\", line_width=4),\n",
    "                   x_start=0, y_start=0, x_end=1, y_end=0))\n",
    "\n",
    "p.add_layout(Arrow(end=NormalHead(fill_color=\"orange\"),\n",
    "                   x_start=1, y_start=0, x_end=0.5, y_end=0.7))\n",
    "\n",
    "p.add_layout(Arrow(end=VeeHead(size=35), line_color=\"red\",\n",
    "                   x_start=0.5, y_start=0.7, x_end=0, y_end=0))\n",
    "\n",
    "show(p)"
   ]
  },
  {
   "cell_type": "code",
   "execution_count": 13,
   "metadata": {},
   "outputs": [],
   "source": [
    "# EXERCISE: experiment with arrows and arrow heads\n"
   ]
  },
  {
   "cell_type": "markdown",
   "metadata": {},
   "source": [
    "## Legends"
   ]
  },
  {
   "cell_type": "markdown",
   "metadata": {},
   "source": [
    "### Simple Legends"
   ]
  },
  {
   "cell_type": "code",
   "execution_count": 14,
   "metadata": {},
   "outputs": [
    {
     "data": {
      "text/html": [
       "\n",
       "<div class=\"bk-root\">\n",
       "    <div class=\"bk-plotdiv\" id=\"a7307e5e-ba68-43fb-8343-39e78a42144c\"></div>\n",
       "</div>"
      ]
     },
     "metadata": {},
     "output_type": "display_data"
    },
    {
     "data": {
      "application/javascript": [
       "(function(root) {\n",
       "  function embed_document(root) {\n",
       "    var docs_json = {\"2cff589b-ad27-4c06-b519-9c9b9830fc31\":{\"roots\":{\"references\":[{\"attributes\":{\"dimension\":1,\"plot\":{\"id\":\"21e2c800-2401-49e4-852d-eecbcf9a7757\",\"subtype\":\"Figure\",\"type\":\"Plot\"},\"ticker\":{\"id\":\"a85aae7e-bbda-4b19-aacf-7002e4ddfe5c\",\"type\":\"BasicTicker\"}},\"id\":\"a75b8bc4-b10f-48b0-95c2-514a088be7e9\",\"type\":\"Grid\"},{\"attributes\":{},\"id\":\"bd1a9919-31cd-4ef6-9dc8-2f566c824cb6\",\"type\":\"PanTool\"},{\"attributes\":{},\"id\":\"a85aae7e-bbda-4b19-aacf-7002e4ddfe5c\",\"type\":\"BasicTicker\"},{\"attributes\":{},\"id\":\"8a4fe66d-7986-444e-a6a6-e5a589a2866b\",\"type\":\"BasicTickFormatter\"},{\"attributes\":{},\"id\":\"7395a06e-5956-4316-9e78-fbc57886f5eb\",\"type\":\"HelpTool\"},{\"attributes\":{},\"id\":\"83f0d2a8-f174-457c-b384-be80502b2a23\",\"type\":\"ResetTool\"},{\"attributes\":{\"data_source\":{\"id\":\"5c7f963d-a6b0-4ad1-b311-3b180b663291\",\"type\":\"ColumnDataSource\"},\"glyph\":{\"id\":\"a244c989-a60b-480d-8da6-5c760a926201\",\"type\":\"Line\"},\"hover_glyph\":null,\"muted_glyph\":null,\"nonselection_glyph\":{\"id\":\"5ea42548-1a7e-4c89-93fb-639ad95650d5\",\"type\":\"Line\"},\"selection_glyph\":null,\"view\":{\"id\":\"5fcd7c3e-6660-4488-9c7c-c68199b41ee9\",\"type\":\"CDSView\"}},\"id\":\"c64799de-fd59-4f0a-9533-2367f3ca2d1c\",\"type\":\"GlyphRenderer\"},{\"attributes\":{\"formatter\":{\"id\":\"5ff25b97-dd50-453c-9deb-abc5f6c0ef69\",\"type\":\"BasicTickFormatter\"},\"plot\":{\"id\":\"21e2c800-2401-49e4-852d-eecbcf9a7757\",\"subtype\":\"Figure\",\"type\":\"Plot\"},\"ticker\":{\"id\":\"a85aae7e-bbda-4b19-aacf-7002e4ddfe5c\",\"type\":\"BasicTicker\"}},\"id\":\"e9782245-0e71-4ff4-b16a-58e64b8bf8e6\",\"type\":\"LinearAxis\"},{\"attributes\":{\"callback\":null},\"id\":\"0b208b1c-c24b-4677-92f9-90fddb6f2add\",\"type\":\"DataRange1d\"},{\"attributes\":{\"source\":{\"id\":\"5c7f963d-a6b0-4ad1-b311-3b180b663291\",\"type\":\"ColumnDataSource\"}},\"id\":\"5fcd7c3e-6660-4488-9c7c-c68199b41ee9\",\"type\":\"CDSView\"},{\"attributes\":{\"data_source\":{\"id\":\"416a87eb-b194-4cb8-9d79-16c8d84c6437\",\"type\":\"ColumnDataSource\"},\"glyph\":{\"id\":\"c24a7ca9-fa92-4f95-8bad-de23e1e85db0\",\"type\":\"Circle\"},\"hover_glyph\":null,\"muted_glyph\":null,\"nonselection_glyph\":{\"id\":\"5cb826f3-907d-4ed7-bb6c-e3c8d7da708e\",\"type\":\"Circle\"},\"selection_glyph\":null,\"view\":{\"id\":\"6a1da24d-0bb4-430b-888f-6e992cf7b211\",\"type\":\"CDSView\"}},\"id\":\"5e982fa2-02ec-4d9f-832c-4e0f883ef65a\",\"type\":\"GlyphRenderer\"},{\"attributes\":{\"items\":[{\"id\":\"8a01f11d-9257-49bb-b9d7-c06f502f3ac4\",\"type\":\"LegendItem\"},{\"id\":\"12f3cc62-22bf-4071-a768-b540cad49ec7\",\"type\":\"LegendItem\"}],\"plot\":{\"id\":\"21e2c800-2401-49e4-852d-eecbcf9a7757\",\"subtype\":\"Figure\",\"type\":\"Plot\"}},\"id\":\"350cbe03-6f9b-489b-90de-80d868ebf67a\",\"type\":\"Legend\"},{\"attributes\":{},\"id\":\"787282da-ca27-4969-af0a-2c2ddbd0eeb6\",\"type\":\"SaveTool\"},{\"attributes\":{\"active_drag\":\"auto\",\"active_inspect\":\"auto\",\"active_scroll\":\"auto\",\"active_tap\":\"auto\",\"tools\":[{\"id\":\"bd1a9919-31cd-4ef6-9dc8-2f566c824cb6\",\"type\":\"PanTool\"},{\"id\":\"e132511a-894e-4ecd-a03d-d8bbd3c13093\",\"type\":\"WheelZoomTool\"},{\"id\":\"638a517c-e7eb-4ab5-ab67-d55cdc9fd561\",\"type\":\"BoxZoomTool\"},{\"id\":\"787282da-ca27-4969-af0a-2c2ddbd0eeb6\",\"type\":\"SaveTool\"},{\"id\":\"83f0d2a8-f174-457c-b384-be80502b2a23\",\"type\":\"ResetTool\"},{\"id\":\"7395a06e-5956-4316-9e78-fbc57886f5eb\",\"type\":\"HelpTool\"}]},\"id\":\"b4bb2f90-244d-4961-b62d-77dd2c9470aa\",\"type\":\"Toolbar\"},{\"attributes\":{\"source\":{\"id\":\"416a87eb-b194-4cb8-9d79-16c8d84c6437\",\"type\":\"ColumnDataSource\"}},\"id\":\"6a1da24d-0bb4-430b-888f-6e992cf7b211\",\"type\":\"CDSView\"},{\"attributes\":{\"formatter\":{\"id\":\"8a4fe66d-7986-444e-a6a6-e5a589a2866b\",\"type\":\"BasicTickFormatter\"},\"plot\":{\"id\":\"21e2c800-2401-49e4-852d-eecbcf9a7757\",\"subtype\":\"Figure\",\"type\":\"Plot\"},\"ticker\":{\"id\":\"c4db9520-36d0-4fce-aa7f-4e2f21eb4059\",\"type\":\"BasicTicker\"}},\"id\":\"165becfe-65f7-4c61-bb3a-ee26c3609ca0\",\"type\":\"LinearAxis\"},{\"attributes\":{\"bottom_units\":\"screen\",\"fill_alpha\":{\"value\":0.5},\"fill_color\":{\"value\":\"lightgrey\"},\"left_units\":\"screen\",\"level\":\"overlay\",\"line_alpha\":{\"value\":1.0},\"line_color\":{\"value\":\"black\"},\"line_dash\":[4,4],\"line_width\":{\"value\":2},\"plot\":null,\"render_mode\":\"css\",\"right_units\":\"screen\",\"top_units\":\"screen\"},\"id\":\"325be9b4-7d62-4069-bd26-87a27949d76d\",\"type\":\"BoxAnnotation\"},{\"attributes\":{\"label\":{\"value\":\"sin(x)\"},\"renderers\":[{\"id\":\"5e982fa2-02ec-4d9f-832c-4e0f883ef65a\",\"type\":\"GlyphRenderer\"}]},\"id\":\"8a01f11d-9257-49bb-b9d7-c06f502f3ac4\",\"type\":\"LegendItem\"},{\"attributes\":{\"label\":{\"value\":\"2*sin(x)\"},\"renderers\":[{\"id\":\"c64799de-fd59-4f0a-9533-2367f3ca2d1c\",\"type\":\"GlyphRenderer\"}]},\"id\":\"12f3cc62-22bf-4071-a768-b540cad49ec7\",\"type\":\"LegendItem\"},{\"attributes\":{\"line_alpha\":{\"value\":0.1},\"line_color\":{\"value\":\"#1f77b4\"},\"line_dash\":[4,4],\"line_width\":{\"value\":2},\"x\":{\"field\":\"x\"},\"y\":{\"field\":\"y\"}},\"id\":\"5ea42548-1a7e-4c89-93fb-639ad95650d5\",\"type\":\"Line\"},{\"attributes\":{},\"id\":\"476b0f07-4900-4ff2-9a5d-e7d66dee4f34\",\"type\":\"LinearScale\"},{\"attributes\":{\"line_color\":{\"value\":\"orange\"},\"line_dash\":[4,4],\"line_width\":{\"value\":2},\"x\":{\"field\":\"x\"},\"y\":{\"field\":\"y\"}},\"id\":\"a244c989-a60b-480d-8da6-5c760a926201\",\"type\":\"Line\"},{\"attributes\":{\"callback\":null,\"column_names\":[\"x\",\"y\"],\"data\":{\"x\":{\"__ndarray__\":\"AAAAAAAAAACRGkt8Vz/AP5EaS3xXP9A/2qdwOgNf2D+RGkt8Vz/gPzXhXVstT+Q/2qdwOgNf6D9+boMZ2W7sP5EaS3xXP/A/433Ua0JH8j814V1bLU/0P4dE50oYV/Y/2qdwOgNf+D8sC/op7mb6P35ugxnZbvw/0NEMCcR2/j+RGkt8Vz8AQDrMD/RMQwFA433Ua0JHAkCML5njN0sDQDXhXVstTwRA3pIi0yJTBUCHROdKGFcGQDD2q8INWwdA2qdwOgNfCECDWTWy+GIJQCwL+inuZgpA1by+oeNqC0B+boMZ2W4MQCcgSJHOcg1A0NEMCcR2DkB5g9GAuXoPQJEaS3xXPxBAZnMtOFLBEEA6zA/0TEMRQA8l8q9HxRFA433Ua0JHEkC41rYnPckSQIwvmeM3SxNAYYh7nzLNE0A14V1bLU8UQAo6QBco0RRA3pIi0yJTFUCz6wSPHdUVQIdE50oYVxZAXJ3JBhPZFkAw9qvCDVsXQAVPjn4I3RdA2qdwOgNfGECuAFP2/eAYQINZNbL4YhlAV7IXbvPkGUAsC/op7mYaQABk3OXo6BpA1by+oeNqG0CpFaFd3uwbQH5ugxnZbhxAUsdl1dPwHEAnIEiRznIdQPt4Kk3J9B1A0NEMCcR2HkCkKu/EvvgeQHmD0YC5eh9ATdyzPLT8H0CRGkt8Vz8gQPtGPNpUgCBAZnMtOFLBIEDQnx6WTwIhQDrMD/RMQyFApPgAUkqEIUAPJfKvR8UhQHlR4w1FBiJA433Ua0JHIkBNqsXJP4giQLjWtic9ySJAIgOohToKI0CML5njN0sjQPZbikE1jCNAYYh7nzLNI0DLtGz9Lw4kQDXhXVstTyRAoA1PuSqQJEAKOkAXKNEkQHRmMXUlEiVA3pIi0yJTJUBJvxMxIJQlQLPrBI8d1SVAHRj27BoWJkCHROdKGFcmQPJw2KgVmCZAXJ3JBhPZJkDGybpkEBonQDD2q8INWydAmyKdIAucJ0AFT45+CN0nQG97f9wFHihA2qdwOgNfKEBE1GGYAKAoQK4AU/b94ChAGC1EVPshKUA=\",\"dtype\":\"float64\",\"shape\":[100]},\"y\":{\"__ndarray__\":\"AAAAAAAAAADwgwJ4LjTAP5qI2QHPEtA/+5MNU1HJ1z8ZTT7q2B3fP0aFmgwa+eI/ABg/lCAV5j+IQCEcMdboP3fOhmLzMOs/EyzujrQb7T/9Izwlj47uPxccgYyLg+8/g6xao7j27z9mZrL8O+bvP7+X94FZUu8/xVNiW3I97j9RB8Ai+6vsP5FWKYlppOo/oSg6uxkv6D/Th2bxK1blPyZGRbpaJeI/8qg+VZVT3T/4C4p0qOPVP+UppLIiM8w/3FNHxZdVuD/J23zJpD6gv+3ENsZjOcS/wo12/ecH0r/dgWKM2KjZv2MTsJELcOC/83ixWvXH47+358MBZM7mv5eCD4nhdum/rExY6Hq267+TIxAn7YPtvwSssILL1+6/70I4BJ6s77/vOc8G+P7vvzTGy1KGze+/3176khQZ77/C8a4NiuTtvzGcHq/dNOy/l0FFlgER6r+FGZN4xoHnvx8WPFK3keS/Cli7+O1M4b+HQNqEwoHbv9kfIiFb+NO/gKyggGI5yL8EhrXMjDywvyGGtcyMPLA/jqyggGI5yD/gHyIhW/jTP39A2oTCgds/DVi7+O1M4T8bFjxSt5HkP4cZk3jGgec/lUFFlgER6j8ynB6v3TTsP8Hxrg2K5O0/4F76khQZ7z80xstShs3vP+85zwb4/u8/8EI4BJ6s7z8DrLCCy9fuP5UjECftg+0/p0xY6Hq26z+Vgg+J4XbpP7fnwwFkzuY/9nixWvXH4z9dE7CRC3DgP9eBYozYqNk/w412/ecH0j/+xDbGYznEP0/bfMmkPqA/+FNHxZdVuL/UKaSyIjPMv+gLinSo49W/+Kg+VZVT3b8lRkW6WiXiv8+HZvErVuW/pig6uxkv6L+TVimJaaTqv1EHwCL7q+y/xFNiW3I97r/Al/eBWVLvv2Zmsvw75u+/g6xao7j2778YHIGMi4Pvv/sjPCWPju6/EyzujrQb7b94zoZi8zDrv4xAIRwx1ui//Bc/lCAV5r9GhZoMGvnivx9NPurYHd+/65MNU1HJ17+SiNkBzxLQv/GDAnguNMC/B1wUMyamwbw=\",\"dtype\":\"float64\",\"shape\":[100]}}},\"id\":\"416a87eb-b194-4cb8-9d79-16c8d84c6437\",\"type\":\"ColumnDataSource\"},{\"attributes\":{},\"id\":\"c4db9520-36d0-4fce-aa7f-4e2f21eb4059\",\"type\":\"BasicTicker\"},{\"attributes\":{\"below\":[{\"id\":\"165becfe-65f7-4c61-bb3a-ee26c3609ca0\",\"type\":\"LinearAxis\"}],\"left\":[{\"id\":\"e9782245-0e71-4ff4-b16a-58e64b8bf8e6\",\"type\":\"LinearAxis\"}],\"plot_height\":400,\"renderers\":[{\"id\":\"165becfe-65f7-4c61-bb3a-ee26c3609ca0\",\"type\":\"LinearAxis\"},{\"id\":\"4da0e4ed-7196-49cd-8bc8-ba2c871e0be7\",\"type\":\"Grid\"},{\"id\":\"e9782245-0e71-4ff4-b16a-58e64b8bf8e6\",\"type\":\"LinearAxis\"},{\"id\":\"a75b8bc4-b10f-48b0-95c2-514a088be7e9\",\"type\":\"Grid\"},{\"id\":\"325be9b4-7d62-4069-bd26-87a27949d76d\",\"type\":\"BoxAnnotation\"},{\"id\":\"350cbe03-6f9b-489b-90de-80d868ebf67a\",\"type\":\"Legend\"},{\"id\":\"5e982fa2-02ec-4d9f-832c-4e0f883ef65a\",\"type\":\"GlyphRenderer\"},{\"id\":\"c64799de-fd59-4f0a-9533-2367f3ca2d1c\",\"type\":\"GlyphRenderer\"}],\"title\":{\"id\":\"6a3587e3-3a40-472f-9ffa-6f66752f39e7\",\"type\":\"Title\"},\"toolbar\":{\"id\":\"b4bb2f90-244d-4961-b62d-77dd2c9470aa\",\"type\":\"Toolbar\"},\"x_range\":{\"id\":\"c287721a-f2b4-485e-952d-33b0ed6a0524\",\"type\":\"DataRange1d\"},\"x_scale\":{\"id\":\"6ff5d113-5f1e-4ffb-8291-63c5a69e7b94\",\"type\":\"LinearScale\"},\"y_range\":{\"id\":\"0b208b1c-c24b-4677-92f9-90fddb6f2add\",\"type\":\"DataRange1d\"},\"y_scale\":{\"id\":\"476b0f07-4900-4ff2-9a5d-e7d66dee4f34\",\"type\":\"LinearScale\"}},\"id\":\"21e2c800-2401-49e4-852d-eecbcf9a7757\",\"subtype\":\"Figure\",\"type\":\"Plot\"},{\"attributes\":{\"overlay\":{\"id\":\"325be9b4-7d62-4069-bd26-87a27949d76d\",\"type\":\"BoxAnnotation\"}},\"id\":\"638a517c-e7eb-4ab5-ab67-d55cdc9fd561\",\"type\":\"BoxZoomTool\"},{\"attributes\":{\"plot\":null,\"text\":\"\"},\"id\":\"6a3587e3-3a40-472f-9ffa-6f66752f39e7\",\"type\":\"Title\"},{\"attributes\":{},\"id\":\"5ff25b97-dd50-453c-9deb-abc5f6c0ef69\",\"type\":\"BasicTickFormatter\"},{\"attributes\":{\"plot\":{\"id\":\"21e2c800-2401-49e4-852d-eecbcf9a7757\",\"subtype\":\"Figure\",\"type\":\"Plot\"},\"ticker\":{\"id\":\"c4db9520-36d0-4fce-aa7f-4e2f21eb4059\",\"type\":\"BasicTicker\"}},\"id\":\"4da0e4ed-7196-49cd-8bc8-ba2c871e0be7\",\"type\":\"Grid\"},{\"attributes\":{\"fill_color\":{\"value\":\"#1f77b4\"},\"line_color\":{\"value\":\"#1f77b4\"},\"x\":{\"field\":\"x\"},\"y\":{\"field\":\"y\"}},\"id\":\"c24a7ca9-fa92-4f95-8bad-de23e1e85db0\",\"type\":\"Circle\"},{\"attributes\":{\"callback\":null},\"id\":\"c287721a-f2b4-485e-952d-33b0ed6a0524\",\"type\":\"DataRange1d\"},{\"attributes\":{},\"id\":\"6ff5d113-5f1e-4ffb-8291-63c5a69e7b94\",\"type\":\"LinearScale\"},{\"attributes\":{\"fill_alpha\":{\"value\":0.1},\"fill_color\":{\"value\":\"#1f77b4\"},\"line_alpha\":{\"value\":0.1},\"line_color\":{\"value\":\"#1f77b4\"},\"x\":{\"field\":\"x\"},\"y\":{\"field\":\"y\"}},\"id\":\"5cb826f3-907d-4ed7-bb6c-e3c8d7da708e\",\"type\":\"Circle\"},{\"attributes\":{\"callback\":null,\"column_names\":[\"x\",\"y\"],\"data\":{\"x\":{\"__ndarray__\":\"AAAAAAAAAACRGkt8Vz/AP5EaS3xXP9A/2qdwOgNf2D+RGkt8Vz/gPzXhXVstT+Q/2qdwOgNf6D9+boMZ2W7sP5EaS3xXP/A/433Ua0JH8j814V1bLU/0P4dE50oYV/Y/2qdwOgNf+D8sC/op7mb6P35ugxnZbvw/0NEMCcR2/j+RGkt8Vz8AQDrMD/RMQwFA433Ua0JHAkCML5njN0sDQDXhXVstTwRA3pIi0yJTBUCHROdKGFcGQDD2q8INWwdA2qdwOgNfCECDWTWy+GIJQCwL+inuZgpA1by+oeNqC0B+boMZ2W4MQCcgSJHOcg1A0NEMCcR2DkB5g9GAuXoPQJEaS3xXPxBAZnMtOFLBEEA6zA/0TEMRQA8l8q9HxRFA433Ua0JHEkC41rYnPckSQIwvmeM3SxNAYYh7nzLNE0A14V1bLU8UQAo6QBco0RRA3pIi0yJTFUCz6wSPHdUVQIdE50oYVxZAXJ3JBhPZFkAw9qvCDVsXQAVPjn4I3RdA2qdwOgNfGECuAFP2/eAYQINZNbL4YhlAV7IXbvPkGUAsC/op7mYaQABk3OXo6BpA1by+oeNqG0CpFaFd3uwbQH5ugxnZbhxAUsdl1dPwHEAnIEiRznIdQPt4Kk3J9B1A0NEMCcR2HkCkKu/EvvgeQHmD0YC5eh9ATdyzPLT8H0CRGkt8Vz8gQPtGPNpUgCBAZnMtOFLBIEDQnx6WTwIhQDrMD/RMQyFApPgAUkqEIUAPJfKvR8UhQHlR4w1FBiJA433Ua0JHIkBNqsXJP4giQLjWtic9ySJAIgOohToKI0CML5njN0sjQPZbikE1jCNAYYh7nzLNI0DLtGz9Lw4kQDXhXVstTyRAoA1PuSqQJEAKOkAXKNEkQHRmMXUlEiVA3pIi0yJTJUBJvxMxIJQlQLPrBI8d1SVAHRj27BoWJkCHROdKGFcmQPJw2KgVmCZAXJ3JBhPZJkDGybpkEBonQDD2q8INWydAmyKdIAucJ0AFT45+CN0nQG97f9wFHihA2qdwOgNfKEBE1GGYAKAoQK4AU/b94ChAGC1EVPshKUA=\",\"dtype\":\"float64\",\"shape\":[100]},\"y\":{\"__ndarray__\":\"AAAAAAAAAADwgwJ4LjTQP5qI2QHPEuA/+5MNU1HJ5z8ZTT7q2B3vP0aFmgwa+fI/ABg/lCAV9j+IQCEcMdb4P3fOhmLzMPs/EyzujrQb/T/9Izwlj47+PxccgYyLg/8/g6xao7j2/z9mZrL8O+b/P7+X94FZUv8/xVNiW3I9/j9RB8Ai+6v8P5FWKYlppPo/oSg6uxkv+D/Th2bxK1b1PyZGRbpaJfI/8qg+VZVT7T/4C4p0qOPlP+UppLIiM9w/3FNHxZdVyD/J23zJpD6wv+3ENsZjOdS/wo12/ecH4r/dgWKM2Kjpv2MTsJELcPC/83ixWvXH87+358MBZM72v5eCD4nhdvm/rExY6Hq2+7+TIxAn7YP9vwSssILL1/6/70I4BJ6s/7/vOc8G+P7/vzTGy1KGzf+/3176khQZ/7/C8a4NiuT9vzGcHq/dNPy/l0FFlgER+r+FGZN4xoH3vx8WPFK3kfS/Cli7+O1M8b+HQNqEwoHrv9kfIiFb+OO/gKyggGI52L8EhrXMjDzAvyGGtcyMPMA/jqyggGI52D/gHyIhW/jjP39A2oTCges/DVi7+O1M8T8bFjxSt5H0P4cZk3jGgfc/lUFFlgER+j8ynB6v3TT8P8Hxrg2K5P0/4F76khQZ/z80xstShs3/P+85zwb4/v8/8EI4BJ6s/z8DrLCCy9f+P5UjECftg/0/p0xY6Hq2+z+Vgg+J4Xb5P7fnwwFkzvY/9nixWvXH8z9dE7CRC3DwP9eBYozYqOk/w412/ecH4j/+xDbGYznUP0/bfMmkPrA/+FNHxZdVyL/UKaSyIjPcv+gLinSo4+W/+Kg+VZVT7b8lRkW6WiXyv8+HZvErVvW/pig6uxkv+L+TVimJaaT6v1EHwCL7q/y/xFNiW3I9/r/Al/eBWVL/v2Zmsvw75v+/g6xao7j2/78YHIGMi4P/v/sjPCWPjv6/EyzujrQb/b94zoZi8zD7v4xAIRwx1vi//Bc/lCAV9r9GhZoMGvnyvx9NPurYHe+/65MNU1HJ57+SiNkBzxLgv/GDAnguNNC/B1wUMyam0bw=\",\"dtype\":\"float64\",\"shape\":[100]}}},\"id\":\"5c7f963d-a6b0-4ad1-b311-3b180b663291\",\"type\":\"ColumnDataSource\"},{\"attributes\":{},\"id\":\"e132511a-894e-4ecd-a03d-d8bbd3c13093\",\"type\":\"WheelZoomTool\"}],\"root_ids\":[\"21e2c800-2401-49e4-852d-eecbcf9a7757\"]},\"title\":\"Bokeh Application\",\"version\":\"0.12.10\"}};\n",
       "    var render_items = [{\"docid\":\"2cff589b-ad27-4c06-b519-9c9b9830fc31\",\"elementid\":\"a7307e5e-ba68-43fb-8343-39e78a42144c\",\"modelid\":\"21e2c800-2401-49e4-852d-eecbcf9a7757\"}];\n",
       "\n",
       "    root.Bokeh.embed.embed_items(docs_json, render_items);\n",
       "  }\n",
       "\n",
       "  if (root.Bokeh !== undefined) {\n",
       "    embed_document(root);\n",
       "  } else {\n",
       "    var attempts = 0;\n",
       "    var timer = setInterval(function(root) {\n",
       "      if (root.Bokeh !== undefined) {\n",
       "        embed_document(root);\n",
       "        clearInterval(timer);\n",
       "      }\n",
       "      attempts++;\n",
       "      if (attempts > 100) {\n",
       "        console.log(\"Bokeh: ERROR: Unable to embed document because BokehJS library is missing\")\n",
       "        clearInterval(timer);\n",
       "      }\n",
       "    }, 10, root)\n",
       "  }\n",
       "})(window);"
      ],
      "application/vnd.bokehjs_exec.v0+json": ""
     },
     "metadata": {
      "application/vnd.bokehjs_exec.v0+json": {
       "id": "21e2c800-2401-49e4-852d-eecbcf9a7757"
      }
     },
     "output_type": "display_data"
    }
   ],
   "source": [
    "import numpy as np\n",
    "\n",
    "x = np.linspace(0, 4*np.pi, 100)\n",
    "y = np.sin(x)\n",
    "\n",
    "p = figure(height=400)\n",
    "\n",
    "p.circle(x, y, legend=\"sin(x)\")\n",
    "p.line(x, 2*y, legend=\"2*sin(x)\", line_dash=[4, 4], line_color=\"orange\", line_width=2)\n",
    "\n",
    "show(p)"
   ]
  },
  {
   "cell_type": "markdown",
   "metadata": {},
   "source": [
    "### Compound legends\n",
    "\n",
    "Sometimes, two (or more) different glyphs are used with a single data source.  In this case, you can make compound legends by specifying the same legend argument to multiple glyph methods when creating a plot, as in:\n",
    "\n",
    "```python\n",
    "p.circle(x, y, legend=\"sin(x)\")\n",
    "p.line(x, y, legend=\"sin(x)\", line_dash=[4, 4], line_color=\"orange\", line_width=2)\n",
    "```\n"
   ]
  },
  {
   "cell_type": "code",
   "execution_count": 15,
   "metadata": {},
   "outputs": [],
   "source": [
    "# EXERCISE:  \n",
    "# (1) Try making a compound legend \n",
    "# (2) Try moving the legend using p.legend.location.  Possible values are listed in bokeh.core.enum\n",
    "\n"
   ]
  },
  {
   "cell_type": "markdown",
   "metadata": {},
   "source": [
    "### Legend Orientation and Positioning"
   ]
  },
  {
   "cell_type": "code",
   "execution_count": 16,
   "metadata": {},
   "outputs": [],
   "source": [
    "# Exercise"
   ]
  },
  {
   "cell_type": "markdown",
   "metadata": {},
   "source": [
    "## Color bars"
   ]
  },
  {
   "cell_type": "code",
   "execution_count": 17,
   "metadata": {},
   "outputs": [
    {
     "data": {
      "text/html": [
       "\n",
       "<div class=\"bk-root\">\n",
       "    <div class=\"bk-plotdiv\" id=\"609ccfea-4afc-4639-a073-326ed32d8a92\"></div>\n",
       "</div>"
      ]
     },
     "metadata": {},
     "output_type": "display_data"
    },
    {
     "data": {
      "application/javascript": [
       "(function(root) {\n",
       "  function embed_document(root) {\n",
       "    var docs_json = {\"f8b19432-d5af-4f9b-a158-2326ac841f5f\":{\"roots\":{\"references\":[{\"attributes\":{\"callback\":null,\"column_names\":[\"yr\",\"accel\",\"hp\",\"weight\",\"displ\",\"index\",\"origin\",\"mpg\",\"name\",\"cyl\"],\"data\":{\"accel\":{\"__ndarray__\":\"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\",\"dtype\":\"float64\",\"shape\":[392]},\"cyl\":[8,8,8,8,8,8,8,8,8,8,8,8,8,8,4,6,6,6,4,4,4,4,4,4,6,8,8,8,8,4,4,4,6,6,6,6,6,8,8,8,8,8,8,8,6,4,6,6,4,4,4,4,4,4,4,4,4,4,4,4,4,8,8,8,8,8,8,8,8,8,3,8,8,8,8,4,4,4,4,4,4,4,4,4,8,8,8,8,8,8,8,8,8,8,8,8,6,6,6,6,6,4,8,8,8,8,6,4,4,4,3,4,6,4,8,8,4,4,4,4,8,4,6,8,6,6,6,4,4,4,4,6,6,6,8,8,8,8,8,4,4,4,4,4,4,4,4,4,4,4,6,6,6,6,8,8,8,8,6,6,6,6,6,8,8,4,4,6,4,4,4,4,6,4,6,4,4,4,4,4,4,4,4,4,4,8,8,8,8,6,6,6,6,4,4,4,4,6,6,6,6,4,4,4,4,4,8,4,6,6,8,8,8,8,4,4,4,4,4,8,8,8,8,6,6,6,6,8,8,8,8,4,4,4,4,4,4,4,4,6,4,3,4,4,4,4,4,8,8,8,6,6,6,4,6,6,6,6,6,6,8,6,8,8,4,4,4,4,4,4,4,4,5,6,4,6,4,4,6,6,4,6,6,8,8,8,8,8,8,8,8,4,4,4,4,5,8,4,8,4,4,4,4,4,6,6,4,4,4,4,4,4,4,4,6,4,4,4,4,4,4,4,4,4,4,5,4,4,4,4,6,3,4,4,4,4,4,6,4,4,4,4,4,4,4,4,4,4,4,4,4,4,4,4,4,6,6,6,6,8,6,6,4,4,4,4,4,4,4,4,4,4,4,4,4,4,4,4,4,4,6,6,4,6,4,4,4,4,4,4,4,4],\"displ\":{\"__ndarray__\":\"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\",\"dtype\":\"float64\",\"shape\":[392]},\"hp\":[130,165,150,150,140,198,220,215,225,190,170,160,150,225,95,95,97,85,88,46,87,90,95,113,90,215,200,210,193,88,90,95,100,105,100,88,100,165,175,153,150,180,170,175,110,72,100,88,86,90,70,76,65,69,60,70,95,80,54,90,86,165,175,150,153,150,208,155,160,190,97,150,130,140,150,112,76,87,69,86,92,97,80,88,175,150,145,137,150,198,150,158,150,215,225,175,105,100,100,88,95,46,150,167,170,180,100,88,72,94,90,85,107,90,145,230,49,75,91,112,150,110,122,180,95,100,100,67,80,65,75,100,110,105,140,150,150,140,150,83,67,78,52,61,75,75,75,97,93,67,95,105,72,72,170,145,150,148,110,105,110,95,110,110,129,75,83,100,78,96,71,97,97,70,90,95,88,98,115,53,86,81,92,79,83,140,150,120,152,100,105,81,90,52,60,70,53,100,78,110,95,71,70,75,72,102,150,88,108,120,180,145,130,150,68,80,58,96,70,145,110,145,130,110,105,100,98,180,170,190,149,78,88,75,89,63,83,67,78,97,110,110,48,66,52,70,60,110,140,139,105,95,85,88,100,90,105,85,110,120,145,165,139,140,68,95,97,75,95,105,85,97,103,125,115,133,71,68,115,85,88,90,110,130,129,138,135,155,142,125,150,71,65,80,80,77,125,71,90,70,70,65,69,90,115,115,90,76,60,70,65,90,88,90,90,78,90,75,92,75,65,105,65,48,48,67,67,67,67,62,132,100,88,72,84,84,92,110,84,58,64,60,67,65,62,68,63,65,65,74,75,75,100,74,80,76,116,120,110,105,88,85,88,88,88,85,84,90,92,74,68,68,63,70,88,75,70,67,67,67,110,85,92,112,96,84,90,86,52,84,79,82],\"index\":[0,1,2,3,4,5,6,7,8,9,10,11,12,13,14,15,16,17,18,19,20,21,22,23,24,25,26,27,28,29,30,31,32,33,34,35,36,37,38,39,40,41,42,43,44,45,46,47,48,49,50,51,52,53,54,55,56,57,58,59,60,61,62,63,64,65,66,67,68,69,70,71,72,73,74,75,76,77,78,79,80,81,82,83,84,85,86,87,88,89,90,91,92,93,94,95,96,97,98,99,100,101,102,103,104,105,106,107,108,109,110,111,112,113,114,115,116,117,118,119,120,121,122,123,124,125,126,127,128,129,130,131,132,133,134,135,136,137,138,139,140,141,142,143,144,145,146,147,148,149,150,151,152,153,154,155,156,157,158,159,160,161,162,163,164,165,166,167,168,169,170,171,172,173,174,175,176,177,178,179,180,181,182,183,184,185,186,187,188,189,190,191,192,193,194,195,196,197,198,199,200,201,202,203,204,205,206,207,208,209,210,211,212,213,214,215,216,217,218,219,220,221,222,223,224,225,226,227,228,229,230,231,232,233,234,235,236,237,238,239,240,241,242,243,244,245,246,247,248,249,250,251,252,253,254,255,256,257,258,259,260,261,262,263,264,265,266,267,268,269,270,271,272,273,274,275,276,277,278,279,280,281,282,283,284,285,286,287,288,289,290,291,292,293,294,295,296,297,298,299,300,301,302,303,304,305,306,307,308,309,310,311,312,313,314,315,316,317,318,319,320,321,322,323,324,325,326,327,328,329,330,331,332,333,334,335,336,337,338,339,340,341,342,343,344,345,346,347,348,349,350,351,352,353,354,355,356,357,358,359,360,361,362,363,364,365,366,367,368,369,370,371,372,373,374,375,376,377,378,379,380,381,382,383,384,385,386,387,388,389,390,391],\"mpg\":{\"__ndarray__\":\"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\",\"dtype\":\"float64\",\"shape\":[392]},\"name\":[\"chevrolet chevelle malibu\",\"buick skylark 320\",\"plymouth satellite\",\"amc rebel sst\",\"ford torino\",\"ford galaxie 500\",\"chevrolet impala\",\"plymouth fury iii\",\"pontiac catalina\",\"amc ambassador dpl\",\"dodge challenger se\",\"plymouth 'cuda 340\",\"chevrolet monte carlo\",\"buick estate wagon (sw)\",\"toyota corona mark ii\",\"plymouth duster\",\"amc hornet\",\"ford maverick\",\"datsun pl510\",\"volkswagen 1131 deluxe sedan\",\"peugeot 504\",\"audi 100 ls\",\"saab 99e\",\"bmw 2002\",\"amc gremlin\",\"ford f250\",\"chevy c20\",\"dodge d200\",\"hi 1200d\",\"datsun pl510\",\"chevrolet vega 2300\",\"toyota corona\",\"amc gremlin\",\"plymouth satellite custom\",\"chevrolet chevelle malibu\",\"ford torino 500\",\"amc matador\",\"chevrolet impala\",\"pontiac catalina brougham\",\"ford galaxie 500\",\"plymouth fury iii\",\"dodge monaco (sw)\",\"ford country squire (sw)\",\"pontiac safari (sw)\",\"amc hornet sportabout (sw)\",\"chevrolet vega (sw)\",\"pontiac firebird\",\"ford mustang\",\"mercury capri 2000\",\"opel 1900\",\"peugeot 304\",\"fiat 124b\",\"toyota corolla 1200\",\"datsun 1200\",\"volkswagen model 111\",\"plymouth cricket\",\"toyota corona hardtop\",\"dodge colt hardtop\",\"volkswagen type 3\",\"chevrolet vega\",\"ford pinto runabout\",\"chevrolet impala\",\"pontiac catalina\",\"plymouth fury iii\",\"ford galaxie 500\",\"amc ambassador sst\",\"mercury marquis\",\"buick lesabre custom\",\"oldsmobile delta 88 royale\",\"chrysler newport royal\",\"mazda rx2 coupe\",\"amc matador (sw)\",\"chevrolet chevelle concours (sw)\",\"ford gran torino (sw)\",\"plymouth satellite custom (sw)\",\"volvo 145e (sw)\",\"volkswagen 411 (sw)\",\"peugeot 504 (sw)\",\"renault 12 (sw)\",\"ford pinto (sw)\",\"datsun 510 (sw)\",\"toyouta corona mark ii (sw)\",\"dodge colt (sw)\",\"toyota corolla 1600 (sw)\",\"buick century 350\",\"amc matador\",\"chevrolet malibu\",\"ford gran torino\",\"dodge coronet custom\",\"mercury marquis brougham\",\"chevrolet caprice classic\",\"ford ltd\",\"plymouth fury gran sedan\",\"chrysler new yorker brougham\",\"buick electra 225 custom\",\"amc ambassador brougham\",\"plymouth valiant\",\"chevrolet nova custom\",\"amc hornet\",\"ford maverick\",\"plymouth duster\",\"volkswagen super beetle\",\"chevrolet impala\",\"ford country\",\"plymouth custom suburb\",\"oldsmobile vista cruiser\",\"amc gremlin\",\"toyota carina\",\"chevrolet vega\",\"datsun 610\",\"maxda rx3\",\"ford pinto\",\"mercury capri v6\",\"fiat 124 sport coupe\",\"chevrolet monte carlo s\",\"pontiac grand prix\",\"fiat 128\",\"opel manta\",\"audi 100ls\",\"volvo 144ea\",\"dodge dart custom\",\"saab 99le\",\"toyota mark ii\",\"oldsmobile omega\",\"plymouth duster\",\"amc hornet\",\"chevrolet nova\",\"datsun b210\",\"ford pinto\",\"toyota corolla 1200\",\"chevrolet vega\",\"chevrolet chevelle malibu classic\",\"amc matador\",\"plymouth satellite sebring\",\"ford gran torino\",\"buick century luxus (sw)\",\"dodge coronet custom (sw)\",\"ford gran torino (sw)\",\"amc matador (sw)\",\"audi fox\",\"volkswagen dasher\",\"opel manta\",\"toyota corona\",\"datsun 710\",\"dodge colt\",\"fiat 128\",\"fiat 124 tc\",\"honda civic\",\"subaru\",\"fiat x1.9\",\"plymouth valiant custom\",\"chevrolet nova\",\"mercury monarch\",\"ford maverick\",\"pontiac catalina\",\"chevrolet bel air\",\"plymouth grand fury\",\"ford ltd\",\"buick century\",\"chevroelt chevelle malibu\",\"amc matador\",\"plymouth fury\",\"buick skyhawk\",\"chevrolet monza 2+2\",\"ford mustang ii\",\"toyota corolla\",\"ford pinto\",\"amc gremlin\",\"pontiac astro\",\"toyota corona\",\"volkswagen dasher\",\"datsun 710\",\"ford pinto\",\"volkswagen rabbit\",\"amc pacer\",\"audi 100ls\",\"peugeot 504\",\"volvo 244dl\",\"saab 99le\",\"honda civic cvcc\",\"fiat 131\",\"opel 1900\",\"capri ii\",\"dodge colt\",\"renault 12tl\",\"chevrolet chevelle malibu classic\",\"dodge coronet brougham\",\"amc matador\",\"ford gran torino\",\"plymouth valiant\",\"chevrolet nova\",\"ford maverick\",\"amc hornet\",\"chevrolet chevette\",\"chevrolet woody\",\"vw rabbit\",\"honda civic\",\"dodge aspen se\",\"ford granada ghia\",\"pontiac ventura sj\",\"amc pacer d/l\",\"volkswagen rabbit\",\"datsun b-210\",\"toyota corolla\",\"ford pinto\",\"volvo 245\",\"plymouth volare premier v8\",\"peugeot 504\",\"toyota mark ii\",\"mercedes-benz 280s\",\"cadillac seville\",\"chevy c10\",\"ford f108\",\"dodge d100\",\"honda accord cvcc\",\"buick opel isuzu deluxe\",\"renault 5 gtl\",\"plymouth arrow gs\",\"datsun f-10 hatchback\",\"chevrolet caprice classic\",\"oldsmobile cutlass supreme\",\"dodge monaco brougham\",\"mercury cougar brougham\",\"chevrolet concours\",\"buick skylark\",\"plymouth volare custom\",\"ford granada\",\"pontiac grand prix lj\",\"chevrolet monte carlo landau\",\"chrysler cordoba\",\"ford thunderbird\",\"volkswagen rabbit custom\",\"pontiac sunbird coupe\",\"toyota corolla liftback\",\"ford mustang ii 2+2\",\"chevrolet chevette\",\"dodge colt m/m\",\"subaru dl\",\"volkswagen dasher\",\"datsun 810\",\"bmw 320i\",\"mazda rx-4\",\"volkswagen rabbit custom diesel\",\"ford fiesta\",\"mazda glc deluxe\",\"datsun b210 gx\",\"honda civic cvcc\",\"oldsmobile cutlass salon brougham\",\"dodge diplomat\",\"mercury monarch ghia\",\"pontiac phoenix lj\",\"chevrolet malibu\",\"ford fairmont (auto)\",\"ford fairmont (man)\",\"plymouth volare\",\"amc concord\",\"buick century special\",\"mercury zephyr\",\"dodge aspen\",\"amc concord d/l\",\"chevrolet monte carlo landau\",\"buick regal sport coupe (turbo)\",\"ford futura\",\"dodge magnum xe\",\"chevrolet chevette\",\"toyota corona\",\"datsun 510\",\"dodge omni\",\"toyota celica gt liftback\",\"plymouth sapporo\",\"oldsmobile starfire sx\",\"datsun 200-sx\",\"audi 5000\",\"volvo 264gl\",\"saab 99gle\",\"peugeot 604sl\",\"volkswagen scirocco\",\"honda accord lx\",\"pontiac lemans v6\",\"mercury zephyr 6\",\"ford fairmont 4\",\"amc concord dl 6\",\"dodge aspen 6\",\"chevrolet caprice classic\",\"ford ltd landau\",\"mercury grand marquis\",\"dodge st. regis\",\"buick estate wagon (sw)\",\"ford country squire (sw)\",\"chevrolet malibu classic (sw)\",\"chrysler lebaron town @ country (sw)\",\"vw rabbit custom\",\"maxda glc deluxe\",\"dodge colt hatchback custom\",\"amc spirit dl\",\"mercedes benz 300d\",\"cadillac eldorado\",\"peugeot 504\",\"oldsmobile cutlass salon brougham\",\"plymouth horizon\",\"plymouth horizon tc3\",\"datsun 210\",\"fiat strada custom\",\"buick skylark limited\",\"chevrolet citation\",\"oldsmobile omega brougham\",\"pontiac phoenix\",\"vw rabbit\",\"toyota corolla tercel\",\"chevrolet chevette\",\"datsun 310\",\"chevrolet citation\",\"ford fairmont\",\"amc concord\",\"dodge aspen\",\"audi 4000\",\"toyota corona liftback\",\"mazda 626\",\"datsun 510 hatchback\",\"toyota corolla\",\"mazda glc\",\"dodge colt\",\"datsun 210\",\"vw rabbit c (diesel)\",\"vw dasher (diesel)\",\"audi 5000s (diesel)\",\"mercedes-benz 240d\",\"honda civic 1500 gl\",\"subaru dl\",\"vokswagen rabbit\",\"datsun 280-zx\",\"mazda rx-7 gs\",\"triumph tr7 coupe\",\"honda accord\",\"plymouth reliant\",\"buick skylark\",\"dodge aries wagon (sw)\",\"chevrolet citation\",\"plymouth reliant\",\"toyota starlet\",\"plymouth champ\",\"honda civic 1300\",\"subaru\",\"datsun 210 mpg\",\"toyota tercel\",\"mazda glc 4\",\"plymouth horizon 4\",\"ford escort 4w\",\"ford escort 2h\",\"volkswagen jetta\",\"honda prelude\",\"toyota corolla\",\"datsun 200sx\",\"mazda 626\",\"peugeot 505s turbo diesel\",\"volvo diesel\",\"toyota cressida\",\"datsun 810 maxima\",\"buick century\",\"oldsmobile cutlass ls\",\"ford granada gl\",\"chrysler lebaron salon\",\"chevrolet cavalier\",\"chevrolet cavalier wagon\",\"chevrolet cavalier 2-door\",\"pontiac j2000 se hatchback\",\"dodge aries se\",\"pontiac phoenix\",\"ford fairmont futura\",\"volkswagen rabbit l\",\"mazda glc custom l\",\"mazda glc custom\",\"plymouth horizon miser\",\"mercury lynx l\",\"nissan stanza xe\",\"honda accord\",\"toyota corolla\",\"honda civic\",\"honda civic (auto)\",\"datsun 310 gx\",\"buick century limited\",\"oldsmobile cutlass ciera (diesel)\",\"chrysler lebaron medallion\",\"ford granada l\",\"toyota celica gt\",\"dodge charger 2.2\",\"chevrolet camaro\",\"ford mustang gl\",\"vw pickup\",\"dodge rampage\",\"ford ranger\",\"chevy s-10\"],\"origin\":[1,1,1,1,1,1,1,1,1,1,1,1,1,1,3,1,1,1,3,2,2,2,2,2,1,1,1,1,1,3,1,3,1,1,1,1,1,1,1,1,1,1,1,1,1,1,1,1,1,2,2,2,3,3,2,1,3,1,2,1,1,1,1,1,1,1,1,1,1,1,3,1,1,1,1,2,2,2,2,1,3,3,1,3,1,1,1,1,1,1,1,1,1,1,1,1,1,1,1,1,1,2,1,1,1,1,1,3,1,3,3,1,1,2,1,1,2,2,2,2,1,2,3,1,1,1,1,3,1,3,1,1,1,1,1,1,1,1,1,2,2,2,3,3,1,2,2,3,3,2,1,1,1,1,1,1,1,1,1,1,1,1,1,1,1,3,1,1,1,3,2,3,1,2,1,2,2,2,2,3,2,2,1,1,2,1,1,1,1,1,1,1,1,1,1,2,3,1,1,1,1,2,3,3,1,2,1,2,3,2,1,1,1,1,3,1,2,1,3,1,1,1,1,1,1,1,1,1,1,1,1,2,1,3,1,1,1,3,2,3,2,3,2,1,3,3,3,1,1,1,1,1,1,1,1,1,1,1,1,1,1,1,1,1,1,3,3,1,3,1,1,3,2,2,2,2,2,3,1,1,1,1,1,1,1,1,1,1,1,1,1,2,3,1,1,2,1,2,1,1,1,3,2,1,1,1,1,2,3,1,3,1,1,1,1,2,3,3,3,3,3,1,3,2,2,2,2,3,3,2,3,3,2,3,1,1,1,1,1,3,1,3,3,3,3,3,1,1,1,2,3,3,3,3,2,2,3,3,1,1,1,1,1,1,1,1,1,1,1,2,3,3,1,1,3,3,3,3,3,3,1,1,1,1,3,1,1,1,2,1,1,1],\"weight\":[3504,3693,3436,3433,3449,4341,4354,4312,4425,3850,3563,3609,3761,3086,2372,2833,2774,2587,2130,1835,2672,2430,2375,2234,2648,4615,4376,4382,4732,2130,2264,2228,2634,3439,3329,3302,3288,4209,4464,4154,4096,4955,4746,5140,2962,2408,3282,3139,2220,2123,2074,2065,1773,1613,1834,1955,2278,2126,2254,2408,2226,4274,4385,4135,4129,3672,4633,4502,4456,4422,2330,3892,4098,4294,4077,2933,2511,2979,2189,2395,2288,2506,2164,2100,4100,3672,3988,4042,3777,4952,4464,4363,4237,4735,4951,3821,3121,3278,2945,3021,2904,1950,4997,4906,4654,4499,2789,2279,2401,2379,2124,2310,2472,2265,4082,4278,1867,2158,2582,2868,3399,2660,2807,3664,3102,2901,3336,1950,2451,1836,2542,3781,3632,3613,4141,4699,4457,4638,4257,2219,1963,2300,1649,2003,2125,2108,2246,2489,2391,2000,3264,3459,3432,3158,4668,4440,4498,4657,3907,3897,3730,3785,3039,3221,3169,2171,2639,2914,2592,2702,2223,2545,2984,1937,3211,2694,2957,2945,2671,1795,2464,2220,2572,2255,2202,4215,4190,3962,4215,3233,3353,3012,3085,2035,2164,1937,1795,3651,3574,3645,3193,1825,1990,2155,2565,3150,3940,3270,2930,3820,4380,4055,3870,3755,2045,2155,1825,2300,1945,3880,4060,4140,4295,3520,3425,3630,3525,4220,4165,4325,4335,1940,2740,2265,2755,2051,2075,1985,2190,2815,2600,2720,1985,1800,1985,2070,1800,3365,3735,3570,3535,3155,2965,2720,3430,3210,3380,3070,3620,3410,3425,3445,3205,4080,2155,2560,2300,2230,2515,2745,2855,2405,2830,3140,2795,3410,1990,2135,3245,2990,2890,3265,3360,3840,3725,3955,3830,4360,4054,3605,3940,1925,1975,1915,2670,3530,3900,3190,3420,2200,2150,2020,2130,2670,2595,2700,2556,2144,1968,2120,2019,2678,2870,3003,3381,2188,2711,2542,2434,2265,2110,2800,2110,2085,2335,2950,3250,1850,2145,1845,2910,2420,2500,2290,2490,2635,2620,2725,2385,1755,1875,1760,2065,1975,2050,1985,2215,2045,2380,2190,2210,2350,2615,2635,3230,3160,2900,2930,3415,3725,3060,3465,2605,2640,2395,2575,2525,2735,2865,1980,2025,1970,2125,2125,2160,2205,2245,1965,1965,1995,2945,3015,2585,2835,2665,2370,2950,2790,2130,2295,2625,2720],\"yr\":[70,70,70,70,70,70,70,70,70,70,70,70,70,70,70,70,70,70,70,70,70,70,70,70,70,70,70,70,70,71,71,71,71,71,71,71,71,71,71,71,71,71,71,71,71,71,71,71,71,71,71,71,71,71,71,71,72,72,72,72,72,72,72,72,72,72,72,72,72,72,72,72,72,72,72,72,72,72,72,72,72,72,72,72,73,73,73,73,73,73,73,73,73,73,73,73,73,73,73,73,73,73,73,73,73,73,73,73,73,73,73,73,73,73,73,73,73,73,73,73,73,73,73,73,74,74,74,74,74,74,74,74,74,74,74,74,74,74,74,74,74,74,74,74,74,74,74,74,74,74,75,75,75,75,75,75,75,75,75,75,75,75,75,75,75,75,75,75,75,75,75,75,75,75,75,75,75,75,75,75,76,76,76,76,76,76,76,76,76,76,76,76,76,76,76,76,76,76,76,76,76,76,76,76,76,76,76,76,76,76,76,76,76,76,77,77,77,77,77,77,77,77,77,77,77,77,77,77,77,77,77,77,77,77,77,77,77,77,77,77,77,77,78,78,78,78,78,78,78,78,78,78,78,78,78,78,78,78,78,78,78,78,78,78,78,78,78,78,78,78,78,78,78,78,78,78,78,78,79,79,79,79,79,79,79,79,79,79,79,79,79,79,79,79,79,79,79,79,79,79,79,79,79,79,79,79,79,80,80,80,80,80,80,80,80,80,80,80,80,80,80,80,80,80,80,80,80,80,80,80,80,80,80,80,81,81,81,81,81,81,81,81,81,81,81,81,81,81,81,81,81,81,81,81,81,81,81,81,81,81,81,81,82,82,82,82,82,82,82,82,82,82,82,82,82,82,82,82,82,82,82,82,82,82,82,82,82,82,82,82,82,82]}},\"id\":\"63143f90-7e06-4dd5-9b88-8aec56d1d064\",\"type\":\"ColumnDataSource\"},{\"attributes\":{\"fill_alpha\":{\"value\":0.6},\"fill_color\":{\"field\":\"weight\",\"transform\":{\"id\":\"1d67cb0c-8e6e-4498-8d65-2c9031de835d\",\"type\":\"LinearColorMapper\"}},\"line_alpha\":{\"value\":0.6},\"line_color\":{\"field\":\"weight\",\"transform\":{\"id\":\"1d67cb0c-8e6e-4498-8d65-2c9031de835d\",\"type\":\"LinearColorMapper\"}},\"size\":{\"units\":\"screen\",\"value\":20},\"x\":{\"field\":\"yr\"},\"y\":{\"field\":\"mpg\"}},\"id\":\"53e0a67d-4e4c-4445-bcc2-77c1746d0c7f\",\"type\":\"Circle\"},{\"attributes\":{\"plot\":null,\"text\":\"\"},\"id\":\"e2493211-045f-4a46-8703-f098340ec5d5\",\"type\":\"Title\"},{\"attributes\":{\"source\":{\"id\":\"63143f90-7e06-4dd5-9b88-8aec56d1d064\",\"type\":\"ColumnDataSource\"}},\"id\":\"851bc3ad-f3c6-48ea-b1f2-5fcea3a013fa\",\"type\":\"CDSView\"},{\"attributes\":{},\"id\":\"04f7bd98-ce31-497b-a632-311faab583a3\",\"type\":\"BasicTickFormatter\"},{\"attributes\":{\"axis_label\":\"Year\",\"formatter\":{\"id\":\"99b113a8-d975-4985-b9dc-050b9239aecf\",\"type\":\"BasicTickFormatter\"},\"plot\":{\"id\":\"9ef28807-9e1e-422f-9702-ee217b976fa6\",\"subtype\":\"Figure\",\"type\":\"Plot\"},\"ticker\":{\"id\":\"5f7b7d20-18de-4eb8-90db-6512dd560357\",\"type\":\"BasicTicker\"}},\"id\":\"e7ab8f32-6dd0-4be3-b052-94e838e3bd1f\",\"type\":\"LinearAxis\"},{\"attributes\":{\"active_drag\":\"auto\",\"active_inspect\":\"auto\",\"active_scroll\":\"auto\",\"active_tap\":\"auto\"},\"id\":\"9eb9df54-7faf-4faf-b90f-9e68a64a11d9\",\"type\":\"Toolbar\"},{\"attributes\":{},\"id\":\"99b113a8-d975-4985-b9dc-050b9239aecf\",\"type\":\"BasicTickFormatter\"},{\"attributes\":{\"below\":[{\"id\":\"e7ab8f32-6dd0-4be3-b052-94e838e3bd1f\",\"type\":\"LinearAxis\"}],\"left\":[{\"id\":\"a4e05569-db2d-40cb-b3c7-7794e85eaeb2\",\"type\":\"LinearAxis\"}],\"renderers\":[{\"id\":\"e7ab8f32-6dd0-4be3-b052-94e838e3bd1f\",\"type\":\"LinearAxis\"},{\"id\":\"fbecf07d-7fb7-4c98-8235-1e77b568dfb4\",\"type\":\"Grid\"},{\"id\":\"a4e05569-db2d-40cb-b3c7-7794e85eaeb2\",\"type\":\"LinearAxis\"},{\"id\":\"839b0f58-c783-4411-aafc-c04f29e16d77\",\"type\":\"Grid\"},{\"id\":\"7ce02d90-338c-4b1b-ba50-1ac8649f905d\",\"type\":\"GlyphRenderer\"},{\"id\":\"39d425f1-a9f7-4f02-9b96-e9283f209d2e\",\"type\":\"ColorBar\"}],\"right\":[{\"id\":\"39d425f1-a9f7-4f02-9b96-e9283f209d2e\",\"type\":\"ColorBar\"}],\"title\":{\"id\":\"e2493211-045f-4a46-8703-f098340ec5d5\",\"type\":\"Title\"},\"toolbar\":{\"id\":\"9eb9df54-7faf-4faf-b90f-9e68a64a11d9\",\"type\":\"Toolbar\"},\"toolbar_location\":\"above\",\"x_range\":{\"id\":\"72c9f9f4-4972-4121-bf86-0340003f02a2\",\"type\":\"DataRange1d\"},\"x_scale\":{\"id\":\"a92ca362-b2ab-492d-8ea0-37595520f106\",\"type\":\"LinearScale\"},\"y_range\":{\"id\":\"deabf5f5-79a8-4a9c-99ea-69cb9a19fb31\",\"type\":\"DataRange1d\"},\"y_scale\":{\"id\":\"79f500eb-5f43-45ab-a68e-8f8e941ec848\",\"type\":\"LinearScale\"}},\"id\":\"9ef28807-9e1e-422f-9702-ee217b976fa6\",\"subtype\":\"Figure\",\"type\":\"Plot\"},{\"attributes\":{\"fill_alpha\":{\"value\":0.1},\"fill_color\":{\"value\":\"#1f77b4\"},\"line_alpha\":{\"value\":0.1},\"line_color\":{\"value\":\"#1f77b4\"},\"size\":{\"units\":\"screen\",\"value\":20},\"x\":{\"field\":\"yr\"},\"y\":{\"field\":\"mpg\"}},\"id\":\"966e177c-be4f-43f2-ae9d-2dabe8c2fb51\",\"type\":\"Circle\"},{\"attributes\":{},\"id\":\"79f500eb-5f43-45ab-a68e-8f8e941ec848\",\"type\":\"LinearScale\"},{\"attributes\":{\"axis_label\":\"MPG\",\"formatter\":{\"id\":\"04f7bd98-ce31-497b-a632-311faab583a3\",\"type\":\"BasicTickFormatter\"},\"plot\":{\"id\":\"9ef28807-9e1e-422f-9702-ee217b976fa6\",\"subtype\":\"Figure\",\"type\":\"Plot\"},\"ticker\":{\"id\":\"81a28f24-0bd6-4427-aa1a-a68f194ad4b7\",\"type\":\"BasicTicker\"}},\"id\":\"a4e05569-db2d-40cb-b3c7-7794e85eaeb2\",\"type\":\"LinearAxis\"},{\"attributes\":{\"callback\":null},\"id\":\"72c9f9f4-4972-4121-bf86-0340003f02a2\",\"type\":\"DataRange1d\"},{\"attributes\":{\"callback\":null},\"id\":\"deabf5f5-79a8-4a9c-99ea-69cb9a19fb31\",\"type\":\"DataRange1d\"},{\"attributes\":{\"dimension\":1,\"plot\":{\"id\":\"9ef28807-9e1e-422f-9702-ee217b976fa6\",\"subtype\":\"Figure\",\"type\":\"Plot\"},\"ticker\":{\"id\":\"81a28f24-0bd6-4427-aa1a-a68f194ad4b7\",\"type\":\"BasicTicker\"}},\"id\":\"839b0f58-c783-4411-aafc-c04f29e16d77\",\"type\":\"Grid\"},{\"attributes\":{},\"id\":\"a92ca362-b2ab-492d-8ea0-37595520f106\",\"type\":\"LinearScale\"},{\"attributes\":{},\"id\":\"5f7b7d20-18de-4eb8-90db-6512dd560357\",\"type\":\"BasicTicker\"},{\"attributes\":{\"data_source\":{\"id\":\"63143f90-7e06-4dd5-9b88-8aec56d1d064\",\"type\":\"ColumnDataSource\"},\"glyph\":{\"id\":\"53e0a67d-4e4c-4445-bcc2-77c1746d0c7f\",\"type\":\"Circle\"},\"hover_glyph\":null,\"muted_glyph\":null,\"nonselection_glyph\":{\"id\":\"966e177c-be4f-43f2-ae9d-2dabe8c2fb51\",\"type\":\"Circle\"},\"selection_glyph\":null,\"view\":{\"id\":\"851bc3ad-f3c6-48ea-b1f2-5fcea3a013fa\",\"type\":\"CDSView\"}},\"id\":\"7ce02d90-338c-4b1b-ba50-1ac8649f905d\",\"type\":\"GlyphRenderer\"},{\"attributes\":{},\"id\":\"81a28f24-0bd6-4427-aa1a-a68f194ad4b7\",\"type\":\"BasicTicker\"},{\"attributes\":{},\"id\":\"8ed75303-6cca-42cc-8366-84f6990128b0\",\"type\":\"BasicTicker\"},{\"attributes\":{},\"id\":\"92e1890d-11f5-414c-8b67-0f10e482f01e\",\"type\":\"BasicTickFormatter\"},{\"attributes\":{\"color_mapper\":{\"id\":\"1d67cb0c-8e6e-4498-8d65-2c9031de835d\",\"type\":\"LinearColorMapper\"},\"formatter\":{\"id\":\"92e1890d-11f5-414c-8b67-0f10e482f01e\",\"type\":\"BasicTickFormatter\"},\"label_standoff\":12,\"location\":[0,0],\"plot\":{\"id\":\"9ef28807-9e1e-422f-9702-ee217b976fa6\",\"subtype\":\"Figure\",\"type\":\"Plot\"},\"ticker\":{\"id\":\"8ed75303-6cca-42cc-8366-84f6990128b0\",\"type\":\"BasicTicker\"},\"title\":\"Weight\"},\"id\":\"39d425f1-a9f7-4f02-9b96-e9283f209d2e\",\"type\":\"ColorBar\"},{\"attributes\":{\"high\":5140,\"low\":1613,\"palette\":[\"#440154\",\"#440255\",\"#440357\",\"#450558\",\"#45065A\",\"#45085B\",\"#46095C\",\"#460B5E\",\"#460C5F\",\"#460E61\",\"#470F62\",\"#471163\",\"#471265\",\"#471466\",\"#471567\",\"#471669\",\"#47186A\",\"#48196B\",\"#481A6C\",\"#481C6E\",\"#481D6F\",\"#481E70\",\"#482071\",\"#482172\",\"#482273\",\"#482374\",\"#472575\",\"#472676\",\"#472777\",\"#472878\",\"#472A79\",\"#472B7A\",\"#472C7B\",\"#462D7C\",\"#462F7C\",\"#46307D\",\"#46317E\",\"#45327F\",\"#45347F\",\"#453580\",\"#453681\",\"#443781\",\"#443982\",\"#433A83\",\"#433B83\",\"#433C84\",\"#423D84\",\"#423E85\",\"#424085\",\"#414186\",\"#414286\",\"#404387\",\"#404487\",\"#3F4587\",\"#3F4788\",\"#3E4888\",\"#3E4989\",\"#3D4A89\",\"#3D4B89\",\"#3D4C89\",\"#3C4D8A\",\"#3C4E8A\",\"#3B508A\",\"#3B518A\",\"#3A528B\",\"#3A538B\",\"#39548B\",\"#39558B\",\"#38568B\",\"#38578C\",\"#37588C\",\"#37598C\",\"#365A8C\",\"#365B8C\",\"#355C8C\",\"#355D8C\",\"#345E8D\",\"#345F8D\",\"#33608D\",\"#33618D\",\"#32628D\",\"#32638D\",\"#31648D\",\"#31658D\",\"#31668D\",\"#30678D\",\"#30688D\",\"#2F698D\",\"#2F6A8D\",\"#2E6B8E\",\"#2E6C8E\",\"#2E6D8E\",\"#2D6E8E\",\"#2D6F8E\",\"#2C708E\",\"#2C718E\",\"#2C728E\",\"#2B738E\",\"#2B748E\",\"#2A758E\",\"#2A768E\",\"#2A778E\",\"#29788E\",\"#29798E\",\"#287A8E\",\"#287A8E\",\"#287B8E\",\"#277C8E\",\"#277D8E\",\"#277E8E\",\"#267F8E\",\"#26808E\",\"#26818E\",\"#25828E\",\"#25838D\",\"#24848D\",\"#24858D\",\"#24868D\",\"#23878D\",\"#23888D\",\"#23898D\",\"#22898D\",\"#228A8D\",\"#228B8D\",\"#218C8D\",\"#218D8C\",\"#218E8C\",\"#208F8C\",\"#20908C\",\"#20918C\",\"#1F928C\",\"#1F938B\",\"#1F948B\",\"#1F958B\",\"#1F968B\",\"#1E978A\",\"#1E988A\",\"#1E998A\",\"#1E998A\",\"#1E9A89\",\"#1E9B89\",\"#1E9C89\",\"#1E9D88\",\"#1E9E88\",\"#1E9F88\",\"#1EA087\",\"#1FA187\",\"#1FA286\",\"#1FA386\",\"#20A485\",\"#20A585\",\"#21A685\",\"#21A784\",\"#22A784\",\"#23A883\",\"#23A982\",\"#24AA82\",\"#25AB81\",\"#26AC81\",\"#27AD80\",\"#28AE7F\",\"#29AF7F\",\"#2AB07E\",\"#2BB17D\",\"#2CB17D\",\"#2EB27C\",\"#2FB37B\",\"#30B47A\",\"#32B57A\",\"#33B679\",\"#35B778\",\"#36B877\",\"#38B976\",\"#39B976\",\"#3BBA75\",\"#3DBB74\",\"#3EBC73\",\"#40BD72\",\"#42BE71\",\"#44BE70\",\"#45BF6F\",\"#47C06E\",\"#49C16D\",\"#4BC26C\",\"#4DC26B\",\"#4FC369\",\"#51C468\",\"#53C567\",\"#55C666\",\"#57C665\",\"#59C764\",\"#5BC862\",\"#5EC961\",\"#60C960\",\"#62CA5F\",\"#64CB5D\",\"#67CC5C\",\"#69CC5B\",\"#6BCD59\",\"#6DCE58\",\"#70CE56\",\"#72CF55\",\"#74D054\",\"#77D052\",\"#79D151\",\"#7CD24F\",\"#7ED24E\",\"#81D34C\",\"#83D34B\",\"#86D449\",\"#88D547\",\"#8BD546\",\"#8DD644\",\"#90D643\",\"#92D741\",\"#95D73F\",\"#97D83E\",\"#9AD83C\",\"#9DD93A\",\"#9FD938\",\"#A2DA37\",\"#A5DA35\",\"#A7DB33\",\"#AADB32\",\"#ADDC30\",\"#AFDC2E\",\"#B2DD2C\",\"#B5DD2B\",\"#B7DD29\",\"#BADE27\",\"#BDDE26\",\"#BFDF24\",\"#C2DF22\",\"#C5DF21\",\"#C7E01F\",\"#CAE01E\",\"#CDE01D\",\"#CFE11C\",\"#D2E11B\",\"#D4E11A\",\"#D7E219\",\"#DAE218\",\"#DCE218\",\"#DFE318\",\"#E1E318\",\"#E4E318\",\"#E7E419\",\"#E9E419\",\"#ECE41A\",\"#EEE51B\",\"#F1E51C\",\"#F3E51E\",\"#F6E61F\",\"#F8E621\",\"#FAE622\",\"#FDE724\"]},\"id\":\"1d67cb0c-8e6e-4498-8d65-2c9031de835d\",\"type\":\"LinearColorMapper\"},{\"attributes\":{\"plot\":{\"id\":\"9ef28807-9e1e-422f-9702-ee217b976fa6\",\"subtype\":\"Figure\",\"type\":\"Plot\"},\"ticker\":{\"id\":\"5f7b7d20-18de-4eb8-90db-6512dd560357\",\"type\":\"BasicTicker\"}},\"id\":\"fbecf07d-7fb7-4c98-8235-1e77b568dfb4\",\"type\":\"Grid\"}],\"root_ids\":[\"9ef28807-9e1e-422f-9702-ee217b976fa6\"]},\"title\":\"Bokeh Application\",\"version\":\"0.12.10\"}};\n",
       "    var render_items = [{\"docid\":\"f8b19432-d5af-4f9b-a158-2326ac841f5f\",\"elementid\":\"609ccfea-4afc-4639-a073-326ed32d8a92\",\"modelid\":\"9ef28807-9e1e-422f-9702-ee217b976fa6\"}];\n",
       "\n",
       "    root.Bokeh.embed.embed_items(docs_json, render_items);\n",
       "  }\n",
       "\n",
       "  if (root.Bokeh !== undefined) {\n",
       "    embed_document(root);\n",
       "  } else {\n",
       "    var attempts = 0;\n",
       "    var timer = setInterval(function(root) {\n",
       "      if (root.Bokeh !== undefined) {\n",
       "        embed_document(root);\n",
       "        clearInterval(timer);\n",
       "      }\n",
       "      attempts++;\n",
       "      if (attempts > 100) {\n",
       "        console.log(\"Bokeh: ERROR: Unable to embed document because BokehJS library is missing\")\n",
       "        clearInterval(timer);\n",
       "      }\n",
       "    }, 10, root)\n",
       "  }\n",
       "})(window);"
      ],
      "application/vnd.bokehjs_exec.v0+json": ""
     },
     "metadata": {
      "application/vnd.bokehjs_exec.v0+json": {
       "id": "9ef28807-9e1e-422f-9702-ee217b976fa6"
      }
     },
     "output_type": "display_data"
    }
   ],
   "source": [
    "from bokeh.sampledata.autompg import autompg\n",
    "from bokeh.models import LinearColorMapper, ColorBar\n",
    "from bokeh.palettes import Viridis256\n",
    "\n",
    "source = ColumnDataSource(autompg)\n",
    "color_mapper = LinearColorMapper(palette=Viridis256, low=autompg.weight.min(), high=autompg.weight.max())\n",
    "\n",
    "p = figure(x_axis_label='Year', y_axis_label='MPG', tools='', toolbar_location='above')\n",
    "p.circle(x='yr', y='mpg', color={'field': 'weight', 'transform': color_mapper}, size=20, alpha=0.6, source=source)\n",
    "\n",
    "color_bar = ColorBar(color_mapper=color_mapper, label_standoff=12, location=(0,0), title='Weight')\n",
    "p.add_layout(color_bar, 'right')\n",
    "\n",
    "show(p)"
   ]
  },
  {
   "cell_type": "code",
   "execution_count": null,
   "metadata": {
    "collapsed": true
   },
   "outputs": [],
   "source": []
  }
 ],
 "metadata": {
  "anaconda-cloud": {},
  "kernelspec": {
   "display_name": "Python 3",
   "language": "python",
   "name": "python3"
  },
  "language_info": {
   "codemirror_mode": {
    "name": "ipython",
    "version": 3
   },
   "file_extension": ".py",
   "mimetype": "text/x-python",
   "name": "python",
   "nbconvert_exporter": "python",
   "pygments_lexer": "ipython3",
   "version": "3.5.2"
  }
 },
 "nbformat": 4,
 "nbformat_minor": 1
}
