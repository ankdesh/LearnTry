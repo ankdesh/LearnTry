{
 "cells": [
  {
   "cell_type": "markdown",
   "metadata": {},
   "source": [
    "### Loading csv data"
   ]
  },
  {
   "cell_type": "code",
   "execution_count": 17,
   "metadata": {
    "collapsed": false
   },
   "outputs": [],
   "source": [
    "import csv\n",
    "import pprint\n",
    "import numpy"
   ]
  },
  {
   "cell_type": "code",
   "execution_count": 16,
   "metadata": {
    "collapsed": false
   },
   "outputs": [
    {
     "name": "stdout",
     "output_type": "stream",
     "text": [
      "[['Name', 'RegistrationDate', 'ZipCode', 'Consts'],\n",
      " ['Cynthia Oneal', '2006-10-07', '57003', '3.14159'],\n",
      " ['James Eaton', '2011-07-07', '71409', '6.022141'],\n",
      " ['Mickey Boggs', '2010-05-31', '58326', '9.274009'],\n",
      " ['Cornell Horne', '2003-06-03', '61249', '5.29000'],\n",
      " ['Jami Riggs', '2010-02-25', '24123', '1.380648'],\n",
      " ['Steven Dillon', '2012-01-27', '21303', '2.765000'],\n",
      " ['Tad Sharp', '2013-01-24', '35689', '8.987551'],\n",
      " ['Eugenia Maynard', '2006-05-10', '18220', '.37'],\n",
      " ['Emmett Mullen', '2009-12-06', '41855', '.73'],\n",
      " ['Thomas Sexton', '2009-01-02', '19211', '.2701']]\n"
     ]
    }
   ],
   "source": [
    "## Using csv\n",
    "\n",
    "test_data = [line for line in csv.reader(open('test.csv'))]\n",
    "pprint.PrettyPrinter().pprint(test_data)"
   ]
  },
  {
   "cell_type": "code",
   "execution_count": 23,
   "metadata": {
    "collapsed": false
   },
   "outputs": [
    {
     "name": "stdout",
     "output_type": "stream",
     "text": [
      "[('Cynthia Oneal', '2006-10-07', 57003, 3.141590118408203)\n",
      " ('James Eaton', '2011-07-07', 71409, 6.022140979766846)\n",
      " ('Mickey Boggs', '2010-05-31', 58326, 9.274008750915527)\n",
      " ('Cornell Horne', '2003-06-03', 61249, 5.289999961853027)\n",
      " ('Jami Riggs', '2010-02-25', 24123, 1.3806480169296265)\n",
      " ('Steven Dillon', '2012-01-27', 21303, 2.765000104904175)\n",
      " ('Tad Sharp', '2013-01-24', 35689, 8.987550735473633)\n",
      " ('Eugenia Maynard', '2006-05-10', 18220, 0.3700000047683716)\n",
      " ('Emmett Mullen', '2009-12-06', 41855, 0.7300000190734863)\n",
      " ('Thomas Sexton', '2009-01-02', 19211, 0.2700999975204468)]\n"
     ]
    }
   ],
   "source": [
    "## Using Numpy\n",
    "\n",
    "FIELDNAMES = ['Name', 'RegistrationDate', 'ZipCode', 'Consts']\n",
    "DTYPES = [('Name','S50'),('RegistrationDate','S50'),('ZipCode','i'),('Consts','f')]\n",
    "csv_data = numpy.genfromtxt('test.csv',delimiter=',',skip_header=1,names=FIELDNAMES, dtype=DTYPES)\n",
    "print csv_data"
   ]
  },
  {
   "cell_type": "markdown",
   "metadata": {},
   "source": [
    "### Iterate a column"
   ]
  },
  {
   "cell_type": "code",
   "execution_count": 26,
   "metadata": {
    "collapsed": false
   },
   "outputs": [
    {
     "name": "stdout",
     "output_type": "stream",
     "text": [
      "Cynthia Oneal\n",
      "James Eaton\n",
      "Mickey Boggs\n",
      "Cornell Horne\n",
      "Jami Riggs\n",
      "Steven Dillon\n",
      "Tad Sharp\n",
      "Eugenia Maynard\n",
      "Emmett Mullen\n",
      "Thomas Sexton\n"
     ]
    }
   ],
   "source": [
    "for i in csv_data:\n",
    "    print i[0]"
   ]
  },
  {
   "cell_type": "markdown",
   "metadata": {},
   "source": [
    "### Matplotlib"
   ]
  },
  {
   "cell_type": "code",
   "execution_count": 28,
   "metadata": {
    "collapsed": true
   },
   "outputs": [],
   "source": [
    "import matplotlib.pyplot as plt"
   ]
  },
  {
   "cell_type": "code",
   "execution_count": null,
   "metadata": {
    "collapsed": true
   },
   "outputs": [],
   "source": [
    "fig = plt.figure()\n",
    "ax = fig.add_subplot(1,1,1)\n"
   ]
  }
 ],
 "metadata": {
  "kernelspec": {
   "display_name": "Python 2",
   "language": "python",
   "name": "python2"
  },
  "language_info": {
   "codemirror_mode": {
    "name": "ipython",
    "version": 2
   },
   "file_extension": ".py",
   "mimetype": "text/x-python",
   "name": "python",
   "nbconvert_exporter": "python",
   "pygments_lexer": "ipython2",
   "version": "2.7.10"
  }
 },
 "nbformat": 4,
 "nbformat_minor": 0
}
