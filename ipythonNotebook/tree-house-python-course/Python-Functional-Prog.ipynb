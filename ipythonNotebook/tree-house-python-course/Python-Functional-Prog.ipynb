{
 "cells": [
  {
   "cell_type": "markdown",
   "metadata": {},
   "source": []
  },
  {
   "cell_type": "code",
   "execution_count": 1,
   "metadata": {
    "collapsed": false
   },
   "outputs": [
    {
     "name": "stdout",
     "output_type": "stream",
     "text": [
      "[1, 2, 3, 5]\n",
      "[1, 3, 2, 5]\n"
     ]
    }
   ],
   "source": [
    "# Sorted function does not reorder DS ( creates and returns a new DS)\n",
    "asd = [ 1, 3,2, 5]\n",
    "print sorted(asd)\n",
    "print asd "
   ]
  },
  {
   "cell_type": "code",
   "execution_count": 11,
   "metadata": {
    "collapsed": false
   },
   "outputs": [
    {
     "name": "stdout",
     "output_type": "stream",
     "text": [
      "(1975, 2011)\n",
      "(245, 1141)\n",
      "{u'price': 7.99, u'number_of_pages': 732, u'publish_date': 1999, u'subjects': [u'Authors', u'Custody of children', u'Grandfathers', u'Haunted houses', u'Novelists', u'Trials (Custody of children)', u'Widowers', u'Widows', u\"Writer's block\"], u'title': u'Bag of bones'}\n",
      "<type 'dict'>\n",
      "Bag of bones\n",
      "<type 'instance'>\n"
     ]
    }
   ],
   "source": [
    "# Code copied from the tree house \n",
    "import json\n",
    "from operator import attrgetter, itemgetter\n",
    "\n",
    "class Book:\n",
    "    def __init__(self, **kwargs):\n",
    "        for k, v in kwargs.items():\n",
    "            setattr(self, k, v)\n",
    "\n",
    "    def __str__(self):\n",
    "        return self.title\n",
    "    \n",
    "    def __repr__(self):\n",
    "        return str(self)\n",
    "    \n",
    "    \n",
    "def get_books(filename, raw=False):\n",
    "    try:\n",
    "        data = json.load(open(filename))\n",
    "    except FileNotFoundError:\n",
    "        return []\n",
    "    else:\n",
    "        if raw:\n",
    "            return data['books']\n",
    "        return [Book(**book) for book in data['books']]\n",
    "    \n",
    "BOOKS = get_books('books.json')\n",
    "RAW_BOOKS = get_books('books.json', raw=True)\n",
    "\n",
    "pub_sort = sorted(RAW_BOOKS, key=itemgetter('publish_date'))\n",
    "print(pub_sort[0]['publish_date'], pub_sort[-1]['publish_date'])\n",
    "pages_sort = sorted(BOOKS, key=attrgetter('number_of_pages'))\n",
    "print(pages_sort[0].number_of_pages, pages_sort[-1].number_of_pages)\n",
    "\n",
    "print RAW_BOOKS[1]\n",
    "print type(RAW_BOOKS[1])\n",
    "print BOOKS[1]\n",
    "print type(BOOKS[1])\n",
    "\n",
    "#important_list = [5, 3, 1, 2, 4]\n",
    "#important_list.sort()  # Bad idea, sorts list in place\n",
    "# sorted(important_list)  # Sorts a copy of the list\n"
   ]
  },
  {
   "cell_type": "markdown",
   "metadata": {},
   "source": [
    "### Itemgetter"
   ]
  },
  {
   "cell_type": "code",
   "execution_count": 12,
   "metadata": {
    "collapsed": false
   },
   "outputs": [
    {
     "name": "stdout",
     "output_type": "stream",
     "text": [
      "[('coconut', 1), ('apple', 2), ('durian', 3), ('elderberries', 4), ('banana', 5)]\n"
     ]
    }
   ],
   "source": [
    "fruit_list = [\n",
    "    ('apple', 2),\n",
    "    ('banana', 5),\n",
    "    ('coconut', 1),\n",
    "    ('durian', 3),\n",
    "    ('elderberries', 4)\n",
    "]\n",
    "\n",
    "print sorted(fruit_list,key=itemgetter(1))"
   ]
  },
  {
   "cell_type": "markdown",
   "metadata": {},
   "source": [
    "### Attrgetter"
   ]
  },
  {
   "cell_type": "code",
   "execution_count": 29,
   "metadata": {
    "collapsed": false
   },
   "outputs": [
    {
     "name": "stdout",
     "output_type": "stream",
     "text": [
      "2015\n",
      "9\n"
     ]
    }
   ],
   "source": [
    "import datetime\n",
    "from operator import attrgetter\n",
    "\n",
    "date_list = [\n",
    "    datetime.datetime(2015, 4, 29, 10, 15, 39),\n",
    "    datetime.datetime(2006, 8, 15, 14, 59, 2),\n",
    "    datetime.datetime(1981, 5, 16, 2, 10, 42),\n",
    "    datetime.datetime(2012, 8, 9, 14, 59, 2),\n",
    "]\n",
    "print date_list[0].year\n",
    "\n",
    "sorted_dates = sorted(date_list, key=attrgetter('day'))\n",
    "print sorted_dates[0].day"
   ]
  },
  {
   "cell_type": "markdown",
   "metadata": {},
   "source": [
    "### Map"
   ]
  },
  {
   "cell_type": "code",
   "execution_count": 37,
   "metadata": {
    "collapsed": false
   },
   "outputs": [
    {
     "name": "stdout",
     "output_type": "stream",
     "text": [
      "['cat', 'Treehouse', 'Kenneth', [1, 2, 3, 4, 5]]\n"
     ]
    }
   ],
   "source": [
    "backwards = [\n",
    "    'tac',\n",
    "    'esuoheerT',\n",
    "    'htenneK',\n",
    "    [5, 4, 3, 2, 1],\n",
    "]\n",
    "\n",
    "def reverse(item):\n",
    "  return item[::-1]\n",
    "\n",
    "forwards = map(reverse, backwards)\n",
    "print forwards\n",
    "\n",
    "## Map using list comprehension\n",
    "forwards = []"
   ]
  },
  {
   "cell_type": "markdown",
   "metadata": {
    "collapsed": true
   },
   "source": [
    "### Lambda"
   ]
  },
  {
   "cell_type": "code",
   "execution_count": 4,
   "metadata": {
    "collapsed": false
   },
   "outputs": [],
   "source": [
    "\n",
    "strings = [\n",
    "    \"Do not take life too seriously. You will never get out of it alive.\",\n",
    "    \"My fake plants died because I did not pretend to water them.\",\n",
    "    \"A day without sunshine is like, you know, night.\",\n",
    "    \"Get your facts first, then you can distort them as you please.\",\n",
    "    \"My grandmother started walking five miles a day when she was sixty. She's ninety-seven know and we don't know where she is.\",\n",
    "    \"Life is hard. After all, it kills you.\",\n",
    "    \"All my life, I always wanted to be somebody. Now I see that I should have been more specific.\",\n",
    "    \"Everyone's like, 'overnight sensation.' It's not overnight. It's years of hard work.\",\n",
    "]\n",
    "\n",
    "longest = reduce(lambda x,y: x if len(x)>=len(y) else y, strings)"
   ]
  },
  {
   "cell_type": "code",
   "execution_count": 5,
   "metadata": {
    "collapsed": false
   },
   "outputs": [
    {
     "name": "stdout",
     "output_type": "stream",
     "text": [
      "My grandmother started walking five miles a day when she was sixty. She's ninety-seven know and we don't know where she is.\n"
     ]
    }
   ],
   "source": [
    "print longest"
   ]
  },
  {
   "cell_type": "code",
   "execution_count": null,
   "metadata": {
    "collapsed": true
   },
   "outputs": [],
   "source": []
  }
 ],
 "metadata": {
  "kernelspec": {
   "display_name": "Python 2",
   "language": "python",
   "name": "python2"
  },
  "language_info": {
   "codemirror_mode": {
    "name": "ipython",
    "version": 2
   },
   "file_extension": ".py",
   "mimetype": "text/x-python",
   "name": "python",
   "nbconvert_exporter": "python",
   "pygments_lexer": "ipython2",
   "version": "2.7.10"
  }
 },
 "nbformat": 4,
 "nbformat_minor": 0
}
