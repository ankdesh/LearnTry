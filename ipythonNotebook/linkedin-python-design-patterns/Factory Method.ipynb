{
 "cells": [
  {
   "cell_type": "code",
   "execution_count": 3,
   "metadata": {},
   "outputs": [],
   "source": [
    "class Dog:\n",
    "    \"\"\" A Simple dog Class\"\"\"\n",
    "    \n",
    "    def __init__(self, name):\n",
    "        self._name = name\n",
    "        \n",
    "    def speak(self):\n",
    "        return \"Woof!\"\n",
    "    \n",
    "class Cat:\n",
    "    \"\"\" A Simple cat Class\"\"\"\n",
    "    \n",
    "    def __init__(self, name):\n",
    "        self._name = name\n",
    "        \n",
    "    def speak(self):\n",
    "        return \"Meow!\"\n",
    "    \n",
    "def get_pet(pet=\"dog\"):\n",
    "    \"\"\" The factory method\"\"\"\n",
    "    \n",
    "    pets = dict (dog=Dog(\"Hope\"), cat=Cat(\"peace\"))\n",
    "    \n",
    "    return pets[pet]"
   ]
  },
  {
   "cell_type": "code",
   "execution_count": 4,
   "metadata": {},
   "outputs": [
    {
     "name": "stdout",
     "output_type": "stream",
     "text": [
      "Woof!\n"
     ]
    }
   ],
   "source": [
    "d = get_pet (\"dog\")\n",
    "print (d.speak())"
   ]
  },
  {
   "cell_type": "code",
   "execution_count": 5,
   "metadata": {},
   "outputs": [
    {
     "name": "stdout",
     "output_type": "stream",
     "text": [
      "Meow!\n"
     ]
    }
   ],
   "source": [
    "c = get_pet (\"cat\")\n",
    "print (c.speak())"
   ]
  },
  {
   "cell_type": "code",
   "execution_count": null,
   "metadata": {},
   "outputs": [],
   "source": []
  }
 ],
 "metadata": {
  "kernelspec": {
   "display_name": "Python 3",
   "language": "python",
   "name": "python3"
  },
  "language_info": {
   "codemirror_mode": {
    "name": "ipython",
    "version": 3
   },
   "file_extension": ".py",
   "mimetype": "text/x-python",
   "name": "python",
   "nbconvert_exporter": "python",
   "pygments_lexer": "ipython3",
   "version": "3.8.2"
  }
 },
 "nbformat": 4,
 "nbformat_minor": 4
}
