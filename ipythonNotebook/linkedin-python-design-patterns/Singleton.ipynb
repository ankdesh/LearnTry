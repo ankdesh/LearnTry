{
 "cells": [
  {
   "cell_type": "markdown",
   "metadata": {},
   "source": [
    "### Borg way"
   ]
  },
  {
   "cell_type": "code",
   "execution_count": 1,
   "metadata": {},
   "outputs": [],
   "source": [
    "class Borg:\n",
    "    \"\"\" Making the Class attribute gloabl\"\"\"\n",
    "    _shared_state = {} # Since this is a class attribute, it will be shared by all instances\n",
    "    \n",
    "    def __init__(self):\n",
    "        self.__dict__ = self._shared_state\n",
    "\n",
    "class BorgSingleton(Borg):\n",
    "    \"\"\"This class shares all its attributes among its various instances\"\"\"\n",
    "\n",
    "    def __init__(self, **kwargs):\n",
    "        Borg.__init__(self)\n",
    "        self._shared_state.update(kwargs)\n",
    "            \n",
    "    def __str__(self):\n",
    "        return str(self._shared_state)\n",
    "        "
   ]
  },
  {
   "cell_type": "code",
   "execution_count": 2,
   "metadata": {},
   "outputs": [
    {
     "name": "stdout",
     "output_type": "stream",
     "text": [
      "{'a': 'a'}\n"
     ]
    }
   ],
   "source": [
    "x = BorgSingleton(a = \"a\")\n",
    "print (x)"
   ]
  },
  {
   "cell_type": "code",
   "execution_count": 3,
   "metadata": {},
   "outputs": [
    {
     "name": "stdout",
     "output_type": "stream",
     "text": [
      "{'a': 'a', 'b': 'b'}\n"
     ]
    }
   ],
   "source": [
    "y = BorgSingleton(b = \"b\")\n",
    "print (y)"
   ]
  },
  {
   "cell_type": "code",
   "execution_count": 4,
   "metadata": {},
   "outputs": [
    {
     "name": "stdout",
     "output_type": "stream",
     "text": [
      "False\n"
     ]
    }
   ],
   "source": [
    "print (x == y)"
   ]
  },
  {
   "cell_type": "markdown",
   "metadata": {},
   "source": [
    "As shown above, Borg idiom makes sure that one can create different objects with shared state. This is different from SimpleSingleton where each object is the same object"
   ]
  },
  {
   "cell_type": "markdown",
   "metadata": {},
   "source": [
    "### Simple Singleton"
   ]
  },
  {
   "cell_type": "code",
   "execution_count": 5,
   "metadata": {},
   "outputs": [],
   "source": [
    "class SimpleSingleton():\n",
    "    \"\"\"This class shares all its attributes among its various instances\"\"\"\n",
    "    __single = None\n",
    "    \n",
    "    def __init__(self):\n",
    "        self._shared_state = {}\n",
    "            \n",
    "    def __str__(self):\n",
    "        return str(self._shared_state)\n",
    "    \n",
    "    def update_state(self, **kwargs):\n",
    "        self._shared_state.update(kwargs)\n",
    "    \n",
    "    @classmethod\n",
    "    def getInstance(cls):\n",
    "        if cls.__single is None:\n",
    "            cls.__single = SimpleSingleton()\n",
    "        return cls.__single"
   ]
  },
  {
   "cell_type": "code",
   "execution_count": 6,
   "metadata": {},
   "outputs": [
    {
     "name": "stdout",
     "output_type": "stream",
     "text": [
      "{'a': 'a'}\n"
     ]
    }
   ],
   "source": [
    "x = SimpleSingleton.getInstance()\n",
    "x.update_state(a = \"a\")\n",
    "print (x)"
   ]
  },
  {
   "cell_type": "code",
   "execution_count": 7,
   "metadata": {},
   "outputs": [
    {
     "name": "stdout",
     "output_type": "stream",
     "text": [
      "{'a': 'a', 'b': 'b'}\n"
     ]
    }
   ],
   "source": [
    "y = SimpleSingleton.getInstance()\n",
    "y.update_state(b = \"b\")\n",
    "print (y)"
   ]
  },
  {
   "cell_type": "code",
   "execution_count": 8,
   "metadata": {},
   "outputs": [
    {
     "name": "stdout",
     "output_type": "stream",
     "text": [
      "True\n"
     ]
    }
   ],
   "source": [
    "print (x == y)"
   ]
  },
  {
   "cell_type": "markdown",
   "metadata": {},
   "source": [
    "### Unique"
   ]
  },
  {
   "cell_type": "code",
   "execution_count": 11,
   "metadata": {},
   "outputs": [],
   "source": [
    "class Unique():\n",
    "    \"\"\"This class shares all its attributes among its various instances.\n",
    "    However only classmethods and class attributes are allowed\"\"\"\n",
    "    _shared_state = {}\n",
    "    \n",
    "    @classmethod\n",
    "    def init(cls):\n",
    "        return cls\n",
    " \n",
    "    @classmethod\n",
    "    def str(cls):\n",
    "        return str(cls._shared_state)\n",
    "    \n",
    "    @classmethod\n",
    "    def update_state(cls,**kwargs):\n",
    "        cls._shared_state.update(kwargs)"
   ]
  },
  {
   "cell_type": "code",
   "execution_count": 12,
   "metadata": {},
   "outputs": [
    {
     "name": "stdout",
     "output_type": "stream",
     "text": [
      "{'a': 'a'}\n"
     ]
    }
   ],
   "source": [
    "x = Unique.init()\n",
    "x.update_state(a = \"a\")\n",
    "print (x.str())"
   ]
  },
  {
   "cell_type": "code",
   "execution_count": 13,
   "metadata": {},
   "outputs": [
    {
     "name": "stdout",
     "output_type": "stream",
     "text": [
      "{'a': 'a', 'b': 'b'}\n"
     ]
    }
   ],
   "source": [
    "y = Unique.init()\n",
    "y.update_state(b = \"b\")\n",
    "print (y.str())"
   ]
  },
  {
   "cell_type": "code",
   "execution_count": null,
   "metadata": {},
   "outputs": [],
   "source": []
  }
 ],
 "metadata": {
  "kernelspec": {
   "display_name": "Python 3",
   "language": "python",
   "name": "python3"
  },
  "language_info": {
   "codemirror_mode": {
    "name": "ipython",
    "version": 3
   },
   "file_extension": ".py",
   "mimetype": "text/x-python",
   "name": "python",
   "nbconvert_exporter": "python",
   "pygments_lexer": "ipython3",
   "version": "3.8.2"
  }
 },
 "nbformat": 4,
 "nbformat_minor": 4
}
