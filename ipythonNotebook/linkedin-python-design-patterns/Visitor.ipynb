{
 "cells": [
  {
   "cell_type": "code",
   "execution_count": 1,
   "metadata": {},
   "outputs": [],
   "source": [
    "class House:\n",
    "    def accept(self, visitor):\n",
    "        '''Interface to accept the visiting operation'''\n",
    "        visitor.visit(self)\n",
    "        \n",
    "    def work_on_hvac(self, hvac_specialist):\n",
    "        print (self, \"Worked on by\", hvac_specialist)\n",
    "        \n",
    "    def work_on_electricity(self, electrician):\n",
    "        print (self, \"Worked on by\", electrician)\n",
    "\n",
    "    def __str__(self):\n",
    "        return self.__class__.__name__"
   ]
  },
  {
   "cell_type": "code",
   "execution_count": 2,
   "metadata": {},
   "outputs": [],
   "source": [
    "class Visitor:\n",
    "    '''Abstract visitor'''\n",
    "    def __str__(self):\n",
    "        return self.__class__.__name__"
   ]
  },
  {
   "cell_type": "code",
   "execution_count": 3,
   "metadata": {},
   "outputs": [],
   "source": [
    "class HvacSpeciatlist(Visitor):\n",
    "    '''Concrete Visitor'''\n",
    "    def visit(self, house):\n",
    "        house.work_on_hvac(self)\n",
    "        \n",
    "class Electrician(Visitor):\n",
    "    '''Concrete Visitor'''\n",
    "    def visit(self, house):\n",
    "        house.work_on_electricity(self)\n",
    "    "
   ]
  },
  {
   "cell_type": "code",
   "execution_count": 4,
   "metadata": {},
   "outputs": [
    {
     "name": "stdout",
     "output_type": "stream",
     "text": [
      "House Worked on by HvacSpeciatlist\n",
      "House Worked on by Electrician\n"
     ]
    }
   ],
   "source": [
    "hvac = HvacSpeciatlist()\n",
    "elec = Electrician()\n",
    "house = House()\n",
    "house.accept(hvac)\n",
    "house.accept(elec)"
   ]
  },
  {
   "cell_type": "code",
   "execution_count": null,
   "metadata": {},
   "outputs": [],
   "source": []
  }
 ],
 "metadata": {
  "kernelspec": {
   "display_name": "Python 3",
   "language": "python",
   "name": "python3"
  },
  "language_info": {
   "codemirror_mode": {
    "name": "ipython",
    "version": 3
   },
   "file_extension": ".py",
   "mimetype": "text/x-python",
   "name": "python",
   "nbconvert_exporter": "python",
   "pygments_lexer": "ipython3",
   "version": "3.8.2"
  }
 },
 "nbformat": 4,
 "nbformat_minor": 4
}
