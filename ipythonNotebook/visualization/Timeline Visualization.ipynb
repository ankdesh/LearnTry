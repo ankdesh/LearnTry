{
 "cells": [
  {
   "cell_type": "code",
   "execution_count": 181,
   "metadata": {},
   "outputs": [],
   "source": [
    "import matplotlib.pyplot as plt\n",
    "import numpy as np\n",
    "\n",
    "class Viz:\n",
    "    ''' Base class for visualizations'''\n",
    "    def __init__(self):\n",
    "        None\n",
    "    \n",
    "    def draw(self):\n",
    "        assert False, '''draw() not implemented for ''' + type(self).__name__\n",
    "        \n",
    "class TimelineViz(Viz):\n",
    "    ''' Class for Timeline Visualizations for events'''\n",
    "    def __init__(self):\n",
    "        Viz.__init__(self)\n",
    "        self.numRows = 0 # Number of Types of events to vizualize\n",
    "        self.numCols = 0 # Max number of events over all types TODO Add checks\n",
    "        self.eventLists = [] # A list of lists of events. Each event is \n",
    "                             # stored as a tuple of start and end time\n",
    "        self.eventOn = [] # A list of bools to indicate if the event has \n",
    "                          # started but not yet ended\n",
    "        self.evntColor = [] # Color for each event. Should be a valid matplotlib color\n",
    "        self.evntName = [] # Name for each event\n",
    "        \n",
    "    def regEventType(self, eventName, color):\n",
    "        '''Register an event type. Returns int handle for registering events '''\n",
    "        currRowNum = self.numRows\n",
    "        \n",
    "        self.eventLists.append([])\n",
    "        self.eventOn.append(False)\n",
    "        self.evntColor.append(color)\n",
    "        self.evntName.append(eventName)\n",
    "        self.numRows += 1\n",
    "        \n",
    "        return currRowNum\n",
    "\n",
    "    \n",
    "    def evntStart(self, evntHandl, evntTime):\n",
    "        '''Register Event Start'''\n",
    "        assert self.eventOn[evntHandl] == False, 'Event ' + self.evntName[evntHandl]\\\n",
    "                                                          + ' got a start request without \\\n",
    "                                                          preeceding end request.' \n",
    "        self.eventLists[evntHandl].append((evntTime,0)) # Append a tuple of (starttime,endtime)\n",
    "        self.eventOn[evntHandl] = True\n",
    "    \n",
    "    def evntEnd(self, evntHandl, evntTime):\n",
    "        '''Register Event End'''\n",
    "        assert self.eventOn[evntHandl] == True, 'Event ' + self.evntName[evntHandl]\\\n",
    "                                                          + ' got a end request without \\\n",
    "                                                          preeceding start request.' \n",
    "        lastEvnt = self.eventLists[evntHandl][-1]\n",
    "        self.eventLists[evntHandl][-1] = (lastEvnt[0],evntTime) # Update only endtime in last registered event\n",
    "        self.eventOn[evntHandl] = False\n",
    "    \n",
    "    def draw(self):\n",
    "        maxLenEvntName = max([len(x) for x in self.evntName])\n",
    "        maxNumEnvts = max([len(x) for x in self.eventLists])\n",
    "        \n",
    "        fig = plt.figure(maxNumEnvts) # TODO Fix figure size plt.figure(maxNumEnvts)\n",
    "        ax = fig.add_subplot(111)\n",
    "        ax.axes.get_yaxis().set_visible(False)\n",
    "        ax.set_aspect(self.numRows * 2)\n",
    "        \n",
    "\n",
    "        for y, row in enumerate(self.eventLists):\n",
    "            # Add Event Name in graph\n",
    "            plt.text(-1 * maxLenEvntName -2, (2*y+1) / 2.0, self.evntName[y], \n",
    "                                        horizontalalignment='center',\n",
    "                                        verticalalignment='center')\n",
    "            \n",
    "            # Draw timeline\n",
    "            for evnt in row:\n",
    "                xStartPoint = evnt[0]\n",
    "                xEndPoint = evnt[1]\n",
    "                x1 = [xStartPoint, xEndPoint] # Line X = (envtStart, evntEnd)\n",
    "                y1 = np.array([y, y]) # Y1 line = (rowNum, RowNum)\n",
    "                y2 = y1 + 1           # Y2 line = (rowNum+1, RowNum+1)\n",
    "                plt.fill_between(x1, y1, y2=y2, color=self.evntColor[y])\n",
    "            \n",
    "                    \n",
    "        plt.ylim(self.numRows, 0)\n",
    "        plt.show()"
   ]
  },
  {
   "cell_type": "code",
   "execution_count": 182,
   "metadata": {},
   "outputs": [],
   "source": [
    "timeline = TimelineViz()"
   ]
  },
  {
   "cell_type": "code",
   "execution_count": 183,
   "metadata": {},
   "outputs": [
    {
     "name": "stdout",
     "output_type": "stream",
     "text": [
      "0 1\n"
     ]
    }
   ],
   "source": [
    "memEvntHndl = timeline.regEventType('MemAccess','blue')\n",
    "computeEvntHndl = timeline.regEventType('ComputeActive','green')\n",
    "print (memEvntHndl,computeEvntHndl)"
   ]
  },
  {
   "cell_type": "code",
   "execution_count": 184,
   "metadata": {},
   "outputs": [],
   "source": [
    "baseTimes = [0, 30, 60]\n",
    "for baseTime in baseTimes:\n",
    "    timeline.evntStart(memEvntHndl,baseTime + 0)\n",
    "    timeline.evntEnd(memEvntHndl,baseTime + 10)\n",
    "    timeline.evntStart(computeEvntHndl,baseTime + 10)\n",
    "    timeline.evntStart(memEvntHndl,baseTime + 13)\n",
    "    timeline.evntEnd(computeEvntHndl,baseTime + 11)\n",
    "    timeline.evntStart(computeEvntHndl,baseTime + 10)\n",
    "    timeline.evntEnd(memEvntHndl,baseTime + 20)\n",
    "    timeline.evntEnd(computeEvntHndl,baseTime + 25)"
   ]
  },
  {
   "cell_type": "code",
   "execution_count": 185,
   "metadata": {},
   "outputs": [
    {
     "data": {
      "image/png": "[encoded data removed]",
      "text/plain": [
       "<matplotlib.figure.Figure at 0x7f8f85ac3c50>"
      ]
     },
     "metadata": {},
     "output_type": "display_data"
    }
   ],
   "source": [
    "timeline.draw()"
   ]
  },
  {
   "cell_type": "code",
   "execution_count": null,
   "metadata": {},
   "outputs": [],
   "source": []
  }
 ],
 "metadata": {
  "kernelspec": {
   "display_name": "Python 3",
   "language": "python",
   "name": "python3"
  },
  "language_info": {
   "codemirror_mode": {
    "name": "ipython",
    "version": 3
   },
   "file_extension": ".py",
   "mimetype": "text/x-python",
   "name": "python",
   "nbconvert_exporter": "python",
   "pygments_lexer": "ipython3",
   "version": "3.5.2"
  }
 },
 "nbformat": 4,
 "nbformat_minor": 2
}
