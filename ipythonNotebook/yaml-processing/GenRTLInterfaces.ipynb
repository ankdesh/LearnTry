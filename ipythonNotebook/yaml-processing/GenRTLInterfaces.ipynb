{
 "cells": [
  {
   "cell_type": "code",
   "execution_count": 1,
   "metadata": {
    "collapsed": true
   },
   "outputs": [],
   "source": [
    "import yaml\n",
    "import re"
   ]
  },
  {
   "cell_type": "code",
   "execution_count": 2,
   "metadata": {
    "collapsed": true
   },
   "outputs": [],
   "source": [
    "ymlDoc = yaml.load(open('modules.yaml'))"
   ]
  },
  {
   "cell_type": "code",
   "execution_count": 3,
   "metadata": {},
   "outputs": [
    {
     "name": "stdout",
     "output_type": "stream",
     "text": [
      "{'module': {'ABC_TOP': {'inputs': [['bit<0-0>', 'n_clock', 'Global Clock'], ['bit<0-10>', 'v_clock', 'Vlobal Clock']], 'outputs': [['bit<0-0>', 'n_clock', 'Global Clock'], ['bit<0-10>', 'v_clock', 'Vlobal Clock']]}}, 'Mapping': ['ABC.xyz > PQR.pqr', 'ABC.zyx > PQR.rqp']}\n"
     ]
    }
   ],
   "source": [
    "print (ymlDoc)"
   ]
  },
  {
   "cell_type": "code",
   "execution_count": 11,
   "metadata": {
    "collapsed": true
   },
   "outputs": [],
   "source": [
    "def genIOTxt (listPorts, listType, indent = 0):\n",
    "    ''' Takes the list of Input or output ports and generates the RTL code for paramters of module '''\n",
    "    assert listType == 'input' or listType == 'output', 'Unknown port list type: ' + listType\n",
    "    \n",
    "    txtPortsVerilog = '// ' + listType + '\\n'\n",
    "    for port in listPorts:\n",
    "        bitWidth, name, comment = port\n",
    "        lowBit, highbit = re.findall(r'\\d+',bitWidth)\n",
    "        txtPortsVerilog += ' ' * 4 * indent\n",
    "        txtPortsVerilog += listType + ' [' + highbit + ':' + lowBit + '] ' + name + ' '\n",
    "        if not listPorts.index(port) == len(listPorts) - 1: # Leave last comma\n",
    "            txtPortsVerilog += ', '\n",
    "        txtPortsVerilog += '// ' + comment + '\\n'\n",
    "        \n",
    "    return txtPortsVerilog\n",
    "\n"
   ]
  },
  {
   "cell_type": "code",
   "execution_count": 12,
   "metadata": {},
   "outputs": [
    {
     "name": "stdout",
     "output_type": "stream",
     "text": [
      "// input\n",
      "    input [0:0] n_clock , // Global Clock\n",
      "    input [10:0] v_clock // Vlobal Clock\n",
      "\n"
     ]
    }
   ],
   "source": [
    "print (genIOTxt(ymlDoc['module']['ABC_TOP']['inputs'], 'input', 1))"
   ]
  },
  {
   "cell_type": "code",
   "execution_count": 6,
   "metadata": {
    "collapsed": true
   },
   "outputs": [],
   "source": [
    "def genModuleTxt(moduleName, moduleDetails):\n",
    "    ''' Takes the module details and returns the RTL code for module definition'''\n",
    "    txtModule = 'module ' + moduleName + '(\\n'\n",
    "    txtModule += genIOTxt(ymlDoc['module']['ABC_TOP']['inputs'], 'input' ,1 )\n",
    "    txtModule += '\\n'\n",
    "    txtModule += genIOTxt(ymlDoc['module']['ABC_TOP']['outputs'], 'output', 1)\n",
    "    txtModule += 'endmodule' + '\\n'\n",
    "    return txtModule"
   ]
  },
  {
   "cell_type": "code",
   "execution_count": 7,
   "metadata": {},
   "outputs": [
    {
     "name": "stdout",
     "output_type": "stream",
     "text": [
      "module ABC_TOP(\n",
      "// input\n",
      " input [0:0] n_clock , // Global Clock\n",
      " input [10:0] v_clock // Vlobal Clock\n",
      "\n",
      "// output\n",
      " output [0:0] n_clock , // Global Clock\n",
      " output [10:0] v_clock // Vlobal Clock\n",
      "endmodule\n",
      "\n"
     ]
    }
   ],
   "source": [
    "print (genModuleTxt('ABC_TOP',ymlDoc['module']['ABC_TOP']))"
   ]
  },
  {
   "cell_type": "code",
   "execution_count": 22,
   "metadata": {
    "collapsed": true
   },
   "outputs": [],
   "source": [
    "portMappingInp = {'xyz':'pqr','zyx':'rqp' }\n",
    "portMappingOut = {'xyzo':'pqro','zyxo':'rqpo' }"
   ]
  },
  {
   "cell_type": "code",
   "execution_count": 27,
   "metadata": {
    "collapsed": true
   },
   "outputs": [],
   "source": [
    "def genConnTxt(mapInPorts,mapOutPorts, indentLevel = 0):\n",
    "    indent = ' ' * indentLevel * 4 \n",
    "    connTxt = ''\n",
    "    # Inputs\n",
    "    connTxt += indent + '// Inputs \\n'\n",
    "    for i,inConn in enumerate(mapInPorts):\n",
    "        connTxt += indent + '.' + inConn + ' (.' + mapInPorts[inConn] + ')'\n",
    "        if not (i == len(mapInPorts) -1 and len(mapOutPorts) == 0): # last connection drop comma if no output conns\n",
    "            connTxt += ','\n",
    "        connTxt += '\\n'\n",
    "\n",
    "    # Outputs\n",
    "    connTxt += '\\n' + indent + '// Outputs \\n'            \n",
    "    for i,outConn in enumerate(mapOutPorts):\n",
    "        connTxt += indent + '.' + outConn + ' (.' + mapOutPorts[outConn] + ')'\n",
    "        if not (i == len(mapInPorts) - 1): # last connection drop comma if no output conns\n",
    "            connTxt += ','\n",
    "        connTxt += '\\n'        \n",
    "    \n",
    "    return connTxt"
   ]
  },
  {
   "cell_type": "code",
   "execution_count": 28,
   "metadata": {},
   "outputs": [
    {
     "name": "stdout",
     "output_type": "stream",
     "text": [
      "    // Inputs \n",
      "    .xyz (.pqr),\n",
      "    .zyx (.rqp),\n",
      "\n",
      "    // Outputs \n",
      "    .xyzo (.pqro),\n",
      "    .zyxo (.rqpo)\n",
      "\n"
     ]
    }
   ],
   "source": [
    "print (genConnTxt(portMappingInp, portMappingOut , 1))"
   ]
  },
  {
   "cell_type": "code",
   "execution_count": null,
   "metadata": {
    "collapsed": true
   },
   "outputs": [],
   "source": []
  }
 ],
 "metadata": {
  "kernelspec": {
   "display_name": "Python 3",
   "language": "python",
   "name": "python3"
  },
  "language_info": {
   "codemirror_mode": {
    "name": "ipython",
    "version": 3
   },
   "file_extension": ".py",
   "mimetype": "text/x-python",
   "name": "python",
   "nbconvert_exporter": "python",
   "pygments_lexer": "ipython3",
   "version": "3.6.1"
  }
 },
 "nbformat": 4,
 "nbformat_minor": 2
}
