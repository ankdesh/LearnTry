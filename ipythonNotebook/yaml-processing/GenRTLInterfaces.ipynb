{
 "cells": [
  {
   "cell_type": "code",
   "execution_count": 45,
   "metadata": {
    "collapsed": true
   },
   "outputs": [],
   "source": [
    "import yaml\n",
    "import re"
   ]
  },
  {
   "cell_type": "code",
   "execution_count": 48,
   "metadata": {},
   "outputs": [],
   "source": [
    "ymlDoc = yaml.load(open('modules.yaml'))"
   ]
  },
  {
   "cell_type": "code",
   "execution_count": 49,
   "metadata": {},
   "outputs": [
    {
     "name": "stdout",
     "output_type": "stream",
     "text": [
      "{'module': {'ABC_TOP': {'inputs': [['bit<0-0>', 'n_clock', 'Global Clock'], ['bit<0-10>', 'v_clock', 'Vlobal Clock']], 'outputs': [['bit<0-0>', 'n_clock', 'Global Clock'], ['bit<0-10>', 'v_clock', 'Vlobal Clock']]}}}\n"
     ]
    }
   ],
   "source": [
    "print (ymlDoc)"
   ]
  },
  {
   "cell_type": "code",
   "execution_count": 61,
   "metadata": {},
   "outputs": [],
   "source": [
    "def genIOTxt (listPorts, listType, indent = 0):\n",
    "    ''' Takes the list of Input or output ports and generates the RTL code for paramters of module '''\n",
    "    assert listType == 'input' or listType == 'output', 'Unknown port list type: ' + listType\n",
    "    \n",
    "    txtPortsVerilog = '// ' + listType + '\\n'\n",
    "    for port in listPorts:\n",
    "        bitWidth, name, comment = port\n",
    "        lowBit, highbit = re.findall(r'\\d+',bitWidth)\n",
    "        txtPortsVerilog += ' ' * indent\n",
    "        txtPortsVerilog += listType + ' [' + highbit + ':' + lowBit + '] ' + name + ' '\n",
    "        if not listPorts.index(port) == len(listPorts) - 1: # Leave last comma\n",
    "            txtPortsVerilog += ', '\n",
    "        txtPortsVerilog += '// ' + comment + '\\n'\n",
    "        \n",
    "    return txtPortsVerilog\n",
    "\n"
   ]
  },
  {
   "cell_type": "code",
   "execution_count": 62,
   "metadata": {},
   "outputs": [
    {
     "name": "stdout",
     "output_type": "stream",
     "text": [
      "// input\n",
      " input [0:0] n_clock , // Global Clock\n",
      " input [10:0] v_clock // Vlobal Clock\n",
      "\n"
     ]
    }
   ],
   "source": [
    "print (genIOTxt(ymlDoc['module']['ABC_TOP']['inputs'], 'input', 1))"
   ]
  },
  {
   "cell_type": "code",
   "execution_count": 65,
   "metadata": {
    "collapsed": true
   },
   "outputs": [],
   "source": [
    "def genModuleTxt(moduleName, moduleDetails):\n",
    "    ''' Takes the module details and returns the RTL code for module definition'''\n",
    "    txtModule = 'module ' + moduleName + '(\\n'\n",
    "    txtModule += genIOTxt(ymlDoc['module']['ABC_TOP']['inputs'], 'input' ,1 )\n",
    "    txtModule += '\\n'\n",
    "    txtModule += genIOTxt(ymlDoc['module']['ABC_TOP']['outputs'], 'output', 1)\n",
    "    txtModule += 'endmodule' + '\\n'\n",
    "    return txtModule"
   ]
  },
  {
   "cell_type": "code",
   "execution_count": 66,
   "metadata": {},
   "outputs": [
    {
     "name": "stdout",
     "output_type": "stream",
     "text": [
      "module ABC_TOP(\n",
      "// input\n",
      " input [0:0] n_clock , // Global Clock\n",
      " input [10:0] v_clock // Vlobal Clock\n",
      "\n",
      "// output\n",
      " output [0:0] n_clock , // Global Clock\n",
      " output [10:0] v_clock // Vlobal Clock\n",
      "endmodule\n",
      "\n"
     ]
    }
   ],
   "source": [
    "print (genModuleTxt('ABC_TOP',ymlDoc['module']['ABC_TOP']))"
   ]
  },
  {
   "cell_type": "code",
   "execution_count": null,
   "metadata": {
    "collapsed": true
   },
   "outputs": [],
   "source": []
  }
 ],
 "metadata": {
  "kernelspec": {
   "display_name": "Python 3",
   "language": "python",
   "name": "python3"
  },
  "language_info": {
   "codemirror_mode": {
    "name": "ipython",
    "version": 3
   },
   "file_extension": ".py",
   "mimetype": "text/x-python",
   "name": "python",
   "nbconvert_exporter": "python",
   "pygments_lexer": "ipython3",
   "version": "3.6.1"
  }
 },
 "nbformat": 4,
 "nbformat_minor": 2
}
